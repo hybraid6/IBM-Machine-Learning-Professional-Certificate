{
 "cells": [
  {
   "cell_type": "markdown",
   "metadata": {},
   "source": [
    "<p style=\"text-align:center\">\n",
    "    <a href=\"https://skills.network/?utm_medium=Exinfluencer&utm_source=Exinfluencer&utm_content=000026UJ&utm_term=10006555&utm_id=NA-SkillsNetwork-Channel-SkillsNetworkCoursesIBMDeveloperSkillsNetworkML311Coursera747-2022-01-01\" target=\"_blank\">\n",
    "    <img src=\"https://cf-courses-data.s3.us.cloud-object-storage.appdomain.cloud/assets/logos/SN_web_lightmode.png\" width=\"200\" alt=\"Skills Network Logo\"  />\n",
    "    </a>\n",
    "</p>\n",
    "\n",
    "# __Embeddings__\n",
    "\n",
    "Estimated time needed: **35** minutes\n"
   ]
  },
  {
   "cell_type": "markdown",
   "metadata": {},
   "source": [
    "You work for a streaming service that wants an automatic way to determine if they should add a movie to its catalog; each film is expensive to purchase, so the  streaming service would only like good movies to add to the catalog. You have been hired to build a neural network to determine if a movie is good or not using critics' written ratings similar to \"Rotten Tomatoes\". \n",
    "\n",
    "In this notebook, you will learn the fundamentals of how to convert text data to usable features for your neural network. In addition, you will also learn about the embedding layer, an engineering solution that allows you to implement linear layers for categorical data effectively. \n",
    "\n",
    "<img src=\"https://cf-courses-data.s3.us.cloud-object-storage.appdomain.cloud/IBMDeveloperSkillsNetwork-ML311-Coursera/labs/Module4/L1/movie_review.webp\" style=\"width: 60%\">\n"
   ]
  },
  {
   "cell_type": "markdown",
   "metadata": {},
   "source": [
    "## Objectives\n",
    "\n",
    "After completing this lab, you will be able to:\n",
    "\n",
    " - Understand the theory behind Embedding Layers  \n",
    " - Apply Tokenizer, Embedding Layers to a neural network \n",
    " - Perform Sentiment Analysis using a neural network \n"
   ]
  },
  {
   "cell_type": "markdown",
   "metadata": {},
   "source": [
    "----\n"
   ]
  },
  {
   "cell_type": "markdown",
   "metadata": {},
   "source": [
    "## Setup\n",
    "\n",
    "For this lab, we will be using the following libraries:\n",
    "\n",
    "*   [`pandas`](https://pandas.pydata.org/?utm_medium=Exinfluencer&utm_source=Exinfluencer&utm_content=000026UJ&utm_term=10006555&utm_id=NA-SkillsNetwork-Channel-SkillsNetworkCoursesIBMML0187ENSkillsNetwork31430127-2021-01-01) for managing the data.\n",
    "*   [`numpy`](https://numpy.org/?utm_medium=Exinfluencer&utm_source=Exinfluencer&utm_content=000026UJ&utm_term=10006555&utm_id=NA-SkillsNetwork-Channel-SkillsNetworkCoursesIBMML0187ENSkillsNetwork31430127-2021-01-01) for mathematical operations.\n",
    "*   [`sklearn`](https://scikit-learn.org/stable/?utm_medium=Exinfluencer&utm_source=Exinfluencer&utm_content=000026UJ&utm_term=10006555&utm_id=NA-SkillsNetwork-Channel-SkillsNetworkCoursesIBMML0187ENSkillsNetwork31430127-2021-01-01) for machine learning and machine-learning-pipeline related functions.\n",
    "*   [`matplotlib`](https://matplotlib.org/?utm_medium=Exinfluencer&utm_source=Exinfluencer&utm_content=000026UJ&utm_term=10006555&utm_id=NA-SkillsNetwork-Channel-SkillsNetworkCoursesIBMML0187ENSkillsNetwork31430127-2021-01-01) for additional plotting tools.\n"
   ]
  },
  {
   "cell_type": "markdown",
   "metadata": {},
   "source": [
    "### Installing Required Libraries\n",
    "\n",
    "The following required libraries are pre-installed in the Skills Network Labs environment. However, if you run these notebook commands in a different Jupyter environment (like Watson Studio or Ananconda), you will need to install these libraries by removing the `#` sign before `!mamba` in the corresponding code cell below.\n"
   ]
  },
  {
   "cell_type": "code",
   "execution_count": null,
   "metadata": {},
   "outputs": [],
   "source": [
    "%%capture\n",
    "!pip install --upgrade tensorflow"
   ]
  },
  {
   "cell_type": "markdown",
   "metadata": {},
   "source": [
    "### Importing Required Libraries\n"
   ]
  },
  {
   "cell_type": "code",
   "execution_count": 1,
   "metadata": {
    "tags": []
   },
   "outputs": [
    {
     "name": "stderr",
     "output_type": "stream",
     "text": [
      "2025-05-27 13:19:14.919185: I tensorflow/core/platform/cpu_feature_guard.cc:193] This TensorFlow binary is optimized with oneAPI Deep Neural Network Library (oneDNN) to use the following CPU instructions in performance-critical operations:  AVX2 AVX512F AVX512_VNNI FMA\n",
      "To enable them in other operations, rebuild TensorFlow with the appropriate compiler flags.\n",
      "2025-05-27 13:19:15.098255: I tensorflow/core/util/port.cc:104] oneDNN custom operations are on. You may see slightly different numerical results due to floating-point round-off errors from different computation orders. To turn them off, set the environment variable `TF_ENABLE_ONEDNN_OPTS=0`.\n",
      "2025-05-27 13:19:15.104824: W tensorflow/compiler/xla/stream_executor/platform/default/dso_loader.cc:64] Could not load dynamic library 'libcudart.so.11.0'; dlerror: libcudart.so.11.0: cannot open shared object file: No such file or directory\n",
      "2025-05-27 13:19:15.104851: I tensorflow/compiler/xla/stream_executor/cuda/cudart_stub.cc:29] Ignore above cudart dlerror if you do not have a GPU set up on your machine.\n",
      "2025-05-27 13:19:15.979255: W tensorflow/compiler/xla/stream_executor/platform/default/dso_loader.cc:64] Could not load dynamic library 'libnvinfer.so.7'; dlerror: libnvinfer.so.7: cannot open shared object file: No such file or directory\n",
      "2025-05-27 13:19:15.979384: W tensorflow/compiler/xla/stream_executor/platform/default/dso_loader.cc:64] Could not load dynamic library 'libnvinfer_plugin.so.7'; dlerror: libnvinfer_plugin.so.7: cannot open shared object file: No such file or directory\n",
      "2025-05-27 13:19:15.979401: W tensorflow/compiler/tf2tensorrt/utils/py_utils.cc:38] TF-TRT Warning: Cannot dlopen some TensorRT libraries. If you would like to use Nvidia GPU with TensorRT, please make sure the missing libraries mentioned above are installed properly.\n"
     ]
    }
   ],
   "source": [
    "def warn(*args, **kwargs):\n",
    "    pass\n",
    "import warnings\n",
    "warnings.warn = warn\n",
    "warnings.filterwarnings('ignore')\n",
    "\n",
    "import importlib\n",
    "import numpy as np\n",
    "\n",
    "import matplotlib.pyplot as plt\n",
    "from numpy.random import seed\n",
    "seed(1)\n",
    "\n",
    "import  tensorflow as tf\n",
    "\n",
    "tf.random.set_seed(1234)\n",
    "from tensorflow.keras.layers import Embedding, Dense, Flatten,Dropout\n",
    "from tensorflow.keras.models import Sequential\n",
    "\n",
    "from keras import preprocessing\n",
    "from tensorflow.keras.preprocessing.text import Tokenizer\n",
    "from tensorflow.keras.preprocessing.sequence import pad_sequences\n",
    "\n",
    "from tensorflow.keras import regularizers\n"
   ]
  },
  {
   "cell_type": "code",
   "execution_count": 2,
   "metadata": {
    "tags": []
   },
   "outputs": [
    {
     "name": "stdout",
     "output_type": "stream",
     "text": [
      "2.11.0\n"
     ]
    }
   ],
   "source": [
    "# Print tensorflow version, should be greater than 2.9.0\n",
    "print(tf.__version__)"
   ]
  },
  {
   "cell_type": "markdown",
   "metadata": {},
   "source": [
    "### Defining Helper Functions\n"
   ]
  },
  {
   "cell_type": "markdown",
   "metadata": {},
   "source": [
    "This function will plot the neural network's loss and accuracy curves from its training history:\n"
   ]
  },
  {
   "cell_type": "code",
   "execution_count": 3,
   "metadata": {
    "tags": []
   },
   "outputs": [],
   "source": [
    "def display_metrics(history):\n",
    "\n",
    "    n = len(history.history[\"loss\"])\n",
    "\n",
    "    fig = plt.figure(figsize=(12, 6))\n",
    "    ax = fig.add_subplot(1, 2, 1)\n",
    "    ax.plot(range(n), (history.history[\"loss\"]),'r', label=\"Train Loss\")\n",
    "    ax.plot(range(n), (history.history[\"val_loss\"]),'b', label=\"Validation Loss\")\n",
    "    ax.legend()\n",
    "    ax.set_title('Loss over iterations')\n",
    "\n",
    "    ax = fig.add_subplot(1, 2, 2)\n",
    "    ax.plot(range(n), (history.history[\"acc\"]),'r', label=\"Train Acc\")\n",
    "    ax.plot(range(n), (history.history[\"val_acc\"]),'b', label=\"Validation Acc\")\n",
    "    ax.legend(loc='lower right')\n",
    "    ax.set_title('Accuracy over iterations')"
   ]
  },
  {
   "cell_type": "markdown",
   "metadata": {},
   "source": [
    "This function will plot word embeddings that have been reduced to two dimensions:\n"
   ]
  },
  {
   "cell_type": "code",
   "execution_count": 4,
   "metadata": {
    "tags": []
   },
   "outputs": [],
   "source": [
    "def plot_embedding(X_embedded,start=100,stop=300,sample=10):\n",
    "    fig, ax = plt.subplots()\n",
    "    ax.scatter(X_embedded[start:stop:sample,0], X_embedded[start:stop:sample,1])\n",
    "    for i in range(start,stop,sample):\n",
    "        ax.annotate(REVERSE_LOOKUP[i+1], (X_embedded[i,0], X_embedded[i,1]))"
   ]
  },
  {
   "cell_type": "markdown",
   "metadata": {},
   "source": [
    "This function will convert a probability to a Rotten Tomatoes score:\n"
   ]
  },
  {
   "cell_type": "code",
   "execution_count": 5,
   "metadata": {
    "tags": []
   },
   "outputs": [],
   "source": [
    "def rotten_tomato_score(p_yx):\n",
    "    return [\"rotten\"  if p<=0.60 else \"fresh\"for p in p_yx ]\n",
    "        "
   ]
  },
  {
   "cell_type": "markdown",
   "metadata": {},
   "source": [
    "##  Background\n"
   ]
  },
  {
   "cell_type": "markdown",
   "metadata": {},
   "source": [
    "As most machine learning models need their input variables to be numeric, text variables need to be transformed in the pre-processing part. There are several methods to perform this transformation. One-hot and Multi-hot encoding are frequently used to deal with textual data. \n",
    "\n",
    "One-hot encoding involves creating a set of vectors whose length equals the number of unique elements in the corpus or the vocabulary. We represent individual words as ones; else, the element is zero. Consider the following list of three **sequences**:\n"
   ]
  },
  {
   "cell_type": "code",
   "execution_count": 6,
   "metadata": {
    "tags": []
   },
   "outputs": [],
   "source": [
    "samples=['I hate cats', \n",
    "         'the dog is brown and I like cats', \n",
    "         'for the']"
   ]
  },
  {
   "cell_type": "markdown",
   "metadata": {},
   "source": [
    "We have three **sequences**, and the corresponding number of **word tokens** for each sequence is given by:\n",
    "\n",
    "\n",
    "1. I hate cats - 3 tokens \n",
    "\n",
    "2. the dog is brown and likes cats - 8 tokens\n",
    "\n",
    "3. for the - 2 tokens\n",
    "\n",
    "\n"
   ]
  },
  {
   "cell_type": "markdown",
   "metadata": {},
   "source": [
    "### Tokenizer\n"
   ]
  },
  {
   "cell_type": "markdown",
   "metadata": {},
   "source": [
    "One way to encode text features to numeric features is using <b>one-hot-encoding</b> or <b>multi-hot-encoding</b>. The one-hot and multi-hot-encoding vector is a vector consisting of all zeros; if the sequence of text contains a specific word, then an element of the vector is set to one. Consider the vocabulary that consists of all the words in the list ```samples``` each vector will have an element assigned to it shown here:\n"
   ]
  },
  {
   "cell_type": "markdown",
   "metadata": {},
   "source": [
    "<img src=\"https://cf-courses-data.s3.us.cloud-object-storage.appdomain.cloud/IBMDeveloperSkillsNetwork-ML311-Coursera/labs/Module4/L1/one_hot.png\" width=\"200\" height=\"250\">\n"
   ]
  },
  {
   "cell_type": "markdown",
   "metadata": {},
   "source": [
    "Keras has an additional component for words not in the vocabulary that we will leave out in this explanation. We have ten words; therefore, the vector will have ten elements. For example, we have the vector for the word ```I``` given by:\n"
   ]
  },
  {
   "cell_type": "markdown",
   "metadata": {},
   "source": [
    "<img src=\"https://cf-courses-data.s3.us.cloud-object-storage.appdomain.cloud/IBMDeveloperSkillsNetwork-ML311-Coursera/labs/Module4/L1/I.png\" width=\"550\" height=\"650\">\n"
   ]
  },
  {
   "cell_type": "markdown",
   "metadata": {},
   "source": [
    "All the elements in the vector are zero except for the index corresponding to the word ```I```; this is an example of one-hot-encoding. For **multi-hot-encoding** the sentence 'I hate cats', the vector is given by the following:\n"
   ]
  },
  {
   "cell_type": "markdown",
   "metadata": {},
   "source": [
    "<img src=\"https://cf-courses-data.s3.us.cloud-object-storage.appdomain.cloud/IBMDeveloperSkillsNetwork-ML311-Coursera/labs/Module4/L1/I_hate_cats.png\" width=\"550\" height=\"650\">\n"
   ]
  },
  {
   "cell_type": "markdown",
   "metadata": {},
   "source": [
    "We can also represent the sequence as three one-hot-encoding vectors. We see that for each word that occurs, the value in the vector is set to one; else, they are set to zero; the dimension of both encoding vectors is equal to the number of unique words in the corpus (vocabulary). \n",
    "\n",
    "Lets see how to convert a sequence of multi-hot-encoding vectors.\n"
   ]
  },
  {
   "cell_type": "markdown",
   "metadata": {},
   "source": [
    "###  Embedding\n",
    "\n",
    "An embedding layer in Keras can be used when we want to create the embedding. These embeddings are learnable parameters that embed high dimensional data into lower dimensional vectors. Lets assume we have the embedding for the vocabulary above, we can represent the vocabulary as a list of parameter vectors $[w_{I}, w_{cats}, w_{the}, w_{hate}, w_{dog}, w_{is}, w_{brown},w_{and}, w_{like }, w_{for} ] $ .   \n",
    "\n",
    "Thus, we can obtain the embedding for the sentence **\"I hate cats\"** by first performing one-hot-encoding for each token (as shown on the right) and then performing the matrix multiplication with the parameter vectors on the left: \n",
    "\n",
    "<img src=\"https://cf-courses-data.s3.us.cloud-object-storage.appdomain.cloud/IBMDeveloperSkillsNetwork-ML311-Coursera/labs/Module4/L1/Ihat_cats_embeding.png\" width=\"1000\" height=\"1200\">\n"
   ]
  },
  {
   "cell_type": "markdown",
   "metadata": {},
   "source": [
    "We represent the matrix as a set of three **one-hot-encoded** column vectors. We see the resultant vector is 1x3 **(output dimension x input length)** as Keras transposes this result. The input length is the number of words in a sentence. In this case, the output dimension is one, but it is usually a free parameter that you set as the number of dimensions of the low-dimensional space. \n",
    "\n",
    "We see that the operation is wasteful as we are multiplying many vectors by zeros. In real world applications, the one-hot-encoding is thousands of dimensions long. As a result, we use an **embedding layer**; this layer simply **outputs the parameters given the indexes**, as shown below. We can use these embeddings as the input to a neural network. Note that the parameters of an embedding layer are randomly initialized and are updated when training the neural network, just like the fully connected layers:\n"
   ]
  },
  {
   "cell_type": "markdown",
   "metadata": {},
   "source": [
    "<img src=\"https://cf-courses-data.s3.us.cloud-object-storage.appdomain.cloud/IBMDeveloperSkillsNetwork-ML311-Coursera/labs/Module4/L1/I_hate_cats_embeding.png\" width=\"1000\" height=\"1200\">\n"
   ]
  },
  {
   "cell_type": "markdown",
   "metadata": {},
   "source": [
    "## Tokenizer in Keras\n"
   ]
  },
  {
   "cell_type": "markdown",
   "metadata": {},
   "source": [
    "Keras has the class ``Tokenizer`` that allows you to vectorize a text by turning each word into either a sequence of integers or a vector where the coefficient for each token is binary, based on word count. We will use the following parameters:\n",
    "\n",
    "```num_words```: the maximum number of words to keep in a sentence, based on the highest word frequencies, that is, only the **most common** ``num_words`` words will be kept.\n",
    "\n",
    "```filters```: a string that contains characters that will be filtered from the texts. The default is all the punctuations, tabs, line breaks, and the ' character.\n",
    "\n",
    "```lower```: boolean type, indicates whether to convert the texts to lowercase.\n",
    "\n",
    "```split```: str, indicates the separator for word splitting.\n",
    "\n",
    "We create the ```Tokenizer``` object:\n"
   ]
  },
  {
   "cell_type": "code",
   "execution_count": 7,
   "metadata": {
    "tags": []
   },
   "outputs": [],
   "source": [
    "tokenizer = Tokenizer(num_words=11)"
   ]
  },
  {
   "cell_type": "markdown",
   "metadata": {},
   "source": [
    "To fit the tokenizer to our text data, we call the method ```fit_on_texts```. The layer will build a corpus (vocabulary) of all string tokens obtained from the samples, and each word in the vocabulary will be represented by an integer or a vector.\n"
   ]
  },
  {
   "cell_type": "code",
   "execution_count": 8,
   "metadata": {
    "tags": []
   },
   "outputs": [],
   "source": [
    "tokenizer.fit_on_texts(samples) "
   ]
  },
  {
   "cell_type": "markdown",
   "metadata": {},
   "source": [
    "The attribute ```word_counts``` is a list of words, tokens, and the corresponding number of times they appeared in the samples:\n"
   ]
  },
  {
   "cell_type": "code",
   "execution_count": 9,
   "metadata": {
    "tags": []
   },
   "outputs": [
    {
     "data": {
      "text/plain": [
       "OrderedDict([('i', 2),\n",
       "             ('hate', 1),\n",
       "             ('cats', 2),\n",
       "             ('the', 2),\n",
       "             ('dog', 1),\n",
       "             ('is', 1),\n",
       "             ('brown', 1),\n",
       "             ('and', 1),\n",
       "             ('like', 1),\n",
       "             ('for', 1)])"
      ]
     },
     "execution_count": 9,
     "metadata": {},
     "output_type": "execute_result"
    }
   ],
   "source": [
    "word_counts=tokenizer.word_counts\n",
    "word_counts"
   ]
  },
  {
   "cell_type": "markdown",
   "metadata": {},
   "source": [
    "We can use the method ```texts_to_matrix``` to perform multi-hot encoding, where each element of the resultant vector is set to one if the corresponding word exists in the sequence; else, the element is set to zero. Here we perform multi-hot encoding for each word in the different sequences:\n"
   ]
  },
  {
   "cell_type": "code",
   "execution_count": 10,
   "metadata": {
    "tags": []
   },
   "outputs": [
    {
     "name": "stdout",
     "output_type": "stream",
     "text": [
      "i\n",
      "[[0. 1. 0. 0. 0. 0. 0. 0. 0. 0. 0.]]\n",
      "hate\n",
      "[[0. 0. 0. 0. 1. 0. 0. 0. 0. 0. 0.]]\n",
      "cats\n",
      "[[0. 0. 1. 0. 0. 0. 0. 0. 0. 0. 0.]]\n",
      "the\n",
      "[[0. 0. 0. 1. 0. 0. 0. 0. 0. 0. 0.]]\n",
      "dog\n",
      "[[0. 0. 0. 0. 0. 1. 0. 0. 0. 0. 0.]]\n",
      "is\n",
      "[[0. 0. 0. 0. 0. 0. 1. 0. 0. 0. 0.]]\n",
      "brown\n",
      "[[0. 0. 0. 0. 0. 0. 0. 1. 0. 0. 0.]]\n",
      "and\n",
      "[[0. 0. 0. 0. 0. 0. 0. 0. 1. 0. 0.]]\n",
      "like\n",
      "[[0. 0. 0. 0. 0. 0. 0. 0. 0. 1. 0.]]\n",
      "for\n",
      "[[0. 0. 0. 0. 0. 0. 0. 0. 0. 0. 1.]]\n"
     ]
    }
   ],
   "source": [
    "for key in tokenizer.word_counts.keys():\n",
    "    \n",
    "    print(key)\n",
    "    print(tokenizer.texts_to_matrix([key]))"
   ]
  },
  {
   "cell_type": "markdown",
   "metadata": {},
   "source": [
    "As there is a total of ten words in the sequence, the vector has ten elements; each element in the vector corresponds to a different word. \n"
   ]
  },
  {
   "cell_type": "code",
   "execution_count": 11,
   "metadata": {
    "tags": []
   },
   "outputs": [
    {
     "name": "stdout",
     "output_type": "stream",
     "text": [
      "I hate cats\n",
      "[[0. 1. 1. 0. 1. 0. 0. 0. 0. 0. 0.]]\n",
      "the dog is brown and I like cats\n",
      "[[0. 1. 1. 1. 0. 1. 1. 1. 1. 1. 0.]]\n",
      "for the\n",
      "[[0. 0. 0. 1. 0. 0. 0. 0. 0. 0. 1.]]\n"
     ]
    }
   ],
   "source": [
    "for sample  in samples:\n",
    "    \n",
    "    print(sample)\n",
    "    print(tokenizer.texts_to_matrix([sample]))"
   ]
  },
  {
   "cell_type": "markdown",
   "metadata": {},
   "source": [
    "We can also apply different NLP transformations using the parameter ```mode```.\n"
   ]
  },
  {
   "cell_type": "code",
   "execution_count": 12,
   "metadata": {
    "tags": []
   },
   "outputs": [
    {
     "name": "stdout",
     "output_type": "stream",
     "text": [
      "mode: binary\n",
      "I hate cats\n",
      "[[0. 1. 1. 0. 1. 0. 0. 0. 0. 0. 0.]]\n",
      "the dog is brown and I like cats\n",
      "[[0. 1. 1. 1. 0. 1. 1. 1. 1. 1. 0.]]\n",
      "for the\n",
      "[[0. 0. 0. 1. 0. 0. 0. 0. 0. 0. 1.]]\n",
      "mode: count\n",
      "I hate cats\n",
      "[[0. 1. 1. 0. 1. 0. 0. 0. 0. 0. 0.]]\n",
      "the dog is brown and I like cats\n",
      "[[0. 1. 1. 1. 0. 1. 1. 1. 1. 1. 0.]]\n",
      "for the\n",
      "[[0. 0. 0. 1. 0. 0. 0. 0. 0. 0. 1.]]\n",
      "mode: tfidf\n",
      "I hate cats\n",
      "[[0.         0.69314718 0.69314718 0.         0.91629073 0.\n",
      "  0.         0.         0.         0.         0.        ]]\n",
      "the dog is brown and I like cats\n",
      "[[0.         0.69314718 0.69314718 0.69314718 0.         0.91629073\n",
      "  0.91629073 0.91629073 0.91629073 0.91629073 0.        ]]\n",
      "for the\n",
      "[[0.         0.         0.         0.69314718 0.         0.\n",
      "  0.         0.         0.         0.         0.91629073]]\n",
      "mode: freq\n",
      "I hate cats\n",
      "[[0.         0.33333333 0.33333333 0.         0.33333333 0.\n",
      "  0.         0.         0.         0.         0.        ]]\n",
      "the dog is brown and I like cats\n",
      "[[0.    0.125 0.125 0.125 0.    0.125 0.125 0.125 0.125 0.125 0.   ]]\n",
      "for the\n",
      "[[0.  0.  0.  0.5 0.  0.  0.  0.  0.  0.  0.5]]\n"
     ]
    }
   ],
   "source": [
    "modes=[ \"binary\", \"count\", \"tfidf\", \"freq\"]\n",
    "for mode in modes: \n",
    "    print(\"mode:\",mode)\n",
    "    for sample  in samples:\n",
    "        \n",
    "        print(sample)\n",
    "        print(tokenizer.texts_to_matrix([sample],mode=mode))"
   ]
  },
  {
   "cell_type": "markdown",
   "metadata": {},
   "source": [
    "In many cases, Multi-hot encoding is redundant. As a result, we use the method ```texts_to_sequences```. This method will output an integer sequence where each integer corresponds to the index of the element in the corpus. The sequence length is equal to the number of words or tokens in the input sequence, as opposed to the number of words in the entire vocabulary like in Multi-hot encoding.\n"
   ]
  },
  {
   "cell_type": "code",
   "execution_count": 13,
   "metadata": {
    "tags": []
   },
   "outputs": [
    {
     "name": "stdout",
     "output_type": "stream",
     "text": [
      "I hate cats\n",
      "[[1, 4, 2]]\n",
      "the dog is brown and I like cats\n",
      "[[3, 5, 6, 7, 8, 1, 9, 2]]\n",
      "for the\n",
      "[[10, 3]]\n"
     ]
    }
   ],
   "source": [
    "for sample  in samples:\n",
    "    \n",
    "    print(sample)\n",
    "    print(tokenizer.texts_to_sequences([sample]))"
   ]
  },
  {
   "cell_type": "markdown",
   "metadata": {},
   "source": [
    "\n",
    "\n",
    "\n",
    "\n",
    "### Input Dimension \n"
   ]
  },
  {
   "cell_type": "markdown",
   "metadata": {},
   "source": [
    "Let's look at an example where we want to output the integer **input_dim**, which is the size of the vocabulary or maximum integer index.\n"
   ]
  },
  {
   "cell_type": "code",
   "execution_count": 14,
   "metadata": {
    "tags": []
   },
   "outputs": [
    {
     "name": "stdout",
     "output_type": "stream",
     "text": [
      "Model: \"sequential\"\n",
      "_________________________________________________________________\n",
      " Layer (type)                Output Shape              Param #   \n",
      "=================================================================\n",
      " embedding (Embedding)       (None, 1, 1)              3         \n",
      "                                                                 \n",
      "=================================================================\n",
      "Total params: 3\n",
      "Trainable params: 3\n",
      "Non-trainable params: 0\n",
      "_________________________________________________________________\n"
     ]
    },
    {
     "name": "stderr",
     "output_type": "stream",
     "text": [
      "2025-05-27 13:32:33.498546: W tensorflow/compiler/xla/stream_executor/platform/default/dso_loader.cc:64] Could not load dynamic library 'libcuda.so.1'; dlerror: libcuda.so.1: cannot open shared object file: No such file or directory\n",
      "2025-05-27 13:32:33.498608: W tensorflow/compiler/xla/stream_executor/cuda/cuda_driver.cc:265] failed call to cuInit: UNKNOWN ERROR (303)\n",
      "2025-05-27 13:32:33.498632: I tensorflow/compiler/xla/stream_executor/cuda/cuda_diagnostics.cc:156] kernel driver does not appear to be running on this host (jupyterlab-hybraid6): /proc/driver/nvidia/version does not exist\n",
      "2025-05-27 13:32:33.499051: I tensorflow/core/platform/cpu_feature_guard.cc:193] This TensorFlow binary is optimized with oneAPI Deep Neural Network Library (oneDNN) to use the following CPU instructions in performance-critical operations:  AVX2 AVX512F AVX512_VNNI FMA\n",
      "To enable them in other operations, rebuild TensorFlow with the appropriate compiler flags.\n"
     ]
    }
   ],
   "source": [
    "import tensorflow as tf\n",
    "from tensorflow.keras.layers import Embedding, Dense, Flatten\n",
    "from tensorflow.keras.models import Sequential\n",
    "from tensorflow.keras import Input\n",
    "\n",
    "import numpy as np\n",
    "\n",
    "\n",
    "model = Sequential()\n",
    "\n",
    "input_dim=3\n",
    "output_dim=1\n",
    "input_length=1\n",
    "model.add(Embedding(input_dim=input_dim, output_dim=output_dim,input_length=input_length))\n",
    "\n",
    "model.summary()"
   ]
  },
  {
   "cell_type": "markdown",
   "metadata": {},
   "source": [
    "Keras randomly initialize the weights, so let's set each weight to the index it belongs to:\n"
   ]
  },
  {
   "cell_type": "code",
   "execution_count": 15,
   "metadata": {
    "tags": []
   },
   "outputs": [
    {
     "data": {
      "text/plain": [
       "[array([[0.],\n",
       "        [1.],\n",
       "        [2.]], dtype=float32)]"
      ]
     },
     "execution_count": 15,
     "metadata": {},
     "output_type": "execute_result"
    }
   ],
   "source": [
    "model.get_weights()\n",
    "weights=np.array([0,1,2]).reshape(-1,1)\n",
    "\n",
    "model.set_weights([weights])\n",
    "model.get_weights()"
   ]
  },
  {
   "cell_type": "markdown",
   "metadata": {},
   "source": [
    "We can apply the function to each integer. The embedding layer will return the parameter value(s) or vector(s) on the position(s) which have the index value(s) equal to the integer(s) in the sequence.\n"
   ]
  },
  {
   "cell_type": "code",
   "execution_count": 16,
   "metadata": {
    "tags": []
   },
   "outputs": [
    {
     "name": "stdout",
     "output_type": "stream",
     "text": [
      "input x=0\n",
      "1/1 [==============================] - 0s 116ms/step\n",
      "output z=[[[0.0]]]\n",
      "input x=1\n",
      "1/1 [==============================] - 0s 28ms/step\n",
      "output z=[[[1.0]]]\n",
      "input x=2\n",
      "1/1 [==============================] - 0s 20ms/step\n",
      "output z=[[[2.0]]]\n"
     ]
    }
   ],
   "source": [
    "for n in range(3):\n",
    "    x=np.array([[n]])\n",
    "    print(\"input x={}\".format(n))\n",
    "    z=model.predict(x)\n",
    "    print(\"output z={}\".format(z.tolist()))"
   ]
  },
  {
   "cell_type": "markdown",
   "metadata": {},
   "source": [
    "We can also apply the method to multiple samples, by making each sample a different sample in the batch dimension or as multiple samples in a row:\n"
   ]
  },
  {
   "cell_type": "code",
   "execution_count": 18,
   "metadata": {
    "tags": []
   },
   "outputs": [
    {
     "name": "stdout",
     "output_type": "stream",
     "text": [
      "1/1 [==============================] - 0s 39ms/step\n",
      "different samples in the batch dimension:\n",
      " [[[0.]]\n",
      "\n",
      " [[1.]]\n",
      "\n",
      " [[2.]]]\n",
      "1/1 [==============================] - 0s 35ms/step\n",
      " multiple samples in a row: \n",
      " [[0.]\n",
      " [1.]\n",
      " [2.]]\n"
     ]
    }
   ],
   "source": [
    "z = model.predict([[0],[1],[2]])\n",
    "print(\"different samples in the batch dimension:\\n\",z)\n",
    "z = model.predict([0,1,2])\n",
    "print(\" multiple samples in a row: \\n\",z)"
   ]
  },
  {
   "cell_type": "markdown",
   "metadata": {},
   "source": [
    "If you use the ```Sequential``` class, you must specify the input shape ```input_length``` so the model can be built with the proper set of parameters; ```input_length``` is the size of each input sequence.\n"
   ]
  },
  {
   "cell_type": "markdown",
   "metadata": {},
   "source": [
    "### Output shape\n",
    "\n",
    "Output shape is the number of parameters, using the matrix multiplication analogy: if the input is a multi-hot encoding column vector and the embedding is a matrix, the ```output_dim``` is the number of columns in the matrix. Consider the example of converting a number to its binary number equivalent, and we will represent each element of the binary number as a different dimension in the output. \n",
    "\n",
    "Let's convert the numbers from 0 to 3. As we have four numbers the parameter ```input_dim=4```. As we need two binary digits or bits to represent the numbers from one to three the ```output_dim=2```.\n"
   ]
  },
  {
   "cell_type": "code",
   "execution_count": 19,
   "metadata": {
    "tags": []
   },
   "outputs": [
    {
     "name": "stdout",
     "output_type": "stream",
     "text": [
      "Model: \"sequential_1\"\n",
      "_________________________________________________________________\n",
      " Layer (type)                Output Shape              Param #   \n",
      "=================================================================\n",
      " embedding_1 (Embedding)     (None, 1, 2)              8         \n",
      "                                                                 \n",
      "=================================================================\n",
      "Total params: 8\n",
      "Trainable params: 8\n",
      "Non-trainable params: 0\n",
      "_________________________________________________________________\n"
     ]
    }
   ],
   "source": [
    "input_dim=4\n",
    "output_dim=2\n",
    "input_length=1\n",
    "model = Sequential()\n",
    "model.add(Embedding(input_dim=input_dim, output_dim=output_dim, input_length=input_length))\n",
    "model.summary()"
   ]
  },
  {
   "cell_type": "markdown",
   "metadata": {},
   "source": [
    "We assign the ```weights``` to represent binary numbers;\n"
   ]
  },
  {
   "cell_type": "code",
   "execution_count": 20,
   "metadata": {
    "tags": []
   },
   "outputs": [
    {
     "data": {
      "text/plain": [
       "[array([[0., 0.],\n",
       "        [0., 1.],\n",
       "        [1., 0.],\n",
       "        [1., 1.]], dtype=float32)]"
      ]
     },
     "execution_count": 20,
     "metadata": {},
     "output_type": "execute_result"
    }
   ],
   "source": [
    "weights=np.array([[0,0],[0,1],[1,0],[1,1]])\n",
    "model.set_weights([weights])\n",
    "model.get_weights()"
   ]
  },
  {
   "cell_type": "markdown",
   "metadata": {},
   "source": [
    "For each input integer, the output of the embedding is the corresponding binary number:\n"
   ]
  },
  {
   "cell_type": "code",
   "execution_count": 21,
   "metadata": {
    "tags": []
   },
   "outputs": [
    {
     "name": "stdout",
     "output_type": "stream",
     "text": [
      "input x=0\n",
      "1/1 [==============================] - 0s 38ms/step\n",
      "input binary=[[[0.0, 0.0]]]\n",
      "input x=1\n",
      "1/1 [==============================] - 0s 20ms/step\n",
      "input binary=[[[0.0, 1.0]]]\n",
      "input x=2\n",
      "1/1 [==============================] - 0s 19ms/step\n",
      "input binary=[[[1.0, 0.0]]]\n",
      "input x=3\n",
      "1/1 [==============================] - 0s 19ms/step\n",
      "input binary=[[[1.0, 1.0]]]\n"
     ]
    }
   ],
   "source": [
    "for n in range(4):\n",
    "    x=np.array([[n]])\n",
    "    print(\"input x={}\".format(n))\n",
    "    z=model.predict(x)\n",
    "    print(\"input binary={}\".format(z.tolist() ))"
   ]
  },
  {
   "cell_type": "markdown",
   "metadata": {},
   "source": [
    "in order to use the embedding, we go with seqeuntial \n"
   ]
  },
  {
   "cell_type": "markdown",
   "metadata": {},
   "source": [
    "### Padding Sequences\n"
   ]
  },
  {
   "cell_type": "markdown",
   "metadata": {},
   "source": [
    "Usually, sequences are of different lengths. Consider our original sequence:\n"
   ]
  },
  {
   "cell_type": "code",
   "execution_count": 22,
   "metadata": {
    "tags": []
   },
   "outputs": [
    {
     "name": "stdout",
     "output_type": "stream",
     "text": [
      "sample: I hate cats\n",
      "length: 11\n",
      "sample: the dog is brown and I like cats\n",
      "length: 32\n",
      "sample: for the\n",
      "length: 7\n"
     ]
    }
   ],
   "source": [
    "samples=['I hate cats','the dog is brown and I like cats','for the']\n",
    "for sample in samples:\n",
    "    print(\"sample:\",sample)\n",
    "    print(\"length:\",len(sample))"
   ]
  },
  {
   "cell_type": "markdown",
   "metadata": {},
   "source": [
    "When we apply the ```Tokenizer``` we apply the method ```texts_to_sequences``` we see each sequence is also a different length:\n"
   ]
  },
  {
   "cell_type": "code",
   "execution_count": 23,
   "metadata": {
    "tags": []
   },
   "outputs": [
    {
     "name": "stdout",
     "output_type": "stream",
     "text": [
      "tokens [[1, 4, 2], [3, 5, 6, 7, 8, 1, 9, 2], [10, 3]]\n"
     ]
    }
   ],
   "source": [
    "tokenizer = Tokenizer(num_words=12)\n",
    "tokenizer.fit_on_texts(samples) \n",
    "tokens=tokenizer.texts_to_sequences(samples)\n",
    "print(\"tokens\",tokens)"
   ]
  },
  {
   "cell_type": "markdown",
   "metadata": {},
   "source": [
    "To make sure the sequences are the same length, we apply the function ```pad_sequences```. The function transforms a sequence into a 2D Numpy array with the number of rows equal to the number of samples and the number of columns equal to the parameter ```maxlen``` (the length of the longest sequence in the list). Sequences that are shorter than ```maxlen``` are padded with the parameter ```value```, which is by default zero. \n",
    "\n",
    "Consider the following example:\n"
   ]
  },
  {
   "cell_type": "code",
   "execution_count": 24,
   "metadata": {
    "tags": []
   },
   "outputs": [
    {
     "data": {
      "text/plain": [
       "array([[ 0,  0,  0,  0,  0,  0,  1,  4,  2],\n",
       "       [ 0,  3,  5,  6,  7,  8,  1,  9,  2],\n",
       "       [ 0,  0,  0,  0,  0,  0,  0, 10,  3]], dtype=int32)"
      ]
     },
     "execution_count": 24,
     "metadata": {},
     "output_type": "execute_result"
    }
   ],
   "source": [
    "maxlen=9\n",
    "x =pad_sequences(tokens, maxlen=maxlen,value=0)\n",
    "x"
   ]
  },
  {
   "cell_type": "markdown",
   "metadata": {},
   "source": [
    "We see the padding proceeds the integer values, but we can also set padding to follow the integers through ```padding = \"post\"```.\n"
   ]
  },
  {
   "cell_type": "code",
   "execution_count": 25,
   "metadata": {
    "tags": []
   },
   "outputs": [
    {
     "data": {
      "text/plain": [
       "array([[ 1,  4,  2,  0,  0,  0,  0,  0,  0],\n",
       "       [ 3,  5,  6,  7,  8,  1,  9,  2,  0],\n",
       "       [10,  3,  0,  0,  0,  0,  0,  0,  0]], dtype=int32)"
      ]
     },
     "execution_count": 25,
     "metadata": {},
     "output_type": "execute_result"
    }
   ],
   "source": [
    "maxlen=9\n",
    "x =pad_sequences(tokens, maxlen=maxlen,padding=\"post\")\n",
    "x"
   ]
  },
  {
   "cell_type": "markdown",
   "metadata": {},
   "source": [
    "If we decrease the value for ```maxlen```, the function will ```truncate``` the sequences, that is, making sequences that are longer than `maxlen` shorter.\n"
   ]
  },
  {
   "cell_type": "code",
   "execution_count": 26,
   "metadata": {
    "tags": []
   },
   "outputs": [
    {
     "data": {
      "text/plain": [
       "array([[ 0,  0,  1,  4,  2],\n",
       "       [ 7,  8,  1,  9,  2],\n",
       "       [ 0,  0,  0, 10,  3]], dtype=int32)"
      ]
     },
     "execution_count": 26,
     "metadata": {},
     "output_type": "execute_result"
    }
   ],
   "source": [
    "maxlen=5\n",
    "x =pad_sequences(tokens, maxlen=maxlen)\n",
    "x"
   ]
  },
  {
   "cell_type": "markdown",
   "metadata": {},
   "source": [
    "We see the function truncates the values from sequences longer than ```maxlen``` at the beginning of the sequence. We can also set ```truncating = \"post\"```to  truncate the values from the end.\n"
   ]
  },
  {
   "cell_type": "markdown",
   "metadata": {},
   "source": [
    "## Sentiment Analysis \n"
   ]
  },
  {
   "cell_type": "markdown",
   "metadata": {},
   "source": [
    "Now that we have the sequence, , and embedding layers, we can use a neural network to classify our text data. Sentiment analysis in natural language processing is a technique used to determine opinions, appraisals, emotions, or attitudes towards a topic, person, or entity. \n",
    "\n",
    "Consider the IMDB dataset of 25,000 movie reviews from IMDB, labeled positive (y=0) and negative (y=1). In this dateset, the reviews have been pre-processed, and each review is encoded as a list of word indexes (integers). The words are indexed by overall frequency in the dataset so that for instance, the integer \"3\" encodes the 3rd most frequent word in the data. We will \"only consider the top 10,000 most common words, but eliminate the top 20 most common words for more on the dataset check out <a href=\"https://keras.io/api/datasets/imdb/?utm_medium=Exinfluencer&utm_source=Exinfluencer&utm_content=000026UJ&utm_term=10006555&utm_id=NA-SkillsNetwork-Channel-SkillsNetworkCoursesIBMDeveloperSkillsNetworkML311Coursera747-2022-01-01\">here </a>. We download the dataset:\n"
   ]
  },
  {
   "cell_type": "code",
   "execution_count": 27,
   "metadata": {
    "tags": []
   },
   "outputs": [],
   "source": [
    "from keras.datasets import imdb"
   ]
  },
  {
   "cell_type": "code",
   "execution_count": 28,
   "metadata": {
    "tags": []
   },
   "outputs": [
    {
     "name": "stdout",
     "output_type": "stream",
     "text": [
      "Downloading data from https://storage.googleapis.com/tensorflow/tf-keras-datasets/imdb.npz\n",
      "17464789/17464789 [==============================] - 0s 0us/step\n"
     ]
    }
   ],
   "source": [
    "max_features = 10000\n",
    "\n",
    "# change the default parameter of np to allow_pickle=True\n",
    "np.load.__defaults__=(None, True, True, 'ASCII')\n",
    "importlib.reload(np)\n",
    "\n",
    "(x_train, y_train), (x_test, y_test) = imdb.load_data(num_words=max_features )"
   ]
  },
  {
   "cell_type": "markdown",
   "metadata": {},
   "source": [
    "We print out the first three samples and we see the dataset has been tokenized: \n"
   ]
  },
  {
   "cell_type": "code",
   "execution_count": 29,
   "metadata": {
    "tags": []
   },
   "outputs": [
    {
     "name": "stdout",
     "output_type": "stream",
     "text": [
      "Sequence: 0\n",
      "[1, 14, 22, 16, 43, 530, 973, 1622, 1385, 65, 458, 4468, 66, 3941, 4, 173, 36, 256, 5, 25, 100, 43, 838, 112, 50, 670, 2, 9, 35, 480, 284, 5, 150, 4, 172, 112, 167, 2, 336, 385, 39, 4, 172, 4536, 1111, 17, 546, 38, 13, 447, 4, 192, 50, 16, 6, 147, 2025, 19, 14, 22, 4, 1920, 4613, 469, 4, 22, 71, 87, 12, 16, 43, 530, 38, 76, 15, 13, 1247, 4, 22, 17, 515, 17, 12, 16, 626, 18, 2, 5, 62, 386, 12, 8, 316, 8, 106, 5, 4, 2223, 5244, 16, 480, 66, 3785, 33, 4, 130, 12, 16, 38, 619, 5, 25, 124, 51, 36, 135, 48, 25, 1415, 33, 6, 22, 12, 215, 28, 77, 52, 5, 14, 407, 16, 82, 2, 8, 4, 107, 117, 5952, 15, 256, 4, 2, 7, 3766, 5, 723, 36, 71, 43, 530, 476, 26, 400, 317, 46, 7, 4, 2, 1029, 13, 104, 88, 4, 381, 15, 297, 98, 32, 2071, 56, 26, 141, 6, 194, 7486, 18, 4, 226, 22, 21, 134, 476, 26, 480, 5, 144, 30, 5535, 18, 51, 36, 28, 224, 92, 25, 104, 4, 226, 65, 16, 38, 1334, 88, 12, 16, 283, 5, 16, 4472, 113, 103, 32, 15, 16, 5345, 19, 178, 32]\n",
      "Sequence: 1\n",
      "[1, 194, 1153, 194, 8255, 78, 228, 5, 6, 1463, 4369, 5012, 134, 26, 4, 715, 8, 118, 1634, 14, 394, 20, 13, 119, 954, 189, 102, 5, 207, 110, 3103, 21, 14, 69, 188, 8, 30, 23, 7, 4, 249, 126, 93, 4, 114, 9, 2300, 1523, 5, 647, 4, 116, 9, 35, 8163, 4, 229, 9, 340, 1322, 4, 118, 9, 4, 130, 4901, 19, 4, 1002, 5, 89, 29, 952, 46, 37, 4, 455, 9, 45, 43, 38, 1543, 1905, 398, 4, 1649, 26, 6853, 5, 163, 11, 3215, 2, 4, 1153, 9, 194, 775, 7, 8255, 2, 349, 2637, 148, 605, 2, 8003, 15, 123, 125, 68, 2, 6853, 15, 349, 165, 4362, 98, 5, 4, 228, 9, 43, 2, 1157, 15, 299, 120, 5, 120, 174, 11, 220, 175, 136, 50, 9, 4373, 228, 8255, 5, 2, 656, 245, 2350, 5, 4, 9837, 131, 152, 491, 18, 2, 32, 7464, 1212, 14, 9, 6, 371, 78, 22, 625, 64, 1382, 9, 8, 168, 145, 23, 4, 1690, 15, 16, 4, 1355, 5, 28, 6, 52, 154, 462, 33, 89, 78, 285, 16, 145, 95]\n",
      "Sequence: 2\n",
      "[1, 14, 47, 8, 30, 31, 7, 4, 249, 108, 7, 4, 5974, 54, 61, 369, 13, 71, 149, 14, 22, 112, 4, 2401, 311, 12, 16, 3711, 33, 75, 43, 1829, 296, 4, 86, 320, 35, 534, 19, 263, 4821, 1301, 4, 1873, 33, 89, 78, 12, 66, 16, 4, 360, 7, 4, 58, 316, 334, 11, 4, 1716, 43, 645, 662, 8, 257, 85, 1200, 42, 1228, 2578, 83, 68, 3912, 15, 36, 165, 1539, 278, 36, 69, 2, 780, 8, 106, 14, 6905, 1338, 18, 6, 22, 12, 215, 28, 610, 40, 6, 87, 326, 23, 2300, 21, 23, 22, 12, 272, 40, 57, 31, 11, 4, 22, 47, 6, 2307, 51, 9, 170, 23, 595, 116, 595, 1352, 13, 191, 79, 638, 89, 2, 14, 9, 8, 106, 607, 624, 35, 534, 6, 227, 7, 129, 113]\n"
     ]
    }
   ],
   "source": [
    "for i,x in enumerate(x_train[0:3]):\n",
    "    print(\"Sequence:\",i) \n",
    "    print(x)"
   ]
  },
  {
   "cell_type": "markdown",
   "metadata": {},
   "source": [
    "We can obtain a dictionary look-up table with the word and the integer that represents it:\n"
   ]
  },
  {
   "cell_type": "code",
   "execution_count": 30,
   "metadata": {
    "tags": []
   },
   "outputs": [
    {
     "name": "stdout",
     "output_type": "stream",
     "text": [
      "Downloading data from https://storage.googleapis.com/tensorflow/tf-keras-datasets/imdb_word_index.json\n",
      "1641221/1641221 [==============================] - 0s 0us/step\n"
     ]
    }
   ],
   "source": [
    "word_index = imdb.get_word_index()"
   ]
  },
  {
   "cell_type": "markdown",
   "metadata": {},
   "source": [
    "We invert the table so the key is the integer that represents the word, and the value is the word. We assign the new dictionary to the variable ```REVERSE_LOOKUP```:\n"
   ]
  },
  {
   "cell_type": "code",
   "execution_count": 31,
   "metadata": {
    "tags": []
   },
   "outputs": [],
   "source": [
    "REVERSE_LOOKUP={value:key for key, value in word_index.items()}"
   ]
  },
  {
   "cell_type": "markdown",
   "metadata": {},
   "source": [
    "The following function will use ```REVERSE_LOOKUP``` to convert an input sequence x to the original review. \n"
   ]
  },
  {
   "cell_type": "code",
   "execution_count": 32,
   "metadata": {
    "tags": []
   },
   "outputs": [],
   "source": [
    "def get_review(x):\n",
    "     return' '.join([REVERSE_LOOKUP[index ] for index in x])"
   ]
  },
  {
   "cell_type": "markdown",
   "metadata": {},
   "source": [
    "We can obtain the review for the first sample:\n"
   ]
  },
  {
   "cell_type": "code",
   "execution_count": 34,
   "metadata": {
    "tags": []
   },
   "outputs": [
    {
     "data": {
      "text/plain": [
       "\"the as you with out themselves powerful lets loves their becomes reaching had journalist of lot from anyone to have after out atmosphere never more room and it so heart shows to years of every never going and help moments or of every chest visual movie except her was several of enough more with is now current film as you of mine potentially unfortunately of you than him that with out themselves her get for was camp of you movie sometimes movie that with scary but and to story wonderful that in seeing in character to of 70s musicians with heart had shadows they of here that with her serious to have does when from why what have critics they is you that isn't one will very to as itself with other and in of seen over landed for anyone of and br show's to whether from than out themselves history he name half some br of and odd was two most of mean for 1 any an boat she he should is thought frog but of script you not while history he heart to real at barrel but when from one bit then have two of script their with her nobody most that with wasn't to with armed acting watch an for with heartfelt film want an\""
      ]
     },
     "execution_count": 34,
     "metadata": {},
     "output_type": "execute_result"
    }
   ],
   "source": [
    "get_review(x_train[0])"
   ]
  },
  {
   "cell_type": "markdown",
   "metadata": {},
   "source": [
    "Similarly, we obtain the review for the second sample:\n"
   ]
  },
  {
   "cell_type": "code",
   "execution_count": 35,
   "metadata": {
    "tags": []
   },
   "outputs": [
    {
     "data": {
      "text/plain": [
       "\"the thought solid thought senator do making to is spot nomination assumed while he of jack in where picked as getting on was did hands fact characters to always life thrillers not as me can't in at are br of sure your way of little it strongly random to view of love it so principles of guy it used producer of where it of here icon film of outside to don't all unique some like of direction it if out her imagination below keep of queen he diverse to makes this stretch and of solid it thought begins br senator and budget worthwhile though ok and awaiting for ever better were and diverse for budget look kicked any to of making it out and follows for effects show to show cast this family us scenes more it severe making senator to and finds tv tend to of emerged these thing wants but and an beckinsale cult as it is video do you david see scenery it in few those are of ship for with of wild to one is very work dark they don't do dvd with those them\""
      ]
     },
     "execution_count": 35,
     "metadata": {},
     "output_type": "execute_result"
    }
   ],
   "source": [
    "get_review(x_train[1])"
   ]
  },
  {
   "cell_type": "markdown",
   "metadata": {},
   "source": [
    "Each sample is of a different length; for example, we can print the length of the first three samples:\n"
   ]
  },
  {
   "cell_type": "code",
   "execution_count": 36,
   "metadata": {
    "tags": []
   },
   "outputs": [
    {
     "name": "stdout",
     "output_type": "stream",
     "text": [
      "length 0 of sample 218:\n",
      "length 1 of sample 189:\n",
      "length 2 of sample 141:\n"
     ]
    }
   ],
   "source": [
    "for i,x in enumerate(x_train[0:3]):\n",
    "    print(\"length {} of sample {}:\".format(i,len(x)))\n"
   ]
  },
  {
   "cell_type": "markdown",
   "metadata": {},
   "source": [
    "As a result, we need to pad all the sequences using ```pad_sequences```:\n"
   ]
  },
  {
   "cell_type": "code",
   "execution_count": 37,
   "metadata": {
    "tags": []
   },
   "outputs": [],
   "source": [
    "maxlen=20\n",
    "x_train =pad_sequences(x_train, maxlen=maxlen)\n",
    "x_test =pad_sequences(x_test, maxlen=maxlen)\n"
   ]
  },
  {
   "cell_type": "code",
   "execution_count": 38,
   "metadata": {
    "tags": []
   },
   "outputs": [
    {
     "data": {
      "text/plain": [
       "(25000, 20)"
      ]
     },
     "execution_count": 38,
     "metadata": {},
     "output_type": "execute_result"
    }
   ],
   "source": [
    "x_test.shape"
   ]
  },
  {
   "cell_type": "markdown",
   "metadata": {},
   "source": [
    "Now we can create the embedding layer. We know the number of words is ```max_features=10000``` and therefore ```input_dim=10000```. The dimension of the output is a parameter that we set. Let's set ```output_dim=8``` and ```input_length=1``` for now.\n",
    "\n",
    "We also need to add a flattening layer using ```Flatten()```, which adds an extra dimension and will reshape the input as ```(batch, 1)```.\n"
   ]
  },
  {
   "cell_type": "code",
   "execution_count": 39,
   "metadata": {
    "tags": []
   },
   "outputs": [],
   "source": [
    "model = Sequential()\n",
    "model.add(Embedding(10000, 8, input_length=20))\n",
    "model.add(Flatten())\n"
   ]
  },
  {
   "cell_type": "markdown",
   "metadata": {},
   "source": [
    "We can now add a fully connected layer with `units=1` for classification:\n"
   ]
  },
  {
   "cell_type": "code",
   "execution_count": 40,
   "metadata": {
    "tags": []
   },
   "outputs": [
    {
     "name": "stdout",
     "output_type": "stream",
     "text": [
      "Model: \"sequential_2\"\n",
      "_________________________________________________________________\n",
      " Layer (type)                Output Shape              Param #   \n",
      "=================================================================\n",
      " embedding_2 (Embedding)     (None, 20, 8)             80000     \n",
      "                                                                 \n",
      " flatten (Flatten)           (None, 160)               0         \n",
      "                                                                 \n",
      " dense (Dense)               (None, 1)                 161       \n",
      "                                                                 \n",
      "=================================================================\n",
      "Total params: 80,161\n",
      "Trainable params: 80,161\n",
      "Non-trainable params: 0\n",
      "_________________________________________________________________\n"
     ]
    }
   ],
   "source": [
    "model.add(Dense(1, activation='sigmoid'))\n",
    "model.compile(optimizer='rmsprop', loss='binary_crossentropy', metrics=['acc'])\n",
    "model.summary()\n"
   ]
  },
  {
   "cell_type": "markdown",
   "metadata": {},
   "source": [
    "Let's fit the model:\n"
   ]
  },
  {
   "cell_type": "code",
   "execution_count": 41,
   "metadata": {
    "tags": []
   },
   "outputs": [
    {
     "name": "stdout",
     "output_type": "stream",
     "text": [
      "Epoch 1/10\n",
      "667/667 [==============================] - 4s 5ms/step - loss: 0.6652 - acc: 0.6281 - val_loss: 0.6073 - val_acc: 0.6998\n",
      "Epoch 2/10\n",
      "667/667 [==============================] - 3s 4ms/step - loss: 0.5332 - acc: 0.7512 - val_loss: 0.5180 - val_acc: 0.7352\n",
      "Epoch 3/10\n",
      "667/667 [==============================] - 3s 4ms/step - loss: 0.4590 - acc: 0.7892 - val_loss: 0.4977 - val_acc: 0.7522\n",
      "Epoch 4/10\n",
      "667/667 [==============================] - 2s 4ms/step - loss: 0.4229 - acc: 0.8093 - val_loss: 0.4950 - val_acc: 0.7564\n",
      "Epoch 5/10\n",
      "667/667 [==============================] - 3s 4ms/step - loss: 0.3985 - acc: 0.8218 - val_loss: 0.4955 - val_acc: 0.7582\n",
      "Epoch 6/10\n",
      "667/667 [==============================] - 3s 4ms/step - loss: 0.3775 - acc: 0.8335 - val_loss: 0.4992 - val_acc: 0.7560\n",
      "Epoch 7/10\n",
      "667/667 [==============================] - 3s 4ms/step - loss: 0.3590 - acc: 0.8451 - val_loss: 0.5029 - val_acc: 0.7530\n",
      "Epoch 8/10\n",
      "667/667 [==============================] - 3s 4ms/step - loss: 0.3417 - acc: 0.8540 - val_loss: 0.5106 - val_acc: 0.7534\n",
      "Epoch 9/10\n",
      "667/667 [==============================] - 3s 4ms/step - loss: 0.3249 - acc: 0.8656 - val_loss: 0.5172 - val_acc: 0.7492\n",
      "Epoch 10/10\n",
      "667/667 [==============================] - 3s 4ms/step - loss: 0.3079 - acc: 0.8737 - val_loss: 0.5257 - val_acc: 0.7490\n"
     ]
    }
   ],
   "source": [
    "history = model.fit(x_train, y_train, epochs=10,batch_size=30,validation_split=0.2)"
   ]
  },
  {
   "cell_type": "markdown",
   "metadata": {},
   "source": [
    "We can plot the training history:\n"
   ]
  },
  {
   "cell_type": "code",
   "execution_count": 42,
   "metadata": {
    "tags": []
   },
   "outputs": [
    {
     "data": {
      "image/png": "[encoded data removed]",
      "text/plain": [
       "<Figure size 1200x600 with 2 Axes>"
      ]
     },
     "metadata": {},
     "output_type": "display_data"
    }
   ],
   "source": [
    "display_metrics(history)"
   ]
  },
  {
   "cell_type": "markdown",
   "metadata": {},
   "source": [
    "The output of the model is a probability as it ranges from 0 to 1, so we can use this as a proxy for the Rotten Tomatoes score:\n"
   ]
  },
  {
   "cell_type": "code",
   "execution_count": 43,
   "metadata": {
    "tags": []
   },
   "outputs": [
    {
     "name": "stdout",
     "output_type": "stream",
     "text": [
      "1/1 [==============================] - 0s 63ms/step\n"
     ]
    }
   ],
   "source": [
    "p_yx=model.predict(x_test[0:10])"
   ]
  },
  {
   "cell_type": "markdown",
   "metadata": {},
   "source": [
    "We can obtain the the rating using the helper function ```rotten_tomato_score``` which maps a probability to a prediction:\n"
   ]
  },
  {
   "cell_type": "code",
   "execution_count": 44,
   "metadata": {
    "tags": []
   },
   "outputs": [
    {
     "data": {
      "text/plain": [
       "['rotten',\n",
       " 'fresh',\n",
       " 'rotten',\n",
       " 'fresh',\n",
       " 'fresh',\n",
       " 'rotten',\n",
       " 'fresh',\n",
       " 'rotten',\n",
       " 'rotten',\n",
       " 'fresh']"
      ]
     },
     "execution_count": 44,
     "metadata": {},
     "output_type": "execute_result"
    }
   ],
   "source": [
    "rotten_tomato_score(p_yx)"
   ]
  },
  {
   "cell_type": "markdown",
   "metadata": {},
   "source": [
    "### Visualizing the embedding  weights\n"
   ]
  },
  {
   "cell_type": "markdown",
   "metadata": {},
   "source": [
    "The weights in the embedding layer contain correlations between words. Let's obtain the embedding weights:\n"
   ]
  },
  {
   "cell_type": "code",
   "execution_count": 45,
   "metadata": {
    "tags": []
   },
   "outputs": [],
   "source": [
    "weights=model.layers[0].get_weights()[0]"
   ]
  },
  {
   "cell_type": "markdown",
   "metadata": {},
   "source": [
    "There are 10,000 words so there are 10,000 different parameter vectors, each has 8 dimensions:\n"
   ]
  },
  {
   "cell_type": "code",
   "execution_count": 46,
   "metadata": {
    "tags": []
   },
   "outputs": [
    {
     "data": {
      "text/plain": [
       "(10000, 8)"
      ]
     },
     "execution_count": 46,
     "metadata": {},
     "output_type": "execute_result"
    }
   ],
   "source": [
    "weights.shape"
   ]
  },
  {
   "cell_type": "markdown",
   "metadata": {},
   "source": [
    "We can't visualize the vector as it's 8-dimensional, but we can use **T-distributed Stochastic Neighbor Embedding (TSNE)** to reduce the dimension to two for visualizing the embeddings on a 2D plot:\n"
   ]
  },
  {
   "cell_type": "code",
   "execution_count": 47,
   "metadata": {
    "tags": []
   },
   "outputs": [],
   "source": [
    "from sklearn.manifold import TSNE\n",
    "tsne = TSNE(n_components=2)\n",
    "X_embedded = tsne.fit_transform(weights)"
   ]
  },
  {
   "cell_type": "markdown",
   "metadata": {},
   "source": [
    "Now that the embeddings are transformed let's use the helper function ```plot_embedding``` to visualize them. The starting word index is ```start```, and ```stop``` is the index of the last word; ```sample``` is the number of samples between samples.\n"
   ]
  },
  {
   "cell_type": "code",
   "execution_count": 48,
   "metadata": {
    "tags": []
   },
   "outputs": [
    {
     "data": {
      "image/png": "[encoded data removed]",
      "text/plain": [
       "<Figure size 640x480 with 1 Axes>"
      ]
     },
     "metadata": {},
     "output_type": "display_data"
    }
   ],
   "source": [
    "start=1\n",
    "stop=600\n",
    "sample=10\n",
    "plot_embedding(X_embedded,start,stop,sample)\n"
   ]
  },
  {
   "cell_type": "markdown",
   "metadata": {},
   "source": [
    "We see words like \"war\", \"evil\", and \"killer\" are clustered in the lower-right quadrant.\n"
   ]
  },
  {
   "cell_type": "code",
   "execution_count": 49,
   "metadata": {
    "tags": []
   },
   "outputs": [
    {
     "data": {
      "image/png": "[encoded data removed]",
      "text/plain": [
       "<Figure size 640x480 with 1 Axes>"
      ]
     },
     "metadata": {},
     "output_type": "display_data"
    }
   ],
   "source": [
    "start=1\n",
    "stop=100\n",
    "sample=1\n",
    "plot_embedding(X_embedded,start,stop,sample)"
   ]
  },
  {
   "cell_type": "markdown",
   "metadata": {},
   "source": [
    "### Exercise 1 \n",
    "\n",
    "Recreate the model above but add a dense layer with 500 neurons (using relu activation), a dense layer with 250 neurons (using relu activation), and a final layer for classification, then use the function ```display_metrics``` to plot the results.\n"
   ]
  },
  {
   "cell_type": "code",
   "execution_count": 50,
   "metadata": {
    "tags": []
   },
   "outputs": [
    {
     "name": "stdout",
     "output_type": "stream",
     "text": [
      "Epoch 1/10\n",
      "667/667 [==============================] - 8s 10ms/step - loss: 0.5709 - acc: 0.6841 - val_loss: 0.5295 - val_acc: 0.7316\n",
      "Epoch 2/10\n",
      "667/667 [==============================] - 7s 10ms/step - loss: 0.4425 - acc: 0.7914 - val_loss: 0.4947 - val_acc: 0.7480\n",
      "Epoch 3/10\n",
      "667/667 [==============================] - 6s 10ms/step - loss: 0.3844 - acc: 0.8303 - val_loss: 0.5092 - val_acc: 0.7478\n",
      "Epoch 4/10\n",
      "667/667 [==============================] - 7s 10ms/step - loss: 0.3234 - acc: 0.8644 - val_loss: 0.5591 - val_acc: 0.7406\n",
      "Epoch 5/10\n",
      "667/667 [==============================] - 7s 10ms/step - loss: 0.2592 - acc: 0.8953 - val_loss: 0.6147 - val_acc: 0.7240\n",
      "Epoch 6/10\n",
      "667/667 [==============================] - 9s 14ms/step - loss: 0.2010 - acc: 0.9226 - val_loss: 0.6972 - val_acc: 0.7190\n",
      "Epoch 7/10\n",
      "667/667 [==============================] - 7s 10ms/step - loss: 0.1494 - acc: 0.9459 - val_loss: 0.8436 - val_acc: 0.7100\n",
      "Epoch 8/10\n",
      "667/667 [==============================] - 7s 10ms/step - loss: 0.1056 - acc: 0.9640 - val_loss: 0.9542 - val_acc: 0.7064\n",
      "Epoch 9/10\n",
      "667/667 [==============================] - 7s 10ms/step - loss: 0.0662 - acc: 0.9782 - val_loss: 1.1644 - val_acc: 0.7000\n",
      "Epoch 10/10\n",
      "667/667 [==============================] - 7s 10ms/step - loss: 0.0361 - acc: 0.9897 - val_loss: 1.4890 - val_acc: 0.7066\n"
     ]
    },
    {
     "data": {
      "image/png": "[encoded data removed]",
      "text/plain": [
       "<Figure size 1200x600 with 2 Axes>"
      ]
     },
     "metadata": {},
     "output_type": "display_data"
    }
   ],
   "source": [
    "model = Sequential()\n",
    "model.add(Embedding(10000, 8, input_length=20))\n",
    "model.add(Flatten())\n",
    "\n",
    "model.add(Dense(500, activation='relu'))\n",
    "model.add(Dense(250, activation='relu'))\n",
    "model.add(Dense(1, activation='sigmoid'))\n",
    "model.compile(optimizer='rmsprop', loss='binary_crossentropy', metrics=['acc'])\n",
    "history = model.fit(x_train, y_train, epochs=10,batch_size=30,validation_split=0.2)\n",
    "\n",
    "display_metrics(history)"
   ]
  },
  {
   "cell_type": "markdown",
   "metadata": {},
   "source": [
    "<details>\n",
    "    <summary>Click here for Solution</summary>\n",
    "\n",
    "```python\n",
    "model = Sequential()\n",
    "model.add(Embedding(10000, 8, input_length=20))\n",
    "model.add(Flatten())\n",
    "\n",
    "model.add(Dense(500, activation='relu'))\n",
    "model.add(Dense(250, activation='relu'))\n",
    "model.add(Dense(1, activation='sigmoid'))\n",
    "model.compile(optimizer='rmsprop', loss='binary_crossentropy', metrics=['acc'])\n",
    "history = model.fit(x_train, y_train, epochs=10,batch_size=30,validation_split=0.2)\n",
    "\n",
    "display_metrics(history)\n",
    "```\n",
    "</details>\n"
   ]
  },
  {
   "cell_type": "markdown",
   "metadata": {},
   "source": [
    "### Exercise 2 - Question: Does this model perform better then the last model? Why or why not?\n"
   ]
  },
  {
   "cell_type": "markdown",
   "metadata": {},
   "source": [
    "No, it suffers from overfitting"
   ]
  },
  {
   "cell_type": "markdown",
   "metadata": {},
   "source": [
    "<details>\n",
    "    <summary>Click here for Solution</summary>\n",
    "\n",
    "\n",
    "The second model suffers from over Overfitting\n",
    "\n",
    "</details>\n"
   ]
  },
  {
   "cell_type": "markdown",
   "metadata": {},
   "source": [
    "### Exercise 3 - Introduce L2 and dropout regulation to your model (there are many solutions, one is given here)\n"
   ]
  },
  {
   "cell_type": "code",
   "execution_count": null,
   "metadata": {
    "tags": []
   },
   "outputs": [
    {
     "name": "stdout",
     "output_type": "stream",
     "text": [
      "Model: \"sequential_4\"\n",
      "_________________________________________________________________\n",
      " Layer (type)                Output Shape              Param #   \n",
      "=================================================================\n",
      " embedding_4 (Embedding)     (None, 20, 8)             80000     \n",
      "                                                                 \n",
      " flatten_2 (Flatten)         (None, 160)               0         \n",
      "                                                                 \n",
      " dense_4 (Dense)             (None, 500)               80500     \n",
      "                                                                 \n",
      " dropout (Dropout)           (None, 500)               0         \n",
      "                                                                 \n",
      " dense_5 (Dense)             (None, 250)               125250    \n",
      "                                                                 \n",
      " dropout_1 (Dropout)         (None, 250)               0         \n",
      "                                                                 \n",
      " dense_6 (Dense)             (None, 1)                 251       \n",
      "                                                                 \n",
      "=================================================================\n",
      "Total params: 286,001\n",
      "Trainable params: 286,001\n",
      "Non-trainable params: 0\n",
      "_________________________________________________________________\n",
      "Epoch 1/10\n",
      "313/313 [==============================] - 5s 15ms/step - loss: 0.9368 - acc: 0.4981 - val_loss: 0.6933 - val_acc: 0.4938\n",
      "Epoch 2/10\n",
      "313/313 [==============================] - 5s 15ms/step - loss: 0.6933 - acc: 0.4965 - val_loss: 0.6932 - val_acc: 0.4938\n",
      "Epoch 3/10\n",
      "313/313 [==============================] - 5s 15ms/step - loss: 0.6932 - acc: 0.5014 - val_loss: 0.6931 - val_acc: 0.5062\n",
      "Epoch 4/10\n",
      " 39/313 [==>...........................] - ETA: 3s - loss: 0.6931 - acc: 0.5048"
     ]
    }
   ],
   "source": [
    "# Enter your solution here\n",
    "\n",
    "model = Sequential()\n",
    "model.add(Embedding(max_features, 8, input_length=maxlen))\n",
    "model.add(Flatten())\n",
    "model.add(Dense(500, kernel_initializer='normal', activation='relu',kernel_regularizer=regularizers.L2(l2=5e-3)))\n",
    "model.add(Dropout(.4))\n",
    "\n",
    "model.add(Dense(250, kernel_initializer='normal', activation='relu',kernel_regularizer=regularizers.L2(l2=5e-3)))\n",
    "model.add(Dropout(.3))\n",
    "model.add(Dense(1, activation='sigmoid'))\n",
    "model.compile(optimizer='rmsprop', loss='binary_crossentropy', metrics=['acc']) \n",
    "model.summary()\n",
    "\n",
    "history = model.fit(x_train, y_train, epochs=10,batch_size=64, validation_split=0.2)\n",
    "display_metrics(history)"
   ]
  },
  {
   "cell_type": "markdown",
   "metadata": {},
   "source": [
    "<details>\n",
    "    <summary>Click here for Solution</summary>\n",
    "\n",
    "```python\n",
    "model = Sequential()\n",
    "model.add(Embedding(max_features, 8, input_length=maxlen))\n",
    "model.add(Flatten())\n",
    "model.add(Dense(500, kernel_initializer='normal', activation='relu',kernel_regularizer=regularizers.L2(l2=5e-3)))\n",
    "model.add(Dropout(.4))\n",
    "\n",
    "model.add(Dense(250, kernel_initializer='normal', activation='relu',kernel_regularizer=regularizers.L2(l2=5e-3)))\n",
    "model.add(Dropout(.3))\n",
    "model.add(Dense(1, activation='sigmoid'))\n",
    "model.compile(optimizer='rmsprop', loss='binary_crossentropy', metrics=['acc']) \n",
    "model.summary()\n",
    "\n",
    "history = model.fit(x_train, y_train, epochs=10,batch_size=64, validation_split=0.2)\n",
    "display_metrics(history)\n",
    "```\n",
    "</details>\n"
   ]
  },
  {
   "cell_type": "markdown",
   "metadata": {},
   "source": [
    "## Congratulations! You have completed this lab!\n"
   ]
  },
  {
   "cell_type": "markdown",
   "metadata": {},
   "source": [
    "## Author\n",
    "\n",
    "\n",
    "[Joseph Santarcangelo](https://www.linkedin.com/in/david-pasternak-6b84a2208/?utm_medium=Exinfluencer&utm_source=Exinfluencer&utm_content=000026UJ&utm_term=10006555&utm_id=NA-SkillsNetwork-Channel-SkillsNetworkCoursesIBMDeveloperSkillsNetworkML311Coursera747-2022-01-01)\n"
   ]
  },
  {
   "cell_type": "markdown",
   "metadata": {},
   "source": [
    "## Change Log\n",
    "\n",
    "| Date (YYYY-MM-DD) | Version | Changed By | Change Description                 |\n",
    "| ----------------- | ------- | ---------- | ---------------------------------- |\n",
    "| 2022-03-28        | 0.1     | David Pasternak      | Created Lab    |\n",
    "| 2022-05-10        | 0.2     | Sam Prokopchuk      | Complete Draft of Lab    |\n",
    "| 2022-08-10        | 0.2     | Roxanne Li      | Review and edit Lab    |\n",
    "| 2022-09-08        | 0.2     | Steve Hord      | QA pass and edits      |\n"
   ]
  },
  {
   "cell_type": "markdown",
   "metadata": {},
   "source": [
    "## <h3 align=\"center\"> © IBM Corporation 2022. All rights reserved. <h3/>\n"
   ]
  }
 ],
 "metadata": {
  "kernelspec": {
   "display_name": "Python",
   "language": "python",
   "name": "conda-env-python-py"
  },
  "language_info": {
   "codemirror_mode": {
    "name": "ipython",
    "version": 3
   },
   "file_extension": ".py",
   "mimetype": "text/x-python",
   "name": "python",
   "nbconvert_exporter": "python",
   "pygments_lexer": "ipython3",
   "version": "3.7.12"
  }
 },
 "nbformat": 4,
 "nbformat_minor": 4
}
