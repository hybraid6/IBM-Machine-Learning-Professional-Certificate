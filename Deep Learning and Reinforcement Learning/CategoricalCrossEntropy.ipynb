{
 "cells": [
  {
   "cell_type": "markdown",
   "metadata": {},
   "source": [
    "<center>\n",
    "    <img src=\"https://cf-courses-data.s3.us.cloud-object-storage.appdomain.cloud/assets/logos/SN_web_lightmode.png\" width=\"300\" alt=\"cognitiveclass.ai logo\">\n",
    "</center>\n"
   ]
  },
  {
   "cell_type": "markdown",
   "metadata": {},
   "source": [
    "# **Categorical Cross-Entropy Loss**\n"
   ]
  },
  {
   "cell_type": "markdown",
   "metadata": {},
   "source": [
    "Estimated time needed: **45** minutes\n"
   ]
  },
  {
   "cell_type": "markdown",
   "metadata": {},
   "source": [
    "In this lab, we are going to use the MNIST hand-written digits dataset as a motivating example to understand categorical cross-entropy loss.\n"
   ]
  },
  {
   "cell_type": "markdown",
   "metadata": {},
   "source": [
    "<h1> House Number Detection </h1></s>\n",
    "\n",
    "You have been tasked with building a model that can recognize house numbers from arbitrary street-view images. You are given a set of images of single-digit house numbers engraved into slates or wall surfaces. The images vary in size and color. In this lab, we are going to use the MNIST hand-written digits dataset as a motivating example to understand the __softmax function__, __one-hot encoding__, and __categorical cross-entropy loss__. The MNIST hand-written dataset has 10 classes, each representing a digit from 0-9. We will attempt to build a multi-class classification model that will identify which digit is present in the image. \n"
   ]
  },
  {
   "cell_type": "markdown",
   "metadata": {},
   "source": [
    "<img src=\"https://cf-courses-data.s3.us.cloud-object-storage.appdomain.cloud/IBMDeveloperSkillsNetwork-ML311-Coursera/labs/Module3/L1/house_number.jpg\" style=\"width: 30%\">\n",
    "\n",
    "<!-- Original Source: https://slate.com/human-interest/2020/06/a-quest-to-catalogue-every-single-house-number-in-one-suburban-zip-code.html --> \n"
   ]
  },
  {
   "cell_type": "markdown",
   "metadata": {},
   "source": [
    "## **Table of Contents**\n",
    "\n",
    "<ol>\n",
    "    <li><a href=\"https://#Objectives\">Objectives</a></li>\n",
    "    <li><a href=\"https://#Datasets\">Datasets</a></li>\n",
    "    <li>\n",
    "        <a href=\"https://#Setup\">Setup</a>\n",
    "        <ol>\n",
    "            <li><a href=\"https://#Installing-Required-Libraries\">Installing Required Libraries</a></li>\n",
    "            <li><a href=\"https://#Importing-Required-Libraries\">Importing Required Libraries</a></li>\n",
    "            <li><a href=\"https://#Defining-Helper-Functions\">Defining Helper Functions</a></li>\n",
    "        </ol>\n",
    "    </li>\n",
    "    <li><a href=\"https://https://#Categorical Cross-Entropy\">Categorical Cross-Entropy</a>\n",
    "        <ol>\n",
    "            <li><a href=\"https://#Softmax Activation Function\">Softmax Activation Function</a></li>\n",
    "            <li><a href=\"https://#One-Hot Encoding\">One-Hot Encoding</a></li>\n",
    "            <li><a href=\"#Categorical Cross-Entropy\">Categorical Cross-Entropy</a></li>\n",
    "        </ol>\n",
    "    </li>\n",
    "    <li><a href=\"https://#Binary vs. Multi-Class Classification\">Binary vs. Multi-Class Classification</a>\n",
    "        <ol>\n",
    "            <li><a href=\"https://#Binary Classification\">Binary Classification</a></li>\n",
    "            <li><a href=\"https://#Multi-Class Classification\">Multi-Class Classification</a></li>\n",
    "        </ol>\n",
    "    </li>\n",
    "    <li>\n",
    "        <a href=\"https://#Example: MNIST Hand-Written Digits\">Example: MNIST Hand-Written Digits</a> </li>\n",
    "    <li>\n",
    "        <a href=\"https://#Example: Single-Digit House Number Recognition\"> Example: Single-Digit House Number Recognition</a> </li>\n",
    "    <li><a href=\"https://#Exercises\">Exercises</a>\n",
    "        <ol>\n",
    "            <li><a href=\"https://#Exercise 1 - Loading and plotting the images\">Exercise 1 - Loading and plotting the images</a></li>\n",
    "            <li><a href=\"https://#Exercise 2 - Preparing the data\">Exercise 2 - Preparing the data</a></li>\n",
    "            <li><a href=\"https://#Exercise 3 - One-hot encoding\">Exercise 3 - One-hot encoding</a></li>\n",
    "            <li><a href=\"https://#Exercise 4 - Build model architecture\">Exercise 4 - Build model architecture</a></li>\n",
    "            <li><a href=\"https://#(Optional) Exercise 5 - Sparse Categorical Cross-Entropy\">Sparse Categorical Cross-Entropy</a></li>\n",
    "        </ol>\n",
    "    </li>\n",
    "</ol>\n"
   ]
  },
  {
   "cell_type": "markdown",
   "metadata": {},
   "source": [
    "## Objectives\n",
    "\n",
    "After completing this lab you will be able to:\n",
    "\n",
    "*   **Understand** what categorical cross-entropy is, and how it works with the Softmax activation function.\n",
    "*   **Build** simple CNN models for binary and multi-class classification.\n"
   ]
  },
  {
   "cell_type": "markdown",
   "metadata": {},
   "source": [
    "## Setup\n"
   ]
  },
  {
   "cell_type": "markdown",
   "metadata": {},
   "source": [
    "For this lab, we will be using the following libraries:\n",
    "\n",
    "*   [`pandas`](https://pandas.pydata.org/?utm_medium=Exinfluencer&utm_source=Exinfluencer&utm_content=000026UJ&utm_term=10006555&utm_id=NA-SkillsNetwork-Channel-SkillsNetworkCoursesIBMML0187ENSkillsNetwork31430127-2021-01-01) for managing the data.\n",
    "*   [`numpy`](https://numpy.org/?utm_medium=Exinfluencer&utm_source=Exinfluencer&utm_content=000026UJ&utm_term=10006555&utm_id=NA-SkillsNetwork-Channel-SkillsNetworkCoursesIBMML0187ENSkillsNetwork31430127-2021-01-01) for mathematical operations.\n",
    "*   [`sklearn`](https://scikit-learn.org/stable/?utm_medium=Exinfluencer&utm_source=Exinfluencer&utm_content=000026UJ&utm_term=10006555&utm_id=NA-SkillsNetwork-Channel-SkillsNetworkCoursesIBMML0187ENSkillsNetwork31430127-2021-01-01) for machine learning and machine-learning-pipeline related functions.\n",
    "*   [`seaborn`](https://seaborn.pydata.org/?utm_medium=Exinfluencer&utm_source=Exinfluencer&utm_content=000026UJ&utm_term=10006555&utm_id=NA-SkillsNetwork-Channel-SkillsNetworkCoursesIBMML0187ENSkillsNetwork31430127-2021-01-01) for visualizing the data.\n",
    "*   [`matplotlib`](https://matplotlib.org/?utm_medium=Exinfluencer&utm_source=Exinfluencer&utm_content=000026UJ&utm_term=10006555&utm_id=NA-SkillsNetwork-Channel-SkillsNetworkCoursesIBMML0187ENSkillsNetwork31430127-2021-01-01) for additional plotting tools.\n",
    "*   [`keras`](https://keras.io/?utm_medium=Exinfluencer&utm_source=Exinfluencer&utm_content=000026UJ&utm_term=10006555&utm_id=NA-SkillsNetwork-Channel-SkillsNetworkCoursesIBMML0187ENSkillsNetwork31430127-2021-01-01) for loading datasets.\n"
   ]
  },
  {
   "cell_type": "markdown",
   "metadata": {},
   "source": [
    "### Installing Required Libraries\n",
    "\n",
    "The following required libraries are pre-installed in the Skills Network Labs environment. However, if you run these notebook commands in a different Jupyter environment (like Watson Studio or Ananconda), you will need to install these libraries by removing the `#` sign before `!pip install mlxtend` in the following code cell.\n"
   ]
  },
  {
   "cell_type": "markdown",
   "metadata": {},
   "source": [
    "The following required libraries are **not** pre-installed in the Skills Network Labs environment. **You will need to run the following cell** to install them. **Please RESTART KERNEL after installation,**.\n"
   ]
  },
  {
   "cell_type": "code",
   "execution_count": 1,
   "metadata": {
    "tags": []
   },
   "outputs": [],
   "source": [
    "%%capture\n",
    "\n",
    "!pip install mlxtend\n",
    "!pip install --upgrade tensorflow"
   ]
  },
  {
   "cell_type": "markdown",
   "metadata": {},
   "source": [
    "### Importing Required Libraries\n"
   ]
  },
  {
   "cell_type": "code",
   "execution_count": 2,
   "metadata": {
    "tags": []
   },
   "outputs": [
    {
     "name": "stderr",
     "output_type": "stream",
     "text": [
      "2025-05-20 14:25:28.904478: I tensorflow/core/platform/cpu_feature_guard.cc:193] This TensorFlow binary is optimized with oneAPI Deep Neural Network Library (oneDNN) to use the following CPU instructions in performance-critical operations:  AVX2 AVX512F AVX512_VNNI FMA\n",
      "To enable them in other operations, rebuild TensorFlow with the appropriate compiler flags.\n",
      "2025-05-20 14:25:29.139492: I tensorflow/core/util/port.cc:104] oneDNN custom operations are on. You may see slightly different numerical results due to floating-point round-off errors from different computation orders. To turn them off, set the environment variable `TF_ENABLE_ONEDNN_OPTS=0`.\n",
      "2025-05-20 14:25:29.145109: W tensorflow/compiler/xla/stream_executor/platform/default/dso_loader.cc:64] Could not load dynamic library 'libcudart.so.11.0'; dlerror: libcudart.so.11.0: cannot open shared object file: No such file or directory\n",
      "2025-05-20 14:25:29.145146: I tensorflow/compiler/xla/stream_executor/cuda/cudart_stub.cc:29] Ignore above cudart dlerror if you do not have a GPU set up on your machine.\n",
      "2025-05-20 14:25:30.201787: W tensorflow/compiler/xla/stream_executor/platform/default/dso_loader.cc:64] Could not load dynamic library 'libnvinfer.so.7'; dlerror: libnvinfer.so.7: cannot open shared object file: No such file or directory\n",
      "2025-05-20 14:25:30.201980: W tensorflow/compiler/xla/stream_executor/platform/default/dso_loader.cc:64] Could not load dynamic library 'libnvinfer_plugin.so.7'; dlerror: libnvinfer_plugin.so.7: cannot open shared object file: No such file or directory\n",
      "2025-05-20 14:25:30.201996: W tensorflow/compiler/tf2tensorrt/utils/py_utils.cc:38] TF-TRT Warning: Cannot dlopen some TensorRT libraries. If you would like to use Nvidia GPU with TensorRT, please make sure the missing libraries mentioned above are installed properly.\n"
     ]
    },
    {
     "name": "stdout",
     "output_type": "stream",
     "text": [
      "2.11.0\n"
     ]
    }
   ],
   "source": [
    "import cv2\n",
    "from urllib.request import urlopen\n",
    "from PIL import Image\n",
    "import IPython\n",
    "import numpy as np\n",
    "from matplotlib import pyplot as plt\n",
    "import pandas as pd, numpy as np\n",
    "from keras.datasets import mnist, fashion_mnist\n",
    "import random\n",
    "from sklearn.preprocessing import OneHotEncoder\n",
    "from tensorflow.keras.losses import CategoricalCrossentropy,SparseCategoricalCrossentropy,BinaryCrossentropy\n",
    "from sklearn.datasets import make_blobs\n",
    "from mlxtend.plotting import plot_decision_regions\n",
    "import tensorflow as tf\n",
    "print(tf.__version__)\n",
    "from sklearn import preprocessing\n",
    "from tensorflow.keras.utils import to_categorical\n",
    "from tensorflow.keras.models import Sequential\n",
    "from tensorflow.keras.layers import Dense"
   ]
  },
  {
   "cell_type": "markdown",
   "metadata": {},
   "source": [
    "### Defining Helper Functions\n",
    "\n",
    "*Use this section to define any helper functions to help the notebook's code readability:*\n"
   ]
  },
  {
   "cell_type": "code",
   "execution_count": 3,
   "metadata": {
    "tags": []
   },
   "outputs": [],
   "source": [
    "def generate_multiclass_blobs(num_samples_total, training_split, cluster_centers, num_classes, loss_function_used):\n",
    "    X, targets = make_blobs(n_samples = num_samples_total, centers = cluster_centers, n_features = num_classes, center_box=(0, 1), cluster_std = 1.5)\n",
    "    categorical_targets = to_categorical(targets)\n",
    "    X_training = X[training_split:, :]\n",
    "    X_testing = X[:training_split, :]\n",
    "    Targets_training = categorical_targets[training_split:]\n",
    "    Targets_testing = categorical_targets[:training_split].astype(np.int32)\n",
    "    return X_training, Targets_training, X_testing, Targets_testing\n",
    "\n",
    "\n",
    "def generate_binary_blobs(num_samples_total, training_split, loss_function_used):\n",
    "    X, targets = make_blobs(n_samples = num_samples_total, centers = [(0,0), (15,15)], n_features = 2, center_box=(0, 1), cluster_std = 2.5)\n",
    "    targets[np.where(targets == 0)] = -1\n",
    "    X_training = X[training_split:, :]\n",
    "    X_testing = X[:training_split, :]\n",
    "    Targets_training = targets[training_split:]\n",
    "    Targets_testing = targets[:training_split]\n",
    "    return X_training, Targets_training, X_testing, Targets_testing"
   ]
  },
  {
   "cell_type": "markdown",
   "metadata": {},
   "source": [
    "## Categorical Cross-Entropy\n"
   ]
  },
  {
   "cell_type": "markdown",
   "metadata": {},
   "source": [
    "When working on a machine learning problem, we use loss functions to optimize our models during training where a common objective is to minimize the loss function.\n",
    "\n",
    "Cross-entropy is a widely used loss or cost function, that is used to optimize classification models. Before delving into cross-entropy, let us first cover the prerequisites by learning about a common activation function called Softmax.\n"
   ]
  },
  {
   "cell_type": "markdown",
   "metadata": {},
   "source": [
    "### Softmax Activation Function\n"
   ]
  },
  {
   "cell_type": "markdown",
   "metadata": {},
   "source": [
    "Activation functions are transformations applied to the output from CNNs before loss computations.\n"
   ]
  },
  {
   "cell_type": "markdown",
   "metadata": {},
   "source": [
    "The Softmax activation function is typically placed as the last layer in a neural network and used to normalize the output of a network to a probability distribution over predicted output classes.\n",
    "\n",
    "It does so by scaling numbers/logits into probabilities for each possible outcome or class present in our dataset. The resulting probabilities in the vector sum up to one.\n",
    "\n",
    "Mathematically, Softmax is defined as follows:\n",
    "\n",
    "<img src=\"https://cf-courses-data.s3.us.cloud-object-storage.appdomain.cloud/IBMDeveloperSkillsNetwork-ML311-Coursera/labs/Module3/L1/softmax.png\" style=\"width: 30%\">\n"
   ]
  },
  {
   "cell_type": "markdown",
   "metadata": {},
   "source": [
    "Here, $\\overrightarrow{{z}}$ is an input vector to the Softmax function $\\sigma$.\n",
    "\n",
    "$\\overrightarrow{{z}}\\_i$ represents the $i$th element of the input vector, and can take on values from -inf to inf.\n",
    "\n",
    "$\\overrightarrow{{z}}_i$ represents the $i$th element of the input vector, and can take on values from -inf to inf. \n",
    "\n",
    "$e^{z_i}$ is a standard exponential function applied on the $i$th element of $z$, and the denominator is a normalizing term (L1-norm) to ensure the result is a valid probability distribution, that is, sums up to 1, and values are within the 0 - 1 range.\n"
   ]
  },
  {
   "cell_type": "markdown",
   "metadata": {},
   "source": [
    "Exponential is a steeply increasing function; that is, it increases the difference between outputs. In the final output, the largest element (which dominates the norm) is normalized to a value close to 1, while all the other elements end up being close to 0. Not only does the resulting vector show the winning class, but it also retains the original order of values.\n",
    "\n",
    "\n",
    "Another important point to note is that Softmax is not affected by negative values, as the exponent of any value is always a positive value.\n"
   ]
  },
  {
   "cell_type": "markdown",
   "metadata": {},
   "source": [
    "Let us walk through an example to understand Softmax.\n"
   ]
  },
  {
   "cell_type": "markdown",
   "metadata": {},
   "source": [
    "Imagine you are building a CNN model to classify an image as a dog, cat, fish, or horse. The fully-connected layer of your CNN gives a vector of logits. You pass the vector through the Softmax function above to obtain probabilities.\n"
   ]
  },
  {
   "cell_type": "markdown",
   "metadata": {},
   "source": [
    "![](https://cf-courses-data.s3.us.cloud-object-storage.appdomain.cloud/IBMDeveloperSkillsNetwork-ML311-Coursera/labs/Module3/L1/cce_diag.png)\n"
   ]
  },
  {
   "cell_type": "markdown",
   "metadata": {},
   "source": [
    "### One-Hot Encoding\n"
   ]
  },
  {
   "cell_type": "markdown",
   "metadata": {},
   "source": [
    "The ground truth is typically presented in form of categorical data; that is, a given image is categorized into one of these classes: dog, cat, fish, or horse.\n"
   ]
  },
  {
   "cell_type": "markdown",
   "metadata": {},
   "source": [
    "For categorical variables where no ordinal relationships exist, we can perform one-hot encoding to represent each class. This is best explained through an example.\n",
    "\n",
    "In our case, we will have four classes, and these are the corresponding one-hot encoded labels:\n"
   ]
  },
  {
   "cell_type": "markdown",
   "metadata": {},
   "source": [
    "<img src=\"https://cf-courses-data.s3.us.cloud-object-storage.appdomain.cloud/IBMDeveloperSkillsNetwork-ML311-Coursera/labs/Module3/L1/ohe_labels.png\" style=\"width: 50%\">\n"
   ]
  },
  {
   "cell_type": "markdown",
   "metadata": {},
   "source": [
    "So in one-hot encoding, we represent labels with a binary variable where for every given class, we have the value 1 for the position corresponding to that particular class and 0 elsewhere (that is, 100% probability of belonging to that class).\n"
   ]
  },
  {
   "cell_type": "markdown",
   "metadata": {},
   "source": [
    "### Back to Categorical Cross-Entropy\n"
   ]
  },
  {
   "cell_type": "markdown",
   "metadata": {},
   "source": [
    "Now that we have converted the logits to output probabilities, we need to measure how good they are; that is, measure the distance from the truth values.\n"
   ]
  },
  {
   "cell_type": "markdown",
   "metadata": {},
   "source": [
    "For instance, in the example above, the desired output is [1,0,0,0], but the model outputs [0.775,0.116,0.039,0.070].\n"
   ]
  },
  {
   "cell_type": "markdown",
   "metadata": {},
   "source": [
    "The categorical cross-entropy is mathematically defined as follows:\n"
   ]
  },
  {
   "cell_type": "markdown",
   "metadata": {},
   "source": [
    "<img src=\"https://cf-courses-data.s3.us.cloud-object-storage.appdomain.cloud/IBMDeveloperSkillsNetwork-ML311-Coursera/labs/Module3/L1/cce.png\" style=\"width: 30%\">\n"
   ]
  },
  {
   "cell_type": "markdown",
   "metadata": {},
   "source": [
    "We can use the formula above to compute the cross-entropy loss. When training our model, we iteratively update the weights to minimize the cross-entropy loss. \n",
    "\n",
    "The Softmax is continuously differentiable, and this property makes it easy to compute the derivative of the loss function and, accordingly, adjust the model weights in each iteration to minimize the loss function.\n",
    "\n",
    "In the next iteration, if our $$L\\_{CE}$$ is lower than the current one, we say that the model is *learning*.\n"
   ]
  },
  {
   "cell_type": "markdown",
   "metadata": {},
   "source": [
    "## Binary vs. Multi-Class Classification\n"
   ]
  },
  {
   "cell_type": "markdown",
   "metadata": {},
   "source": [
    "Now, let us do a quick review of binary and multi-class classification. Binary classification tasks require that all examples be assigned to one of two classes, whereas in multi-class classification, examples can belong to more than two classes.\n",
    "\n",
    "For binary classification problems, we have a final layer with a single node and a sigmoid activation function. It can map the output vector from a CNN to values between 0 and 1 before loss computations. The sigmoid function is denoted using the following formula:\n",
    "\n",
    "$$\\sigma(x) = 1/(1+e^{-x})$$\n"
   ]
  },
  {
   "cell_type": "markdown",
   "metadata": {},
   "source": [
    "Let's see binary classification and multi-class classification in action.\n"
   ]
  },
  {
   "cell_type": "markdown",
   "metadata": {},
   "source": [
    "### Binary Classification\n"
   ]
  },
  {
   "cell_type": "markdown",
   "metadata": {},
   "source": [
    "Using a helper function defined at the beginning of the notebook, we will use the `make_blobs()` function from `sklearn` to generate isotropic Gaussian blobs for classification.\n",
    "\n",
    "We will create a data set with 1000 samples, and use 750 of those samples for training a simple CNN model.\n"
   ]
  },
  {
   "cell_type": "markdown",
   "metadata": {},
   "source": [
    "Let us define a few more configuration options.\n"
   ]
  },
  {
   "cell_type": "markdown",
   "metadata": {},
   "source": [
    "*   **num_samples**: refers to the total number of samples in our dataset\n",
    "*   **test_split**: refers to the number of samples to be used for testing\n",
    "*   **cluster_centers**: we define 2 centers for our isotropic Gaussian blobs\n",
    "*   **num_classes**: we have 2 classes\n",
    "*   **loss_function_used**: since this is a binary classification problem, we use binary cross-entropy loss\n"
   ]
  },
  {
   "cell_type": "code",
   "execution_count": 4,
   "metadata": {
    "tags": []
   },
   "outputs": [],
   "source": [
    "num_samples = 1000\n",
    "test_split = 250\n",
    "cluster_centers = [(15,0), (30,15)]\n",
    "num_classes = len(cluster_centers)\n",
    "loss_function_used = BinaryCrossentropy(from_logits=True)"
   ]
  },
  {
   "cell_type": "code",
   "execution_count": 5,
   "metadata": {
    "tags": []
   },
   "outputs": [],
   "source": [
    "X_training, Targets_training, X_testing, Targets_testing=generate_binary_blobs(num_samples, test_split, loss_function_used)\n"
   ]
  },
  {
   "cell_type": "markdown",
   "metadata": {},
   "source": [
    "We can take look at one of the samples.\n"
   ]
  },
  {
   "cell_type": "code",
   "execution_count": 6,
   "metadata": {
    "tags": []
   },
   "outputs": [
    {
     "data": {
      "image/png": "[encoded data removed]",
      "text/plain": [
       "<Figure size 400x400 with 1 Axes>"
      ]
     },
     "metadata": {},
     "output_type": "display_data"
    }
   ],
   "source": [
    "plt.figure(figsize=(4, 4))\n",
    "plt.scatter(X_training[:,0], X_training[:,1])\n",
    "plt.title('Linearly separable data')\n",
    "plt.xlabel('X1')\n",
    "plt.ylabel('X2')\n",
    "plt.show()"
   ]
  },
  {
   "cell_type": "markdown",
   "metadata": {},
   "source": [
    "We will build a simple CNN model with two hidden layers, that uses sigmoid as the activation function, and binary cross-entropy as the loss function. Let's define the architecture of our model:\n"
   ]
  },
  {
   "cell_type": "code",
   "execution_count": 7,
   "metadata": {
    "tags": []
   },
   "outputs": [
    {
     "name": "stderr",
     "output_type": "stream",
     "text": [
      "2025-05-20 14:41:42.099480: W tensorflow/compiler/xla/stream_executor/platform/default/dso_loader.cc:64] Could not load dynamic library 'libcuda.so.1'; dlerror: libcuda.so.1: cannot open shared object file: No such file or directory\n",
      "2025-05-20 14:41:42.099538: W tensorflow/compiler/xla/stream_executor/cuda/cuda_driver.cc:265] failed call to cuInit: UNKNOWN ERROR (303)\n",
      "2025-05-20 14:41:42.099577: I tensorflow/compiler/xla/stream_executor/cuda/cuda_diagnostics.cc:156] kernel driver does not appear to be running on this host (jupyterlab-hybraid6): /proc/driver/nvidia/version does not exist\n",
      "2025-05-20 14:41:42.099985: I tensorflow/core/platform/cpu_feature_guard.cc:193] This TensorFlow binary is optimized with oneAPI Deep Neural Network Library (oneDNN) to use the following CPU instructions in performance-critical operations:  AVX2 AVX512F AVX512_VNNI FMA\n",
      "To enable them in other operations, rebuild TensorFlow with the appropriate compiler flags.\n"
     ]
    }
   ],
   "source": [
    "feature_vector_shape = X_training.shape[1]\n",
    "input_shape = (feature_vector_shape,)\n",
    "\n",
    "model = Sequential()\n",
    "model.add(Dense(12, input_shape=input_shape, activation='relu', kernel_initializer='he_uniform'))\n",
    "model.add(Dense(8, activation='relu', kernel_initializer='he_uniform'))\n",
    "model.add(Dense(1, activation = 'sigmoid'))"
   ]
  },
  {
   "cell_type": "code",
   "execution_count": 8,
   "metadata": {
    "tags": []
   },
   "outputs": [
    {
     "name": "stderr",
     "output_type": "stream",
     "text": [
      "WARNING:absl:`lr` is deprecated, please use `learning_rate` instead, or use the legacy optimizer, e.g.,tf.keras.optimizers.legacy.Adam.\n"
     ]
    },
    {
     "name": "stdout",
     "output_type": "stream",
     "text": [
      "Epoch 1/30\n"
     ]
    },
    {
     "name": "stderr",
     "output_type": "stream",
     "text": [
      "/home/jupyterlab/conda/envs/python/lib/python3.7/site-packages/keras/backend.py:5677: UserWarning: \"`binary_crossentropy` received `from_logits=True`, but the `output` argument was produced by a Sigmoid activation and thus does not represent logits. Was this intended?\n",
      "  output, from_logits, \"Sigmoid\", \"binary_crossentropy\"\n"
     ]
    },
    {
     "name": "stdout",
     "output_type": "stream",
     "text": [
      "120/120 [==============================] - 1s 6ms/step - loss: 1.7739 - accuracy: 0.5083 - val_loss: 0.9225 - val_accuracy: 0.4867\n",
      "Epoch 2/30\n",
      "120/120 [==============================] - 0s 3ms/step - loss: 0.4020 - accuracy: 0.5083 - val_loss: -0.3451 - val_accuracy: 0.4867\n",
      "Epoch 3/30\n",
      "120/120 [==============================] - 0s 3ms/step - loss: -0.7896 - accuracy: 0.4983 - val_loss: -1.6349 - val_accuracy: 0.4733\n",
      "Epoch 4/30\n",
      "120/120 [==============================] - 0s 4ms/step - loss: -2.0803 - accuracy: 0.4900 - val_loss: -3.2908 - val_accuracy: 0.4667\n",
      "Epoch 5/30\n",
      "120/120 [==============================] - 0s 3ms/step - loss: -4.0868 - accuracy: 0.4767 - val_loss: -6.1743 - val_accuracy: 0.4667\n",
      "Epoch 6/30\n",
      "120/120 [==============================] - 0s 3ms/step - loss: -7.2881 - accuracy: 0.4767 - val_loss: -10.7804 - val_accuracy: 0.4600\n",
      "Epoch 7/30\n",
      "120/120 [==============================] - 0s 3ms/step - loss: -12.0408 - accuracy: 0.4767 - val_loss: -17.0383 - val_accuracy: 0.4667\n",
      "Epoch 8/30\n",
      "120/120 [==============================] - 0s 3ms/step - loss: -18.7062 - accuracy: 0.4717 - val_loss: -25.6929 - val_accuracy: 0.4600\n",
      "Epoch 9/30\n",
      "120/120 [==============================] - 1s 7ms/step - loss: -27.8721 - accuracy: 0.4817 - val_loss: -37.7138 - val_accuracy: 0.4533\n",
      "Epoch 10/30\n",
      "120/120 [==============================] - 1s 7ms/step - loss: -40.3404 - accuracy: 0.4800 - val_loss: -53.2379 - val_accuracy: 0.4533\n",
      "Epoch 11/30\n",
      "120/120 [==============================] - 1s 6ms/step - loss: -56.5682 - accuracy: 0.4750 - val_loss: -72.8243 - val_accuracy: 0.4667\n",
      "Epoch 12/30\n",
      "120/120 [==============================] - 0s 3ms/step - loss: -76.7768 - accuracy: 0.4833 - val_loss: -97.0486 - val_accuracy: 0.4533\n",
      "Epoch 13/30\n",
      "120/120 [==============================] - 0s 3ms/step - loss: -102.5564 - accuracy: 0.4783 - val_loss: -128.5607 - val_accuracy: 0.4533\n",
      "Epoch 14/30\n",
      "120/120 [==============================] - 0s 3ms/step - loss: -134.7175 - accuracy: 0.4833 - val_loss: -165.8081 - val_accuracy: 0.4533\n",
      "Epoch 15/30\n",
      "120/120 [==============================] - 0s 4ms/step - loss: -173.2036 - accuracy: 0.4833 - val_loss: -209.6840 - val_accuracy: 0.4600\n",
      "Epoch 16/30\n",
      "120/120 [==============================] - 0s 4ms/step - loss: -218.1547 - accuracy: 0.4883 - val_loss: -261.0965 - val_accuracy: 0.4600\n",
      "Epoch 17/30\n",
      "120/120 [==============================] - 0s 4ms/step - loss: -270.2053 - accuracy: 0.4817 - val_loss: -318.8741 - val_accuracy: 0.4733\n",
      "Epoch 18/30\n",
      "120/120 [==============================] - 0s 4ms/step - loss: -329.7203 - accuracy: 0.4933 - val_loss: -384.7698 - val_accuracy: 0.4667\n",
      "Epoch 19/30\n",
      "120/120 [==============================] - 0s 4ms/step - loss: -396.3614 - accuracy: 0.4917 - val_loss: -458.3692 - val_accuracy: 0.4667\n",
      "Epoch 20/30\n",
      "120/120 [==============================] - 0s 4ms/step - loss: -470.3825 - accuracy: 0.4867 - val_loss: -540.3153 - val_accuracy: 0.4667\n",
      "Epoch 21/30\n",
      "120/120 [==============================] - 0s 4ms/step - loss: -552.1351 - accuracy: 0.4917 - val_loss: -627.6216 - val_accuracy: 0.4667\n",
      "Epoch 22/30\n",
      "120/120 [==============================] - 0s 4ms/step - loss: -641.4736 - accuracy: 0.4917 - val_loss: -725.3141 - val_accuracy: 0.4733\n",
      "Epoch 23/30\n",
      "120/120 [==============================] - 0s 3ms/step - loss: -739.3035 - accuracy: 0.4917 - val_loss: -826.8482 - val_accuracy: 0.4733\n",
      "Epoch 24/30\n",
      "120/120 [==============================] - 0s 3ms/step - loss: -844.4653 - accuracy: 0.4933 - val_loss: -940.0137 - val_accuracy: 0.4733\n",
      "Epoch 25/30\n",
      "120/120 [==============================] - 0s 3ms/step - loss: -958.6237 - accuracy: 0.4933 - val_loss: -1062.4891 - val_accuracy: 0.4733\n",
      "Epoch 26/30\n",
      "120/120 [==============================] - 0s 3ms/step - loss: -1080.9663 - accuracy: 0.4933 - val_loss: -1193.7998 - val_accuracy: 0.4733\n",
      "Epoch 27/30\n",
      "120/120 [==============================] - 0s 3ms/step - loss: -1212.3313 - accuracy: 0.4933 - val_loss: -1328.6282 - val_accuracy: 0.4733\n",
      "Epoch 28/30\n",
      "120/120 [==============================] - 0s 3ms/step - loss: -1351.8383 - accuracy: 0.4967 - val_loss: -1478.6196 - val_accuracy: 0.4733\n",
      "Epoch 29/30\n",
      "120/120 [==============================] - 0s 3ms/step - loss: -1500.9967 - accuracy: 0.4967 - val_loss: -1634.4415 - val_accuracy: 0.4733\n",
      "Epoch 30/30\n",
      "120/120 [==============================] - 0s 3ms/step - loss: -1659.1603 - accuracy: 0.4967 - val_loss: -1801.5024 - val_accuracy: 0.4733\n"
     ]
    }
   ],
   "source": [
    "model.compile(loss=loss_function_used, optimizer=tf.keras.optimizers.Adam(lr=0.01), metrics=['accuracy'])\n",
    "history = model.fit(X_training, Targets_training, epochs=30, batch_size=5, verbose=1, validation_split=0.2)"
   ]
  },
  {
   "cell_type": "markdown",
   "metadata": {},
   "source": [
    "We will now use the trained model to make predictions on an unseen test dataset.\n"
   ]
  },
  {
   "cell_type": "code",
   "execution_count": 9,
   "metadata": {
    "tags": []
   },
   "outputs": [
    {
     "name": "stdout",
     "output_type": "stream",
     "text": [
      "8/8 [==============================] - 0s 3ms/step - loss: -1791.1562 - accuracy: 0.4840\n",
      "Test results - Loss: -1791.15625 - Accuracy: 48.39999973773956%\n"
     ]
    }
   ],
   "source": [
    "test_results = model.evaluate(X_testing, Targets_testing, verbose=1)\n",
    "print(f'Test results - Loss: {test_results[0]} - Accuracy: {test_results[1]*100}%')"
   ]
  },
  {
   "cell_type": "code",
   "execution_count": 10,
   "metadata": {
    "tags": []
   },
   "outputs": [
    {
     "name": "stdout",
     "output_type": "stream",
     "text": [
      "9600/9600 [==============================] - 14s 1ms/step\n"
     ]
    },
    {
     "data": {
      "image/png": "[encoded data removed]",
      "text/plain": [
       "<Figure size 640x480 with 1 Axes>"
      ]
     },
     "metadata": {},
     "output_type": "display_data"
    },
    {
     "data": {
      "text/plain": [
       "<Figure size 400x400 with 0 Axes>"
      ]
     },
     "metadata": {},
     "output_type": "display_data"
    }
   ],
   "source": [
    "plot_decision_regions(X_testing, Targets_testing, clf=model, legend=2)\n",
    "plt.figure(figsize=(4, 4))\n",
    "plt.show()"
   ]
  },
  {
   "cell_type": "markdown",
   "metadata": {},
   "source": [
    "The model successfully classifies the two clusters into two classes.\n"
   ]
  },
  {
   "cell_type": "markdown",
   "metadata": {},
   "source": [
    "### Multi-Class Classification\n"
   ]
  },
  {
   "cell_type": "markdown",
   "metadata": {},
   "source": [
    "Similar to binary classification, let's create another data set with 1000 samples, and use 750 of those samples for training a simple CNN model.\n"
   ]
  },
  {
   "cell_type": "markdown",
   "metadata": {},
   "source": [
    "Let us define a few more configuration options.\n"
   ]
  },
  {
   "cell_type": "markdown",
   "metadata": {},
   "source": [
    "*   **num_samples**: refers to the total number of samples in our dataset\n",
    "*   **test_split**: refers to the number of samples to be used for testing\n",
    "*   **cluster_centers**: we define 3 centers for our isotropic Gaussian blobs\n",
    "*   **num_classes**: we have 3 classes\n",
    "*   **loss_function_used**: since this is a multi-class classification problem, we use categorical cross-entropy loss\n"
   ]
  },
  {
   "cell_type": "code",
   "execution_count": 11,
   "metadata": {
    "tags": []
   },
   "outputs": [],
   "source": [
    "num_samples = 1000\n",
    "train_split = 250\n",
    "cluster_centers = [(-10, 5), (0, 0), (10, 5)]\n",
    "num_classes = len(cluster_centers)\n",
    "loss_function_used = CategoricalCrossentropy(from_logits=True)"
   ]
  },
  {
   "cell_type": "code",
   "execution_count": 12,
   "metadata": {
    "tags": []
   },
   "outputs": [],
   "source": [
    "X_training, Targets_training, X_testing, Targets_testing= generate_multiclass_blobs(num_samples, train_split,\n",
    "              cluster_centers, num_classes,\n",
    "              loss_function_used)"
   ]
  },
  {
   "cell_type": "markdown",
   "metadata": {},
   "source": [
    "Let's take a look at one of the samples.\n"
   ]
  },
  {
   "cell_type": "code",
   "execution_count": 13,
   "metadata": {
    "tags": []
   },
   "outputs": [
    {
     "data": {
      "image/png": "[encoded data removed]",
      "text/plain": [
       "<Figure size 640x480 with 1 Axes>"
      ]
     },
     "metadata": {},
     "output_type": "display_data"
    }
   ],
   "source": [
    "plt.scatter(X_training[:,0], X_training[:,1])\n",
    "plt.title('Linearly separable data')\n",
    "plt.xlabel('X1')\n",
    "plt.ylabel('X2')\n",
    "plt.show()"
   ]
  },
  {
   "cell_type": "markdown",
   "metadata": {},
   "source": [
    "We will build a simple CNN model with two hidden layers, that uses softmax as the activation function, and categorical cross-entropy as the loss function. Let's define the architecture of our model:\n"
   ]
  },
  {
   "cell_type": "code",
   "execution_count": 14,
   "metadata": {
    "tags": []
   },
   "outputs": [],
   "source": [
    "feature_vector_shape = X_training.shape[1]\n",
    "input_shape = (feature_vector_shape,)\n",
    "\n",
    "model = Sequential()\n",
    "model.add(Dense(12, input_shape=input_shape, activation='relu', kernel_initializer='he_uniform'))\n",
    "model.add(Dense(8, activation='relu', kernel_initializer='he_uniform'))\n",
    "model.add(Dense(num_classes, activation='softmax'))"
   ]
  },
  {
   "cell_type": "code",
   "execution_count": 15,
   "metadata": {
    "tags": []
   },
   "outputs": [
    {
     "name": "stderr",
     "output_type": "stream",
     "text": [
      "WARNING:absl:`lr` is deprecated, please use `learning_rate` instead, or use the legacy optimizer, e.g.,tf.keras.optimizers.legacy.Adam.\n"
     ]
    },
    {
     "name": "stdout",
     "output_type": "stream",
     "text": [
      "Epoch 1/30\n"
     ]
    },
    {
     "name": "stderr",
     "output_type": "stream",
     "text": [
      "/home/jupyterlab/conda/envs/python/lib/python3.7/site-packages/keras/backend.py:5535: UserWarning: \"`categorical_crossentropy` received `from_logits=True`, but the `output` argument was produced by a Softmax activation and thus does not represent logits. Was this intended?\n",
      "  output, from_logits, \"Softmax\", \"categorical_crossentropy\"\n"
     ]
    },
    {
     "name": "stdout",
     "output_type": "stream",
     "text": [
      "120/120 [==============================] - 1s 5ms/step - loss: 2.3296 - accuracy: 0.3617 - val_loss: 0.9142 - val_accuracy: 0.4867\n",
      "Epoch 2/30\n",
      "120/120 [==============================] - 0s 4ms/step - loss: 0.8371 - accuracy: 0.4700 - val_loss: 0.6923 - val_accuracy: 0.5467\n",
      "Epoch 3/30\n",
      "120/120 [==============================] - 0s 4ms/step - loss: 0.6935 - accuracy: 0.5833 - val_loss: 0.5994 - val_accuracy: 0.6067\n",
      "Epoch 4/30\n",
      "120/120 [==============================] - 0s 4ms/step - loss: 0.5907 - accuracy: 0.8350 - val_loss: 0.5137 - val_accuracy: 0.9333\n",
      "Epoch 5/30\n",
      "120/120 [==============================] - 0s 4ms/step - loss: 0.4930 - accuracy: 0.9767 - val_loss: 0.4310 - val_accuracy: 0.9800\n",
      "Epoch 6/30\n",
      "120/120 [==============================] - 1s 4ms/step - loss: 0.4187 - accuracy: 0.9883 - val_loss: 0.3704 - val_accuracy: 0.9933\n",
      "Epoch 7/30\n",
      "120/120 [==============================] - 0s 4ms/step - loss: 0.1889 - accuracy: 0.9950 - val_loss: 0.0885 - val_accuracy: 0.9933\n",
      "Epoch 8/30\n",
      "120/120 [==============================] - 0s 3ms/step - loss: 0.0860 - accuracy: 0.9967 - val_loss: 0.0575 - val_accuracy: 1.0000\n",
      "Epoch 9/30\n",
      "120/120 [==============================] - 0s 3ms/step - loss: 0.0632 - accuracy: 0.9933 - val_loss: 0.0431 - val_accuracy: 1.0000\n",
      "Epoch 10/30\n",
      "120/120 [==============================] - 0s 4ms/step - loss: 0.0475 - accuracy: 0.9967 - val_loss: 0.0326 - val_accuracy: 1.0000\n",
      "Epoch 11/30\n",
      "120/120 [==============================] - 0s 3ms/step - loss: 0.0379 - accuracy: 0.9950 - val_loss: 0.0261 - val_accuracy: 1.0000\n",
      "Epoch 12/30\n",
      "120/120 [==============================] - 0s 3ms/step - loss: 0.0306 - accuracy: 1.0000 - val_loss: 0.0219 - val_accuracy: 1.0000\n",
      "Epoch 13/30\n",
      "120/120 [==============================] - 0s 4ms/step - loss: 0.0261 - accuracy: 0.9983 - val_loss: 0.0178 - val_accuracy: 1.0000\n",
      "Epoch 14/30\n",
      "120/120 [==============================] - 0s 3ms/step - loss: 0.0221 - accuracy: 0.9950 - val_loss: 0.0170 - val_accuracy: 1.0000\n",
      "Epoch 15/30\n",
      "120/120 [==============================] - 0s 3ms/step - loss: 0.0188 - accuracy: 0.9983 - val_loss: 0.0126 - val_accuracy: 1.0000\n",
      "Epoch 16/30\n",
      "120/120 [==============================] - 0s 3ms/step - loss: 0.0162 - accuracy: 0.9983 - val_loss: 0.0108 - val_accuracy: 1.0000\n",
      "Epoch 17/30\n",
      "120/120 [==============================] - 0s 3ms/step - loss: 0.0142 - accuracy: 0.9983 - val_loss: 0.0090 - val_accuracy: 1.0000\n",
      "Epoch 18/30\n",
      "120/120 [==============================] - 0s 3ms/step - loss: 0.0127 - accuracy: 1.0000 - val_loss: 0.0077 - val_accuracy: 1.0000\n",
      "Epoch 19/30\n",
      "120/120 [==============================] - 0s 3ms/step - loss: 0.0110 - accuracy: 1.0000 - val_loss: 0.0071 - val_accuracy: 1.0000\n",
      "Epoch 20/30\n",
      "120/120 [==============================] - 0s 4ms/step - loss: 0.0098 - accuracy: 1.0000 - val_loss: 0.0062 - val_accuracy: 1.0000\n",
      "Epoch 21/30\n",
      "120/120 [==============================] - 0s 4ms/step - loss: 0.0089 - accuracy: 1.0000 - val_loss: 0.0053 - val_accuracy: 1.0000\n",
      "Epoch 22/30\n",
      "120/120 [==============================] - 0s 4ms/step - loss: 0.0078 - accuracy: 1.0000 - val_loss: 0.0044 - val_accuracy: 1.0000\n",
      "Epoch 23/30\n",
      "120/120 [==============================] - 0s 4ms/step - loss: 0.0071 - accuracy: 1.0000 - val_loss: 0.0042 - val_accuracy: 1.0000\n",
      "Epoch 24/30\n",
      "120/120 [==============================] - 0s 4ms/step - loss: 0.0063 - accuracy: 1.0000 - val_loss: 0.0038 - val_accuracy: 1.0000\n",
      "Epoch 25/30\n",
      "120/120 [==============================] - 0s 3ms/step - loss: 0.0056 - accuracy: 1.0000 - val_loss: 0.0029 - val_accuracy: 1.0000\n",
      "Epoch 26/30\n",
      "120/120 [==============================] - 0s 4ms/step - loss: 0.0050 - accuracy: 1.0000 - val_loss: 0.0025 - val_accuracy: 1.0000\n",
      "Epoch 27/30\n",
      "120/120 [==============================] - 0s 4ms/step - loss: 0.0044 - accuracy: 1.0000 - val_loss: 0.0025 - val_accuracy: 1.0000\n",
      "Epoch 28/30\n",
      "120/120 [==============================] - 0s 4ms/step - loss: 0.0039 - accuracy: 1.0000 - val_loss: 0.0020 - val_accuracy: 1.0000\n",
      "Epoch 29/30\n",
      "120/120 [==============================] - 0s 4ms/step - loss: 0.0034 - accuracy: 1.0000 - val_loss: 0.0017 - val_accuracy: 1.0000\n",
      "Epoch 30/30\n",
      "120/120 [==============================] - 0s 4ms/step - loss: 0.0030 - accuracy: 1.0000 - val_loss: 0.0014 - val_accuracy: 1.0000\n"
     ]
    }
   ],
   "source": [
    "model.compile(loss=loss_function_used, optimizer=tf.keras.optimizers.Adam(lr=0.001), metrics=['accuracy'])\n",
    "history = model.fit(X_training, Targets_training, epochs=30, batch_size=5, verbose=1, validation_split=0.2)"
   ]
  },
  {
   "cell_type": "markdown",
   "metadata": {},
   "source": [
    "We will now use the trained model to make predictions on an unseen test dataset.\n"
   ]
  },
  {
   "cell_type": "code",
   "execution_count": 16,
   "metadata": {
    "tags": []
   },
   "outputs": [
    {
     "name": "stdout",
     "output_type": "stream",
     "text": [
      "8/8 [==============================] - 0s 3ms/step - loss: 0.0056 - accuracy: 1.0000\n",
      "Test results - Loss: 0.005604710429906845 - Accuracy: 100.0%\n"
     ]
    }
   ],
   "source": [
    "test_results = model.evaluate(X_testing, Targets_testing, verbose=1)\n",
    "print(f'Test results - Loss: {test_results[0]} - Accuracy: {test_results[1]*100}%')"
   ]
  },
  {
   "cell_type": "code",
   "execution_count": 17,
   "metadata": {
    "tags": []
   },
   "outputs": [],
   "source": [
    "class Onehot2Int(object):\n",
    "\n",
    "    def __init__(self, model):\n",
    "        self.model = model\n",
    "\n",
    "    def predict(self, X):\n",
    "        y_pred = self.model.predict(X)\n",
    "        return np.argmax(y_pred, axis=1)\n",
    "\n",
    "# fit keras_model\n",
    "keras_model_no_ohe = Onehot2Int(model)"
   ]
  },
  {
   "cell_type": "code",
   "execution_count": 18,
   "metadata": {
    "tags": []
   },
   "outputs": [
    {
     "name": "stdout",
     "output_type": "stream",
     "text": [
      "9600/9600 [==============================] - 15s 2ms/step\n"
     ]
    },
    {
     "data": {
      "image/png": "[encoded data removed]",
      "text/plain": [
       "<Figure size 640x480 with 1 Axes>"
      ]
     },
     "metadata": {},
     "output_type": "display_data"
    }
   ],
   "source": [
    "# Plot decision boundary\n",
    "plot_decision_regions(X_testing, np.argmax(Targets_testing, axis=1), clf=keras_model_no_ohe, legend=3)\n",
    "plt.show()"
   ]
  },
  {
   "cell_type": "markdown",
   "metadata": {},
   "source": [
    "## Example: MNIST Hand-Written Digits\n"
   ]
  },
  {
   "cell_type": "markdown",
   "metadata": {},
   "source": [
    "Let us first load our MNIST hand-written dataset using the Keras library.\n"
   ]
  },
  {
   "cell_type": "code",
   "execution_count": 19,
   "metadata": {
    "tags": []
   },
   "outputs": [
    {
     "name": "stdout",
     "output_type": "stream",
     "text": [
      "Downloading data from https://storage.googleapis.com/tensorflow/tf-keras-datasets/mnist.npz\n",
      "11490434/11490434 [==============================] - 0s 0us/step\n"
     ]
    }
   ],
   "source": [
    "(X_train, y_train), (X_test, y_test) = mnist.load_data() "
   ]
  },
  {
   "cell_type": "code",
   "execution_count": 20,
   "metadata": {
    "tags": []
   },
   "outputs": [
    {
     "name": "stdout",
     "output_type": "stream",
     "text": [
      "X_train shape (60000, 28, 28)\n",
      "y_train shape (60000,)\n",
      "X_test shape (10000, 28, 28)\n",
      "y_test shape (10000,)\n"
     ]
    }
   ],
   "source": [
    "print(\"X_train shape\", X_train.shape)\n",
    "print(\"y_train shape\", y_train.shape)\n",
    "print(\"X_test shape\", X_test.shape)\n",
    "print(\"y_test shape\", y_test.shape)"
   ]
  },
  {
   "cell_type": "markdown",
   "metadata": {},
   "source": [
    "Now we can plot some sample digits from the training set.\n"
   ]
  },
  {
   "cell_type": "code",
   "execution_count": 21,
   "metadata": {
    "tags": []
   },
   "outputs": [
    {
     "data": {
      "image/png": "[encoded data removed]",
      "text/plain": [
       "<Figure size 600x600 with 4 Axes>"
      ]
     },
     "metadata": {},
     "output_type": "display_data"
    }
   ],
   "source": [
    "plt.rcParams['figure.figsize'] = (6,6) \n",
    "\n",
    "for i in range(4):\n",
    "    plt.subplot(2,2,i+1)\n",
    "    num = random.randint(0, len(X_train))\n",
    "    plt.imshow(X_train[num], cmap='gray', interpolation='none')\n",
    "    plt.title(\"class {}\".format(y_train[num]))\n",
    "    \n",
    "plt.tight_layout()"
   ]
  },
  {
   "cell_type": "markdown",
   "metadata": {},
   "source": [
    "Each image is on a grayscale (that is, only 1 channel) and is of size 28x28. We need to flatten each image by reshaping our matrix from 28x28 to a 784-length vector.\n"
   ]
  },
  {
   "cell_type": "code",
   "execution_count": 22,
   "metadata": {
    "tags": []
   },
   "outputs": [
    {
     "name": "stdout",
     "output_type": "stream",
     "text": [
      "(60000, 784)\n",
      "(10000, 784)\n"
     ]
    }
   ],
   "source": [
    "X_train = X_train.reshape(X_train.shape[0], X_train.shape[1]* X_train.shape[2])\n",
    "X_test = X_test.reshape(X_test.shape[0], X_test.shape[1] * X_test.shape[2])\n",
    "\n",
    "print(X_train.shape)\n",
    "print(X_test.shape)"
   ]
  },
  {
   "cell_type": "markdown",
   "metadata": {},
   "source": [
    "Next, we need to change integers to 32-bit floating point numbers. We would also need to normalize our input to be in the range [0, 1], rather than [0-255].\n"
   ]
  },
  {
   "cell_type": "code",
   "execution_count": 23,
   "metadata": {
    "tags": []
   },
   "outputs": [],
   "source": [
    "X_train = X_train.astype('float32')\n",
    "X_test = X_test.astype('float32')\n",
    "\n",
    "X_train /= 255\n",
    "X_test /= 255"
   ]
  },
  {
   "cell_type": "markdown",
   "metadata": {},
   "source": [
    "Our target variable, `y`, is an array of the following form:\n"
   ]
  },
  {
   "cell_type": "code",
   "execution_count": 24,
   "metadata": {
    "tags": []
   },
   "outputs": [
    {
     "data": {
      "text/plain": [
       "array([5, 0, 4, ..., 5, 6, 8], dtype=uint8)"
      ]
     },
     "execution_count": 24,
     "metadata": {},
     "output_type": "execute_result"
    }
   ],
   "source": [
    "y_train"
   ]
  },
  {
   "cell_type": "markdown",
   "metadata": {},
   "source": [
    "The categorical cross-entropy function expects that we provide one-hot encoded representations of the labels and predictions. Let us one-hot encode our target, `y`, using the `OneHotEncoder()` function from sklearn.\n"
   ]
  },
  {
   "cell_type": "code",
   "execution_count": 25,
   "metadata": {
    "tags": []
   },
   "outputs": [
    {
     "name": "stdout",
     "output_type": "stream",
     "text": [
      "[array([0, 1, 2, 3, 4, 5, 6, 7, 8, 9], dtype=uint8)]\n"
     ]
    }
   ],
   "source": [
    "enc = OneHotEncoder(sparse=False)\n",
    "enc.fit(y_train.reshape(-1, 1))\n",
    "print(enc.categories_)"
   ]
  },
  {
   "cell_type": "code",
   "execution_count": 26,
   "metadata": {
    "tags": []
   },
   "outputs": [],
   "source": [
    "y_train_enc = enc.transform(y_train.reshape(-1,1))\n",
    "y_test_enc = enc.transform(y_test.reshape(-1,1))"
   ]
  },
  {
   "cell_type": "markdown",
   "metadata": {},
   "source": [
    "In this multi-class classification task, we want to interpret our logistic regression model's results as a probability distribution; that is the model should output a vector that represents the probability of the given image belonging to each of the 10 classes. \n",
    "\n",
    "All elements in the vector should fall into the \\[0,1] range and sum up to 1. In order to set up our classification problem this way, we can feed the model output to a softmax function to produce probabilities.\n"
   ]
  },
  {
   "cell_type": "markdown",
   "metadata": {},
   "source": [
    "For training our multi-class logistic classifier, we need a loss function. Categorical cross-entropy is a loss function widely used with softmax. We need to minimize this loss function in order to determine an optimal set of parameters.\n"
   ]
  },
  {
   "cell_type": "markdown",
   "metadata": {},
   "source": [
    "We will build a simple CNN model with two hidden layers, that uses softmax as the activation function, and categorical cross-entropy as the loss function. Let's define the architecture of our model:\n"
   ]
  },
  {
   "cell_type": "code",
   "execution_count": 27,
   "metadata": {
    "tags": []
   },
   "outputs": [],
   "source": [
    "feature_vector_shape = X_train.shape[1]\n",
    "input_shape = (feature_vector_shape,)\n",
    "num_classes = 10\n",
    "loss_function_used=CategoricalCrossentropy(from_logits=True)\n",
    "model = Sequential()\n",
    "model.add(Dense(12, input_shape=input_shape, activation='relu', kernel_initializer='he_uniform'))\n",
    "model.add(Dense(8, activation='relu', kernel_initializer='he_uniform'))\n",
    "model.add(Dense(num_classes, activation='softmax'))"
   ]
  },
  {
   "cell_type": "code",
   "execution_count": 28,
   "metadata": {
    "tags": []
   },
   "outputs": [
    {
     "name": "stderr",
     "output_type": "stream",
     "text": [
      "WARNING:absl:`lr` is deprecated, please use `learning_rate` instead, or use the legacy optimizer, e.g.,tf.keras.optimizers.legacy.Adam.\n"
     ]
    },
    {
     "name": "stdout",
     "output_type": "stream",
     "text": [
      "Epoch 1/25\n"
     ]
    },
    {
     "name": "stderr",
     "output_type": "stream",
     "text": [
      "/home/jupyterlab/conda/envs/python/lib/python3.7/site-packages/keras/backend.py:5535: UserWarning: \"`categorical_crossentropy` received `from_logits=True`, but the `output` argument was produced by a Softmax activation and thus does not represent logits. Was this intended?\n",
      "  output, from_logits, \"Softmax\", \"categorical_crossentropy\"\n"
     ]
    },
    {
     "name": "stdout",
     "output_type": "stream",
     "text": [
      "9600/9600 [==============================] - 39s 4ms/step - loss: 0.4726 - accuracy: 0.8572 - val_loss: 0.2885 - val_accuracy: 0.9168\n",
      "Epoch 2/25\n",
      "9600/9600 [==============================] - 35s 4ms/step - loss: 0.2758 - accuracy: 0.9195 - val_loss: 0.2369 - val_accuracy: 0.9342\n",
      "Epoch 3/25\n",
      "9600/9600 [==============================] - 40s 4ms/step - loss: 0.2399 - accuracy: 0.9307 - val_loss: 0.2274 - val_accuracy: 0.9352\n",
      "Epoch 4/25\n",
      "9600/9600 [==============================] - 41s 4ms/step - loss: 0.2211 - accuracy: 0.9344 - val_loss: 0.2203 - val_accuracy: 0.9390\n",
      "Epoch 5/25\n",
      "9600/9600 [==============================] - 36s 4ms/step - loss: 0.2105 - accuracy: 0.9386 - val_loss: 0.2217 - val_accuracy: 0.9358\n",
      "Epoch 6/25\n",
      "9600/9600 [==============================] - 38s 4ms/step - loss: 0.2012 - accuracy: 0.9400 - val_loss: 0.2144 - val_accuracy: 0.9387\n",
      "Epoch 7/25\n",
      "9600/9600 [==============================] - 37s 4ms/step - loss: 0.1937 - accuracy: 0.9424 - val_loss: 0.2174 - val_accuracy: 0.9365\n",
      "Epoch 8/25\n",
      "9600/9600 [==============================] - 35s 4ms/step - loss: 0.1890 - accuracy: 0.9435 - val_loss: 0.2071 - val_accuracy: 0.9402\n",
      "Epoch 9/25\n",
      "9600/9600 [==============================] - 35s 4ms/step - loss: 0.1834 - accuracy: 0.9448 - val_loss: 0.2554 - val_accuracy: 0.9222\n",
      "Epoch 10/25\n",
      "9600/9600 [==============================] - 36s 4ms/step - loss: 0.1806 - accuracy: 0.9449 - val_loss: 0.2006 - val_accuracy: 0.9431\n",
      "Epoch 11/25\n",
      "9600/9600 [==============================] - 37s 4ms/step - loss: 0.1755 - accuracy: 0.9484 - val_loss: 0.2106 - val_accuracy: 0.9402\n",
      "Epoch 12/25\n",
      "9600/9600 [==============================] - 36s 4ms/step - loss: 0.1718 - accuracy: 0.9492 - val_loss: 0.1973 - val_accuracy: 0.9451\n",
      "Epoch 13/25\n",
      "9600/9600 [==============================] - 38s 4ms/step - loss: 0.1679 - accuracy: 0.9493 - val_loss: 0.2115 - val_accuracy: 0.9427\n",
      "Epoch 14/25\n",
      "9600/9600 [==============================] - 36s 4ms/step - loss: 0.1674 - accuracy: 0.9493 - val_loss: 0.2039 - val_accuracy: 0.9439\n",
      "Epoch 15/25\n",
      "9600/9600 [==============================] - 40s 4ms/step - loss: 0.1620 - accuracy: 0.9512 - val_loss: 0.2089 - val_accuracy: 0.9411\n",
      "Epoch 16/25\n",
      "9600/9600 [==============================] - 37s 4ms/step - loss: 0.1623 - accuracy: 0.9510 - val_loss: 0.2108 - val_accuracy: 0.9402\n",
      "Epoch 17/25\n",
      "9600/9600 [==============================] - 35s 4ms/step - loss: 0.1603 - accuracy: 0.9523 - val_loss: 0.2236 - val_accuracy: 0.9366\n",
      "Epoch 18/25\n",
      "9600/9600 [==============================] - 38s 4ms/step - loss: 0.1581 - accuracy: 0.9526 - val_loss: 0.2017 - val_accuracy: 0.9440\n",
      "Epoch 19/25\n",
      "9600/9600 [==============================] - 38s 4ms/step - loss: 0.1565 - accuracy: 0.9530 - val_loss: 0.2087 - val_accuracy: 0.9419\n",
      "Epoch 20/25\n",
      "9600/9600 [==============================] - 42s 4ms/step - loss: 0.1541 - accuracy: 0.9541 - val_loss: 0.2009 - val_accuracy: 0.9436\n",
      "Epoch 21/25\n",
      "9600/9600 [==============================] - 43s 4ms/step - loss: 0.1525 - accuracy: 0.9539 - val_loss: 0.2088 - val_accuracy: 0.9422\n",
      "Epoch 22/25\n",
      "9600/9600 [==============================] - 41s 4ms/step - loss: 0.1511 - accuracy: 0.9549 - val_loss: 0.2068 - val_accuracy: 0.9423\n",
      "Epoch 23/25\n",
      "9600/9600 [==============================] - 43s 5ms/step - loss: 0.1492 - accuracy: 0.9541 - val_loss: 0.2160 - val_accuracy: 0.9383\n",
      "Epoch 24/25\n",
      "9600/9600 [==============================] - 39s 4ms/step - loss: 0.1482 - accuracy: 0.9550 - val_loss: 0.2090 - val_accuracy: 0.9403\n",
      "Epoch 25/25\n",
      "9600/9600 [==============================] - 39s 4ms/step - loss: 0.1456 - accuracy: 0.9555 - val_loss: 0.2063 - val_accuracy: 0.9420\n"
     ]
    }
   ],
   "source": [
    "model.compile(loss=loss_function_used, optimizer=tf.keras.optimizers.Adam(lr=0.001), metrics=['accuracy'])\n",
    "history = model.fit(X_train, y_train_enc, epochs=25, batch_size=5, verbose=1, validation_split=0.2)\n"
   ]
  },
  {
   "cell_type": "code",
   "execution_count": 29,
   "metadata": {
    "tags": []
   },
   "outputs": [
    {
     "name": "stdout",
     "output_type": "stream",
     "text": [
      "313/313 [==============================] - 1s 3ms/step - loss: 0.2148 - accuracy: 0.9446\n",
      "Test results - Loss: 0.21484921872615814 - Accuracy: 94.4599986076355%\n"
     ]
    }
   ],
   "source": [
    "test_results = model.evaluate(X_test, y_test_enc, verbose=1)\n",
    "print(f'Test results - Loss: {test_results[0]} - Accuracy: {test_results[1]*100}%')"
   ]
  },
  {
   "cell_type": "markdown",
   "metadata": {},
   "source": [
    "## Example: Single-Digit House Number Recognition\n"
   ]
  },
  {
   "cell_type": "markdown",
   "metadata": {},
   "source": [
    "Recognizing multi-digit text from photographs is a hard problem. In this example, we deal with a simpler sub-problem that involves using a convolutional neural network with the categorical cross-entropy loss function to build a classifier that identifies single-digit numbers from custom images.\n"
   ]
  },
  {
   "cell_type": "markdown",
   "metadata": {},
   "source": [
    "First, let's load in a custom image using a URL. \\[Image from [comforthouse](https://www.comforthouse.com/floating-1-number-sign.html?utm_medium=Exinfluencer&utm_source=Exinfluencer&utm_content=000026UJ&utm_term=10006555&utm_id=NA-SkillsNetwork-Channel-SkillsNetworkCoursesIBMDeveloperSkillsNetworkML311Coursera35714171-2022-01-01).]\n"
   ]
  },
  {
   "cell_type": "code",
   "execution_count": 30,
   "metadata": {
    "tags": []
   },
   "outputs": [
    {
     "data": {
      "image/png": "[encoded data removed]",
      "text/plain": [
       "<PIL.Image.Image image mode=RGB size=225x225 at 0x7F4814340310>"
      ]
     },
     "execution_count": 30,
     "metadata": {},
     "output_type": "execute_result"
    }
   ],
   "source": [
    "URL = 'https://cf-courses-data.s3.us.cloud-object-storage.appdomain.cloud/IBMDeveloperSkillsNetwork-ML311-Coursera/images/house_number_5.jpeg'\n",
    "image = Image.open(urlopen(URL)).convert('RGB')\n",
    "image"
   ]
  },
  {
   "cell_type": "markdown",
   "metadata": {},
   "source": [
    "Let us define a CNN architecture that is similar to one used for MNIST hand-written digit classification. We use a softmax as the activation function and categorical cross-entropy as the loss function as this is a multi-class classification problem.\n"
   ]
  },
  {
   "cell_type": "code",
   "execution_count": 31,
   "metadata": {
    "tags": []
   },
   "outputs": [
    {
     "name": "stderr",
     "output_type": "stream",
     "text": [
      "WARNING:absl:`lr` is deprecated, please use `learning_rate` instead, or use the legacy optimizer, e.g.,tf.keras.optimizers.legacy.Adam.\n"
     ]
    },
    {
     "name": "stdout",
     "output_type": "stream",
     "text": [
      "Epoch 1/25\n",
      "9600/9600 [==============================] - 40s 4ms/step - loss: 0.4764 - accuracy: 0.8551 - val_loss: 0.2899 - val_accuracy: 0.9177\n",
      "Epoch 2/25\n",
      "9600/9600 [==============================] - 39s 4ms/step - loss: 0.2745 - accuracy: 0.9204 - val_loss: 0.2653 - val_accuracy: 0.9237\n",
      "Epoch 3/25\n",
      "9600/9600 [==============================] - 40s 4ms/step - loss: 0.2392 - accuracy: 0.9309 - val_loss: 0.2338 - val_accuracy: 0.9345\n",
      "Epoch 4/25\n",
      "9600/9600 [==============================] - 37s 4ms/step - loss: 0.2213 - accuracy: 0.9361 - val_loss: 0.2245 - val_accuracy: 0.9366\n",
      "Epoch 5/25\n",
      "9600/9600 [==============================] - 37s 4ms/step - loss: 0.2091 - accuracy: 0.9397 - val_loss: 0.2307 - val_accuracy: 0.9352\n",
      "Epoch 6/25\n",
      "9600/9600 [==============================] - 35s 4ms/step - loss: 0.2005 - accuracy: 0.9420 - val_loss: 0.2184 - val_accuracy: 0.9402\n",
      "Epoch 7/25\n",
      "9600/9600 [==============================] - 33s 3ms/step - loss: 0.1941 - accuracy: 0.9439 - val_loss: 0.2141 - val_accuracy: 0.9393\n",
      "Epoch 8/25\n",
      "9600/9600 [==============================] - 34s 4ms/step - loss: 0.1896 - accuracy: 0.9447 - val_loss: 0.2105 - val_accuracy: 0.9408\n",
      "Epoch 9/25\n",
      "9600/9600 [==============================] - 34s 4ms/step - loss: 0.1840 - accuracy: 0.9461 - val_loss: 0.2304 - val_accuracy: 0.9367\n",
      "Epoch 10/25\n",
      "9600/9600 [==============================] - 34s 3ms/step - loss: 0.1807 - accuracy: 0.9476 - val_loss: 0.2255 - val_accuracy: 0.9366\n",
      "Epoch 11/25\n",
      "9600/9600 [==============================] - 35s 4ms/step - loss: 0.1758 - accuracy: 0.9495 - val_loss: 0.2141 - val_accuracy: 0.9403\n",
      "Epoch 12/25\n",
      "9600/9600 [==============================] - 35s 4ms/step - loss: 0.1729 - accuracy: 0.9497 - val_loss: 0.2090 - val_accuracy: 0.9414\n",
      "Epoch 13/25\n",
      "9600/9600 [==============================] - 34s 4ms/step - loss: 0.1702 - accuracy: 0.9516 - val_loss: 0.2001 - val_accuracy: 0.9446\n",
      "Epoch 14/25\n",
      "9600/9600 [==============================] - 35s 4ms/step - loss: 0.1682 - accuracy: 0.9508 - val_loss: 0.2253 - val_accuracy: 0.9388\n",
      "Epoch 15/25\n",
      "9600/9600 [==============================] - 36s 4ms/step - loss: 0.1628 - accuracy: 0.9522 - val_loss: 0.2312 - val_accuracy: 0.9358\n",
      "Epoch 16/25\n",
      "9600/9600 [==============================] - 34s 4ms/step - loss: 0.1626 - accuracy: 0.9528 - val_loss: 0.2212 - val_accuracy: 0.9400\n",
      "Epoch 17/25\n",
      "9600/9600 [==============================] - 37s 4ms/step - loss: 0.1611 - accuracy: 0.9525 - val_loss: 0.2097 - val_accuracy: 0.9401\n",
      "Epoch 18/25\n",
      "9600/9600 [==============================] - 33s 3ms/step - loss: 0.1591 - accuracy: 0.9536 - val_loss: 0.2146 - val_accuracy: 0.9402\n",
      "Epoch 19/25\n",
      "9600/9600 [==============================] - 35s 4ms/step - loss: 0.1558 - accuracy: 0.9538 - val_loss: 0.2111 - val_accuracy: 0.9434\n",
      "Epoch 20/25\n",
      "9600/9600 [==============================] - 35s 4ms/step - loss: 0.1539 - accuracy: 0.9546 - val_loss: 0.2077 - val_accuracy: 0.9412\n",
      "Epoch 21/25\n",
      "9600/9600 [==============================] - 36s 4ms/step - loss: 0.1542 - accuracy: 0.9535 - val_loss: 0.2058 - val_accuracy: 0.9446\n",
      "Epoch 22/25\n",
      "9600/9600 [==============================] - 34s 4ms/step - loss: 0.1502 - accuracy: 0.9556 - val_loss: 0.2137 - val_accuracy: 0.9427\n",
      "Epoch 23/25\n",
      "9600/9600 [==============================] - 35s 4ms/step - loss: 0.1515 - accuracy: 0.9561 - val_loss: 0.2118 - val_accuracy: 0.9427\n",
      "Epoch 24/25\n",
      "9600/9600 [==============================] - 36s 4ms/step - loss: 0.1477 - accuracy: 0.9570 - val_loss: 0.2182 - val_accuracy: 0.9427\n",
      "Epoch 25/25\n",
      "9600/9600 [==============================] - 35s 4ms/step - loss: 0.1479 - accuracy: 0.9567 - val_loss: 0.2082 - val_accuracy: 0.9426\n"
     ]
    }
   ],
   "source": [
    "feature_vector_shape,input_shape = 784,784\n",
    "num_classes = 10\n",
    "loss_function_used = CategoricalCrossentropy(from_logits=True)\n",
    "model = Sequential()\n",
    "model.add(Dense(12, input_shape=(input_shape,), activation='relu', kernel_initializer='he_uniform'))\n",
    "model.add(Dense(8, activation='relu', kernel_initializer='he_uniform'))\n",
    "model.add(Dense(num_classes, activation='softmax'))\n",
    "\n",
    "model.compile(loss=loss_function_used, optimizer=tf.keras.optimizers.Adam(lr=0.001), metrics=['accuracy'])\n",
    "history = model.fit(X_train, y_train_enc, epochs=25, batch_size=5, verbose=1, validation_split=0.2)"
   ]
  },
  {
   "cell_type": "markdown",
   "metadata": {},
   "source": [
    "We must now pre-process our raw input images to be grayscale and 28x28 in size.\n"
   ]
  },
  {
   "cell_type": "code",
   "execution_count": 32,
   "metadata": {
    "tags": []
   },
   "outputs": [
    {
     "data": {
      "image/png": "[encoded data removed]",
      "text/plain": [
       "<PIL.Image.Image image mode=L size=28x28 at 0x7F47CBCAEF50>"
      ]
     },
     "execution_count": 32,
     "metadata": {},
     "output_type": "execute_result"
    }
   ],
   "source": [
    "img_rows, img_cols = 28, 28\n",
    "img = Image.fromarray(np.uint8(image)).convert('L')\n",
    "img_gray = img.resize((img_rows, img_cols), Image.ANTIALIAS)\n",
    "img_gray"
   ]
  },
  {
   "cell_type": "markdown",
   "metadata": {},
   "source": [
    "We will now convert the image to an array, and reshape it such that it has a dimension of (1, 784).\n"
   ]
  },
  {
   "cell_type": "code",
   "execution_count": 33,
   "metadata": {
    "tags": []
   },
   "outputs": [],
   "source": [
    "arr = np.array(img_gray)\n",
    "arr = arr.reshape((img_cols*img_rows))\n",
    "arr = np.expand_dims(arr, axis=0)"
   ]
  },
  {
   "cell_type": "markdown",
   "metadata": {},
   "source": [
    "Finally, we will feed the array as an input to our model, and use the argmax function to determine the most likely digit label.\n"
   ]
  },
  {
   "cell_type": "code",
   "execution_count": 34,
   "metadata": {
    "tags": []
   },
   "outputs": [
    {
     "name": "stdout",
     "output_type": "stream",
     "text": [
      "1/1 [==============================] - 0s 101ms/step\n"
     ]
    },
    {
     "data": {
      "text/plain": [
       "5"
      ]
     },
     "execution_count": 34,
     "metadata": {},
     "output_type": "execute_result"
    }
   ],
   "source": [
    "prediction = model.predict(arr)\n",
    "np.argmax(prediction)"
   ]
  },
  {
   "cell_type": "markdown",
   "metadata": {},
   "source": [
    "We got it right! You are free to experiment with different custom images by simply changing the URL.\n"
   ]
  },
  {
   "cell_type": "markdown",
   "metadata": {},
   "source": [
    "# Exercises\n"
   ]
  },
  {
   "cell_type": "markdown",
   "metadata": {},
   "source": [
    "For these exercises, we will be using the Fashion-MNIST dataset. It consists of 60,000 28x28 grayscale training images and 10,000 test images for 10 different categories, listed below:\n"
   ]
  },
  {
   "cell_type": "markdown",
   "metadata": {},
   "source": [
    "0.  T-shirt\n",
    "1.  Trouser\n",
    "2.  Pullover\n",
    "3.  Dress\n",
    "4.  Coat\n",
    "5.  Sandal\n",
    "6.  Shirt\n",
    "7.  Sneaker\n",
    "8.  Bag\n",
    "9.  Ankle boot\n"
   ]
  },
  {
   "cell_type": "markdown",
   "metadata": {},
   "source": [
    "### Exercise 1 - Loading and plotting the images\n"
   ]
  },
  {
   "cell_type": "markdown",
   "metadata": {},
   "source": [
    "Similar to the MNIST hand-written digits dataset, Fashion-MNIST is available for loading through Keras. Load the dataset using Keras in a similar manner. Plot some sample images from the training set.\n"
   ]
  },
  {
   "cell_type": "code",
   "execution_count": 35,
   "metadata": {
    "tags": []
   },
   "outputs": [
    {
     "name": "stdout",
     "output_type": "stream",
     "text": [
      "Downloading data from https://storage.googleapis.com/tensorflow/tf-keras-datasets/train-labels-idx1-ubyte.gz\n",
      "29515/29515 [==============================] - 0s 0us/step\n",
      "Downloading data from https://storage.googleapis.com/tensorflow/tf-keras-datasets/train-images-idx3-ubyte.gz\n",
      "26421880/26421880 [==============================] - 0s 0us/step\n",
      "Downloading data from https://storage.googleapis.com/tensorflow/tf-keras-datasets/t10k-labels-idx1-ubyte.gz\n",
      "5148/5148 [==============================] - 0s 0us/step\n",
      "Downloading data from https://storage.googleapis.com/tensorflow/tf-keras-datasets/t10k-images-idx3-ubyte.gz\n",
      "4422102/4422102 [==============================] - 0s 0us/step\n"
     ]
    },
    {
     "data": {
      "image/png": "[encoded data removed]",
      "text/plain": [
       "<Figure size 600x600 with 4 Axes>"
      ]
     },
     "metadata": {},
     "output_type": "display_data"
    }
   ],
   "source": [
    "# Enter your solution here\n",
    "\n",
    "(X_train, y_train), (X_test, y_test) = fashion_mnist.load_data()\n",
    "\n",
    "\n",
    "plt.rcParams['figure.figsize'] = (6,6) \n",
    "\n",
    "for i in range(4):\n",
    "    plt.subplot(2,2,i+1)\n",
    "    num = random.randint(0, len(X_train))\n",
    "    plt.imshow(X_train[num], cmap='gray', interpolation='none')\n",
    "    plt.title(\"class {}\".format(y_train[num]))\n",
    "    \n",
    "plt.tight_layout()"
   ]
  },
  {
   "cell_type": "markdown",
   "metadata": {},
   "source": [
    "<details>\n",
    "    <summary>Click here for Solution</summary>\n",
    "\n",
    "```python\n",
    "(X_train, y_train), (X_test, y_test) = fashion_mnist.load_data()\n",
    "\n",
    "\n",
    "plt.rcParams['figure.figsize'] = (6,6) \n",
    "\n",
    "for i in range(4):\n",
    "    plt.subplot(2,2,i+1)\n",
    "    num = random.randint(0, len(X_train))\n",
    "    plt.imshow(X_train[num], cmap='gray', interpolation='none')\n",
    "    plt.title(\"class {}\".format(y_train[num]))\n",
    "    \n",
    "plt.tight_layout()\n",
    "```\n",
    "\n",
    "</details>\n"
   ]
  },
  {
   "cell_type": "markdown",
   "metadata": {},
   "source": [
    "### Exercise 2 - Preparing the data\n"
   ]
  },
  {
   "cell_type": "markdown",
   "metadata": {},
   "source": [
    "Convert all grayscale images of size 28x28 to a 784-length vector. Change integers to 32-bit floating point numbers and normalize the input to be in the range \\[0, 1], rather than \\[0-255].\n"
   ]
  },
  {
   "cell_type": "code",
   "execution_count": 36,
   "metadata": {
    "tags": []
   },
   "outputs": [
    {
     "name": "stdout",
     "output_type": "stream",
     "text": [
      "(60000, 784)\n",
      "(10000, 784)\n"
     ]
    }
   ],
   "source": [
    "# Enter your solution here\n",
    "X_train = X_train.reshape(X_train.shape[0], X_train.shape[1]* X_train.shape[2])\n",
    "X_test = X_test.reshape(X_test.shape[0], X_test.shape[1] * X_test.shape[2])\n",
    "\n",
    "print(X_train.shape)\n",
    "print(X_test.shape)\n",
    "\n",
    "X_train = X_train.astype('float32')\n",
    "X_test = X_test.astype('float32')\n",
    "\n",
    "X_train /= 255\n",
    "X_test /= 255"
   ]
  },
  {
   "cell_type": "markdown",
   "metadata": {},
   "source": [
    "<details>\n",
    "    <summary>Click here for Solution</summary>\n",
    "\n",
    "```python\n",
    "X_train = X_train.reshape(X_train.shape[0], X_train.shape[1]* X_train.shape[2])\n",
    "X_test = X_test.reshape(X_test.shape[0], X_test.shape[1] * X_test.shape[2])\n",
    "\n",
    "print(X_train.shape)\n",
    "print(X_test.shape)\n",
    "\n",
    "X_train = X_train.astype('float32')\n",
    "X_test = X_test.astype('float32')\n",
    "\n",
    "X_train /= 255\n",
    "X_test /= 255\n",
    "```\n",
    "\n",
    "</details>\n"
   ]
  },
  {
   "cell_type": "markdown",
   "metadata": {},
   "source": [
    "### Exercise 3 - One-hot encoding\n"
   ]
  },
  {
   "cell_type": "markdown",
   "metadata": {},
   "source": [
    "Create one-hot encoded representations of the target variable using the `OneHotEncoder()` function from sklearn.\n"
   ]
  },
  {
   "cell_type": "code",
   "execution_count": 37,
   "metadata": {
    "tags": []
   },
   "outputs": [
    {
     "name": "stdout",
     "output_type": "stream",
     "text": [
      "[array([0, 1, 2, 3, 4, 5, 6, 7, 8, 9], dtype=uint8)]\n"
     ]
    }
   ],
   "source": [
    "# Enter your solution here\n",
    "enc = OneHotEncoder(sparse=False)\n",
    "enc.fit(y_train.reshape(-1, 1))\n",
    "print(enc.categories_)\n",
    "y_train_enc = enc.transform(y_train.reshape(-1,1))\n",
    "y_test_enc = enc.transform(y_test.reshape(-1,1))"
   ]
  },
  {
   "cell_type": "markdown",
   "metadata": {},
   "source": [
    "<details>\n",
    "    <summary>Click here for Solution</summary>\n",
    "\n",
    "```python\n",
    "enc = OneHotEncoder(sparse=False)\n",
    "enc.fit(y_train.reshape(-1, 1))\n",
    "print(enc.categories_)\n",
    "y_train_enc = enc.transform(y_train.reshape(-1,1))\n",
    "y_test_enc = enc.transform(y_test.reshape(-1,1))\n",
    "```\n",
    "\n",
    "</details>\n"
   ]
  },
  {
   "cell_type": "markdown",
   "metadata": {},
   "source": [
    "### Exercise 4 - Build model architecture\n"
   ]
  },
  {
   "cell_type": "markdown",
   "metadata": {},
   "source": [
    "Build a CNN model with 2 hidden layers, that uses softmax as the activation function, and categorical cross-entropy as the loss function.\n"
   ]
  },
  {
   "cell_type": "code",
   "execution_count": 38,
   "metadata": {
    "tags": []
   },
   "outputs": [
    {
     "name": "stderr",
     "output_type": "stream",
     "text": [
      "WARNING:absl:`lr` is deprecated, please use `learning_rate` instead, or use the legacy optimizer, e.g.,tf.keras.optimizers.legacy.Adam.\n"
     ]
    },
    {
     "name": "stdout",
     "output_type": "stream",
     "text": [
      "Epoch 1/25\n"
     ]
    },
    {
     "name": "stderr",
     "output_type": "stream",
     "text": [
      "/home/jupyterlab/conda/envs/python/lib/python3.7/site-packages/keras/backend.py:5535: UserWarning: \"`categorical_crossentropy` received `from_logits=True`, but the `output` argument was produced by a Softmax activation and thus does not represent logits. Was this intended?\n",
      "  output, from_logits, \"Softmax\", \"categorical_crossentropy\"\n"
     ]
    },
    {
     "name": "stdout",
     "output_type": "stream",
     "text": [
      "9600/9600 [==============================] - 37s 4ms/step - loss: 0.6421 - accuracy: 0.7732 - val_loss: 0.4721 - val_accuracy: 0.8368\n",
      "Epoch 2/25\n",
      "9600/9600 [==============================] - 35s 4ms/step - loss: 0.4704 - accuracy: 0.8356 - val_loss: 0.4621 - val_accuracy: 0.8423\n",
      "Epoch 3/25\n",
      "9600/9600 [==============================] - 34s 4ms/step - loss: 0.4382 - accuracy: 0.8462 - val_loss: 0.4512 - val_accuracy: 0.8374\n",
      "Epoch 4/25\n",
      "9600/9600 [==============================] - 35s 4ms/step - loss: 0.4166 - accuracy: 0.8511 - val_loss: 0.4081 - val_accuracy: 0.8530\n",
      "Epoch 5/25\n",
      "9600/9600 [==============================] - 35s 4ms/step - loss: 0.4009 - accuracy: 0.8562 - val_loss: 0.4049 - val_accuracy: 0.8566\n",
      "Epoch 6/25\n",
      "9600/9600 [==============================] - 35s 4ms/step - loss: 0.3889 - accuracy: 0.8597 - val_loss: 0.4137 - val_accuracy: 0.8518\n",
      "Epoch 7/25\n",
      "9600/9600 [==============================] - 35s 4ms/step - loss: 0.3812 - accuracy: 0.8637 - val_loss: 0.4144 - val_accuracy: 0.8512\n",
      "Epoch 8/25\n",
      "9600/9600 [==============================] - 35s 4ms/step - loss: 0.3713 - accuracy: 0.8661 - val_loss: 0.3996 - val_accuracy: 0.8568\n",
      "Epoch 9/25\n",
      "9600/9600 [==============================] - 33s 3ms/step - loss: 0.3675 - accuracy: 0.8659 - val_loss: 0.4147 - val_accuracy: 0.8522\n",
      "Epoch 10/25\n",
      "9600/9600 [==============================] - 34s 4ms/step - loss: 0.3613 - accuracy: 0.8674 - val_loss: 0.4025 - val_accuracy: 0.8562\n",
      "Epoch 11/25\n",
      "9600/9600 [==============================] - 33s 3ms/step - loss: 0.3575 - accuracy: 0.8698 - val_loss: 0.3974 - val_accuracy: 0.8581\n",
      "Epoch 12/25\n",
      "9600/9600 [==============================] - 35s 4ms/step - loss: 0.3500 - accuracy: 0.8725 - val_loss: 0.3921 - val_accuracy: 0.8608\n",
      "Epoch 13/25\n",
      "9600/9600 [==============================] - 34s 4ms/step - loss: 0.3476 - accuracy: 0.8728 - val_loss: 0.3951 - val_accuracy: 0.8593\n",
      "Epoch 14/25\n",
      "9600/9600 [==============================] - 35s 4ms/step - loss: 0.3448 - accuracy: 0.8738 - val_loss: 0.4043 - val_accuracy: 0.8580\n",
      "Epoch 15/25\n",
      "9600/9600 [==============================] - 33s 3ms/step - loss: 0.3433 - accuracy: 0.8753 - val_loss: 0.3896 - val_accuracy: 0.8636\n",
      "Epoch 16/25\n",
      "9600/9600 [==============================] - 34s 4ms/step - loss: 0.3400 - accuracy: 0.8755 - val_loss: 0.3953 - val_accuracy: 0.8610\n",
      "Epoch 17/25\n",
      "9600/9600 [==============================] - 33s 3ms/step - loss: 0.3366 - accuracy: 0.8772 - val_loss: 0.4251 - val_accuracy: 0.8487\n",
      "Epoch 18/25\n",
      "9600/9600 [==============================] - 35s 4ms/step - loss: 0.3330 - accuracy: 0.8780 - val_loss: 0.4310 - val_accuracy: 0.8522\n",
      "Epoch 19/25\n",
      "9600/9600 [==============================] - 32s 3ms/step - loss: 0.3305 - accuracy: 0.8796 - val_loss: 0.3987 - val_accuracy: 0.8645\n",
      "Epoch 20/25\n",
      "9600/9600 [==============================] - 34s 4ms/step - loss: 0.3293 - accuracy: 0.8795 - val_loss: 0.4113 - val_accuracy: 0.8589\n",
      "Epoch 21/25\n",
      "9600/9600 [==============================] - 33s 3ms/step - loss: 0.3266 - accuracy: 0.8811 - val_loss: 0.4108 - val_accuracy: 0.8556\n",
      "Epoch 22/25\n",
      "9600/9600 [==============================] - 35s 4ms/step - loss: 0.3248 - accuracy: 0.8806 - val_loss: 0.4070 - val_accuracy: 0.8612\n",
      "Epoch 23/25\n",
      "9600/9600 [==============================] - 34s 4ms/step - loss: 0.3223 - accuracy: 0.8816 - val_loss: 0.4286 - val_accuracy: 0.8468\n",
      "Epoch 24/25\n",
      "9600/9600 [==============================] - 34s 4ms/step - loss: 0.3202 - accuracy: 0.8828 - val_loss: 0.4038 - val_accuracy: 0.8627\n",
      "Epoch 25/25\n",
      "9600/9600 [==============================] - 35s 4ms/step - loss: 0.3202 - accuracy: 0.8835 - val_loss: 0.4193 - val_accuracy: 0.8574\n",
      "313/313 [==============================] - 1s 2ms/step - loss: 0.4511 - accuracy: 0.8513\n",
      "Test results - Loss: 0.4511328637599945 - Accuracy: 85.13000011444092%\n"
     ]
    }
   ],
   "source": [
    "# Enter your solution here\n",
    "\n",
    "feature_vector_shape = X_train.shape[1]\n",
    "input_shape = (feature_vector_shape,)\n",
    "num_classes = 10\n",
    "loss_function_used = CategoricalCrossentropy(from_logits=True)\n",
    "\n",
    "model = Sequential()\n",
    "model.add(Dense(12, input_shape=input_shape, activation='relu', kernel_initializer='he_uniform'))\n",
    "model.add(Dense(8, activation='relu', kernel_initializer='he_uniform'))\n",
    "model.add(Dense(num_classes, activation='softmax'))\n",
    "\n",
    "\n",
    "model.compile(loss=loss_function_used, optimizer=tf.keras.optimizers.Adam(lr=0.001), metrics=['accuracy'])\n",
    "history = model.fit(X_train, y_train_enc, epochs=25, batch_size=5, verbose=1, validation_split=0.2)\n",
    "\n",
    "test_results = model.evaluate(X_test, y_test_enc, verbose=1)\n",
    "print(f'Test results - Loss: {test_results[0]} - Accuracy: {test_results[1]*100}%')"
   ]
  },
  {
   "cell_type": "markdown",
   "metadata": {},
   "source": [
    "<details>\n",
    "    <summary>Click here for Solution</summary>\n",
    "\n",
    "```python\n",
    "feature_vector_shape = X_train.shape[1]\n",
    "input_shape = (feature_vector_shape,)\n",
    "num_classes = 10\n",
    "loss_function_used = CategoricalCrossentropy(from_logits=True)\n",
    "\n",
    "model = Sequential()\n",
    "model.add(Dense(12, input_shape=input_shape, activation='relu', kernel_initializer='he_uniform'))\n",
    "model.add(Dense(8, activation='relu', kernel_initializer='he_uniform'))\n",
    "model.add(Dense(num_classes, activation='softmax'))\n",
    "\n",
    "\n",
    "model.compile(loss=loss_function_used, optimizer=tf.keras.optimizers.Adam(lr=0.001), metrics=['accuracy'])\n",
    "history = model.fit(X_train, y_train_enc, epochs=25, batch_size=5, verbose=1, validation_split=0.2)\n",
    "\n",
    "test_results = model.evaluate(X_test, y_test_enc, verbose=1)\n",
    "print(f'Test results - Loss: {test_results[0]} - Accuracy: {test_results[1]*100}%')\n",
    "\n",
    "\n",
    "```\n",
    "\n",
    "</details>\n"
   ]
  },
  {
   "cell_type": "markdown",
   "metadata": {},
   "source": [
    "### (Optional) Exercise 5 - Sparse Categorical Cross Entropy\n"
   ]
  },
  {
   "cell_type": "markdown",
   "metadata": {},
   "source": [
    "We saw that when using categorical cross-entropy, the ground truth labels need to be one-hot encoded. Keras provides another loss function called sparse cross-entropy where we can leave the labels as integers.\n",
    "\n",
    "Build a CNN model with two hidden layers, that uses softmax as the activation function, and sparse categorical cross-entropy as the loss function. Make sure to use the non-one-hot encoded ground-truth labels.  \n"
   ]
  },
  {
   "cell_type": "code",
   "execution_count": 39,
   "metadata": {
    "tags": []
   },
   "outputs": [
    {
     "name": "stderr",
     "output_type": "stream",
     "text": [
      "WARNING:absl:`lr` is deprecated, please use `learning_rate` instead, or use the legacy optimizer, e.g.,tf.keras.optimizers.legacy.Adam.\n"
     ]
    },
    {
     "name": "stdout",
     "output_type": "stream",
     "text": [
      "Epoch 1/25\n",
      "9600/9600 [==============================] - 35s 4ms/step - loss: 0.6436 - accuracy: 0.7584 - val_loss: 0.4860 - val_accuracy: 0.8250\n",
      "Epoch 2/25\n",
      "9600/9600 [==============================] - 35s 4ms/step - loss: 0.4639 - accuracy: 0.8369 - val_loss: 0.4358 - val_accuracy: 0.8468\n",
      "Epoch 3/25\n",
      "9600/9600 [==============================] - 35s 4ms/step - loss: 0.4238 - accuracy: 0.8509 - val_loss: 0.4259 - val_accuracy: 0.8518\n",
      "Epoch 4/25\n",
      "9600/9600 [==============================] - 35s 4ms/step - loss: 0.4065 - accuracy: 0.8563 - val_loss: 0.4328 - val_accuracy: 0.8500\n",
      "Epoch 5/25\n",
      "9600/9600 [==============================] - 34s 4ms/step - loss: 0.3934 - accuracy: 0.8606 - val_loss: 0.4063 - val_accuracy: 0.8592\n",
      "Epoch 6/25\n",
      "9600/9600 [==============================] - 35s 4ms/step - loss: 0.3834 - accuracy: 0.8626 - val_loss: 0.4069 - val_accuracy: 0.8559\n",
      "Epoch 7/25\n",
      "9600/9600 [==============================] - 34s 4ms/step - loss: 0.3777 - accuracy: 0.8644 - val_loss: 0.4089 - val_accuracy: 0.8575\n",
      "Epoch 8/25\n",
      "9600/9600 [==============================] - 35s 4ms/step - loss: 0.3702 - accuracy: 0.8665 - val_loss: 0.3818 - val_accuracy: 0.8652\n",
      "Epoch 9/25\n",
      "9600/9600 [==============================] - 34s 4ms/step - loss: 0.3638 - accuracy: 0.8684 - val_loss: 0.3934 - val_accuracy: 0.8608\n",
      "Epoch 10/25\n",
      "9600/9600 [==============================] - 35s 4ms/step - loss: 0.3593 - accuracy: 0.8701 - val_loss: 0.4030 - val_accuracy: 0.8595\n",
      "Epoch 11/25\n",
      "9600/9600 [==============================] - 34s 4ms/step - loss: 0.3550 - accuracy: 0.8708 - val_loss: 0.3856 - val_accuracy: 0.8633\n",
      "Epoch 12/25\n",
      "9600/9600 [==============================] - 34s 4ms/step - loss: 0.3512 - accuracy: 0.8729 - val_loss: 0.4376 - val_accuracy: 0.8486\n",
      "Epoch 13/25\n",
      "9600/9600 [==============================] - 35s 4ms/step - loss: 0.3485 - accuracy: 0.8735 - val_loss: 0.4105 - val_accuracy: 0.8547\n",
      "Epoch 14/25\n",
      "9600/9600 [==============================] - 35s 4ms/step - loss: 0.3440 - accuracy: 0.8733 - val_loss: 0.4174 - val_accuracy: 0.8526\n",
      "Epoch 15/25\n",
      "9600/9600 [==============================] - 35s 4ms/step - loss: 0.3419 - accuracy: 0.8756 - val_loss: 0.4077 - val_accuracy: 0.8567\n",
      "Epoch 16/25\n",
      "9600/9600 [==============================] - 34s 4ms/step - loss: 0.3383 - accuracy: 0.8780 - val_loss: 0.4206 - val_accuracy: 0.8563\n",
      "Epoch 17/25\n",
      "9600/9600 [==============================] - 35s 4ms/step - loss: 0.3363 - accuracy: 0.8775 - val_loss: 0.3911 - val_accuracy: 0.8662\n",
      "Epoch 18/25\n",
      "9600/9600 [==============================] - 34s 4ms/step - loss: 0.3334 - accuracy: 0.8774 - val_loss: 0.4223 - val_accuracy: 0.8507\n",
      "Epoch 19/25\n",
      "9600/9600 [==============================] - 37s 4ms/step - loss: 0.3321 - accuracy: 0.8789 - val_loss: 0.3957 - val_accuracy: 0.8642\n",
      "Epoch 20/25\n",
      "9600/9600 [==============================] - 37s 4ms/step - loss: 0.3276 - accuracy: 0.8800 - val_loss: 0.3855 - val_accuracy: 0.8691\n",
      "Epoch 21/25\n",
      "9600/9600 [==============================] - 35s 4ms/step - loss: 0.3268 - accuracy: 0.8803 - val_loss: 0.3988 - val_accuracy: 0.8643\n",
      "Epoch 22/25\n",
      "9600/9600 [==============================] - 36s 4ms/step - loss: 0.3254 - accuracy: 0.8810 - val_loss: 0.4131 - val_accuracy: 0.8583\n",
      "Epoch 23/25\n",
      "9600/9600 [==============================] - 35s 4ms/step - loss: 0.3231 - accuracy: 0.8812 - val_loss: 0.4130 - val_accuracy: 0.8585\n",
      "Epoch 24/25\n",
      "9600/9600 [==============================] - 36s 4ms/step - loss: 0.3220 - accuracy: 0.8821 - val_loss: 0.3945 - val_accuracy: 0.8677\n",
      "Epoch 25/25\n",
      "9600/9600 [==============================] - 35s 4ms/step - loss: 0.3199 - accuracy: 0.8823 - val_loss: 0.4030 - val_accuracy: 0.8652\n",
      "313/313 [==============================] - 1s 3ms/step - loss: 0.4178 - accuracy: 0.8539\n",
      "Test results - Loss: 0.4177928566932678 - Accuracy: 85.39000153541565%\n"
     ]
    }
   ],
   "source": [
    "# Enter your solution here\n",
    "feature_vector_shape = X_train.shape[1]\n",
    "input_shape = (feature_vector_shape,)\n",
    "num_classes = 10\n",
    "loss_function_used = SparseCategoricalCrossentropy()\n",
    "\n",
    "model = Sequential()\n",
    "model.add(Dense(12, input_shape=input_shape, activation='relu', kernel_initializer='he_uniform'))\n",
    "model.add(Dense(8, activation='relu', kernel_initializer='he_uniform'))\n",
    "model.add(Dense(num_classes, activation='softmax'))\n",
    "\n",
    "\n",
    "model.compile(loss=loss_function_used, optimizer=tf.keras.optimizers.Adam(lr=0.001), metrics=['accuracy'])\n",
    "history = model.fit(X_train, y_train, epochs=25, batch_size=5, verbose=1, validation_split=0.2)\n",
    "\n",
    "test_results = model.evaluate(X_test, y_test, verbose=1)\n",
    "print(f'Test results - Loss: {test_results[0]} - Accuracy: {test_results[1]*100}%')"
   ]
  },
  {
   "cell_type": "markdown",
   "metadata": {},
   "source": [
    "<details>\n",
    "    <summary>Click here for Solution</summary>\n",
    "\n",
    "```python\n",
    "feature_vector_shape = X_train.shape[1]\n",
    "input_shape = (feature_vector_shape,)\n",
    "num_classes = 10\n",
    "loss_function_used = SparseCategoricalCrossentropy()\n",
    "\n",
    "model = Sequential()\n",
    "model.add(Dense(12, input_shape=input_shape, activation='relu', kernel_initializer='he_uniform'))\n",
    "model.add(Dense(8, activation='relu', kernel_initializer='he_uniform'))\n",
    "model.add(Dense(num_classes, activation='softmax'))\n",
    "\n",
    "\n",
    "model.compile(loss=loss_function_used, optimizer=tf.keras.optimizers.Adam(lr=0.001), metrics=['accuracy'])\n",
    "history = model.fit(X_train, y_train, epochs=25, batch_size=5, verbose=1, validation_split=0.2)\n",
    "\n",
    "test_results = model.evaluate(X_test, y_test, verbose=1)\n",
    "print(f'Test results - Loss: {test_results[0]} - Accuracy: {test_results[1]*100}%')\n",
    "\n",
    "```\n",
    "\n",
    "</details>\n"
   ]
  },
  {
   "cell_type": "markdown",
   "metadata": {},
   "source": [
    "## References\n"
   ]
  },
  {
   "cell_type": "markdown",
   "metadata": {},
   "source": [
    "Bishop, C., 2006. Pattern Recognition and Machine Learning.\n"
   ]
  },
  {
   "cell_type": "markdown",
   "metadata": {},
   "source": [
    "## Authors\n"
   ]
  },
  {
   "cell_type": "markdown",
   "metadata": {},
   "source": [
    "[Kopal Garg](https://www.linkedin.com/in/gargkopal/?utm_medium=Exinfluencer&utm_source=Exinfluencer&utm_content=000026UJ&utm_term=10006555&utm_id=NA-SkillsNetwork-Channel-SkillsNetworkCoursesIBMDeveloperSkillsNetworkML311Coursera35714171-2022-01-01)\n"
   ]
  },
  {
   "cell_type": "markdown",
   "metadata": {},
   "source": [
    "## Change Log\n"
   ]
  },
  {
   "cell_type": "markdown",
   "metadata": {},
   "source": [
    "|Date (YYYY-MM-DD)|Version|Changed By|Change Description|\n",
    "|-|-|-|-|\n",
    "|2022-05-20|0.1|Kopal Garg|Create Lab|\n",
    "|2022-09-06|0.1|Steve Hord|QA pass edits|\n"
   ]
  },
  {
   "cell_type": "markdown",
   "metadata": {},
   "source": [
    "Copyright © 2022 IBM Corporation. All rights reserved.\n"
   ]
  }
 ],
 "metadata": {
  "kernelspec": {
   "display_name": "Python",
   "language": "python",
   "name": "conda-env-python-py"
  },
  "language_info": {
   "codemirror_mode": {
    "name": "ipython",
    "version": 3
   },
   "file_extension": ".py",
   "mimetype": "text/x-python",
   "name": "python",
   "nbconvert_exporter": "python",
   "pygments_lexer": "ipython3",
   "version": "3.7.12"
  },
  "prev_pub_hash": "7c554d395fcc33239e85a68a8ac8696e4a54ba7070f2eb51e600e9d7ce57417d"
 },
 "nbformat": 4,
 "nbformat_minor": 4
}
