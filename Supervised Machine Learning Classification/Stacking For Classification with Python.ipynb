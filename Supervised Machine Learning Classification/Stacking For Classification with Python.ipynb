{
 "cells": [
  {
   "cell_type": "markdown",
   "id": "4b6a55c4-2e2c-4e6f-839f-7b3137d15977",
   "metadata": {},
   "source": [
    "<center>\n",
    "    <img src=\"https://cf-courses-data.s3.us.cloud-object-storage.appdomain.cloud/IBMDeveloperSkillsNetwork-ML0101EN-SkillsNetwork/labs/Module%203/images/IDSNlogo.png\" width=\"300\" alt=\"cognitiveclass.ai logo\">\n",
    "</center>\n",
    "\n",
    "# Stacking For Classification with Python\n",
    "\n",
    "Estimated time needed: **45** minutes\n",
    "\n",
    "## Objectives\n",
    "\n",
    "After completing this lab you will be able to:\n",
    "\n",
    "*   **Understand** what Stacking is and how it works\n",
    "*   **Understand**  that Random Forests have less Correlation between predictors in their ensemble, improving accuracy\n",
    "*   **Apply** Stacking\n",
    "*   **Understand** Hyperparameters selection in  Stacking\n"
   ]
  },
  {
   "cell_type": "markdown",
   "id": "2c4bf285-480b-4786-bbf5-94a64558fa58",
   "metadata": {},
   "source": [
    "Stacking takes several classification models called base learners and uses their output as the input for the meta-classifier. Consider the figure below the base learners $h_{1}(x)$, $h_{2}(x)$, $h_{3}(x)$, and $h_{4}(x)$ has the output $\\hat{y}_{1}$, $\\hat{y}_{2}$, $\\hat{y}_{3}$, $\\hat{y}_{4}$. These are used as an input to the meta classifier $H( \\hat{y}_{1}, \\hat{y}_{2}, \\hat{y}_{3}, \\hat{y}_{4})$, makes the final prediction $\\hat{y}=H( \\hat{y}_{1}, \\hat{y}_{2}, \\hat{y}_{3}, \\hat{y}_{4})$.\n"
   ]
  },
  {
   "cell_type": "markdown",
   "id": "36c98f42-65b4-41f6-95f3-80307b7c6cd1",
   "metadata": {},
   "source": [
    "<center>\n",
    "    <img src=\"https://cf-courses-data.s3.us.cloud-object-storage.appdomain.cloud/IBM-ML241EN-SkillsNetwork/labs/module5_Ensemble_Based_Methods/Screen_Shot_2022-01-12_at_9.40.33_PM.png\" width=\"1000\" alt=\"cognitiveclass.ai logo\">\n",
    "</center>\n",
    "<center>Fig. 1 Stacking takes several classification models called base learners and uses their output as the input for the meta-classifier. </center>\n"
   ]
  },
  {
   "cell_type": "markdown",
   "id": "6393741d-925e-4684-b338-0d80be73284b",
   "metadata": {},
   "source": [
    "We can train all the models using all the data but this causes over-fitting. To get a better idea of how the algorithm works we use K-fold Cross-validation. We use K-1 folds to train the base classifiers and the last fold to train the meta classifier. We repeat the process using different combinations of each fold. This is shown in Fig 2 where the color-coded square represents the different runs and folds. Each row represents a different run of K fold cross-validation, each column is one of K folds where K=3. For each column, we use the same color columns to train the classifiers and the different color is used to train the meta classifier.\n"
   ]
  },
  {
   "cell_type": "markdown",
   "id": "a3db3041-0185-4bab-8060-4918ca4df20a",
   "metadata": {},
   "source": [
    "<center>\n",
    "    <img src=\"https://cf-courses-data.s3.us.cloud-object-storage.appdomain.cloud/IBM-ML241EN-SkillsNetwork/labs/module5_Ensemble_Based_Methods/stacking-kfold.png\" width=\"1000\" alt=\"cognitiveclass.ai logo\">\n",
    "</center>\n",
    "<center>Fig. 2  K-fold Cross-validation to train Stacking classifier. </center>\n"
   ]
  },
  {
   "cell_type": "markdown",
   "id": "e42290d5-6bf1-4f96-9e41-eec6fdbf317f",
   "metadata": {},
   "source": [
    "<h1>Table of contents</h1>\n",
    "\n",
    "<div class=\"alert alert-block alert-info\" style=\"margin-top: 20px\">\n",
    "    <ol>\n",
    "        <li><a>Apply Staking Using Wine Data </a></li>\n",
    "        <li><a href=\"https://practice/?utm_medium=Exinfluencer&utm_source=Exinfluencer&utm_content=000026UJ&utm_term=10006555&utm_id=NA-SkillsNetwork-Channel-SkillsNetworkCoursesIBMML241ENSkillsNetwork31576874-2022-01-01\">Practice</a></li>\n",
    "        <li><a>Cancer Data Example</a></li>\n",
    "    </ol>\n",
    "</div>\n",
    "<br>\n",
    "<hr>\n"
   ]
  },
  {
   "cell_type": "markdown",
   "id": "f7dc9e60-9681-42a6-b0fc-eac2e76486cd",
   "metadata": {},
   "source": [
    "First, let's install and import the required libraries:\n"
   ]
  },
  {
   "cell_type": "raw",
   "metadata": {},
   "source": [
    "# All Libraries required for this lab are listed below. The libraries, pre-installed on Skills Network Labs are commented.\n",
    "# !mamba install -qy pandas==1.3.3 numpy==1.21.2 ipywidgets==7.4.2 scipy==7.4.2 tqdm==4.62.3 matplotlib==3.5.0 seaborn==0.9.0\n",
    "\n",
    "# You will need scikit-learn>=0.22.0 as StackingClassifier does not exist in version <0.22.0\n",
    "!mamba install -c conda-forge -qy scikit-learn=0.22.1\n",
    "!pip install pandas\n",
    "!pip install numpy\n",
    "!pip install matplotlib   \n",
    "!pip install seaborn\n",
    "\n",
    "\n",
    "# Note: If your environment doesn't support \"!mamba install\", use \"!pip install\""
   ]
  },
  {
   "cell_type": "code",
   "execution_count": null,
   "id": "b4a3286c-b737-4ad4-b26f-c4ccee54ff0c",
   "metadata": {},
   "outputs": [],
   "source": [
    "import pandas as pd\n",
    "# import pylab as plt\n",
    "import numpy as np\n",
    "import scipy.optimize as opt\n",
    "from sklearn import preprocessing\n",
    "import matplotlib.pyplot as plt\n",
    "%matplotlib inline\n",
    "from sklearn import metrics\n",
    "from sklearn.model_selection import GridSearchCV\n",
    "import seaborn as sns\n",
    "from sklearn import preprocessing\n",
    "from sklearn.ensemble import StackingClassifier\n",
    "from sklearn.svm import SVC\n",
    "from sklearn.neighbors import KNeighborsClassifier\n",
    "from sklearn.tree import DecisionTreeClassifier\n",
    "from sklearn.linear_model import LogisticRegression"
   ]
  },
  {
   "cell_type": "markdown",
   "id": "dea76a0d-dd25-44ac-bf54-fe71de4fdbda",
   "metadata": {},
   "source": [
    "Ignore error warnings\n"
   ]
  },
  {
   "cell_type": "code",
   "execution_count": null,
   "id": "83c26021-99e6-4eab-be8d-556d3acbd674",
   "metadata": {},
   "outputs": [],
   "source": [
    "import warnings\n",
    "warnings.filterwarnings('ignore')"
   ]
  },
  {
   "cell_type": "markdown",
   "id": "ff57e15b-1f08-479a-b819-cc0aac372b5e",
   "metadata": {},
   "source": [
    "This function will calculate the accuracy of the training and testing data given a model.\n"
   ]
  },
  {
   "cell_type": "code",
   "execution_count": null,
   "id": "c62c4a6f-5392-4329-a119-bb30f56fe4df",
   "metadata": {},
   "outputs": [],
   "source": [
    "def get_accuracy(X_train, X_test, y_train, y_test, model):\n",
    "    return  {\"test Accuracy\":metrics.accuracy_score(y_test, model.predict(X_test)),\"trian Accuracy\": metrics.accuracy_score(y_train, model.predict(X_train))}"
   ]
  },
  {
   "cell_type": "markdown",
   "id": "aae47938-3662-4c88-a561-80991cae50d2",
   "metadata": {},
   "source": [
    "<h1>Apply   Staking Using   Wine Data  </h1>\n",
    "\n",
    "The class is an essential factor in determining the quality of the wine; this dataset uses chemical analysis of wines grown in the same region in Italy from three different cultivars. Your task is to determine the class  of the wine using the features from the chemical analysis.\n",
    "The features or attributes include\n",
    "\n",
    "<pre>\n",
    "1) Alcohol\n",
    "2) Malic acid\n",
    "3) Ash\n",
    "4) Alcalinity of ash\n",
    "5) Magnesium\n",
    "6) Total phenols\n",
    "7) Flavanoids\n",
    "8) Nonflavanoid phenols\n",
    "9) Proanthocyanins\n",
    "10)Color intensity\n",
    "11)Hue\n",
    "12)OD280/OD315 of diluted wines\n",
    "13)Proline\n",
    "</pre>\n",
    "\n",
    "For more info <a href=\"https://archive.ics.uci.edu/ml/datasets/wine?utm_medium=Exinfluencer&utm_source=Exinfluencer&utm_content=000026UJ&utm_term=10006555&utm_id=NA-SkillsNetwork-Channel-SkillsNetworkCoursesIBMML241ENSkillsNetwork31576874-2022-01-01\">here </a>,let's load the dataset:\n"
   ]
  },
  {
   "cell_type": "code",
   "execution_count": null,
   "id": "133ed8c2-8826-4333-88b9-bf1104933c22",
   "metadata": {},
   "outputs": [],
   "source": [
    "df = pd.read_csv(\"https://cf-courses-data.s3.us.cloud-object-storage.appdomain.cloud/IBM-ML241EN-SkillsNetwork/labs/datasets/wine.data\",names= ['Class', 'Alcohol', 'Malic acid', 'Ash',\n",
    "         'Alcalinity of ash' ,'Magnesium', 'Total phenols',\n",
    "         'Flavanoids', 'Nonflavanoid phenols', 'Proanthocyanins',     'Color intensity', 'Hue', 'OD280/OD315 of diluted wines',\n",
    "         'Proline'])\n",
    "\n",
    "df.head()"
   ]
  },
  {
   "cell_type": "markdown",
   "id": "bde8a515-b3c9-4bda-b252-85364e420a0f",
   "metadata": {},
   "source": [
    "We see all the dataset is comprised of numerical values using the method <code>dtypes</code>\n"
   ]
  },
  {
   "cell_type": "code",
   "execution_count": null,
   "id": "29d0f7fc-b489-4505-8fa1-c9081e26ff4c",
   "metadata": {},
   "outputs": [],
   "source": [
    "df.dtypes"
   ]
  },
  {
   "cell_type": "markdown",
   "id": "9bdd3cb0-9621-4929-a4b8-7f0f248eccbe",
   "metadata": {},
   "source": [
    "the column <code>class</code> has the class of the wine, we can use the method <code>unique()</code> to obtain the classes:\n"
   ]
  },
  {
   "cell_type": "code",
   "execution_count": null,
   "id": "58ea6055-d419-42f8-b4e8-159cc97f53fd",
   "metadata": {},
   "outputs": [],
   "source": [
    "df['Class'].unique()"
   ]
  },
  {
   "cell_type": "markdown",
   "id": "c4aae805-20c8-425a-8a6d-23d1a391fe0c",
   "metadata": {},
   "source": [
    "We can examine the correlation between each feature and the class variable. By examining the first row or column we see the features are correlated with the class variable.\n"
   ]
  },
  {
   "cell_type": "code",
   "execution_count": null,
   "id": "8e34c6c0-3009-4c5f-9fc2-d06f3c269767",
   "metadata": {},
   "outputs": [],
   "source": [
    "colormap = plt.cm.RdBu\n",
    "plt.figure(figsize=(14,12))\n",
    "plt.title('Pearson Correlation of Features', y=1.05, size=15)\n",
    "sns.heatmap(df.astype(float).corr(),linewidths=0.1,vmax=1.0, \n",
    "            square=True, cmap=colormap, linecolor='white', annot=True)\n",
    "plt.show()"
   ]
  },
  {
   "cell_type": "markdown",
   "id": "49d8f4ea-e48b-428b-a024-54068605a664",
   "metadata": {},
   "source": [
    "We can also examine the <code>Pairplot</code> between pairs of features and the histogram; color-coded to each class. We see the separation between different classes:\n"
   ]
  },
  {
   "cell_type": "code",
   "execution_count": null,
   "id": "dcc4b38f-37d7-493e-993e-77cb4179dd1f",
   "metadata": {},
   "outputs": [],
   "source": [
    "# May need to specify bandwidth (bw) in order to plot, else can delete the `, diag_kws={'bw': 0.2})` code.\n",
    "sns.pairplot(df, hue=\"Class\", diag_kws={'bw': 0.2})"
   ]
  },
  {
   "cell_type": "markdown",
   "id": "26aebed4-c70e-4884-944c-3b52ae43e1bc",
   "metadata": {},
   "source": [
    "### Data Pre-Processing and Selection\n"
   ]
  },
  {
   "cell_type": "markdown",
   "id": "62bb26d1-0046-429f-a653-9dd4aba87c9c",
   "metadata": {},
   "source": [
    "Let’s examine the feature list\n"
   ]
  },
  {
   "cell_type": "code",
   "execution_count": null,
   "id": "8647a193-6d3b-4e49-8662-67c0f040afdf",
   "metadata": {},
   "outputs": [],
   "source": [
    "features=list(df)\n",
    "features[1:]"
   ]
  },
  {
   "cell_type": "markdown",
   "id": "2ec403c5-f11f-476f-aaa8-7ee61dbbd2f3",
   "metadata": {},
   "source": [
    "We assign the class variables to <code>y</code> and feature variables to <code>X</code>\n"
   ]
  },
  {
   "cell_type": "code",
   "execution_count": null,
   "id": "d747958f-9136-4734-abf6-b02466e8ed9f",
   "metadata": {},
   "outputs": [],
   "source": [
    "y,X=df[features[0]] ,df[features[1:]]"
   ]
  },
  {
   "cell_type": "markdown",
   "id": "1ecf167d-e547-4a85-af9c-04cf50eb0ec5",
   "metadata": {},
   "source": [
    "We can standardize the data\n"
   ]
  },
  {
   "cell_type": "code",
   "execution_count": null,
   "id": "984807e2-1338-4997-a7c1-c69ae1399e3a",
   "metadata": {},
   "outputs": [],
   "source": [
    "scaler = preprocessing.StandardScaler().fit(X)\n",
    "X= scaler.transform(X)"
   ]
  },
  {
   "cell_type": "markdown",
   "id": "3bc22b96-e144-44d6-a78e-ed5856cd0c58",
   "metadata": {},
   "source": [
    "We can check if the data is standardized by checking the mean and standard deviation, which are approximately zero:\n"
   ]
  },
  {
   "cell_type": "code",
   "execution_count": null,
   "id": "d6cad257-e5f1-4bda-b74c-5bd15fe948df",
   "metadata": {},
   "outputs": [],
   "source": [
    "X.mean(axis=0)"
   ]
  },
  {
   "cell_type": "code",
   "execution_count": null,
   "id": "ba7a3d7a-358a-4d20-a1d5-312ee91aedb5",
   "metadata": {},
   "outputs": [],
   "source": [
    "X.std(axis=0)"
   ]
  },
  {
   "cell_type": "markdown",
   "id": "afb1867e-c338-4365-8e94-bce5ebc7d6d3",
   "metadata": {},
   "source": [
    "In Random Forest, we would use these data subsets to train each node of a tree.\n"
   ]
  },
  {
   "cell_type": "markdown",
   "id": "f53544a9-41b5-4354-ba37-c6468dd9dcd0",
   "metadata": {},
   "source": [
    "### Train/Test dataset\n"
   ]
  },
  {
   "cell_type": "markdown",
   "id": "9dce8675-d4ba-4d6c-89dd-cb32619b71e4",
   "metadata": {},
   "source": [
    "We split our dataset into train and test set:\n"
   ]
  },
  {
   "cell_type": "code",
   "execution_count": null,
   "id": "be4d18b8-aa7e-442d-8e41-69290b2e859d",
   "metadata": {},
   "outputs": [],
   "source": [
    "from sklearn.model_selection import train_test_split\n",
    "X_train, X_test, y_train, y_test = train_test_split( X, y, test_size=0.3, random_state=1)\n",
    "print ('Train set', X_train.shape,  y_train.shape)\n",
    "print ('Test set', X_test.shape,  y_test.shape)"
   ]
  },
  {
   "cell_type": "markdown",
   "id": "6b8e6064-3dc4-4fb5-85ea-e152dd8a57b0",
   "metadata": {},
   "source": [
    "Stacking consists of creating a Stacking Classifier object, but first, you require a dictionary of <code>estimators</code> (individual model objects or base learners). The key of the dictionary is a name that is up to you, we use the usual acronym for the model. The value is the model object in this case SVC for Support Vector Classifier, dt for Decision Tree Classifier and KNN for K Neighbors Classifier.\n"
   ]
  },
  {
   "cell_type": "code",
   "execution_count": null,
   "id": "b09f98c2-cc0f-4f13-bf61-a0b0d8dbfb9b",
   "metadata": {},
   "outputs": [],
   "source": [
    "estimators = [('SVM',SVC(random_state=42)),('KNN',KNeighborsClassifier()),('dt',DecisionTreeClassifier())]\n",
    "estimators"
   ]
  },
  {
   "cell_type": "markdown",
   "id": "08d40ab7-545d-4d57-93cd-b3a9e56bf5da",
   "metadata": {},
   "source": [
    "To train the final model we create a Stacking Classifier, this combines the base estimators using the meta estimator. The meta-classifier is determined by the parameter <code>final_estimator</code> in this case we use Logistic Regression, we also input the base classifiers using the <code>estimators</code> parameter and fit the model.\n"
   ]
  },
  {
   "cell_type": "code",
   "execution_count": null,
   "id": "44622135-6db5-4889-ab1a-fcb1b8e1e775",
   "metadata": {},
   "outputs": [],
   "source": [
    "clf = StackingClassifier( estimators=estimators, final_estimator= LogisticRegression())\n",
    "clf.fit(X_train, y_train)\n",
    "clf"
   ]
  },
  {
   "cell_type": "markdown",
   "id": "09456f52-7a1a-453e-a5be-895dd39dfeda",
   "metadata": {},
   "source": [
    "We can make a prediction\n"
   ]
  },
  {
   "cell_type": "code",
   "execution_count": null,
   "id": "12b872ac-4cec-4265-ba7b-b3e195d7e852",
   "metadata": {},
   "outputs": [],
   "source": [
    "yhat=clf.predict(X_test)\n",
    "yhat"
   ]
  },
  {
   "cell_type": "markdown",
   "id": "65c687e9-02d7-4639-b1fb-df37056bf7bd",
   "metadata": {},
   "source": [
    "We can obtain the training and testing accuracy, we see the model performs well.\n"
   ]
  },
  {
   "cell_type": "code",
   "execution_count": null,
   "id": "495956f0-3c2a-4b76-b751-40c2ca6ab1aa",
   "metadata": {},
   "outputs": [],
   "source": [
    "get_accuracy(X_train, X_test, y_train, y_test, clf)"
   ]
  },
  {
   "cell_type": "markdown",
   "id": "9ab53605-805b-470d-a5c8-2af89c86916f",
   "metadata": {},
   "source": [
    "<div style=\"color:red\">\n"
   ]
  },
  {
   "cell_type": "markdown",
   "id": "621b1d52-9972-4780-b6e2-7fc74e4699d4",
   "metadata": {},
   "source": [
    "<div style=\"color:red\">\n",
    "   <b> Note: Like most complex models Stacking is prone to overfitting</b>\n"
   ]
  },
  {
   "cell_type": "markdown",
   "id": "6c53f768-9423-4b28-816e-9b4f385a6213",
   "metadata": {},
   "source": [
    "<h1>Practice</h1>\n"
   ]
  },
  {
   "cell_type": "markdown",
   "id": "84362457-2d82-4c87-b5a3-5a7ff657765a",
   "metadata": {},
   "source": [
    "Create a Stacking Classifier object as before but exchange the Decision Tree Classifier with the SVM classifier. Calculate the accuracy on the training and testing data.\n"
   ]
  },
  {
   "cell_type": "code",
   "execution_count": null,
   "id": "4cd1e98f-ea16-45e2-b4ed-bc0f9d44e099",
   "metadata": {},
   "outputs": [],
   "source": [
    "estimators = [('SVM',SVC(random_state=42)),('KNN',KNeighborsClassifier()),('lr',LogisticRegression())]\n",
    "clf = StackingClassifier( estimators=estimators, final_estimator= DecisionTreeClassifier())\n",
    "clf.fit(X_train, y_train)\n",
    "\n",
    "get_accuracy(X_train, X_test, y_train, y_test, clf)"
   ]
  },
  {
   "cell_type": "markdown",
   "id": "6d97ef69-625d-4ef9-8f9c-87c9b11c7dd2",
   "metadata": {},
   "source": [
    "<details><summary>Click here for the solution</summary>\n",
    "\n",
    "```python\n",
    "estimators = [('SVM',SVC(random_state=42)),('KNN',KNeighborsClassifier()),('lr',LogisticRegression())]\n",
    "clf = StackingClassifier( estimators=estimators, final_estimator= DecisionTreeClassifier())\n",
    "clf.fit(X_train, y_train)\n",
    "\n",
    "get_accuracy(X_train, X_test, y_train, y_test, clf)\n",
    "\n",
    "```\n",
    "\n",
    "</details>\n"
   ]
  },
  {
   "cell_type": "markdown",
   "id": "9d332b19-5e26-4d78-8c66-3376ea2701bf",
   "metadata": {},
   "source": [
    "<h1> GridSearchCV and Stacking Classifiers  </h1>\n"
   ]
  },
  {
   "cell_type": "markdown",
   "id": "774ba4ee-9167-43b3-8eb6-ab27399d970e",
   "metadata": {},
   "source": [
    "Imagine that you are a medical researcher compiling data for a study. You have collected data about a set of patients, all of whom suffered from the same illness. During their course of treatment, each patient responded to one of 5 medications, Drug A, Drug B, Drug c, Drug x and y.\n",
    "\n",
    "Part of your job is to build a model to find out which drug might be appropriate for a future patient with the same illness. The features of this dataset are Age, Sex, Blood Pressure, and the Cholesterol of the patients, and the target is the drug that each patient responded to.\n",
    "\n",
    "It is a sample of multiclass classifier, and you can use the training part of the dataset to build a decision tree, and then use it to predict the class of a unknown patient, or to prescribe a drug to a new patient. You will use GridSearchCV and Stacking Classifiers  to find the best results.\n"
   ]
  },
  {
   "cell_type": "code",
   "execution_count": null,
   "id": "05158678-7a0c-4493-9fde-18fbb8be74d0",
   "metadata": {},
   "outputs": [],
   "source": [
    "df = pd.read_csv(\"https://cf-courses-data.s3.us.cloud-object-storage.appdomain.cloud/IBMDeveloperSkillsNetwork-ML0101EN-SkillsNetwork/labs/Module%203/data/drug200.csv\", delimiter=\",\")\n",
    "df.head()"
   ]
  },
  {
   "cell_type": "markdown",
   "id": "d66379d0-f3ee-4094-995b-b7993910f902",
   "metadata": {},
   "source": [
    "Let's create the X and y for our dataset:\n"
   ]
  },
  {
   "cell_type": "code",
   "execution_count": null,
   "id": "56828758-1f63-414d-a3a3-6395ff57ded6",
   "metadata": {},
   "outputs": [],
   "source": [
    "X = df[['Age', 'Sex', 'BP', 'Cholesterol', 'Na_to_K']].values\n",
    "X[0:5]"
   ]
  },
  {
   "cell_type": "code",
   "execution_count": null,
   "id": "c515af1f-d221-4feb-ae32-8dd91c14ea0a",
   "metadata": {},
   "outputs": [],
   "source": [
    "y = df[\"Drug\"]\n",
    "y[0:5]"
   ]
  },
  {
   "cell_type": "markdown",
   "id": "598e7b19-07b3-4d99-9aa5-040033d58d36",
   "metadata": {},
   "source": [
    "Now lets use a <code>LabelEncoder</code> to turn categorical features into numerical:\n"
   ]
  },
  {
   "cell_type": "code",
   "execution_count": null,
   "id": "f1a92d7c-3686-4241-b92b-ce4d0995f1a5",
   "metadata": {},
   "outputs": [],
   "source": [
    "from sklearn import preprocessing\n",
    "le_sex = preprocessing.LabelEncoder()\n",
    "le_sex.fit(['F','M'])\n",
    "X[:,1] = le_sex.transform(X[:,1]) \n",
    "\n",
    "\n",
    "le_BP = preprocessing.LabelEncoder()\n",
    "le_BP.fit([ 'LOW', 'NORMAL', 'HIGH'])\n",
    "X[:,2] = le_BP.transform(X[:,2])\n",
    "\n",
    "\n",
    "le_Chol = preprocessing.LabelEncoder()\n",
    "le_Chol.fit([ 'NORMAL', 'HIGH'])\n",
    "X[:,3] = le_Chol.transform(X[:,3]) \n",
    "\n",
    "X[0:5]"
   ]
  },
  {
   "cell_type": "code",
   "execution_count": null,
   "id": "418b5b3f-59da-41e2-a914-5f55587b84c8",
   "metadata": {},
   "outputs": [],
   "source": [
    "scaler = preprocessing.StandardScaler().fit(X)\n",
    "X= scaler.transform(X)"
   ]
  },
  {
   "cell_type": "markdown",
   "id": "75af6cdb-1466-410e-9d36-a5a517857c3d",
   "metadata": {},
   "source": [
    "Split the data into training and testing data with a 80/20 split\n"
   ]
  },
  {
   "cell_type": "code",
   "execution_count": null,
   "id": "45228af3-bd46-49c6-a167-50b6e2dde44d",
   "metadata": {},
   "outputs": [],
   "source": [
    "X_train, X_test, y_train, y_test = train_test_split( X, y, test_size=0.3, random_state=4)\n",
    "print ('Train set:', X_train.shape,  y_train.shape)\n",
    "print ('Test set:', X_test.shape,  y_test.shape)"
   ]
  },
  {
   "cell_type": "markdown",
   "id": "2a4633b4-a0cb-468c-9697-cea722a703a8",
   "metadata": {},
   "source": [
    "We have our dictionary of estimators, the individual model objects or base learners.\n"
   ]
  },
  {
   "cell_type": "code",
   "execution_count": null,
   "id": "f23d3430-7147-43dd-a93e-7794460b4ecb",
   "metadata": {},
   "outputs": [],
   "source": [
    "estimators = [('SVM',SVC(random_state=42)),('knn',KNeighborsClassifier()),('dt',DecisionTreeClassifier())]\n",
    "estimators"
   ]
  },
  {
   "cell_type": "markdown",
   "id": "a54e35c8-5232-4b33-911b-3f6e51af81ad",
   "metadata": {},
   "source": [
    "We create a Stacking Classifier:\n"
   ]
  },
  {
   "cell_type": "code",
   "execution_count": null,
   "id": "8e968c6f-90b9-4ace-8e2b-30a725fe65e5",
   "metadata": {},
   "outputs": [],
   "source": [
    "clf = StackingClassifier( estimators=estimators, final_estimator= LogisticRegression())\n",
    "clf"
   ]
  },
  {
   "cell_type": "markdown",
   "id": "75165854-a41c-4677-baa7-e322cd95d197",
   "metadata": {},
   "source": [
    "In order to alter the base models in the dictionary of hyperparameter values, we add the key value of each model followed by the parameter of the model we would like to vary.\n"
   ]
  },
  {
   "cell_type": "code",
   "execution_count": null,
   "id": "0d37b29b-99be-464f-92ee-2c54c8a6477a",
   "metadata": {},
   "outputs": [],
   "source": [
    "param_grid = {'dt__max_depth': [n for n in range(10)],'dt__random_state':[0],'SVM__C':[0.01,0.1,1],'SVM__kernel':['linear', 'poly', 'rbf'],'knn__n_neighbors':[1,4,8,9] }\n"
   ]
  },
  {
   "cell_type": "markdown",
   "id": "fdeb2649-a48c-4bff-a54a-0d337658c503",
   "metadata": {},
   "source": [
    "We use <code>GridSearchCV</code> to search over specified parameter values of the model.\n"
   ]
  },
  {
   "cell_type": "code",
   "execution_count": null,
   "id": "2e2936af-e301-487b-9367-6e5bb5eb7727",
   "metadata": {},
   "outputs": [],
   "source": [
    "search = GridSearchCV(estimator=clf, param_grid=param_grid,scoring='accuracy')\n",
    "search.fit(X_train, y_train)"
   ]
  },
  {
   "cell_type": "markdown",
   "id": "1724e79e-0eec-47be-8e17-98be117e253b",
   "metadata": {},
   "source": [
    "We can find the accuracy of the best model.\n"
   ]
  },
  {
   "cell_type": "code",
   "execution_count": null,
   "id": "75488972-92e8-4536-b21e-8b96da277a64",
   "metadata": {},
   "outputs": [],
   "source": [
    "search.best_score_"
   ]
  },
  {
   "cell_type": "markdown",
   "id": "ebd7a085-537f-4fe2-80b6-0a5c320fca90",
   "metadata": {},
   "source": [
    "We can find the best parameter values:\n"
   ]
  },
  {
   "cell_type": "code",
   "execution_count": null,
   "id": "44cbf842-1d60-4e72-8f6d-48f08a68ca50",
   "metadata": {},
   "outputs": [],
   "source": [
    "search.best_params_"
   ]
  },
  {
   "cell_type": "markdown",
   "id": "3b2cf9e0-2d09-4522-88d7-b40fa999587d",
   "metadata": {},
   "source": [
    "We can find the accuracy test data:\n"
   ]
  },
  {
   "cell_type": "code",
   "execution_count": null,
   "id": "ce462c0d-f66d-4eaf-bc29-0868d11764eb",
   "metadata": {},
   "outputs": [],
   "source": [
    "get_accuracy(X_train, X_test, y_train, y_test, search)"
   ]
  },
  {
   "cell_type": "code",
   "execution_count": null,
   "id": "2f6265e5-bbc4-4f1e-8de6-ef24c62b22cd",
   "metadata": {},
   "outputs": [],
   "source": [
    "# We use sklearn version 0.20.1 for all other labs, please run this command after finishing the lab\n",
    "\n",
    "!mamba install -c conda-forge -qy scikit-learn=0.20.1"
   ]
  },
  {
   "cell_type": "markdown",
   "id": "3e6919ab-d466-47a8-8fed-6323bdbfc3e7",
   "metadata": {},
   "source": [
    "### Thank you for completing this lab!\n",
    "\n",
    "## Author\n",
    "\n",
    "<a href=\"https://www.linkedin.com/in/joseph-s-50398b136/?utm_medium=Exinfluencer&utm_source=Exinfluencer&utm_content=000026UJ&utm_term=10006555&utm_id=NA-SkillsNetwork-Channel-SkillsNetworkCoursesIBMDeveloperSkillsNetworkML0101ENSkillsNetwork20718538-2021-01-01\" target=\"_blank\">Joseph Santarcangelo</a>\n",
    "\n",
    "### Other Contributors\n",
    "\n",
    "<a href=\"https://www.linkedin.com/in/richard-ye/?utm_medium=Exinfluencer&utm_source=Exinfluencer&utm_content=000026UJ&utm_term=10006555&utm_id=NA-SkillsNetwork-Channel-SkillsNetworkCoursesIBMDeveloperSkillsNetworkML0101ENSkillsNetwork20718538-2021-01-01\" target=\"_blank\">Richard Ye</a>\n",
    "\n",
    "## <h3 align=\"center\"> © IBM Corporation 2021. All rights reserved. <h3/>\n",
    "\n",
    "<!--## Change Log\n",
    "\n",
    "| Date (YYYY-MM-DD) | Version | Changed By | Change Description          |\n",
    "| ----------------- | ------- | ---------- | --------------------------- |\n",
    "| 2021-01-01        | 1.0     | Joseph S   | Created the initial version |\n",
    "| 2022-02-09        | 1.1     | Steve Hord | QA pass                     |\n",
    "| 2022-05-03        | 1.2     | Richard Ye | Updated sklearn package to `0.22.1` to remove errors |--!>\n",
    "\n",
    "\n"
   ]
  }
 ],
 "metadata": {
  "kernelspec": {
   "display_name": "Python 3 (ipykernel)",
   "language": "python",
   "name": "python3"
  },
  "language_info": {
   "codemirror_mode": {
    "name": "ipython",
    "version": 3
   },
   "file_extension": ".py",
   "mimetype": "text/x-python",
   "name": "python",
   "nbconvert_exporter": "python",
   "pygments_lexer": "ipython3",
   "version": "3.10.9"
  },
  "prev_pub_hash": "5d8b76c9c1333ff2d0470d566227fd7ba1c835a6de7ed7d43a8afd95ebafadc4"
 },
 "nbformat": 4,
 "nbformat_minor": 4
}
