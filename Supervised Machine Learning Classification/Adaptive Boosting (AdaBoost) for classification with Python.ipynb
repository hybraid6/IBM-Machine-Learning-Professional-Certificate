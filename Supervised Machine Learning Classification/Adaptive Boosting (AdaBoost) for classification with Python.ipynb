{
 "cells": [
  {
   "cell_type": "markdown",
   "id": "db5da4ba-fd29-4144-ba58-b309b84b9851",
   "metadata": {},
   "source": [
    "<center>\n",
    "    <img src=\"https://cf-courses-data.s3.us.cloud-object-storage.appdomain.cloud/IBMDeveloperSkillsNetwork-ML0101EN-SkillsNetwork/labs/Module%203/images/IDSNlogo.png\" width=\"300\" alt=\"cognitiveclass.ai logo\">\n",
    "</center>\n",
    "\n",
    "# Adaptive Boosting (AdaBoost) for classification with Python\n",
    "\n",
    "Estimated time needed: **45** minutes\n",
    "\n",
    "## Objectives\n",
    "\n",
    "After completing this lab you will be able to:\n",
    "\n",
    "*   Understand  that AdaBoost is a linear combination of  𝑇 weak classifiers\n",
    "*   Apply AdaBoost\n",
    "*   Understand Hyperparameters selection in  AdaBoost\n"
   ]
  },
  {
   "cell_type": "markdown",
   "id": "636c1eae-7657-450c-b3af-951b4344e7ec",
   "metadata": {},
   "source": [
    "In this notebook, you will learn AdaBoost, short for Adaptive Boosting, is a classification algorithm; AdaBoost is actually part of a family of Boosting algorithms. Like Bagging and Random Forest (RF), AdaBoost combines the outputs of many classifiers into an ensemble, but there are some differences. In both Bagging and RF, each classifier in the ensemble is powerful but prone to overfitting. As Bagging or RF aggregate more and more classifiers, they reduce overfitting.\n",
    "\n",
    "With AdaBoost, each Classifier usually has performance slightly better than random. This is referred to as a weak learner or weak classifier. AdaBoost combines these classifiers to get a strong classifier. Unlike Bagging and Random Forest, in AdaBoost, adding more learners can cause overfitting. As a result, AdaBoost requires Hyperparameter tuning, taking more time to train. One advantage of AdaBoost is that each classifier is smaller, so predictions are faster.\n"
   ]
  },
  {
   "cell_type": "markdown",
   "id": "8ea23baf-4034-4a25-a56c-859b2fa46611",
   "metadata": {},
   "source": [
    "In AdaBoost, the strong classifier $H(x)$ is a linear combination of $T$ weak classifiers $h_t(x)$ and $\\alpha_t$ as shown in (1). Although each classifier $h_t(x)$ appears independent, the $\\alpha_t$ contains information about the error of classifiers from $h_1(x),.., h_{t-1}(x)$. As we add more classifiers, the training accuracy gets larger. What’s not so apparent in (1) is that during the training process, the values of that training sample are modified for $h_t(x)$. For a more in depth look at the theory behind Adaboost, check out <a href=\"https://hastie.su.domains/Papers/ESLII.pdf?utm_medium=Exinfluencer&utm_source=Exinfluencer&utm_content=000026UJ&utm_term=10006555&utm_id=NA-SkillsNetwork-Channel-SkillsNetworkCoursesIBMML241ENSkillsNetwork31576874-2022-01-01#page=356\">The Elements of Statistical Learning Data Mining, Inference, and Prediction</a>.\n"
   ]
  },
  {
   "cell_type": "markdown",
   "id": "5514fba9-399a-42dd-b495-80c9033ac6b3",
   "metadata": {},
   "source": [
    "$H(x) = \text{sign}(  \\sum_{t=1}^T \\alpha_t h_t(x) )$ [1]\n"
   ]
  },
  {
   "cell_type": "markdown",
   "id": "a4ee2d4a-961f-4e74-acc4-66f5278c52c4",
   "metadata": {},
   "source": [
    "<h1>Table of contents</h1>\n",
    "\n",
    "<div class=\"alert alert-block alert-info\" style=\"margin-top: 20px\">\n",
    "    <ol>\n",
    "        <li><a href=\"https://#RFvsBag\">What's the difference between RF and Bagging </a></li>\n",
    "        <li><a href=\"https://#Example\">Cancer Data Example</li>\n",
    "        <li><a href=\"https://practice/?utm_medium=Exinfluencer&utm_source=Exinfluencer&utm_content=000026UJ&utm_term=10006555&utm_id=NA-SkillsNetwork-Channel-SkillsNetworkCoursesIBMML241ENSkillsNetwork31576874-2022-01-01\">Practice</a></li>\n",
    "\n",
    "</div>\n",
    "<br>\n",
    "<hr>\n"
   ]
  },
  {
   "cell_type": "markdown",
   "id": "82ea29ac-7fe4-4e30-94b7-6a2e2307b2dc",
   "metadata": {},
   "source": [
    "Let's first import the required libraries:\n"
   ]
  },
  {
   "cell_type": "code",
   "execution_count": null,
   "id": "4f7f90a8-1b00-409c-834a-d025474aa870",
   "metadata": {},
   "outputs": [],
   "source": [
    "# All Libraries required for this lab are listed below. The libraries pre-installed on Skills Network Labs are commented.\n",
    "# !mamba install -qy pandas==1.3.3 numpy==1.21.2 ipywidgets==7.4.2 scipy==7.4.2 tqdm==4.62.3 matplotlib==3.5.0 seaborn==0.9.0\n",
    "# Note: If your environment doesn't support \"!mamba install\", use \"!pip install\""
   ]
  },
  {
   "cell_type": "raw",
   "metadata": {},
   "source": [
    "!pip install -U scikit-learn\n",
    "!pip install pandas\n",
    "!pip install numpy\n",
    "!pip install matplotlib   \n",
    "!pip install seaborn\n"
   ]
  },
  {
   "cell_type": "code",
   "execution_count": 1,
   "id": "0fea6a8f-fb72-43ad-8efa-cc947abaed12",
   "metadata": {},
   "outputs": [],
   "source": [
    "import pandas as pd\n",
    "import pylab as plt\n",
    "import numpy as np\n",
    "import scipy.optimize as opt\n",
    "from sklearn import preprocessing\n",
    "%matplotlib inline \n",
    "import matplotlib.pyplot as plt\n",
    "from sklearn import metrics\n",
    "from tqdm import tqdm\n"
   ]
  },
  {
   "cell_type": "markdown",
   "id": "97f240f2-be99-47ac-b4fd-015bafe09fc4",
   "metadata": {},
   "source": [
    "Ignore error warnings\n"
   ]
  },
  {
   "cell_type": "code",
   "execution_count": 2,
   "id": "88baa739-2a40-4c04-844c-325ca4d15c33",
   "metadata": {},
   "outputs": [],
   "source": [
    "import warnings\n",
    "warnings.filterwarnings('ignore')"
   ]
  },
  {
   "cell_type": "markdown",
   "id": "e24e5853-d344-4679-b943-0d4479399488",
   "metadata": {},
   "source": [
    "This function will calculate the accuracy of the training and testing data given a model.\n"
   ]
  },
  {
   "cell_type": "code",
   "execution_count": 4,
   "id": "c61b7d9c-ed8c-40de-9bbf-61131c8dabd7",
   "metadata": {},
   "outputs": [],
   "source": [
    "def get_accuracy(X_train, X_test, y_train, y_test, model):\n",
    "    return  {\"test Accuracy\":metrics.accuracy_score(y_test, model.predict(X_test)),\"train Accuracy\": metrics.accuracy_score(y_train, model.predict(X_train))}"
   ]
  },
  {
   "cell_type": "markdown",
   "id": "107c5122-538a-40c4-b67d-855054b1a130",
   "metadata": {},
   "source": [
    "This function calculates the average accuracy of differnt learning rates on training and test data\n"
   ]
  },
  {
   "cell_type": "code",
   "execution_count": 3,
   "id": "33d5b452-651c-47ff-b23a-110280b8260c",
   "metadata": {},
   "outputs": [],
   "source": [
    "def get_accuracy_bag(X,y,title,times=20,xlabel='Number Estimators',Learning_rate_=[0.2,0.4,0.6,1]):\n",
    "\n",
    "    lines_array=['solid','--', '-.', ':']\n",
    "\n",
    "    N_estimators=[n for n in range(1,100)]\n",
    "    \n",
    "    times=20\n",
    "    train_acc=np.zeros((times,len(Learning_rate_),len(N_estimators)))\n",
    "    test_acc=np.zeros((times,len(Learning_rate_),len(N_estimators)))\n",
    "\n",
    "\n",
    "    #Iterate through different number of Learning rate  and average out the results  \n",
    "    for n in tqdm(range(times)):\n",
    "        X_train, X_test, y_train, y_test = train_test_split( X, y, test_size=0.3)\n",
    "        for n_estimators in N_estimators:\n",
    "            for j,lr in enumerate(Learning_rate_):\n",
    "\n",
    "\n",
    "                model = AdaBoostClassifier(n_estimators=n_estimators+1,random_state=0,learning_rate=lr)\n",
    "\n",
    "\n",
    "                model.fit(X_train,y_train)\n",
    "\n",
    "\n",
    "\n",
    "                Accuracy=get_accuracy(X_train, X_test, y_train, y_test,  model)\n",
    "\n",
    "\n",
    "\n",
    "                train_acc[n,j,n_estimators-1]=Accuracy['train Accuracy']\n",
    "                test_acc[n,j,n_estimators-1]=Accuracy['test Accuracy']\n",
    "\n",
    "\n",
    "\n",
    "\n",
    "    fig, ax1 = plt.subplots()\n",
    "    mean_test=test_acc.mean(axis=0)\n",
    "    mean_train=train_acc.mean(axis=0)\n",
    "    ax2 = ax1.twinx()\n",
    "\n",
    "    for j,(lr,line) in enumerate(zip(Learning_rate_,lines_array)): \n",
    "\n",
    "        ax1.plot(mean_train[j,:],linestyle = line,color='b',label=\"Learning rate \"+str(lr))\n",
    "        ax2.plot(mean_test[j,:],linestyle = line, color='r',label=str(lr))\n",
    "\n",
    "    ax1.set_ylabel('Training accuracy',color='b')\n",
    "    ax1.set_xlabel('No of estimators')\n",
    "    ax1.legend()\n",
    "    ax2.set_ylabel('Testing accuracy', color='r')\n",
    "    ax2.legend()\n",
    "    plt.show()"
   ]
  },
  {
   "cell_type": "markdown",
   "id": "5d96047b-a9fb-411d-be2d-9c1d09079027",
   "metadata": {},
   "source": [
    "### About the dataset\n",
    "\n",
    "We will use a telecommunications dataset for predicting customer churn. This is a historical customer dataset where each row represents one customer. The data is relatively easy to understand, and you may uncover insights you can use immediately. Typically, it is less expensive to keep customers than to acquire new ones, so the focus of this analysis is to predict the customers who will stay with the company.\n",
    "\n",
    "This data set provides information to help you predict what behavior will help you to retain customers. You can analyze all relevant customer data and develop focused customer retention programs.\n",
    "\n",
    "The dataset includes information about:\n",
    "\n",
    "*   Customers who left within the last month – the column is called Churn\n",
    "*   Services that each customer has signed up for – phone, multiple lines, internet, online security, online backup, device protection, tech support, and streaming TV and movies\n",
    "*   Customer account information – how long they have been a customer, contract, payment method, paperless billing, monthly charges, and total charges\n",
    "*   Demographic info about customers – gender, age range, and if they have partners and dependents\n"
   ]
  },
  {
   "cell_type": "markdown",
   "id": "99cbcf1e-e72b-4ea3-af32-be348d63991d",
   "metadata": {},
   "source": [
    "Load Data From CSV File\n"
   ]
  },
  {
   "cell_type": "code",
   "execution_count": 5,
   "id": "f722f429-734f-47c7-bc02-7d3736679ce0",
   "metadata": {},
   "outputs": [
    {
     "data": {
      "text/html": [
       "<div>\n",
       "<style scoped>\n",
       "    .dataframe tbody tr th:only-of-type {\n",
       "        vertical-align: middle;\n",
       "    }\n",
       "\n",
       "    .dataframe tbody tr th {\n",
       "        vertical-align: top;\n",
       "    }\n",
       "\n",
       "    .dataframe thead th {\n",
       "        text-align: right;\n",
       "    }\n",
       "</style>\n",
       "<table border=\"1\" class=\"dataframe\">\n",
       "  <thead>\n",
       "    <tr style=\"text-align: right;\">\n",
       "      <th></th>\n",
       "      <th>tenure</th>\n",
       "      <th>age</th>\n",
       "      <th>address</th>\n",
       "      <th>income</th>\n",
       "      <th>ed</th>\n",
       "      <th>employ</th>\n",
       "      <th>equip</th>\n",
       "      <th>callcard</th>\n",
       "      <th>wireless</th>\n",
       "      <th>longmon</th>\n",
       "      <th>...</th>\n",
       "      <th>pager</th>\n",
       "      <th>internet</th>\n",
       "      <th>callwait</th>\n",
       "      <th>confer</th>\n",
       "      <th>ebill</th>\n",
       "      <th>loglong</th>\n",
       "      <th>logtoll</th>\n",
       "      <th>lninc</th>\n",
       "      <th>custcat</th>\n",
       "      <th>churn</th>\n",
       "    </tr>\n",
       "  </thead>\n",
       "  <tbody>\n",
       "    <tr>\n",
       "      <th>0</th>\n",
       "      <td>11.0</td>\n",
       "      <td>33.0</td>\n",
       "      <td>7.0</td>\n",
       "      <td>136.0</td>\n",
       "      <td>5.0</td>\n",
       "      <td>5.0</td>\n",
       "      <td>0.0</td>\n",
       "      <td>1.0</td>\n",
       "      <td>1.0</td>\n",
       "      <td>4.40</td>\n",
       "      <td>...</td>\n",
       "      <td>1.0</td>\n",
       "      <td>0.0</td>\n",
       "      <td>1.0</td>\n",
       "      <td>1.0</td>\n",
       "      <td>0.0</td>\n",
       "      <td>1.482</td>\n",
       "      <td>3.033</td>\n",
       "      <td>4.913</td>\n",
       "      <td>4.0</td>\n",
       "      <td>1.0</td>\n",
       "    </tr>\n",
       "    <tr>\n",
       "      <th>1</th>\n",
       "      <td>33.0</td>\n",
       "      <td>33.0</td>\n",
       "      <td>12.0</td>\n",
       "      <td>33.0</td>\n",
       "      <td>2.0</td>\n",
       "      <td>0.0</td>\n",
       "      <td>0.0</td>\n",
       "      <td>0.0</td>\n",
       "      <td>0.0</td>\n",
       "      <td>9.45</td>\n",
       "      <td>...</td>\n",
       "      <td>0.0</td>\n",
       "      <td>0.0</td>\n",
       "      <td>0.0</td>\n",
       "      <td>0.0</td>\n",
       "      <td>0.0</td>\n",
       "      <td>2.246</td>\n",
       "      <td>3.240</td>\n",
       "      <td>3.497</td>\n",
       "      <td>1.0</td>\n",
       "      <td>1.0</td>\n",
       "    </tr>\n",
       "    <tr>\n",
       "      <th>2</th>\n",
       "      <td>23.0</td>\n",
       "      <td>30.0</td>\n",
       "      <td>9.0</td>\n",
       "      <td>30.0</td>\n",
       "      <td>1.0</td>\n",
       "      <td>2.0</td>\n",
       "      <td>0.0</td>\n",
       "      <td>0.0</td>\n",
       "      <td>0.0</td>\n",
       "      <td>6.30</td>\n",
       "      <td>...</td>\n",
       "      <td>0.0</td>\n",
       "      <td>0.0</td>\n",
       "      <td>0.0</td>\n",
       "      <td>1.0</td>\n",
       "      <td>0.0</td>\n",
       "      <td>1.841</td>\n",
       "      <td>3.240</td>\n",
       "      <td>3.401</td>\n",
       "      <td>3.0</td>\n",
       "      <td>0.0</td>\n",
       "    </tr>\n",
       "    <tr>\n",
       "      <th>3</th>\n",
       "      <td>38.0</td>\n",
       "      <td>35.0</td>\n",
       "      <td>5.0</td>\n",
       "      <td>76.0</td>\n",
       "      <td>2.0</td>\n",
       "      <td>10.0</td>\n",
       "      <td>1.0</td>\n",
       "      <td>1.0</td>\n",
       "      <td>1.0</td>\n",
       "      <td>6.05</td>\n",
       "      <td>...</td>\n",
       "      <td>1.0</td>\n",
       "      <td>1.0</td>\n",
       "      <td>1.0</td>\n",
       "      <td>1.0</td>\n",
       "      <td>1.0</td>\n",
       "      <td>1.800</td>\n",
       "      <td>3.807</td>\n",
       "      <td>4.331</td>\n",
       "      <td>4.0</td>\n",
       "      <td>0.0</td>\n",
       "    </tr>\n",
       "    <tr>\n",
       "      <th>4</th>\n",
       "      <td>7.0</td>\n",
       "      <td>35.0</td>\n",
       "      <td>14.0</td>\n",
       "      <td>80.0</td>\n",
       "      <td>2.0</td>\n",
       "      <td>15.0</td>\n",
       "      <td>0.0</td>\n",
       "      <td>1.0</td>\n",
       "      <td>0.0</td>\n",
       "      <td>7.10</td>\n",
       "      <td>...</td>\n",
       "      <td>0.0</td>\n",
       "      <td>0.0</td>\n",
       "      <td>1.0</td>\n",
       "      <td>1.0</td>\n",
       "      <td>0.0</td>\n",
       "      <td>1.960</td>\n",
       "      <td>3.091</td>\n",
       "      <td>4.382</td>\n",
       "      <td>3.0</td>\n",
       "      <td>0.0</td>\n",
       "    </tr>\n",
       "  </tbody>\n",
       "</table>\n",
       "<p>5 rows × 28 columns</p>\n",
       "</div>"
      ],
      "text/plain": [
       "   tenure   age  address  income   ed  employ  equip  callcard  wireless  \\\n",
       "0    11.0  33.0      7.0   136.0  5.0     5.0    0.0       1.0       1.0   \n",
       "1    33.0  33.0     12.0    33.0  2.0     0.0    0.0       0.0       0.0   \n",
       "2    23.0  30.0      9.0    30.0  1.0     2.0    0.0       0.0       0.0   \n",
       "3    38.0  35.0      5.0    76.0  2.0    10.0    1.0       1.0       1.0   \n",
       "4     7.0  35.0     14.0    80.0  2.0    15.0    0.0       1.0       0.0   \n",
       "\n",
       "   longmon  ...  pager  internet  callwait  confer  ebill  loglong  logtoll  \\\n",
       "0     4.40  ...    1.0       0.0       1.0     1.0    0.0    1.482    3.033   \n",
       "1     9.45  ...    0.0       0.0       0.0     0.0    0.0    2.246    3.240   \n",
       "2     6.30  ...    0.0       0.0       0.0     1.0    0.0    1.841    3.240   \n",
       "3     6.05  ...    1.0       1.0       1.0     1.0    1.0    1.800    3.807   \n",
       "4     7.10  ...    0.0       0.0       1.0     1.0    0.0    1.960    3.091   \n",
       "\n",
       "   lninc  custcat  churn  \n",
       "0  4.913      4.0    1.0  \n",
       "1  3.497      1.0    1.0  \n",
       "2  3.401      3.0    0.0  \n",
       "3  4.331      4.0    0.0  \n",
       "4  4.382      3.0    0.0  \n",
       "\n",
       "[5 rows x 28 columns]"
      ]
     },
     "execution_count": 5,
     "metadata": {},
     "output_type": "execute_result"
    }
   ],
   "source": [
    "churn_df = pd.read_csv(\"https://cf-courses-data.s3.us.cloud-object-storage.appdomain.cloud/IBMDeveloperSkillsNetwork-ML0101EN-SkillsNetwork/labs/Module%203/data/ChurnData.csv\")\n",
    "\n",
    "churn_df.head()"
   ]
  },
  {
   "cell_type": "markdown",
   "id": "556f83c7-d68a-4b87-95cc-226db2902e69",
   "metadata": {},
   "source": [
    "### Data pre-processing and selection\n"
   ]
  },
  {
   "cell_type": "markdown",
   "id": "c5905367-ad51-4b67-9f75-26c6c9afcc98",
   "metadata": {},
   "source": [
    "Let's select some features for the modeling. Also, we change the target data type to be an integer, as it is a requirement by the skitlearn algorithm:\n"
   ]
  },
  {
   "cell_type": "code",
   "execution_count": 6,
   "id": "75fcf9cf-6e47-4a5d-955f-3cc9123b99f9",
   "metadata": {},
   "outputs": [
    {
     "data": {
      "text/html": [
       "<div>\n",
       "<style scoped>\n",
       "    .dataframe tbody tr th:only-of-type {\n",
       "        vertical-align: middle;\n",
       "    }\n",
       "\n",
       "    .dataframe tbody tr th {\n",
       "        vertical-align: top;\n",
       "    }\n",
       "\n",
       "    .dataframe thead th {\n",
       "        text-align: right;\n",
       "    }\n",
       "</style>\n",
       "<table border=\"1\" class=\"dataframe\">\n",
       "  <thead>\n",
       "    <tr style=\"text-align: right;\">\n",
       "      <th></th>\n",
       "      <th>tenure</th>\n",
       "      <th>age</th>\n",
       "      <th>address</th>\n",
       "      <th>income</th>\n",
       "      <th>ed</th>\n",
       "      <th>employ</th>\n",
       "      <th>equip</th>\n",
       "      <th>callcard</th>\n",
       "      <th>wireless</th>\n",
       "      <th>churn</th>\n",
       "    </tr>\n",
       "  </thead>\n",
       "  <tbody>\n",
       "    <tr>\n",
       "      <th>0</th>\n",
       "      <td>11.0</td>\n",
       "      <td>33.0</td>\n",
       "      <td>7.0</td>\n",
       "      <td>136.0</td>\n",
       "      <td>5.0</td>\n",
       "      <td>5.0</td>\n",
       "      <td>0.0</td>\n",
       "      <td>1.0</td>\n",
       "      <td>1.0</td>\n",
       "      <td>1</td>\n",
       "    </tr>\n",
       "    <tr>\n",
       "      <th>1</th>\n",
       "      <td>33.0</td>\n",
       "      <td>33.0</td>\n",
       "      <td>12.0</td>\n",
       "      <td>33.0</td>\n",
       "      <td>2.0</td>\n",
       "      <td>0.0</td>\n",
       "      <td>0.0</td>\n",
       "      <td>0.0</td>\n",
       "      <td>0.0</td>\n",
       "      <td>1</td>\n",
       "    </tr>\n",
       "    <tr>\n",
       "      <th>2</th>\n",
       "      <td>23.0</td>\n",
       "      <td>30.0</td>\n",
       "      <td>9.0</td>\n",
       "      <td>30.0</td>\n",
       "      <td>1.0</td>\n",
       "      <td>2.0</td>\n",
       "      <td>0.0</td>\n",
       "      <td>0.0</td>\n",
       "      <td>0.0</td>\n",
       "      <td>0</td>\n",
       "    </tr>\n",
       "    <tr>\n",
       "      <th>3</th>\n",
       "      <td>38.0</td>\n",
       "      <td>35.0</td>\n",
       "      <td>5.0</td>\n",
       "      <td>76.0</td>\n",
       "      <td>2.0</td>\n",
       "      <td>10.0</td>\n",
       "      <td>1.0</td>\n",
       "      <td>1.0</td>\n",
       "      <td>1.0</td>\n",
       "      <td>0</td>\n",
       "    </tr>\n",
       "    <tr>\n",
       "      <th>4</th>\n",
       "      <td>7.0</td>\n",
       "      <td>35.0</td>\n",
       "      <td>14.0</td>\n",
       "      <td>80.0</td>\n",
       "      <td>2.0</td>\n",
       "      <td>15.0</td>\n",
       "      <td>0.0</td>\n",
       "      <td>1.0</td>\n",
       "      <td>0.0</td>\n",
       "      <td>0</td>\n",
       "    </tr>\n",
       "  </tbody>\n",
       "</table>\n",
       "</div>"
      ],
      "text/plain": [
       "   tenure   age  address  income   ed  employ  equip  callcard  wireless  \\\n",
       "0    11.0  33.0      7.0   136.0  5.0     5.0    0.0       1.0       1.0   \n",
       "1    33.0  33.0     12.0    33.0  2.0     0.0    0.0       0.0       0.0   \n",
       "2    23.0  30.0      9.0    30.0  1.0     2.0    0.0       0.0       0.0   \n",
       "3    38.0  35.0      5.0    76.0  2.0    10.0    1.0       1.0       1.0   \n",
       "4     7.0  35.0     14.0    80.0  2.0    15.0    0.0       1.0       0.0   \n",
       "\n",
       "   churn  \n",
       "0      1  \n",
       "1      1  \n",
       "2      0  \n",
       "3      0  \n",
       "4      0  "
      ]
     },
     "execution_count": 6,
     "metadata": {},
     "output_type": "execute_result"
    }
   ],
   "source": [
    "churn_df = churn_df[['tenure', 'age', 'address', 'income', 'ed', 'employ', 'equip', 'callcard', 'wireless','churn']]\n",
    "churn_df['churn'] = churn_df['churn'].astype('int')\n",
    "churn_df.head()"
   ]
  },
  {
   "cell_type": "markdown",
   "id": "54a988fb-1718-4deb-b8ee-1ea8cb8e0cfa",
   "metadata": {},
   "source": [
    "### Select Variables at Random\n"
   ]
  },
  {
   "cell_type": "markdown",
   "id": "a800a65c-6581-4f5c-8466-ddcf8771890d",
   "metadata": {},
   "source": [
    "Like Bagging, RF uses an independent bootstrap sample from the training data. In addition, we select $m$ variables at random out of all $M$ possible\n",
    "variables. Let's do an example.\n"
   ]
  },
  {
   "cell_type": "code",
   "execution_count": 7,
   "id": "62e2df81-5e01-4ab5-8cbe-fc09e82a1557",
   "metadata": {},
   "outputs": [],
   "source": [
    "X=churn_df[['tenure', 'age', 'address', 'income', 'ed', 'employ', 'equip']]"
   ]
  },
  {
   "cell_type": "markdown",
   "id": "de945c78-187e-4581-8702-27012b83577f",
   "metadata": {},
   "source": [
    "there are 7 features\n"
   ]
  },
  {
   "cell_type": "markdown",
   "id": "5d05768e-3543-4804-bf10-c16ee1cb69cc",
   "metadata": {},
   "source": [
    "## Train/Test dataset\n"
   ]
  },
  {
   "cell_type": "markdown",
   "id": "a1b79388-7733-41ef-a0a5-f909f79beb1a",
   "metadata": {},
   "source": [
    "Let's define X, and y for our dataset:\n"
   ]
  },
  {
   "cell_type": "code",
   "execution_count": 8,
   "id": "7ac0b0e8-dae5-480d-ab39-ab709cb58423",
   "metadata": {},
   "outputs": [
    {
     "data": {
      "text/plain": [
       "0    1\n",
       "1    1\n",
       "2    0\n",
       "3    0\n",
       "4    0\n",
       "Name: churn, dtype: int32"
      ]
     },
     "execution_count": 8,
     "metadata": {},
     "output_type": "execute_result"
    }
   ],
   "source": [
    "y = churn_df['churn']\n",
    "y.head()"
   ]
  },
  {
   "cell_type": "markdown",
   "id": "0ad514d2-834f-4975-b842-d69e8a2c9103",
   "metadata": {},
   "source": [
    "## Train/Test dataset\n"
   ]
  },
  {
   "cell_type": "markdown",
   "id": "d1f65b34-1928-4728-a53d-ceed2230d1af",
   "metadata": {},
   "source": [
    "We split our dataset into train and test set:\n"
   ]
  },
  {
   "cell_type": "code",
   "execution_count": 9,
   "id": "cf243453-65d0-4cc9-b2c1-44dacd640155",
   "metadata": {},
   "outputs": [
    {
     "name": "stdout",
     "output_type": "stream",
     "text": [
      "Train set (140, 7) (140,)\n",
      "Test set (60, 7) (60,)\n"
     ]
    }
   ],
   "source": [
    "from sklearn.model_selection import train_test_split\n",
    "X_train, X_test, y_train, y_test = train_test_split( X, y, test_size=0.3, random_state=1)\n",
    "print ('Train set', X_train.shape,  y_train.shape)\n",
    "print ('Test set', X_test.shape,  y_test.shape)"
   ]
  },
  {
   "cell_type": "markdown",
   "id": "4d00123b-98f6-426d-b089-e736e4d94dac",
   "metadata": {},
   "source": [
    "## AdaBoost\n"
   ]
  },
  {
   "cell_type": "markdown",
   "id": "cb8793c6-c9aa-474a-ae01-a55b61bd109d",
   "metadata": {},
   "source": [
    "We can import the AdaBoost Classifier in Sklearn\n"
   ]
  },
  {
   "cell_type": "code",
   "execution_count": 10,
   "id": "c0deca9d-2811-4ed5-ae07-ce18e4c5b975",
   "metadata": {},
   "outputs": [],
   "source": [
    "from sklearn.ensemble import AdaBoostClassifier"
   ]
  },
  {
   "cell_type": "markdown",
   "id": "bfc12285-bcea-45b7-a1b8-f06dbed03048",
   "metadata": {},
   "source": [
    "The parameter <code>n_estimatorsint</code> is the maximum number of classifiers (default=50) at which boosting is stopped. If the results are perfect, the training procedure is stopped early.\n"
   ]
  },
  {
   "cell_type": "code",
   "execution_count": 11,
   "id": "9602d60e-0e47-41a5-ac61-10ed0ae81175",
   "metadata": {},
   "outputs": [],
   "source": [
    "n_estimators=5\n",
    "random_state=0"
   ]
  },
  {
   "cell_type": "markdown",
   "id": "409aa032-f39f-4e2c-83e1-144853499732",
   "metadata": {},
   "source": [
    "We can create a <code>AdaBoostClassifier</code> object.\n"
   ]
  },
  {
   "cell_type": "code",
   "execution_count": 12,
   "id": "2d8433c9-0ca1-434e-9c87-4c36cbd8b5bd",
   "metadata": {},
   "outputs": [],
   "source": [
    "model = AdaBoostClassifier(n_estimators=n_estimators,random_state=random_state)"
   ]
  },
  {
   "cell_type": "markdown",
   "id": "c512e794-ecde-4b0f-9404-453b1afa9420",
   "metadata": {},
   "source": [
    "If the outputs were y-1 and 1, the form of the classifier would be:\n"
   ]
  },
  {
   "cell_type": "markdown",
   "id": "f8a066f2-b8b8-4313-a928-6565b28bc1a1",
   "metadata": {},
   "source": [
    "$H(x) = \text{sign}(  \\alpha_1 h_1(x)+ \\alpha_2 h_2(x)+ \\alpha_3 h_3(x)+ \\alpha_4 h_4(x)+ \\alpha_5 h_5(x) )$\n"
   ]
  },
  {
   "cell_type": "markdown",
   "id": "0657e9b9-1f20-4c45-99b9-bdbc38adf985",
   "metadata": {},
   "source": [
    "We can fit the object finding all the $\\alpha_t$ $h_t(x)$ and then make a prediction:\n"
   ]
  },
  {
   "cell_type": "code",
   "execution_count": 13,
   "id": "47f682a1-30c7-4594-a59b-579861bc9f1f",
   "metadata": {},
   "outputs": [
    {
     "data": {
      "text/plain": [
       "array([1, 0, 1, 0, 0, 0, 1, 0, 1, 0, 0, 0, 0, 1, 0, 0, 1, 0, 1, 1, 0, 0,\n",
       "       0, 0, 0, 0, 0, 1, 0, 1, 0, 0, 0, 0, 0, 0, 1, 0, 0, 1, 0, 1, 0, 1,\n",
       "       1, 1, 1, 0, 0, 0, 0, 1, 0, 0, 1, 0, 0, 1, 0, 0])"
      ]
     },
     "execution_count": 13,
     "metadata": {},
     "output_type": "execute_result"
    }
   ],
   "source": [
    "model.fit(X_train, y_train)\n",
    "y_pred = model.predict(X_test)\n",
    "y_pred "
   ]
  },
  {
   "cell_type": "markdown",
   "id": "75a29802-2e3d-4c89-a79a-c469fbcc7b5d",
   "metadata": {},
   "source": [
    "We can find the training and testing accuracy:\n"
   ]
  },
  {
   "cell_type": "code",
   "execution_count": 14,
   "id": "bd968f07-0b11-41ce-8069-e9f2697801c6",
   "metadata": {},
   "outputs": [
    {
     "name": "stdout",
     "output_type": "stream",
     "text": [
      "{'test Accuracy': 0.7666666666666667, 'train Accuracy': 0.7642857142857142}\n"
     ]
    }
   ],
   "source": [
    "print(get_accuracy(X_train, X_test, y_train, y_test,  model))"
   ]
  },
  {
   "cell_type": "markdown",
   "id": "7a4ef145-2e71-401d-84b5-972ffcc80b96",
   "metadata": {},
   "source": [
    "We see the base model is a Decision Tree. Since it only has one layer, it’s called a stump:\n"
   ]
  },
  {
   "cell_type": "code",
   "execution_count": 15,
   "id": "49f06a6d-a267-4c21-b1be-311c5cbc194b",
   "metadata": {},
   "outputs": [
    {
     "data": {
      "text/html": [
       "<style>#sk-container-id-1 {color: black;background-color: white;}#sk-container-id-1 pre{padding: 0;}#sk-container-id-1 div.sk-toggleable {background-color: white;}#sk-container-id-1 label.sk-toggleable__label {cursor: pointer;display: block;width: 100%;margin-bottom: 0;padding: 0.3em;box-sizing: border-box;text-align: center;}#sk-container-id-1 label.sk-toggleable__label-arrow:before {content: \"▸\";float: left;margin-right: 0.25em;color: #696969;}#sk-container-id-1 label.sk-toggleable__label-arrow:hover:before {color: black;}#sk-container-id-1 div.sk-estimator:hover label.sk-toggleable__label-arrow:before {color: black;}#sk-container-id-1 div.sk-toggleable__content {max-height: 0;max-width: 0;overflow: hidden;text-align: left;background-color: #f0f8ff;}#sk-container-id-1 div.sk-toggleable__content pre {margin: 0.2em;color: black;border-radius: 0.25em;background-color: #f0f8ff;}#sk-container-id-1 input.sk-toggleable__control:checked~div.sk-toggleable__content {max-height: 200px;max-width: 100%;overflow: auto;}#sk-container-id-1 input.sk-toggleable__control:checked~label.sk-toggleable__label-arrow:before {content: \"▾\";}#sk-container-id-1 div.sk-estimator input.sk-toggleable__control:checked~label.sk-toggleable__label {background-color: #d4ebff;}#sk-container-id-1 div.sk-label input.sk-toggleable__control:checked~label.sk-toggleable__label {background-color: #d4ebff;}#sk-container-id-1 input.sk-hidden--visually {border: 0;clip: rect(1px 1px 1px 1px);clip: rect(1px, 1px, 1px, 1px);height: 1px;margin: -1px;overflow: hidden;padding: 0;position: absolute;width: 1px;}#sk-container-id-1 div.sk-estimator {font-family: monospace;background-color: #f0f8ff;border: 1px dotted black;border-radius: 0.25em;box-sizing: border-box;margin-bottom: 0.5em;}#sk-container-id-1 div.sk-estimator:hover {background-color: #d4ebff;}#sk-container-id-1 div.sk-parallel-item::after {content: \"\";width: 100%;border-bottom: 1px solid gray;flex-grow: 1;}#sk-container-id-1 div.sk-label:hover label.sk-toggleable__label {background-color: #d4ebff;}#sk-container-id-1 div.sk-serial::before {content: \"\";position: absolute;border-left: 1px solid gray;box-sizing: border-box;top: 0;bottom: 0;left: 50%;z-index: 0;}#sk-container-id-1 div.sk-serial {display: flex;flex-direction: column;align-items: center;background-color: white;padding-right: 0.2em;padding-left: 0.2em;position: relative;}#sk-container-id-1 div.sk-item {position: relative;z-index: 1;}#sk-container-id-1 div.sk-parallel {display: flex;align-items: stretch;justify-content: center;background-color: white;position: relative;}#sk-container-id-1 div.sk-item::before, #sk-container-id-1 div.sk-parallel-item::before {content: \"\";position: absolute;border-left: 1px solid gray;box-sizing: border-box;top: 0;bottom: 0;left: 50%;z-index: -1;}#sk-container-id-1 div.sk-parallel-item {display: flex;flex-direction: column;z-index: 1;position: relative;background-color: white;}#sk-container-id-1 div.sk-parallel-item:first-child::after {align-self: flex-end;width: 50%;}#sk-container-id-1 div.sk-parallel-item:last-child::after {align-self: flex-start;width: 50%;}#sk-container-id-1 div.sk-parallel-item:only-child::after {width: 0;}#sk-container-id-1 div.sk-dashed-wrapped {border: 1px dashed gray;margin: 0 0.4em 0.5em 0.4em;box-sizing: border-box;padding-bottom: 0.4em;background-color: white;}#sk-container-id-1 div.sk-label label {font-family: monospace;font-weight: bold;display: inline-block;line-height: 1.2em;}#sk-container-id-1 div.sk-label-container {text-align: center;}#sk-container-id-1 div.sk-container {/* jupyter's `normalize.less` sets `[hidden] { display: none; }` but bootstrap.min.css set `[hidden] { display: none !important; }` so we also need the `!important` here to be able to override the default hidden behavior on the sphinx rendered scikit-learn.org. See: https://github.com/scikit-learn/scikit-learn/issues/21755 */display: inline-block !important;position: relative;}#sk-container-id-1 div.sk-text-repr-fallback {display: none;}</style><div id=\"sk-container-id-1\" class=\"sk-top-container\"><div class=\"sk-text-repr-fallback\"><pre>DecisionTreeClassifier(max_depth=1)</pre><b>In a Jupyter environment, please rerun this cell to show the HTML representation or trust the notebook. <br />On GitHub, the HTML representation is unable to render, please try loading this page with nbviewer.org.</b></div><div class=\"sk-container\" hidden><div class=\"sk-item\"><div class=\"sk-estimator sk-toggleable\"><input class=\"sk-toggleable__control sk-hidden--visually\" id=\"sk-estimator-id-1\" type=\"checkbox\" checked><label for=\"sk-estimator-id-1\" class=\"sk-toggleable__label sk-toggleable__label-arrow\">DecisionTreeClassifier</label><div class=\"sk-toggleable__content\"><pre>DecisionTreeClassifier(max_depth=1)</pre></div></div></div></div></div>"
      ],
      "text/plain": [
       "DecisionTreeClassifier(max_depth=1)"
      ]
     },
     "execution_count": 15,
     "metadata": {},
     "output_type": "execute_result"
    }
   ],
   "source": [
    "model.estimator_"
   ]
  },
  {
   "cell_type": "markdown",
   "id": "072f9205-f2df-4056-a747-2ded7bbc43a7",
   "metadata": {},
   "source": [
    "We can output a list of the weak classifiers: $h_1(x), h_2(x), h_3(x),h_4(x)$ and $h_5(x)$\n"
   ]
  },
  {
   "cell_type": "code",
   "execution_count": 16,
   "id": "ab02799f-cf5b-48b3-a3d0-0a58cee86702",
   "metadata": {},
   "outputs": [
    {
     "data": {
      "text/plain": [
       "[DecisionTreeClassifier(max_depth=1, random_state=209652396),\n",
       " DecisionTreeClassifier(max_depth=1, random_state=398764591),\n",
       " DecisionTreeClassifier(max_depth=1, random_state=924231285),\n",
       " DecisionTreeClassifier(max_depth=1, random_state=1478610112),\n",
       " DecisionTreeClassifier(max_depth=1, random_state=441365315)]"
      ]
     },
     "execution_count": 16,
     "metadata": {},
     "output_type": "execute_result"
    }
   ],
   "source": [
    "model.estimators_"
   ]
  },
  {
   "cell_type": "markdown",
   "id": "53c173d1-21ba-4ddf-b7e2-52a7c558c452",
   "metadata": {},
   "source": [
    "We see the weak classifiers do not perform as well:\n"
   ]
  },
  {
   "cell_type": "code",
   "execution_count": 17,
   "id": "97f69401-260b-4557-95f9-5101aa3fc309",
   "metadata": {},
   "outputs": [
    {
     "data": {
      "text/plain": [
       "[('for weak classifiers 1 the we get ',\n",
       "  {'test Accuracy': 0.7, 'train Accuracy': 0.7428571428571429}),\n",
       " ('for weak classifiers 2 the we get ',\n",
       "  {'test Accuracy': 0.6, 'train Accuracy': 0.6214285714285714}),\n",
       " ('for weak classifiers 3 the we get ',\n",
       "  {'test Accuracy': 0.6333333333333333, 'train Accuracy': 0.6642857142857143}),\n",
       " ('for weak classifiers 4 the we get ',\n",
       "  {'test Accuracy': 0.35, 'train Accuracy': 0.4642857142857143}),\n",
       " ('for weak classifiers 5 the we get ',\n",
       "  {'test Accuracy': 0.43333333333333335, 'train Accuracy': 0.5})]"
      ]
     },
     "execution_count": 17,
     "metadata": {},
     "output_type": "execute_result"
    }
   ],
   "source": [
    "[ (\"for weak classifiers {} the we get \".format(i+1),get_accuracy(X_train, X_test, y_train, y_test,  weak_classifiers)) for i,weak_classifiers in enumerate(model.estimators_)]"
   ]
  },
  {
   "cell_type": "markdown",
   "id": "622fffc8-9ea5-40f4-901d-93d9a61f3b04",
   "metadata": {},
   "source": [
    "We can increase the number of weak classifiers:\n"
   ]
  },
  {
   "cell_type": "code",
   "execution_count": 18,
   "id": "29a13def-2532-4bb6-890e-aca9e5b49e4d",
   "metadata": {},
   "outputs": [],
   "source": [
    "n_estimators=100\n",
    "random_state=0"
   ]
  },
  {
   "cell_type": "markdown",
   "id": "271e7474-861e-4270-b626-79e57536cf7f",
   "metadata": {},
   "source": [
    "and then fit the model\n"
   ]
  },
  {
   "cell_type": "code",
   "execution_count": 19,
   "id": "2f1ce8cb-0227-4a90-9b3a-18695a45b778",
   "metadata": {},
   "outputs": [],
   "source": [
    "model = AdaBoostClassifier(n_estimators=n_estimators,random_state=random_state)\n",
    "model.fit(X_train, y_train)\n",
    "\n",
    "#Predict the response for test dataset\n",
    "y_pred = model.predict(X_test)"
   ]
  },
  {
   "cell_type": "markdown",
   "id": "ba14bf92-4fc1-4573-a8e3-2dcd58462b66",
   "metadata": {},
   "source": [
    "We obtain the  training and testing accuracy:\n"
   ]
  },
  {
   "cell_type": "code",
   "execution_count": 20,
   "id": "ef04c31f-1d3d-4e1e-9a3f-3337ba8e56e4",
   "metadata": {},
   "outputs": [
    {
     "name": "stdout",
     "output_type": "stream",
     "text": [
      "{'test Accuracy': 0.7333333333333333, 'train Accuracy': 1.0}\n"
     ]
    }
   ],
   "source": [
    "print(get_accuracy(X_train, X_test, y_train, y_test, model))"
   ]
  },
  {
   "cell_type": "markdown",
   "id": "f34db9be-60e6-40f0-92fb-63cccf4c06a0",
   "metadata": {},
   "source": [
    "We see that adding more weak classifiers causes overfitting. We can verify by plotting the training and test accuracy over the number of classifiers:\n"
   ]
  },
  {
   "cell_type": "code",
   "execution_count": 21,
   "id": "5dfaec91-d3b6-4dd6-a168-2d2ffd276a67",
   "metadata": {},
   "outputs": [
    {
     "name": "stderr",
     "output_type": "stream",
     "text": [
      "100%|██████████████████████████████████████████████████████████████████████████████████| 20/20 [04:21<00:00, 13.07s/it]\n"
     ]
    },
    {
     "data": {
      "image/png": "[encoded data removed]",
      "text/plain": [
       "<Figure size 640x480 with 2 Axes>"
      ]
     },
     "metadata": {},
     "output_type": "display_data"
    }
   ],
   "source": [
    "get_accuracy_bag(X,y,title=\"Training and Test Accuracy vs Weak Classifiers\",Learning_rate_=[1],times=20,xlabel='Number Estimators')"
   ]
  },
  {
   "cell_type": "markdown",
   "id": "03a5145f-9e77-486d-a90f-dc8dfeab89b5",
   "metadata": {},
   "source": [
    "As you can see, as the number of classifiers increases so does the overfitting; the training accuracy increases and conversely, the testing accuracy decreases. One way to decrease overfitting is using the learning rate <code>learning_rate</code> with a default value of 1. This is a type of Regularization. For more detail on Regularization, check out <a href=\"https://hastie.su.domains/Papers/ESLII.pdf?utm_medium=Exinfluencer&utm_source=Exinfluencer&utm_content=000026UJ&utm_term=10006555&utm_id=NA-SkillsNetwork-Channel-SkillsNetworkCoursesIBMML241ENSkillsNetwork31576874-2022-01-01#page=383\">here</a>.\n"
   ]
  },
  {
   "cell_type": "code",
   "execution_count": 22,
   "id": "ef37ec9e-ab64-4521-befd-35ce7b53398b",
   "metadata": {},
   "outputs": [],
   "source": [
    "n_estimators=100\n",
    "random_state=0\n",
    "learning_rate=0.7"
   ]
  },
  {
   "cell_type": "markdown",
   "id": "b43bfefe-8ec0-4c68-862a-b1fef9393906",
   "metadata": {},
   "source": [
    "We can now train the model, make a prediction, and calculate the accuracy. We see that by increasing the learning rate the test accuracy has improved.\n"
   ]
  },
  {
   "cell_type": "code",
   "execution_count": 23,
   "id": "01ba9e61-4d79-464c-b615-b9c8446754ee",
   "metadata": {},
   "outputs": [
    {
     "name": "stdout",
     "output_type": "stream",
     "text": [
      "{'test Accuracy': 0.75, 'train Accuracy': 0.95}\n"
     ]
    }
   ],
   "source": [
    "model = AdaBoostClassifier(n_estimators=n_estimators,random_state=random_state,learning_rate=learning_rate)\n",
    "model.fit(X_train, y_train)\n",
    "y_pred = model.predict(X_test)\n",
    "print(get_accuracy(X_train, X_test, y_train, y_test, model))"
   ]
  },
  {
   "cell_type": "markdown",
   "id": "991d7205-f249-46b1-aa2d-4d733cbcc290",
   "metadata": {},
   "source": [
    "Compared to the previous results we see the model does better on the test data. We can try different learning rates using the method <code>get_accuracy_bag</code>. In this case, the learning rates are 0.2,0.4,0.6, and 1. As the learning rate goes down we see that the testing accuracy increases while conversely, the training accuracy decreases .\n"
   ]
  },
  {
   "cell_type": "code",
   "execution_count": 24,
   "id": "3b98ae58-e3c1-43cf-a1ad-2feb1f5b1ee6",
   "metadata": {
    "collapsed": true
   },
   "outputs": [
    {
     "name": "stderr",
     "output_type": "stream",
     "text": [
      " 40%|███████████████████████████████▏                                              | 8/20 [2:09:57<3:14:56, 974.67s/it]\n"
     ]
    },
    {
     "ename": "KeyboardInterrupt",
     "evalue": "",
     "output_type": "error",
     "traceback": [
      "\u001b[1;31m---------------------------------------------------------------------------\u001b[0m",
      "\u001b[1;31mKeyboardInterrupt\u001b[0m                         Traceback (most recent call last)",
      "Cell \u001b[1;32mIn[24], line 1\u001b[0m\n\u001b[1;32m----> 1\u001b[0m \u001b[43mget_accuracy_bag\u001b[49m\u001b[43m(\u001b[49m\u001b[43mX\u001b[49m\u001b[43m,\u001b[49m\u001b[43my\u001b[49m\u001b[43m,\u001b[49m\u001b[43mtitle\u001b[49m\u001b[38;5;241;43m=\u001b[39;49m\u001b[38;5;124;43m\"\u001b[39;49m\u001b[38;5;124;43mTraining and Test Accuracy vs Weak Classifiers\u001b[39;49m\u001b[38;5;124;43m\"\u001b[39;49m\u001b[43m,\u001b[49m\u001b[43mLearning_rate_\u001b[49m\u001b[38;5;241;43m=\u001b[39;49m\u001b[43m[\u001b[49m\u001b[38;5;241;43m0.2\u001b[39;49m\u001b[43m,\u001b[49m\u001b[38;5;241;43m0.4\u001b[39;49m\u001b[43m,\u001b[49m\u001b[38;5;241;43m0.6\u001b[39;49m\u001b[43m,\u001b[49m\u001b[38;5;241;43m1\u001b[39;49m\u001b[43m]\u001b[49m\u001b[43m,\u001b[49m\u001b[43mtimes\u001b[49m\u001b[38;5;241;43m=\u001b[39;49m\u001b[38;5;241;43m20\u001b[39;49m\u001b[43m,\u001b[49m\u001b[43mxlabel\u001b[49m\u001b[38;5;241;43m=\u001b[39;49m\u001b[38;5;124;43m'\u001b[39;49m\u001b[38;5;124;43mNumber Estimators\u001b[39;49m\u001b[38;5;124;43m'\u001b[39;49m\u001b[43m)\u001b[49m\n",
      "Cell \u001b[1;32mIn[3], line 22\u001b[0m, in \u001b[0;36mget_accuracy_bag\u001b[1;34m(X, y, title, times, xlabel, Learning_rate_)\u001b[0m\n\u001b[0;32m     16\u001b[0m \u001b[38;5;28;01mfor\u001b[39;00m j,lr \u001b[38;5;129;01min\u001b[39;00m \u001b[38;5;28menumerate\u001b[39m(Learning_rate_):\n\u001b[0;32m     19\u001b[0m     model \u001b[38;5;241m=\u001b[39m AdaBoostClassifier(n_estimators\u001b[38;5;241m=\u001b[39mn_estimators\u001b[38;5;241m+\u001b[39m\u001b[38;5;241m1\u001b[39m,random_state\u001b[38;5;241m=\u001b[39m\u001b[38;5;241m0\u001b[39m,learning_rate\u001b[38;5;241m=\u001b[39mlr)\n\u001b[1;32m---> 22\u001b[0m     \u001b[43mmodel\u001b[49m\u001b[38;5;241;43m.\u001b[39;49m\u001b[43mfit\u001b[49m\u001b[43m(\u001b[49m\u001b[43mX_train\u001b[49m\u001b[43m,\u001b[49m\u001b[43my_train\u001b[49m\u001b[43m)\u001b[49m\n\u001b[0;32m     26\u001b[0m     Accuracy\u001b[38;5;241m=\u001b[39mget_accuracy(X_train, X_test, y_train, y_test,  model)\n\u001b[0;32m     30\u001b[0m     train_acc[n,j,n_estimators\u001b[38;5;241m-\u001b[39m\u001b[38;5;241m1\u001b[39m]\u001b[38;5;241m=\u001b[39mAccuracy[\u001b[38;5;124m'\u001b[39m\u001b[38;5;124mtrain Accuracy\u001b[39m\u001b[38;5;124m'\u001b[39m]\n",
      "File \u001b[1;32m~\\anaconda3\\lib\\site-packages\\sklearn\\ensemble\\_weight_boosting.py:162\u001b[0m, in \u001b[0;36mBaseWeightBoosting.fit\u001b[1;34m(self, X, y, sample_weight)\u001b[0m\n\u001b[0;32m    159\u001b[0m sample_weight[zero_weight_mask] \u001b[38;5;241m=\u001b[39m \u001b[38;5;241m0.0\u001b[39m\n\u001b[0;32m    161\u001b[0m \u001b[38;5;66;03m# Boosting step\u001b[39;00m\n\u001b[1;32m--> 162\u001b[0m sample_weight, estimator_weight, estimator_error \u001b[38;5;241m=\u001b[39m \u001b[38;5;28;43mself\u001b[39;49m\u001b[38;5;241;43m.\u001b[39;49m\u001b[43m_boost\u001b[49m\u001b[43m(\u001b[49m\n\u001b[0;32m    163\u001b[0m \u001b[43m    \u001b[49m\u001b[43miboost\u001b[49m\u001b[43m,\u001b[49m\u001b[43m \u001b[49m\u001b[43mX\u001b[49m\u001b[43m,\u001b[49m\u001b[43m \u001b[49m\u001b[43my\u001b[49m\u001b[43m,\u001b[49m\u001b[43m \u001b[49m\u001b[43msample_weight\u001b[49m\u001b[43m,\u001b[49m\u001b[43m \u001b[49m\u001b[43mrandom_state\u001b[49m\n\u001b[0;32m    164\u001b[0m \u001b[43m\u001b[49m\u001b[43m)\u001b[49m\n\u001b[0;32m    166\u001b[0m \u001b[38;5;66;03m# Early termination\u001b[39;00m\n\u001b[0;32m    167\u001b[0m \u001b[38;5;28;01mif\u001b[39;00m sample_weight \u001b[38;5;129;01mis\u001b[39;00m \u001b[38;5;28;01mNone\u001b[39;00m:\n",
      "File \u001b[1;32m~\\anaconda3\\lib\\site-packages\\sklearn\\ensemble\\_weight_boosting.py:569\u001b[0m, in \u001b[0;36mAdaBoostClassifier._boost\u001b[1;34m(self, iboost, X, y, sample_weight, random_state)\u001b[0m\n\u001b[0;32m    530\u001b[0m \u001b[38;5;250m\u001b[39m\u001b[38;5;124;03m\"\"\"Implement a single boost.\u001b[39;00m\n\u001b[0;32m    531\u001b[0m \n\u001b[0;32m    532\u001b[0m \u001b[38;5;124;03mPerform a single boost according to the real multi-class SAMME.R\u001b[39;00m\n\u001b[1;32m   (...)\u001b[0m\n\u001b[0;32m    566\u001b[0m \u001b[38;5;124;03m    If None then boosting has terminated early.\u001b[39;00m\n\u001b[0;32m    567\u001b[0m \u001b[38;5;124;03m\"\"\"\u001b[39;00m\n\u001b[0;32m    568\u001b[0m \u001b[38;5;28;01mif\u001b[39;00m \u001b[38;5;28mself\u001b[39m\u001b[38;5;241m.\u001b[39malgorithm \u001b[38;5;241m==\u001b[39m \u001b[38;5;124m\"\u001b[39m\u001b[38;5;124mSAMME.R\u001b[39m\u001b[38;5;124m\"\u001b[39m:\n\u001b[1;32m--> 569\u001b[0m     \u001b[38;5;28;01mreturn\u001b[39;00m \u001b[38;5;28;43mself\u001b[39;49m\u001b[38;5;241;43m.\u001b[39;49m\u001b[43m_boost_real\u001b[49m\u001b[43m(\u001b[49m\u001b[43miboost\u001b[49m\u001b[43m,\u001b[49m\u001b[43m \u001b[49m\u001b[43mX\u001b[49m\u001b[43m,\u001b[49m\u001b[43m \u001b[49m\u001b[43my\u001b[49m\u001b[43m,\u001b[49m\u001b[43m \u001b[49m\u001b[43msample_weight\u001b[49m\u001b[43m,\u001b[49m\u001b[43m \u001b[49m\u001b[43mrandom_state\u001b[49m\u001b[43m)\u001b[49m\n\u001b[0;32m    571\u001b[0m \u001b[38;5;28;01melse\u001b[39;00m:  \u001b[38;5;66;03m# elif self.algorithm == \"SAMME\":\u001b[39;00m\n\u001b[0;32m    572\u001b[0m     \u001b[38;5;28;01mreturn\u001b[39;00m \u001b[38;5;28mself\u001b[39m\u001b[38;5;241m.\u001b[39m_boost_discrete(iboost, X, y, sample_weight, random_state)\n",
      "File \u001b[1;32m~\\anaconda3\\lib\\site-packages\\sklearn\\ensemble\\_weight_boosting.py:578\u001b[0m, in \u001b[0;36mAdaBoostClassifier._boost_real\u001b[1;34m(self, iboost, X, y, sample_weight, random_state)\u001b[0m\n\u001b[0;32m    575\u001b[0m \u001b[38;5;250m\u001b[39m\u001b[38;5;124;03m\"\"\"Implement a single boost using the SAMME.R real algorithm.\"\"\"\u001b[39;00m\n\u001b[0;32m    576\u001b[0m estimator \u001b[38;5;241m=\u001b[39m \u001b[38;5;28mself\u001b[39m\u001b[38;5;241m.\u001b[39m_make_estimator(random_state\u001b[38;5;241m=\u001b[39mrandom_state)\n\u001b[1;32m--> 578\u001b[0m \u001b[43mestimator\u001b[49m\u001b[38;5;241;43m.\u001b[39;49m\u001b[43mfit\u001b[49m\u001b[43m(\u001b[49m\u001b[43mX\u001b[49m\u001b[43m,\u001b[49m\u001b[43m \u001b[49m\u001b[43my\u001b[49m\u001b[43m,\u001b[49m\u001b[43m \u001b[49m\u001b[43msample_weight\u001b[49m\u001b[38;5;241;43m=\u001b[39;49m\u001b[43msample_weight\u001b[49m\u001b[43m)\u001b[49m\n\u001b[0;32m    580\u001b[0m y_predict_proba \u001b[38;5;241m=\u001b[39m estimator\u001b[38;5;241m.\u001b[39mpredict_proba(X)\n\u001b[0;32m    582\u001b[0m \u001b[38;5;28;01mif\u001b[39;00m iboost \u001b[38;5;241m==\u001b[39m \u001b[38;5;241m0\u001b[39m:\n",
      "File \u001b[1;32m~\\anaconda3\\lib\\site-packages\\sklearn\\tree\\_classes.py:889\u001b[0m, in \u001b[0;36mDecisionTreeClassifier.fit\u001b[1;34m(self, X, y, sample_weight, check_input)\u001b[0m\n\u001b[0;32m    859\u001b[0m \u001b[38;5;28;01mdef\u001b[39;00m \u001b[38;5;21mfit\u001b[39m(\u001b[38;5;28mself\u001b[39m, X, y, sample_weight\u001b[38;5;241m=\u001b[39m\u001b[38;5;28;01mNone\u001b[39;00m, check_input\u001b[38;5;241m=\u001b[39m\u001b[38;5;28;01mTrue\u001b[39;00m):\n\u001b[0;32m    860\u001b[0m \u001b[38;5;250m    \u001b[39m\u001b[38;5;124;03m\"\"\"Build a decision tree classifier from the training set (X, y).\u001b[39;00m\n\u001b[0;32m    861\u001b[0m \n\u001b[0;32m    862\u001b[0m \u001b[38;5;124;03m    Parameters\u001b[39;00m\n\u001b[1;32m   (...)\u001b[0m\n\u001b[0;32m    886\u001b[0m \u001b[38;5;124;03m        Fitted estimator.\u001b[39;00m\n\u001b[0;32m    887\u001b[0m \u001b[38;5;124;03m    \"\"\"\u001b[39;00m\n\u001b[1;32m--> 889\u001b[0m     \u001b[38;5;28;43msuper\u001b[39;49m\u001b[43m(\u001b[49m\u001b[43m)\u001b[49m\u001b[38;5;241;43m.\u001b[39;49m\u001b[43mfit\u001b[49m\u001b[43m(\u001b[49m\n\u001b[0;32m    890\u001b[0m \u001b[43m        \u001b[49m\u001b[43mX\u001b[49m\u001b[43m,\u001b[49m\n\u001b[0;32m    891\u001b[0m \u001b[43m        \u001b[49m\u001b[43my\u001b[49m\u001b[43m,\u001b[49m\n\u001b[0;32m    892\u001b[0m \u001b[43m        \u001b[49m\u001b[43msample_weight\u001b[49m\u001b[38;5;241;43m=\u001b[39;49m\u001b[43msample_weight\u001b[49m\u001b[43m,\u001b[49m\n\u001b[0;32m    893\u001b[0m \u001b[43m        \u001b[49m\u001b[43mcheck_input\u001b[49m\u001b[38;5;241;43m=\u001b[39;49m\u001b[43mcheck_input\u001b[49m\u001b[43m,\u001b[49m\n\u001b[0;32m    894\u001b[0m \u001b[43m    \u001b[49m\u001b[43m)\u001b[49m\n\u001b[0;32m    895\u001b[0m     \u001b[38;5;28;01mreturn\u001b[39;00m \u001b[38;5;28mself\u001b[39m\n",
      "File \u001b[1;32m~\\anaconda3\\lib\\site-packages\\sklearn\\tree\\_classes.py:379\u001b[0m, in \u001b[0;36mBaseDecisionTree.fit\u001b[1;34m(self, X, y, sample_weight, check_input)\u001b[0m\n\u001b[0;32m    368\u001b[0m \u001b[38;5;28;01melse\u001b[39;00m:\n\u001b[0;32m    369\u001b[0m     builder \u001b[38;5;241m=\u001b[39m BestFirstTreeBuilder(\n\u001b[0;32m    370\u001b[0m         splitter,\n\u001b[0;32m    371\u001b[0m         min_samples_split,\n\u001b[1;32m   (...)\u001b[0m\n\u001b[0;32m    376\u001b[0m         \u001b[38;5;28mself\u001b[39m\u001b[38;5;241m.\u001b[39mmin_impurity_decrease,\n\u001b[0;32m    377\u001b[0m     )\n\u001b[1;32m--> 379\u001b[0m \u001b[43mbuilder\u001b[49m\u001b[38;5;241;43m.\u001b[39;49m\u001b[43mbuild\u001b[49m\u001b[43m(\u001b[49m\u001b[38;5;28;43mself\u001b[39;49m\u001b[38;5;241;43m.\u001b[39;49m\u001b[43mtree_\u001b[49m\u001b[43m,\u001b[49m\u001b[43m \u001b[49m\u001b[43mX\u001b[49m\u001b[43m,\u001b[49m\u001b[43m \u001b[49m\u001b[43my\u001b[49m\u001b[43m,\u001b[49m\u001b[43m \u001b[49m\u001b[43msample_weight\u001b[49m\u001b[43m)\u001b[49m\n\u001b[0;32m    381\u001b[0m \u001b[38;5;28;01mif\u001b[39;00m \u001b[38;5;28mself\u001b[39m\u001b[38;5;241m.\u001b[39mn_outputs_ \u001b[38;5;241m==\u001b[39m \u001b[38;5;241m1\u001b[39m \u001b[38;5;129;01mand\u001b[39;00m is_classifier(\u001b[38;5;28mself\u001b[39m):\n\u001b[0;32m    382\u001b[0m     \u001b[38;5;28mself\u001b[39m\u001b[38;5;241m.\u001b[39mn_classes_ \u001b[38;5;241m=\u001b[39m \u001b[38;5;28mself\u001b[39m\u001b[38;5;241m.\u001b[39mn_classes_[\u001b[38;5;241m0\u001b[39m]\n",
      "\u001b[1;31mKeyboardInterrupt\u001b[0m: "
     ]
    }
   ],
   "source": [
    "get_accuracy_bag(X,y,title=\"Training and Test Accuracy vs Weak Classifiers\",Learning_rate_=[0.2,0.4,0.6,1],times=20,xlabel='Number Estimators')"
   ]
  },
  {
   "cell_type": "markdown",
   "id": "1e370565-9384-4963-9c68-ef5ac74a4dd3",
   "metadata": {},
   "source": [
    "Another important parameter is <code>algorithm</code> with takes on the values <code>SAMME</code>, <code>SAMME.R</code>. The default is  <code>’SAMME.R’</code>. The <code>SAMME.R</code> algorithm typically converges faster than <code>SAMME</code>, achieving a lower test error with fewer boosting iterations. For more details, check <a href=\"https://hastie.su.domains/Papers/samme.pdf?utm_medium=Exinfluencer&utm_source=Exinfluencer&utm_content=000026UJ&utm_term=10006555&utm_id=NA-SkillsNetwork-Channel-SkillsNetworkCoursesIBMML241ENSkillsNetwork31576874-2022-01-01\">the paper</a>. One issue is that <code>SAMME.R</code> can't be used all the time as we will need the Base classifier to generate the probability of belonging to each class.\n"
   ]
  },
  {
   "cell_type": "markdown",
   "id": "5cc10aa7-e0e4-4465-b217-713a0b24b78c",
   "metadata": {},
   "source": [
    "## Changing the Base Classifier\n"
   ]
  },
  {
   "cell_type": "markdown",
   "id": "fcb0c466-002b-4425-8f68-e386c53c86d4",
   "metadata": {},
   "source": [
    "AdaBoost is usually performed with Decision Trees but we can use other base classifiers. However, if the classifier is too strong it will cause overfitting. Consider using the following Support Vector Machine (SVM) as the base classifier:\n"
   ]
  },
  {
   "cell_type": "code",
   "execution_count": null,
   "id": "41e2a72a-2a9e-49a6-bfcb-b31d19ea9e64",
   "metadata": {},
   "outputs": [],
   "source": [
    "from sklearn.svm import SVC"
   ]
  },
  {
   "cell_type": "code",
   "execution_count": null,
   "id": "3ac646a1-0a19-4ce6-a8f2-6245a16c9eeb",
   "metadata": {},
   "outputs": [],
   "source": [
    "base_estimator=SVC(kernel='rbf',gamma=1)"
   ]
  },
  {
   "cell_type": "markdown",
   "id": "6b207b8c-7263-4d95-aca5-cc46f50158f6",
   "metadata": {},
   "source": [
    "We see the SVM does extremely well:\n"
   ]
  },
  {
   "cell_type": "code",
   "execution_count": null,
   "id": "e3f1eb8e-55fb-4032-bc32-6904471801aa",
   "metadata": {},
   "outputs": [],
   "source": [
    "base_estimator.fit(X_train, y_train)\n",
    "\n",
    "print(get_accuracy(X_train, X_test, y_train, y_test, base_estimator))"
   ]
  },
  {
   "cell_type": "markdown",
   "id": "b3ae30ac-7f1b-4c45-89aa-8b2c0899ff0e",
   "metadata": {},
   "source": [
    "The Base classifier for SVM can not generate the probability of belonging to each class. If you uncomment the following line of code you will get an error.\n"
   ]
  },
  {
   "cell_type": "code",
   "execution_count": null,
   "id": "f94e4a6d-3ece-45d0-b48c-aa8c9d4e4ea2",
   "metadata": {},
   "outputs": [],
   "source": [
    "#base_estimator.predict_proba(X_train)"
   ]
  },
  {
   "cell_type": "markdown",
   "id": "fa5b1509-faec-4f66-ade4-3bb0f2f2c1bd",
   "metadata": {},
   "source": [
    "Therefore the parameter <code>algorithm</code> must be <code>'SAMME'</code>\n"
   ]
  },
  {
   "cell_type": "code",
   "execution_count": null,
   "id": "ae867a96-ce3a-4f05-bd6d-4513f2861e4a",
   "metadata": {},
   "outputs": [],
   "source": [
    "algorithm='SAMME'"
   ]
  },
  {
   "cell_type": "code",
   "execution_count": null,
   "id": "2923d24d-8c35-4ec8-a9c7-4b4ca21aed6e",
   "metadata": {},
   "outputs": [],
   "source": [
    "model =AdaBoostClassifier(n_estimators=5, estimator=base_estimator,learning_rate=1,algorithm='SAMME' )"
   ]
  },
  {
   "cell_type": "markdown",
   "id": "e55e010f-7e7f-4bb2-80d8-a4ac91bae25c",
   "metadata": {},
   "source": [
    "We see the AdaBoost model does worse, this is similar to overfitting. In addition, SVM takes much longer to train than classification trees:\n"
   ]
  },
  {
   "cell_type": "code",
   "execution_count": null,
   "id": "b3708fec-a736-40a5-a71e-a77ca2e585c5",
   "metadata": {},
   "outputs": [],
   "source": [
    "model.fit(X_train, y_train)\n",
    "\n",
    "#Predict the response for test dataset\n",
    "y_pred = model.predict(X_test)\n",
    "print(get_accuracy(X_train, X_test, y_train, y_test, model))"
   ]
  },
  {
   "cell_type": "markdown",
   "id": "626ac8f9-10a2-4926-85cc-a209862b8137",
   "metadata": {},
   "source": [
    "We see that each tree in RF is less correlated than Bagging:\n"
   ]
  },
  {
   "cell_type": "markdown",
   "id": "ab8c232d-c7d5-43c2-8185-2baa1388c39c",
   "metadata": {},
   "source": [
    "<h2 id=\"Example\">Cancer Data Example</h2>\n",
    "\n",
    "The example is based on a dataset that is publicly available from the UCI Machine Learning Repository (Asuncion and Newman, 2007)[[http://mlearn.ics.uci.edu/MLRepository.html](http://mlearn.ics.uci.edu/MLRepository.html?utm_medium=Exinfluencer&utm_source=Exinfluencer&utm_content=000026UJ&utm_term=10006555&utm_id=NA-SkillsNetwork-Channel-SkillsNetworkCoursesIBMML241ENSkillsNetwork31576874-2022-01-01)]. The dataset consists of several hundred human cell sample records, each of which contains the values of a set of cell characteristics. The fields in each record are:\n",
    "\n",
    "| Field name  | Description                 |\n",
    "| ----------- | --------------------------- |\n",
    "| ID          | Clump thickness             |\n",
    "| Clump       | Clump thickness             |\n",
    "| UnifSize    | Uniformity of cell size     |\n",
    "| UnifShape   | Uniformity of cell shape    |\n",
    "| MargAdh     | Marginal adhesion           |\n",
    "| SingEpiSize | Single epithelial cell size |\n",
    "| BareNuc     | Bare nuclei                 |\n",
    "| BlandChrom  | Bland chromatin             |\n",
    "| NormNucl    | Normal nucleoli             |\n",
    "| Mit         | Mitoses                     |\n",
    "| Class       | Benign or malignant         |\n",
    "\n",
    "<br>\n",
    "<br>\n",
    "\n",
    "Let's load the dataset:\n"
   ]
  },
  {
   "cell_type": "code",
   "execution_count": null,
   "id": "ab92ef58-487e-41b3-b9bd-0a036b3b8162",
   "metadata": {},
   "outputs": [],
   "source": [
    "df = pd.read_csv(\"https://cf-courses-data.s3.us.cloud-object-storage.appdomain.cloud/IBMDeveloperSkillsNetwork-ML0101EN-SkillsNetwork/labs/Module%203/data/cell_samples.csv\")\n",
    "\n",
    "df.head()"
   ]
  },
  {
   "cell_type": "markdown",
   "id": "9885c689-71a9-4924-91ea-6467764087c3",
   "metadata": {},
   "source": [
    "Now lets remove rows that have a ? in the <code>BareNuc</code> column:\n"
   ]
  },
  {
   "cell_type": "code",
   "execution_count": null,
   "id": "3080558b-d992-4ad1-aa56-57c26c34f476",
   "metadata": {},
   "outputs": [],
   "source": [
    "df= df[pd.to_numeric(df['BareNuc'], errors='coerce').notnull()]"
   ]
  },
  {
   "cell_type": "markdown",
   "id": "a379a295-4f55-4c8b-a93b-193edfe1d9d7",
   "metadata": {},
   "source": [
    "We obtain the features:\n"
   ]
  },
  {
   "cell_type": "code",
   "execution_count": null,
   "id": "8b7e2e20-2094-4394-a3a1-4d84787c1825",
   "metadata": {},
   "outputs": [],
   "source": [
    "X =  df[['Clump', 'UnifSize', 'UnifShape', 'MargAdh', 'SingEpiSize', 'BareNuc', 'BlandChrom', 'NormNucl', 'Mit']]\n",
    "\n",
    "X.head()"
   ]
  },
  {
   "cell_type": "markdown",
   "id": "7a3accbf-4a9f-4a50-a083-d631a763e172",
   "metadata": {},
   "source": [
    "We obtain the class labels:\n"
   ]
  },
  {
   "cell_type": "code",
   "execution_count": null,
   "id": "61f04036-ca7d-4cec-8e62-47021ae7914d",
   "metadata": {},
   "outputs": [],
   "source": [
    "y=df['Class']\n",
    "y.head()"
   ]
  },
  {
   "cell_type": "markdown",
   "id": "e991885b-83bb-4706-8b27-26749559ab8f",
   "metadata": {},
   "source": [
    "We split the data into training and testing sets.\n"
   ]
  },
  {
   "cell_type": "code",
   "execution_count": null,
   "id": "654b0f80-8425-4d45-a52b-296a3418ea56",
   "metadata": {},
   "outputs": [],
   "source": [
    "X_train, X_test, y_train, y_test = train_test_split( X, y, test_size=0.2, random_state=4)\n",
    "print ('Train set:', X_train.shape,  y_train.shape)\n",
    "print ('Test set:', X_test.shape,  y_test.shape)"
   ]
  },
  {
   "cell_type": "markdown",
   "id": "8ff1b0eb-cece-44d2-a6c1-e4fe91bdc955",
   "metadata": {},
   "source": [
    "We use <code>GridSearchCV</code> to search over specified parameter values of the model.\n"
   ]
  },
  {
   "cell_type": "code",
   "execution_count": null,
   "id": "4e21efeb-da08-4cb1-91c1-7bb6de7e7c29",
   "metadata": {},
   "outputs": [],
   "source": [
    "from sklearn.model_selection import GridSearchCV"
   ]
  },
  {
   "cell_type": "markdown",
   "id": "21e7c59d-7ba8-4b01-b065-58acc5daae08",
   "metadata": {},
   "source": [
    "We create a <code>AdaBoost</code> object and list the parameters using the method <code>get_params()</code>:\n"
   ]
  },
  {
   "cell_type": "code",
   "execution_count": null,
   "id": "9e07e903-6d81-4ffc-a3e0-6bce59396b6c",
   "metadata": {},
   "outputs": [],
   "source": [
    "model = AdaBoostClassifier()\n",
    "model.get_params().keys()"
   ]
  },
  {
   "cell_type": "markdown",
   "id": "46deed18-7c2c-4daf-9dfe-8e55b802eea8",
   "metadata": {},
   "source": [
    "We can use GridSearch for Exhaustive search over specified parameter values. We see many of the parameters are similar to Classification trees; let's try different parameters for <code>learning_rate</code>, <code>n_estimators</code>, and <code>algorithm</code>.\n"
   ]
  },
  {
   "cell_type": "code",
   "execution_count": null,
   "id": "73ecb7e9-8b95-4ea0-bec5-9d3db3361ff2",
   "metadata": {},
   "outputs": [],
   "source": [
    "param_grid = {'learning_rate': [0.1*(n+1) for n in range(10)],\n",
    "             'n_estimators' : [2*n+1 for n in range(10)],\n",
    "              'algorithm':['SAMME', 'SAMME.R']}                \n",
    "\n",
    "param_grid "
   ]
  },
  {
   "cell_type": "markdown",
   "id": "030dfe1e-1f28-4a3b-b297-f9cf1ac22fab",
   "metadata": {},
   "source": [
    "We create the Grid Search object and fit it:\n"
   ]
  },
  {
   "cell_type": "code",
   "execution_count": null,
   "id": "715c4599-8f18-4d8f-8852-3954104a7879",
   "metadata": {},
   "outputs": [],
   "source": [
    "search = GridSearchCV(estimator=model, param_grid=param_grid,scoring='accuracy')\n",
    "search.fit(X_train, y_train)"
   ]
  },
  {
   "cell_type": "markdown",
   "id": "6a0b558e-8def-4a67-8327-9a55c8bb95ac",
   "metadata": {},
   "source": [
    "We can see the best accuracy score of the searched parameters was \\~96%.\n"
   ]
  },
  {
   "cell_type": "code",
   "execution_count": null,
   "id": "e6ba5652-e625-45d1-899c-f452fa0f8a53",
   "metadata": {},
   "outputs": [],
   "source": [
    "search.best_score_"
   ]
  },
  {
   "cell_type": "markdown",
   "id": "330c170f-5a97-4d86-8b15-01899cc6d439",
   "metadata": {},
   "source": [
    "The best parameter values are:\n"
   ]
  },
  {
   "cell_type": "code",
   "execution_count": null,
   "id": "6e7c08e9-a173-475a-bd6c-34217a51a2e6",
   "metadata": {},
   "outputs": [],
   "source": [
    "search.best_params_"
   ]
  },
  {
   "cell_type": "markdown",
   "id": "9ccd6fb2-c751-476a-968b-0b822de2e297",
   "metadata": {},
   "source": [
    "We can calculate accuracy on the test data using the test data:\n"
   ]
  },
  {
   "cell_type": "code",
   "execution_count": null,
   "id": "602aad2b-caab-4bcb-8e4c-774fa154fafd",
   "metadata": {},
   "outputs": [],
   "source": [
    "\n",
    "print(get_accuracy(X_train, X_test, y_train, y_test, search.best_estimator_))"
   ]
  },
  {
   "cell_type": "markdown",
   "id": "23fdc8f7-c80b-4e66-b985-f2be2fc01696",
   "metadata": {},
   "source": [
    "<h2 id=\"practice\">Practice</h2>\n"
   ]
  },
  {
   "cell_type": "markdown",
   "id": "e5c83766-db29-4195-bbb3-3ee3e8be4f0f",
   "metadata": {},
   "source": [
    "Imagine that you are a medical researcher compiling data for a study. You have collected data about a set of patients, all of whom suffered from the same illness. During their course of treatment, each patient responded to one of 5 medications, Drug A, Drug B, Drug c, Drug x and y.\n",
    "\n",
    "Part of your job is to build a model to find out which drug might be appropriate for a future patient with the same illness. The features of this dataset are Age, Sex, Blood Pressure, and the Cholesterol of the patients, and the target is the drug that each patient responded to.\n",
    "\n",
    "It is a sample of multiclass classifier, and you can use the training part of the dataset to build a decision tree, and then use it to predict the class of a unknown patient, or to prescribe a drug to a new patient.\n"
   ]
  },
  {
   "cell_type": "code",
   "execution_count": null,
   "id": "4dece7e9-0266-4b29-8c21-a25ceb5aff94",
   "metadata": {},
   "outputs": [],
   "source": [
    "df = pd.read_csv(\"https://cf-courses-data.s3.us.cloud-object-storage.appdomain.cloud/IBMDeveloperSkillsNetwork-ML0101EN-SkillsNetwork/labs/Module%203/data/drug200.csv\", delimiter=\",\")\n",
    "df.head()"
   ]
  },
  {
   "cell_type": "markdown",
   "id": "eb3d9828-1706-4bd5-b0a4-413c8d1dbcb4",
   "metadata": {},
   "source": [
    "Let's create the X and y for our dataset:\n"
   ]
  },
  {
   "cell_type": "code",
   "execution_count": null,
   "id": "f8c46fcc-0db6-4627-9ac6-08478a6d6a55",
   "metadata": {},
   "outputs": [],
   "source": [
    "X = df[['Age', 'Sex', 'BP', 'Cholesterol', 'Na_to_K']].values\n",
    "X[0:5]"
   ]
  },
  {
   "cell_type": "code",
   "execution_count": null,
   "id": "327220b0-a382-4588-bce4-ad76ea28b548",
   "metadata": {},
   "outputs": [],
   "source": [
    "y = df[\"Drug\"]\n",
    "y[0:5]"
   ]
  },
  {
   "cell_type": "markdown",
   "id": "2d2ce504-6a59-4dd4-8557-e6acd2e0d614",
   "metadata": {},
   "source": [
    "Now lets use a <code>LabelEncoder</code> to turn categorical features into numerical:\n"
   ]
  },
  {
   "cell_type": "code",
   "execution_count": null,
   "id": "d51d0960-6b33-4eb3-bdfb-336cdbb53dcd",
   "metadata": {},
   "outputs": [],
   "source": [
    "from sklearn import preprocessing\n",
    "le_sex = preprocessing.LabelEncoder()\n",
    "le_sex.fit(['F','M'])\n",
    "X[:,1] = le_sex.transform(X[:,1]) \n",
    "\n",
    "\n",
    "le_BP = preprocessing.LabelEncoder()\n",
    "le_BP.fit([ 'LOW', 'NORMAL', 'HIGH'])\n",
    "X[:,2] = le_BP.transform(X[:,2])\n",
    "\n",
    "\n",
    "le_Chol = preprocessing.LabelEncoder()\n",
    "le_Chol.fit([ 'NORMAL', 'HIGH'])\n",
    "X[:,3] = le_Chol.transform(X[:,3]) \n",
    "\n",
    "X[0:5]"
   ]
  },
  {
   "cell_type": "markdown",
   "id": "a74b308d-ea9b-459d-82c5-949d1f3eb492",
   "metadata": {},
   "source": [
    "Split the data into training and testing data with a 80/20 split.\n"
   ]
  },
  {
   "cell_type": "code",
   "execution_count": null,
   "id": "11026283-1e5e-4a29-ac34-9da27247e135",
   "metadata": {},
   "outputs": [],
   "source": [
    "X_train, X_test, y_train, y_test = train_test_split( X, y, test_size=0.2, random_state=4)\n",
    "print ('Train set:', X_train.shape,  y_train.shape)\n",
    "print ('Test set:', X_test.shape,  y_test.shape)"
   ]
  },
  {
   "cell_type": "markdown",
   "id": "e3c1d47c-16b1-4a71-99af-913afc9563b1",
   "metadata": {},
   "source": [
    "We can use GridSearch for Exhaustive search over specified parameter values.\n"
   ]
  },
  {
   "cell_type": "code",
   "execution_count": null,
   "id": "be2eea8d-58a3-442e-9f69-e364a319d8fe",
   "metadata": {},
   "outputs": [],
   "source": [
    "param_grid = {'learning_rate': [0.1*(n+1) for n in range(10)],\n",
    "             'n_estimators' : [2*n+1 for n in range(10)],\n",
    "              'algorithm':['SAMME', 'SAMME.R']}                \n",
    "\n",
    "param_grid \n"
   ]
  },
  {
   "cell_type": "markdown",
   "id": "aee80567-3150-4a36-9bac-2608476290b5",
   "metadata": {},
   "source": [
    "Create a <code>AdaBoostClassifier</code> object called <code>model</code> :\n"
   ]
  },
  {
   "cell_type": "code",
   "execution_count": null,
   "id": "280c828e-88ca-4eb7-9b57-f74b28f2d0bd",
   "metadata": {},
   "outputs": [],
   "source": []
  },
  {
   "cell_type": "markdown",
   "id": "f6c67e15-d4df-49df-ae8f-d4546355570d",
   "metadata": {},
   "source": [
    "<details><summary>Click here for the solution</summary>\n",
    "\n",
    "```python\n",
    "model = RandomForestClassifier()\n",
    "\n",
    "```\n",
    "\n",
    "</details>\n"
   ]
  },
  {
   "cell_type": "markdown",
   "id": "e6966dee-7177-4ba6-aa1b-5a260fc4a718",
   "metadata": {},
   "source": [
    "Create <code>GridSearchCV</code> object called `search` with the `estimator` set to <code>model</code>, <code>param_grid</code> set to <code>param_grid</code>, <code>scoring</code> set to <code>accuracy</code>, and <code>cv</code> set to 3 and Fit the <code>GridSearchCV</code> object to our <code>X_train</code> and <code>y_train</code> data.\n"
   ]
  },
  {
   "cell_type": "code",
   "execution_count": null,
   "id": "923d82c6-12c5-4f45-bc4a-6f39cc1fc172",
   "metadata": {},
   "outputs": [],
   "source": []
  },
  {
   "cell_type": "markdown",
   "id": "fe6dea7e-7880-4213-8213-655ef2adab76",
   "metadata": {},
   "source": [
    "<details><summary>Click here for the solution</summary>\n",
    "\n",
    "```python\n",
    "search = GridSearchCV(estimator=model, param_grid=param_grid,scoring='accuracy', cv=3)\n",
    "search.fit(X_train, y_train)\n",
    "\n",
    "```\n",
    "\n",
    "</details>\n"
   ]
  },
  {
   "cell_type": "markdown",
   "id": "e4de3528-f899-4563-a1ae-27147b830448",
   "metadata": {},
   "source": [
    "We can find the accuracy of the best model.\n"
   ]
  },
  {
   "cell_type": "code",
   "execution_count": null,
   "id": "4586356e-158c-4c3d-80ed-f73fbdfb59e1",
   "metadata": {},
   "outputs": [],
   "source": [
    "search.best_score_"
   ]
  },
  {
   "cell_type": "markdown",
   "id": "a2d7b1e6-1030-4649-9acc-0b0dd6ea5077",
   "metadata": {},
   "source": [
    "We can find the best parameter values:\n"
   ]
  },
  {
   "cell_type": "code",
   "execution_count": null,
   "id": "fc16bb3e-4892-4c26-8be8-3188ae212381",
   "metadata": {},
   "outputs": [],
   "source": [
    "search.best_params_"
   ]
  },
  {
   "cell_type": "markdown",
   "id": "852a18e3-3e6d-4593-9b62-b9c2e177e4c8",
   "metadata": {},
   "source": [
    "We can find the accuracy test data:\n"
   ]
  },
  {
   "cell_type": "markdown",
   "id": "203409f1-4bf2-4d02-86fa-f56b74c5cb58",
   "metadata": {},
   "source": [
    "<details><summary>Click here for the solution</summary>\n",
    "\n",
    "```python\n",
    "print(get_accuracy(X_train, X_test, y_train, y_test, search.best_estimator_))\n",
    "```\n",
    "\n",
    "</details>\n"
   ]
  },
  {
   "cell_type": "code",
   "execution_count": null,
   "id": "8af70dc7-5cfe-4d78-a557-424e21a05c4d",
   "metadata": {},
   "outputs": [],
   "source": []
  },
  {
   "cell_type": "markdown",
   "id": "8a35bacc-8ce6-447d-b29a-7442678f3697",
   "metadata": {},
   "source": [
    "### Thank you for completing this lab!\n",
    "\n",
    "## Author\n",
    "\n",
    "<a href=\"https://www.linkedin.com/in/joseph-s-50398b136/?utm_medium=Exinfluencer&utm_source=Exinfluencer&utm_content=000026UJ&utm_term=10006555&utm_id=NA-SkillsNetwork-Channel-SkillsNetworkCoursesIBMDeveloperSkillsNetworkML0101ENSkillsNetwork20718538-2021-01-01\" target=\"_blank\">Joseph Santarcangelo</a>\n",
    "\n",
    "### Other Contributors\n",
    "\n",
    "<a href=\"https://www.linkedin.com/in/richard-ye/?utm_medium=Exinfluencer&utm_source=Exinfluencer&utm_content=000026UJ&utm_term=10006555&utm_id=NA-SkillsNetwork-Channel-SkillsNetworkCoursesIBMDeveloperSkillsNetworkML0101ENSkillsNetwork20718538-2021-01-01\" target=\"_blank\">Richard Ye</a>\n",
    "\n",
    "## <h3 align=\"center\"> © IBM Corporation 2020. All rights reserved. <h3/>\n",
    "\n",
    "<!--## Change Log\n",
    "\n",
    "| Date (YYYY-MM-DD)                                                         | Version | Changed By           | Change Description   |\n",
    "| ------------------------------------------------------------------------- | ------- | -------------------- | -------------------- |\n",
    "| 2020-11-27                                                                | 0.1     | Joseph Santarcangelo | Created Lab Template |\n",
    "| 2022-2-8                                                                  | 0.2     | Steve Hord           | QA pass              |\n",
    "| 2022-05-03                                                                | 0.3     | Richard Ye           | Fixed spelling/HTML  |--!>\n",
    "\n",
    "\n"
   ]
  }
 ],
 "metadata": {
  "kernelspec": {
   "display_name": "Python 3 (ipykernel)",
   "language": "python",
   "name": "python3"
  },
  "language_info": {
   "codemirror_mode": {
    "name": "ipython",
    "version": 3
   },
   "file_extension": ".py",
   "mimetype": "text/x-python",
   "name": "python",
   "nbconvert_exporter": "python",
   "pygments_lexer": "ipython3",
   "version": "3.10.9"
  },
  "prev_pub_hash": "2fc98786498b2b3162cb8f62629ea345bb55395774458a3669932a18ac8c2d46"
 },
 "nbformat": 4,
 "nbformat_minor": 4
}
