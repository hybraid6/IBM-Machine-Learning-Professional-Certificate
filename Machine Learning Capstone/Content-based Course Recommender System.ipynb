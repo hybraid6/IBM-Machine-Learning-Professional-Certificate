{
 "cells": [
  {
   "cell_type": "markdown",
   "metadata": {},
   "source": [
    "<p style=\"text-align:center\">\n",
    "    <a href=\"https://skills.network/?utm_medium=Exinfluencer&utm_source=Exinfluencer&utm_content=000026UJ&utm_term=10006555&utm_id=NA-SkillsNetwork-Channel-SkillsNetworkCoursesIBMML321ENSkillsNetwork817-2022-01-01\" target=\"_blank\">\n",
    "    <img src=\"https://cf-courses-data.s3.us.cloud-object-storage.appdomain.cloud/assets/logos/SN_web_lightmode.png\" width=\"200\" alt=\"Skills Network Logo\">\n",
    "    </a>\n",
    "</p>\n"
   ]
  },
  {
   "cell_type": "markdown",
   "metadata": {},
   "source": [
    "# **Content-based Course Recommender System Using User Profile and Course Genres**\n"
   ]
  },
  {
   "cell_type": "markdown",
   "metadata": {},
   "source": [
    "Estimated time needed: **60** minutes\n"
   ]
  },
  {
   "cell_type": "markdown",
   "metadata": {},
   "source": [
    "The most common type of content-based recommendation system is to recommend items to users based on their profiles. The user's profile revolves around that user's preferences and tastes. It is shaped based on user ratings, including the number of times a user has clicked on different items or liked those items.\n",
    "\n",
    "The recommendation process is based on the similarity between those items. The similarity or closeness of items is measured based on the similarity in the content of those items. When we say content, we're talking about things like the item's category, tag, genre, and so on. Essentially the features about an item.\n"
   ]
  },
  {
   "cell_type": "markdown",
   "metadata": {},
   "source": [
    "For online course recommender systems, we already know how to extract features from courses (such as genres or BoW features). Next, based on the course genres and users' ratings, we want to further build user profiles (if unknown). \n",
    "\n",
    "A user profile can be seen as the user feature vector that mathematically represents a user's learning interests.\n"
   ]
  },
  {
   "cell_type": "markdown",
   "metadata": {},
   "source": [
    "With the user profile feature vectors and course genre feature vectors constructed, we can use several computational methods, such as a simple dot product, to compute or predict an interest score for each course and recommend those courses with high interest scores.\n"
   ]
  },
  {
   "cell_type": "markdown",
   "metadata": {},
   "source": [
    "![](https://cf-courses-data.s3.us.cloud-object-storage.appdomain.cloud/IBM-ML321EN-SkillsNetwork/labs/module_3/images/user_profile_score.png)\n"
   ]
  },
  {
   "cell_type": "markdown",
   "metadata": {},
   "source": [
    "## Objectives\n"
   ]
  },
  {
   "cell_type": "markdown",
   "metadata": {},
   "source": [
    "After completing this lab you will be able to:\n"
   ]
  },
  {
   "cell_type": "markdown",
   "metadata": {},
   "source": [
    "* Generate a user profile based on course genres and rating\n",
    "* Generate course recommendations based on a user's profile and course genres\n"
   ]
  },
  {
   "cell_type": "markdown",
   "metadata": {},
   "source": [
    "----\n"
   ]
  },
  {
   "cell_type": "markdown",
   "metadata": {},
   "source": [
    "## Prepare and setup the lab environment\n"
   ]
  },
  {
   "cell_type": "markdown",
   "metadata": {},
   "source": [
    "First, let's install and import the required packages.\n"
   ]
  },
  {
   "cell_type": "code",
   "execution_count": 1,
   "metadata": {},
   "outputs": [
    {
     "name": "stdout",
     "output_type": "stream",
     "text": [
      "Collecting scikit-learn\n",
      "  Downloading scikit_learn-1.7.0-cp312-cp312-manylinux_2_17_x86_64.manylinux2014_x86_64.whl.metadata (17 kB)\n",
      "Collecting numpy>=1.22.0 (from scikit-learn)\n",
      "  Downloading numpy-2.3.0-cp312-cp312-manylinux_2_28_x86_64.whl.metadata (62 kB)\n",
      "Collecting scipy>=1.8.0 (from scikit-learn)\n",
      "  Downloading scipy-1.15.3-cp312-cp312-manylinux_2_17_x86_64.manylinux2014_x86_64.whl.metadata (61 kB)\n",
      "Collecting joblib>=1.2.0 (from scikit-learn)\n",
      "  Downloading joblib-1.5.1-py3-none-any.whl.metadata (5.6 kB)\n",
      "Collecting threadpoolctl>=3.1.0 (from scikit-learn)\n",
      "  Downloading threadpoolctl-3.6.0-py3-none-any.whl.metadata (13 kB)\n",
      "Downloading scikit_learn-1.7.0-cp312-cp312-manylinux_2_17_x86_64.manylinux2014_x86_64.whl (12.5 MB)\n",
      "\u001b[2K   \u001b[90m━━━━━━━━━━━━━━━━━━━━━━━━━━━━━━━━━━━━━━━━\u001b[0m \u001b[32m12.5/12.5 MB\u001b[0m \u001b[31m96.7 MB/s\u001b[0m eta \u001b[36m0:00:00\u001b[0m\n",
      "\u001b[?25hDownloading joblib-1.5.1-py3-none-any.whl (307 kB)\n",
      "Downloading numpy-2.3.0-cp312-cp312-manylinux_2_28_x86_64.whl (16.6 MB)\n",
      "\u001b[2K   \u001b[90m━━━━━━━━━━━━━━━━━━━━━━━━━━━━━━━━━━━━━━━━\u001b[0m \u001b[32m16.6/16.6 MB\u001b[0m \u001b[31m125.8 MB/s\u001b[0m eta \u001b[36m0:00:00\u001b[0m\n",
      "\u001b[?25hDownloading scipy-1.15.3-cp312-cp312-manylinux_2_17_x86_64.manylinux2014_x86_64.whl (37.3 MB)\n",
      "\u001b[2K   \u001b[90m━━━━━━━━━━━━━━━━━━━━━━━━━━━━━━━━━━━━━━━━\u001b[0m \u001b[32m37.3/37.3 MB\u001b[0m \u001b[31m156.6 MB/s\u001b[0m eta \u001b[36m0:00:00\u001b[0m00:01\u001b[0m\n",
      "\u001b[?25hDownloading threadpoolctl-3.6.0-py3-none-any.whl (18 kB)\n",
      "Installing collected packages: threadpoolctl, numpy, joblib, scipy, scikit-learn\n",
      "Successfully installed joblib-1.5.1 numpy-2.3.0 scikit-learn-1.7.0 scipy-1.15.3 threadpoolctl-3.6.0\n",
      "Note: you may need to restart the kernel to use updated packages.\n",
      "Collecting pandas\n",
      "  Downloading pandas-2.3.0-cp312-cp312-manylinux_2_17_x86_64.manylinux2014_x86_64.whl.metadata (91 kB)\n",
      "Requirement already satisfied: numpy>=1.26.0 in /opt/conda/lib/python3.12/site-packages (from pandas) (2.3.0)\n",
      "Requirement already satisfied: python-dateutil>=2.8.2 in /opt/conda/lib/python3.12/site-packages (from pandas) (2.9.0.post0)\n",
      "Requirement already satisfied: pytz>=2020.1 in /opt/conda/lib/python3.12/site-packages (from pandas) (2024.2)\n",
      "Collecting tzdata>=2022.7 (from pandas)\n",
      "  Downloading tzdata-2025.2-py2.py3-none-any.whl.metadata (1.4 kB)\n",
      "Requirement already satisfied: six>=1.5 in /opt/conda/lib/python3.12/site-packages (from python-dateutil>=2.8.2->pandas) (1.17.0)\n",
      "Downloading pandas-2.3.0-cp312-cp312-manylinux_2_17_x86_64.manylinux2014_x86_64.whl (12.0 MB)\n",
      "\u001b[2K   \u001b[90m━━━━━━━━━━━━━━━━━━━━━━━━━━━━━━━━━━━━━━━━\u001b[0m \u001b[32m12.0/12.0 MB\u001b[0m \u001b[31m106.5 MB/s\u001b[0m eta \u001b[36m0:00:00\u001b[0m\n",
      "\u001b[?25hDownloading tzdata-2025.2-py2.py3-none-any.whl (347 kB)\n",
      "Installing collected packages: tzdata, pandas\n",
      "Successfully installed pandas-2.3.0 tzdata-2025.2\n",
      "Note: you may need to restart the kernel to use updated packages.\n"
     ]
    }
   ],
   "source": [
    "%pip install scikit-learn\n",
    "%pip install pandas"
   ]
  },
  {
   "cell_type": "code",
   "execution_count": 2,
   "metadata": {},
   "outputs": [],
   "source": [
    "import pandas as pd\n",
    "import numpy as np\n",
    "from sklearn import preprocessing"
   ]
  },
  {
   "cell_type": "code",
   "execution_count": 3,
   "metadata": {},
   "outputs": [],
   "source": [
    "# also set a random state\n",
    "rs = 123"
   ]
  },
  {
   "cell_type": "markdown",
   "metadata": {},
   "source": [
    "### Lets generate user profiles using course genres and ratings\n"
   ]
  },
  {
   "cell_type": "markdown",
   "metadata": {},
   "source": [
    "Suppose we have a very simple course genre dataset that contains only three genres: `Python`, `Database`, and `MachineLearning`.  \n",
    "\n",
    "We also have two courses: `Machine Learning with Python` and `SQL Learning with Python` and their genres as follows:\n"
   ]
  },
  {
   "cell_type": "code",
   "execution_count": 4,
   "metadata": {},
   "outputs": [
    {
     "data": {
      "text/html": [
       "<div>\n",
       "<style scoped>\n",
       "    .dataframe tbody tr th:only-of-type {\n",
       "        vertical-align: middle;\n",
       "    }\n",
       "\n",
       "    .dataframe tbody tr th {\n",
       "        vertical-align: top;\n",
       "    }\n",
       "\n",
       "    .dataframe thead th {\n",
       "        text-align: right;\n",
       "    }\n",
       "</style>\n",
       "<table border=\"1\" class=\"dataframe\">\n",
       "  <thead>\n",
       "    <tr style=\"text-align: right;\">\n",
       "      <th></th>\n",
       "      <th>Title</th>\n",
       "      <th>Python</th>\n",
       "      <th>Database</th>\n",
       "      <th>MachineLearning</th>\n",
       "    </tr>\n",
       "  </thead>\n",
       "  <tbody>\n",
       "    <tr>\n",
       "      <th>0</th>\n",
       "      <td>Machine Learning with Python</td>\n",
       "      <td>1</td>\n",
       "      <td>0</td>\n",
       "      <td>1</td>\n",
       "    </tr>\n",
       "    <tr>\n",
       "      <th>1</th>\n",
       "      <td>SQL with Python</td>\n",
       "      <td>1</td>\n",
       "      <td>1</td>\n",
       "      <td>0</td>\n",
       "    </tr>\n",
       "  </tbody>\n",
       "</table>\n",
       "</div>"
      ],
      "text/plain": [
       "                          Title  Python  Database  MachineLearning\n",
       "0  Machine Learning with Python       1         0                1\n",
       "1               SQL with Python       1         1                0"
      ]
     },
     "execution_count": 4,
     "metadata": {},
     "output_type": "execute_result"
    }
   ],
   "source": [
    "course_genres = ['Python', 'Database', 'MachineLearning']\n",
    "courses = [['Machine Learning with Python', 1, 0, 1], [\"SQL with Python\", 1, 1, 0]]\n",
    "courses_df = pd.DataFrame(courses, columns = ['Title'] + course_genres)\n",
    "courses_df"
   ]
  },
  {
   "cell_type": "markdown",
   "metadata": {},
   "source": [
    "As we can see from the dataset:\n",
    "- Course `Machine Learning with Python` has `Python` and `MachineLearning` genres\n",
    "- Course `SQL with Python` has `Python` and `Database` genres\n"
   ]
  },
  {
   "cell_type": "markdown",
   "metadata": {},
   "source": [
    "Then let's create another simple user rating dataframe containing the ratings from two users.\n"
   ]
  },
  {
   "cell_type": "code",
   "execution_count": 5,
   "metadata": {},
   "outputs": [
    {
     "data": {
      "text/html": [
       "<div>\n",
       "<style scoped>\n",
       "    .dataframe tbody tr th:only-of-type {\n",
       "        vertical-align: middle;\n",
       "    }\n",
       "\n",
       "    .dataframe tbody tr th {\n",
       "        vertical-align: top;\n",
       "    }\n",
       "\n",
       "    .dataframe thead th {\n",
       "        text-align: right;\n",
       "    }\n",
       "</style>\n",
       "<table border=\"1\" class=\"dataframe\">\n",
       "  <thead>\n",
       "    <tr style=\"text-align: right;\">\n",
       "      <th></th>\n",
       "      <th>User</th>\n",
       "      <th>Title</th>\n",
       "      <th>Rating</th>\n",
       "    </tr>\n",
       "  </thead>\n",
       "  <tbody>\n",
       "    <tr>\n",
       "      <th>0</th>\n",
       "      <td>user0</td>\n",
       "      <td>Machine Learning with Python</td>\n",
       "      <td>3</td>\n",
       "    </tr>\n",
       "    <tr>\n",
       "      <th>1</th>\n",
       "      <td>user1</td>\n",
       "      <td>SQL with Python</td>\n",
       "      <td>2</td>\n",
       "    </tr>\n",
       "  </tbody>\n",
       "</table>\n",
       "</div>"
      ],
      "text/plain": [
       "    User                         Title  Rating\n",
       "0  user0  Machine Learning with Python       3\n",
       "1  user1               SQL with Python       2"
      ]
     },
     "execution_count": 5,
     "metadata": {},
     "output_type": "execute_result"
    }
   ],
   "source": [
    "users = [['user0', 'Machine Learning with Python', 3], ['user1', 'SQL with Python', 2]]\n",
    "users_df = pd.DataFrame(users, columns = ['User', 'Title', 'Rating'])\n",
    "users_df"
   ]
  },
  {
   "cell_type": "markdown",
   "metadata": {},
   "source": [
    "Suppose **user0** rated `Machine Learning with Python` as 3 (completed with a certificate)  and **user1** rated `SQL with Python` as 2 (just audited or not completed).\n",
    "\n",
    "Based on their course ratings and course genres. Can we generate a profile vector for each user?\n"
   ]
  },
  {
   "cell_type": "markdown",
   "metadata": {},
   "source": [
    "Intuitively, since user0 has completed the course `Machine Learning with Python`, they should be interested in those genres associated with the course, i.e.,Machine Learning and Python. \n",
    "\n",
    "On the other hand, user0 has not taken the `SQL with Python` so it is likely they are not interested in the database genre.\n"
   ]
  },
  {
   "cell_type": "markdown",
   "metadata": {},
   "source": [
    "To quantify such user interests, we could multiply user0's rating vector with a course genre matrix and get the weighted genre's vector for the courses:\n"
   ]
  },
  {
   "cell_type": "code",
   "execution_count": 6,
   "metadata": {},
   "outputs": [],
   "source": [
    "# User 0 rated course 0 as 3 and course 1 as 0/NA (unknown or not interested)\n",
    "u0 = np.array([[3, 0]])"
   ]
  },
  {
   "cell_type": "code",
   "execution_count": 7,
   "metadata": {},
   "outputs": [],
   "source": [
    "# The course genre's matrix\n",
    "C = courses_df[['Python', 'Database', 'MachineLearning']].to_numpy()"
   ]
  },
  {
   "cell_type": "markdown",
   "metadata": {},
   "source": [
    "Before multiplying them, let's first print their shapes:\n"
   ]
  },
  {
   "cell_type": "code",
   "execution_count": 8,
   "metadata": {},
   "outputs": [
    {
     "name": "stdout",
     "output_type": "stream",
     "text": [
      "User profile vector shape (1, 2) and course genre matrix shape (2, 3)\n"
     ]
    }
   ],
   "source": [
    "print(f\"User profile vector shape {u0.shape} and course genre matrix shape {C.shape}\")"
   ]
  },
  {
   "cell_type": "markdown",
   "metadata": {},
   "source": [
    "If we multiple a $1 x 2$ vector with a $2 x 3$ matrix, we will get a 1 x 3 vector representing the user profile vector.\n"
   ]
  },
  {
   "cell_type": "markdown",
   "metadata": {},
   "source": [
    "$$u_0C = \\begin{bmatrix} 3 & 0 \\end{bmatrix} \\begin{bmatrix} 1 & 0 & 1 \\\\\\\\\\\\\\\\ 1 & 1 & 0 \\end{bmatrix}$$\n"
   ]
  },
  {
   "cell_type": "code",
   "execution_count": 9,
   "metadata": {},
   "outputs": [
    {
     "data": {
      "text/plain": [
       "array([[3, 0, 3]])"
      ]
     },
     "execution_count": 9,
     "metadata": {},
     "output_type": "execute_result"
    }
   ],
   "source": [
    "u0_weights = np.matmul(u0, C)\n",
    "u0_weights"
   ]
  },
  {
   "cell_type": "code",
   "execution_count": null,
   "metadata": {},
   "outputs": [],
   "source": [
    "course_genres"
   ]
  },
  {
   "cell_type": "markdown",
   "metadata": {},
   "source": [
    "Let's take a look at the result. This `u0_weights` is also called the weighted genre vector and represents the interests of the user for each genre based on the courses they have rated. As we can see from the results, user0 seems interested in `Python` and `MachineLearning` with a rating of 3.\n"
   ]
  },
  {
   "cell_type": "markdown",
   "metadata": {},
   "source": [
    "Similarly, we can calculate the weighted genre matrix for user 1:\n"
   ]
  },
  {
   "cell_type": "markdown",
   "metadata": {},
   "source": [
    "$$u_1C = \\begin{bmatrix} 0 & 2 \\end{bmatrix} \\begin{bmatrix} 1 & 0 & 1 \\\\\\\\\\\\\\\\ 1 & 1 & 0 \\end{bmatrix}$$\n"
   ]
  },
  {
   "cell_type": "code",
   "execution_count": 10,
   "metadata": {},
   "outputs": [],
   "source": [
    "# User 1 rated course 0 as 0 (unknown or not interested) and course 1 as 2\n",
    "u1 = np.array([[0, 2]])"
   ]
  },
  {
   "cell_type": "code",
   "execution_count": 11,
   "metadata": {},
   "outputs": [
    {
     "data": {
      "text/plain": [
       "array([[2, 2, 0]])"
      ]
     },
     "execution_count": 11,
     "metadata": {},
     "output_type": "execute_result"
    }
   ],
   "source": [
    "u1_weights = np.matmul(u1, C)\n",
    "u1_weights"
   ]
  },
  {
   "cell_type": "markdown",
   "metadata": {},
   "source": [
    "As we can see from the `u1_weights` vector, user1 seems very interested in `Python` and `Database` with a value 2.\n"
   ]
  },
  {
   "cell_type": "markdown",
   "metadata": {},
   "source": [
    "Let's combine the two weighted genre vectors and create a user profile dataframe:\n"
   ]
  },
  {
   "cell_type": "code",
   "execution_count": 12,
   "metadata": {},
   "outputs": [],
   "source": [
    "weights = np.concatenate((u0_weights.reshape(1, 3), u1_weights.reshape(1, 3)), axis=0)\n",
    "profiles_df = pd.DataFrame(weights, columns=['Python', 'Database', 'MachineLearning'])\n",
    "profiles_df.insert(0, 'user', ['user0', 'user1'])"
   ]
  },
  {
   "cell_type": "code",
   "execution_count": 13,
   "metadata": {},
   "outputs": [
    {
     "data": {
      "text/html": [
       "<div>\n",
       "<style scoped>\n",
       "    .dataframe tbody tr th:only-of-type {\n",
       "        vertical-align: middle;\n",
       "    }\n",
       "\n",
       "    .dataframe tbody tr th {\n",
       "        vertical-align: top;\n",
       "    }\n",
       "\n",
       "    .dataframe thead th {\n",
       "        text-align: right;\n",
       "    }\n",
       "</style>\n",
       "<table border=\"1\" class=\"dataframe\">\n",
       "  <thead>\n",
       "    <tr style=\"text-align: right;\">\n",
       "      <th></th>\n",
       "      <th>user</th>\n",
       "      <th>Python</th>\n",
       "      <th>Database</th>\n",
       "      <th>MachineLearning</th>\n",
       "    </tr>\n",
       "  </thead>\n",
       "  <tbody>\n",
       "    <tr>\n",
       "      <th>0</th>\n",
       "      <td>user0</td>\n",
       "      <td>3</td>\n",
       "      <td>0</td>\n",
       "      <td>3</td>\n",
       "    </tr>\n",
       "    <tr>\n",
       "      <th>1</th>\n",
       "      <td>user1</td>\n",
       "      <td>2</td>\n",
       "      <td>2</td>\n",
       "      <td>0</td>\n",
       "    </tr>\n",
       "  </tbody>\n",
       "</table>\n",
       "</div>"
      ],
      "text/plain": [
       "    user  Python  Database  MachineLearning\n",
       "0  user0       3         0                3\n",
       "1  user1       2         2                0"
      ]
     },
     "execution_count": 13,
     "metadata": {},
     "output_type": "execute_result"
    }
   ],
   "source": [
    "profiles_df"
   ]
  },
  {
   "cell_type": "markdown",
   "metadata": {},
   "source": [
    "Now this `profiles_df` clearly shows the user profiles or course interests.\n"
   ]
  },
  {
   "cell_type": "markdown",
   "metadata": {},
   "source": [
    "### Generate recommendation scores for some new courses\n"
   ]
  },
  {
   "cell_type": "markdown",
   "metadata": {},
   "source": [
    "With the user profiles generated, we can see that `user0` is very interested in Python and machine learning, and `user1` is very interested in Python and database.\n"
   ]
  },
  {
   "cell_type": "markdown",
   "metadata": {},
   "source": [
    "Now, suppose we published some new courses titled as `Python 101`, `Database 101`, and `Machine Learning with R`:\n"
   ]
  },
  {
   "cell_type": "code",
   "execution_count": 14,
   "metadata": {},
   "outputs": [
    {
     "data": {
      "text/html": [
       "<div>\n",
       "<style scoped>\n",
       "    .dataframe tbody tr th:only-of-type {\n",
       "        vertical-align: middle;\n",
       "    }\n",
       "\n",
       "    .dataframe tbody tr th {\n",
       "        vertical-align: top;\n",
       "    }\n",
       "\n",
       "    .dataframe thead th {\n",
       "        text-align: right;\n",
       "    }\n",
       "</style>\n",
       "<table border=\"1\" class=\"dataframe\">\n",
       "  <thead>\n",
       "    <tr style=\"text-align: right;\">\n",
       "      <th></th>\n",
       "      <th>Title</th>\n",
       "      <th>Python</th>\n",
       "      <th>Database</th>\n",
       "      <th>MachineLearning</th>\n",
       "    </tr>\n",
       "  </thead>\n",
       "  <tbody>\n",
       "    <tr>\n",
       "      <th>0</th>\n",
       "      <td>Python 101</td>\n",
       "      <td>1</td>\n",
       "      <td>0</td>\n",
       "      <td>0</td>\n",
       "    </tr>\n",
       "    <tr>\n",
       "      <th>1</th>\n",
       "      <td>Database 101</td>\n",
       "      <td>0</td>\n",
       "      <td>1</td>\n",
       "      <td>0</td>\n",
       "    </tr>\n",
       "    <tr>\n",
       "      <th>2</th>\n",
       "      <td>Machine Learning with R</td>\n",
       "      <td>0</td>\n",
       "      <td>0</td>\n",
       "      <td>1</td>\n",
       "    </tr>\n",
       "  </tbody>\n",
       "</table>\n",
       "</div>"
      ],
      "text/plain": [
       "                     Title  Python  Database  MachineLearning\n",
       "0               Python 101       1         0                0\n",
       "1             Database 101       0         1                0\n",
       "2  Machine Learning with R       0         0                1"
      ]
     },
     "execution_count": 14,
     "metadata": {},
     "output_type": "execute_result"
    }
   ],
   "source": [
    "new_courses = [['Python 101', 1, 0, 0], [\"Database 101\", 0, 1, 0], [\"Machine Learning with R\", 0, 0, 1]]\n",
    "new_courses_df = pd.DataFrame(new_courses, columns = ['Title', 'Python', 'Database', 'MachineLearning'])\n",
    "new_courses_df"
   ]
  },
  {
   "cell_type": "markdown",
   "metadata": {},
   "source": [
    "Next, how can we calculate a recommendation score for each new course with respect to `user0` and `user1`, using user profile vectors and genre vectors?\n"
   ]
  },
  {
   "cell_type": "markdown",
   "metadata": {},
   "source": [
    "One simple but effective way is to apply the dot product to the user profile vector and course genre vector (as they always have the same shape). Since we have two users and three courses, we need to perform a matrix multiplication:\n"
   ]
  },
  {
   "cell_type": "code",
   "execution_count": 15,
   "metadata": {},
   "outputs": [
    {
     "data": {
      "text/html": [
       "<div>\n",
       "<style scoped>\n",
       "    .dataframe tbody tr th:only-of-type {\n",
       "        vertical-align: middle;\n",
       "    }\n",
       "\n",
       "    .dataframe tbody tr th {\n",
       "        vertical-align: top;\n",
       "    }\n",
       "\n",
       "    .dataframe thead th {\n",
       "        text-align: right;\n",
       "    }\n",
       "</style>\n",
       "<table border=\"1\" class=\"dataframe\">\n",
       "  <thead>\n",
       "    <tr style=\"text-align: right;\">\n",
       "      <th></th>\n",
       "      <th>user</th>\n",
       "      <th>Python</th>\n",
       "      <th>Database</th>\n",
       "      <th>MachineLearning</th>\n",
       "    </tr>\n",
       "  </thead>\n",
       "  <tbody>\n",
       "    <tr>\n",
       "      <th>0</th>\n",
       "      <td>user0</td>\n",
       "      <td>3</td>\n",
       "      <td>0</td>\n",
       "      <td>3</td>\n",
       "    </tr>\n",
       "    <tr>\n",
       "      <th>1</th>\n",
       "      <td>user1</td>\n",
       "      <td>2</td>\n",
       "      <td>2</td>\n",
       "      <td>0</td>\n",
       "    </tr>\n",
       "  </tbody>\n",
       "</table>\n",
       "</div>"
      ],
      "text/plain": [
       "    user  Python  Database  MachineLearning\n",
       "0  user0       3         0                3\n",
       "1  user1       2         2                0"
      ]
     },
     "execution_count": 15,
     "metadata": {},
     "output_type": "execute_result"
    }
   ],
   "source": [
    "profiles_df"
   ]
  },
  {
   "cell_type": "markdown",
   "metadata": {},
   "source": [
    "Let's convert the course genre dataframe into a 2-D numpy array:\n"
   ]
  },
  {
   "cell_type": "code",
   "execution_count": 16,
   "metadata": {},
   "outputs": [
    {
     "data": {
      "text/plain": [
       "array([[1, 0, 0],\n",
       "       [0, 1, 0],\n",
       "       [0, 0, 1]])"
      ]
     },
     "execution_count": 16,
     "metadata": {},
     "output_type": "execute_result"
    }
   ],
   "source": [
    "# Drop the title column\n",
    "new_courses_df = new_courses_df.loc[:, new_courses_df.columns != 'Title']\n",
    "course_matrix = new_courses_df.values\n",
    "course_matrix"
   ]
  },
  {
   "cell_type": "code",
   "execution_count": 17,
   "metadata": {},
   "outputs": [
    {
     "data": {
      "text/plain": [
       "(3, 3)"
      ]
     },
     "execution_count": 17,
     "metadata": {},
     "output_type": "execute_result"
    }
   ],
   "source": [
    "# course matrix shape\n",
    "course_matrix.shape"
   ]
  },
  {
   "cell_type": "markdown",
   "metadata": {},
   "source": [
    "As we can see from the above output, the course matrix is a `3 x 3` matrix and each row vector is a course genre vector.\n"
   ]
  },
  {
   "cell_type": "markdown",
   "metadata": {},
   "source": [
    "Then we can convert the user profile dataframe into another 2-d numpy array:\n"
   ]
  },
  {
   "cell_type": "code",
   "execution_count": 18,
   "metadata": {},
   "outputs": [
    {
     "data": {
      "text/plain": [
       "array([[3, 0, 3],\n",
       "       [2, 2, 0]])"
      ]
     },
     "execution_count": 18,
     "metadata": {},
     "output_type": "execute_result"
    }
   ],
   "source": [
    "# Drop the user column\n",
    "profiles_df = profiles_df.loc[:, profiles_df.columns != 'user']\n",
    "profile_matrix = profiles_df.values\n",
    "profile_matrix"
   ]
  },
  {
   "cell_type": "code",
   "execution_count": 19,
   "metadata": {},
   "outputs": [
    {
     "data": {
      "text/plain": [
       "(2, 3)"
      ]
     },
     "execution_count": 19,
     "metadata": {},
     "output_type": "execute_result"
    }
   ],
   "source": [
    "profile_matrix.shape"
   ]
  },
  {
   "cell_type": "markdown",
   "metadata": {},
   "source": [
    "The profile matrix is a 2 x 3 matrix and each row is a user profile vector:\n"
   ]
  },
  {
   "cell_type": "markdown",
   "metadata": {},
   "source": [
    "If we multiply the course matrix and the user profile matrix, we can get the 2 x 3 course recommendation matrix with each element `(i, j)` representing a recommendation score of course `i` to user `j`. Intuitively, if a user `j` is interested in some topics(genres) and if a course `i` also has the same topics(genres), it means the user profile vector and course genre vector share many common dimensions and a dot product is likely to have a large value.\n"
   ]
  },
  {
   "cell_type": "code",
   "execution_count": 20,
   "metadata": {},
   "outputs": [
    {
     "data": {
      "text/plain": [
       "array([[3, 2],\n",
       "       [0, 2],\n",
       "       [3, 0]])"
      ]
     },
     "execution_count": 20,
     "metadata": {},
     "output_type": "execute_result"
    }
   ],
   "source": [
    "scores = np.matmul(course_matrix, profile_matrix.T)\n",
    "scores"
   ]
  },
  {
   "cell_type": "markdown",
   "metadata": {},
   "source": [
    "Now let's add the course titles and user ids back to make the results more clear:\n"
   ]
  },
  {
   "cell_type": "code",
   "execution_count": 21,
   "metadata": {},
   "outputs": [],
   "source": [
    "scores_df = pd.DataFrame(scores, columns=['User0', 'User1'])\n",
    "scores_df.index = ['Python 101', 'Database 101', 'Machine Learning with R']"
   ]
  },
  {
   "cell_type": "code",
   "execution_count": 22,
   "metadata": {},
   "outputs": [
    {
     "data": {
      "text/html": [
       "<div>\n",
       "<style scoped>\n",
       "    .dataframe tbody tr th:only-of-type {\n",
       "        vertical-align: middle;\n",
       "    }\n",
       "\n",
       "    .dataframe tbody tr th {\n",
       "        vertical-align: top;\n",
       "    }\n",
       "\n",
       "    .dataframe thead th {\n",
       "        text-align: right;\n",
       "    }\n",
       "</style>\n",
       "<table border=\"1\" class=\"dataframe\">\n",
       "  <thead>\n",
       "    <tr style=\"text-align: right;\">\n",
       "      <th></th>\n",
       "      <th>User0</th>\n",
       "      <th>User1</th>\n",
       "    </tr>\n",
       "  </thead>\n",
       "  <tbody>\n",
       "    <tr>\n",
       "      <th>Python 101</th>\n",
       "      <td>3</td>\n",
       "      <td>2</td>\n",
       "    </tr>\n",
       "    <tr>\n",
       "      <th>Database 101</th>\n",
       "      <td>0</td>\n",
       "      <td>2</td>\n",
       "    </tr>\n",
       "    <tr>\n",
       "      <th>Machine Learning with R</th>\n",
       "      <td>3</td>\n",
       "      <td>0</td>\n",
       "    </tr>\n",
       "  </tbody>\n",
       "</table>\n",
       "</div>"
      ],
      "text/plain": [
       "                         User0  User1\n",
       "Python 101                   3      2\n",
       "Database 101                 0      2\n",
       "Machine Learning with R      3      0"
      ]
     },
     "execution_count": 22,
     "metadata": {},
     "output_type": "execute_result"
    }
   ],
   "source": [
    "# recommendation score dataframe\n",
    "scores_df"
   ]
  },
  {
   "cell_type": "markdown",
   "metadata": {},
   "source": [
    "From the score results, we can see that:\n",
    "- For user0, the recommended courses are `Python 101` and `Machine Learning with R` because user0 is very interested in Python and machine learning\n",
    "- For user1, the recommended courses are `Python 101` and `Database 101` because user1 seems very interested in topics like Python and database\n"
   ]
  },
  {
   "cell_type": "markdown",
   "metadata": {},
   "source": [
    "### TASK: Generate course recommendations based on user profile and course genre vectors\n"
   ]
  },
  {
   "cell_type": "markdown",
   "metadata": {},
   "source": [
    "By now you have learned how to calculate recommendation scores using a user profile vector and a course genre vector.  Now, let's work on some real-world datasets to generate real personalized courses recommendations.\n"
   ]
  },
  {
   "cell_type": "markdown",
   "metadata": {},
   "source": [
    "First, we will load a user's profile dataframe and a course genre dataframe:\n"
   ]
  },
  {
   "cell_type": "code",
   "execution_count": 23,
   "metadata": {},
   "outputs": [],
   "source": [
    "course_genre_url = \"https://cf-courses-data.s3.us.cloud-object-storage.appdomain.cloud/IBM-ML321EN-SkillsNetwork/labs/datasets/course_genre.csv\"\n",
    "course_genres_df = pd.read_csv(course_genre_url)"
   ]
  },
  {
   "cell_type": "code",
   "execution_count": 24,
   "metadata": {},
   "outputs": [
    {
     "data": {
      "text/html": [
       "<div>\n",
       "<style scoped>\n",
       "    .dataframe tbody tr th:only-of-type {\n",
       "        vertical-align: middle;\n",
       "    }\n",
       "\n",
       "    .dataframe tbody tr th {\n",
       "        vertical-align: top;\n",
       "    }\n",
       "\n",
       "    .dataframe thead th {\n",
       "        text-align: right;\n",
       "    }\n",
       "</style>\n",
       "<table border=\"1\" class=\"dataframe\">\n",
       "  <thead>\n",
       "    <tr style=\"text-align: right;\">\n",
       "      <th></th>\n",
       "      <th>COURSE_ID</th>\n",
       "      <th>TITLE</th>\n",
       "      <th>Database</th>\n",
       "      <th>Python</th>\n",
       "      <th>CloudComputing</th>\n",
       "      <th>DataAnalysis</th>\n",
       "      <th>Containers</th>\n",
       "      <th>MachineLearning</th>\n",
       "      <th>ComputerVision</th>\n",
       "      <th>DataScience</th>\n",
       "      <th>BigData</th>\n",
       "      <th>Chatbot</th>\n",
       "      <th>R</th>\n",
       "      <th>BackendDev</th>\n",
       "      <th>FrontendDev</th>\n",
       "      <th>Blockchain</th>\n",
       "    </tr>\n",
       "  </thead>\n",
       "  <tbody>\n",
       "    <tr>\n",
       "      <th>0</th>\n",
       "      <td>ML0201EN</td>\n",
       "      <td>robots are coming  build iot apps with watson ...</td>\n",
       "      <td>0</td>\n",
       "      <td>0</td>\n",
       "      <td>0</td>\n",
       "      <td>0</td>\n",
       "      <td>0</td>\n",
       "      <td>0</td>\n",
       "      <td>0</td>\n",
       "      <td>0</td>\n",
       "      <td>0</td>\n",
       "      <td>0</td>\n",
       "      <td>0</td>\n",
       "      <td>1</td>\n",
       "      <td>1</td>\n",
       "      <td>0</td>\n",
       "    </tr>\n",
       "    <tr>\n",
       "      <th>1</th>\n",
       "      <td>ML0122EN</td>\n",
       "      <td>accelerating deep learning with gpu</td>\n",
       "      <td>0</td>\n",
       "      <td>1</td>\n",
       "      <td>0</td>\n",
       "      <td>0</td>\n",
       "      <td>0</td>\n",
       "      <td>1</td>\n",
       "      <td>0</td>\n",
       "      <td>1</td>\n",
       "      <td>0</td>\n",
       "      <td>0</td>\n",
       "      <td>0</td>\n",
       "      <td>0</td>\n",
       "      <td>0</td>\n",
       "      <td>0</td>\n",
       "    </tr>\n",
       "    <tr>\n",
       "      <th>2</th>\n",
       "      <td>GPXX0ZG0EN</td>\n",
       "      <td>consuming restful services using the reactive ...</td>\n",
       "      <td>0</td>\n",
       "      <td>0</td>\n",
       "      <td>0</td>\n",
       "      <td>0</td>\n",
       "      <td>0</td>\n",
       "      <td>0</td>\n",
       "      <td>0</td>\n",
       "      <td>0</td>\n",
       "      <td>0</td>\n",
       "      <td>0</td>\n",
       "      <td>0</td>\n",
       "      <td>1</td>\n",
       "      <td>1</td>\n",
       "      <td>0</td>\n",
       "    </tr>\n",
       "    <tr>\n",
       "      <th>3</th>\n",
       "      <td>RP0105EN</td>\n",
       "      <td>analyzing big data in r using apache spark</td>\n",
       "      <td>1</td>\n",
       "      <td>0</td>\n",
       "      <td>0</td>\n",
       "      <td>1</td>\n",
       "      <td>0</td>\n",
       "      <td>0</td>\n",
       "      <td>0</td>\n",
       "      <td>0</td>\n",
       "      <td>1</td>\n",
       "      <td>0</td>\n",
       "      <td>1</td>\n",
       "      <td>0</td>\n",
       "      <td>0</td>\n",
       "      <td>0</td>\n",
       "    </tr>\n",
       "    <tr>\n",
       "      <th>4</th>\n",
       "      <td>GPXX0Z2PEN</td>\n",
       "      <td>containerizing  packaging  and running a sprin...</td>\n",
       "      <td>0</td>\n",
       "      <td>0</td>\n",
       "      <td>0</td>\n",
       "      <td>0</td>\n",
       "      <td>1</td>\n",
       "      <td>0</td>\n",
       "      <td>0</td>\n",
       "      <td>0</td>\n",
       "      <td>0</td>\n",
       "      <td>0</td>\n",
       "      <td>0</td>\n",
       "      <td>1</td>\n",
       "      <td>0</td>\n",
       "      <td>0</td>\n",
       "    </tr>\n",
       "  </tbody>\n",
       "</table>\n",
       "</div>"
      ],
      "text/plain": [
       "    COURSE_ID                                              TITLE  Database  \\\n",
       "0    ML0201EN  robots are coming  build iot apps with watson ...         0   \n",
       "1    ML0122EN                accelerating deep learning with gpu         0   \n",
       "2  GPXX0ZG0EN  consuming restful services using the reactive ...         0   \n",
       "3    RP0105EN         analyzing big data in r using apache spark         1   \n",
       "4  GPXX0Z2PEN  containerizing  packaging  and running a sprin...         0   \n",
       "\n",
       "   Python  CloudComputing  DataAnalysis  Containers  MachineLearning  \\\n",
       "0       0               0             0           0                0   \n",
       "1       1               0             0           0                1   \n",
       "2       0               0             0           0                0   \n",
       "3       0               0             1           0                0   \n",
       "4       0               0             0           1                0   \n",
       "\n",
       "   ComputerVision  DataScience  BigData  Chatbot  R  BackendDev  FrontendDev  \\\n",
       "0               0            0        0        0  0           1            1   \n",
       "1               0            1        0        0  0           0            0   \n",
       "2               0            0        0        0  0           1            1   \n",
       "3               0            0        1        0  1           0            0   \n",
       "4               0            0        0        0  0           1            0   \n",
       "\n",
       "   Blockchain  \n",
       "0           0  \n",
       "1           0  \n",
       "2           0  \n",
       "3           0  \n",
       "4           0  "
      ]
     },
     "execution_count": 24,
     "metadata": {},
     "output_type": "execute_result"
    }
   ],
   "source": [
    "course_genres_df.head()"
   ]
  },
  {
   "cell_type": "code",
   "execution_count": 25,
   "metadata": {},
   "outputs": [],
   "source": [
    "profile_genre_url = \"https://cf-courses-data.s3.us.cloud-object-storage.appdomain.cloud/IBM-ML321EN-SkillsNetwork/labs/datasets/user_profile.csv\"\n",
    "profile_df = pd.read_csv(profile_genre_url)"
   ]
  },
  {
   "cell_type": "code",
   "execution_count": 26,
   "metadata": {},
   "outputs": [
    {
     "data": {
      "text/html": [
       "<div>\n",
       "<style scoped>\n",
       "    .dataframe tbody tr th:only-of-type {\n",
       "        vertical-align: middle;\n",
       "    }\n",
       "\n",
       "    .dataframe tbody tr th {\n",
       "        vertical-align: top;\n",
       "    }\n",
       "\n",
       "    .dataframe thead th {\n",
       "        text-align: right;\n",
       "    }\n",
       "</style>\n",
       "<table border=\"1\" class=\"dataframe\">\n",
       "  <thead>\n",
       "    <tr style=\"text-align: right;\">\n",
       "      <th></th>\n",
       "      <th>user</th>\n",
       "      <th>Database</th>\n",
       "      <th>Python</th>\n",
       "      <th>CloudComputing</th>\n",
       "      <th>DataAnalysis</th>\n",
       "      <th>Containers</th>\n",
       "      <th>MachineLearning</th>\n",
       "      <th>ComputerVision</th>\n",
       "      <th>DataScience</th>\n",
       "      <th>BigData</th>\n",
       "      <th>Chatbot</th>\n",
       "      <th>R</th>\n",
       "      <th>BackendDev</th>\n",
       "      <th>FrontendDev</th>\n",
       "      <th>Blockchain</th>\n",
       "    </tr>\n",
       "  </thead>\n",
       "  <tbody>\n",
       "    <tr>\n",
       "      <th>0</th>\n",
       "      <td>2</td>\n",
       "      <td>52.0</td>\n",
       "      <td>14.0</td>\n",
       "      <td>6.0</td>\n",
       "      <td>43.0</td>\n",
       "      <td>3.0</td>\n",
       "      <td>33.0</td>\n",
       "      <td>0.0</td>\n",
       "      <td>29.0</td>\n",
       "      <td>41.0</td>\n",
       "      <td>2.0</td>\n",
       "      <td>18.0</td>\n",
       "      <td>34.0</td>\n",
       "      <td>9.0</td>\n",
       "      <td>6.0</td>\n",
       "    </tr>\n",
       "    <tr>\n",
       "      <th>1</th>\n",
       "      <td>4</td>\n",
       "      <td>40.0</td>\n",
       "      <td>2.0</td>\n",
       "      <td>4.0</td>\n",
       "      <td>28.0</td>\n",
       "      <td>0.0</td>\n",
       "      <td>14.0</td>\n",
       "      <td>0.0</td>\n",
       "      <td>20.0</td>\n",
       "      <td>24.0</td>\n",
       "      <td>0.0</td>\n",
       "      <td>6.0</td>\n",
       "      <td>6.0</td>\n",
       "      <td>0.0</td>\n",
       "      <td>2.0</td>\n",
       "    </tr>\n",
       "    <tr>\n",
       "      <th>2</th>\n",
       "      <td>5</td>\n",
       "      <td>24.0</td>\n",
       "      <td>8.0</td>\n",
       "      <td>18.0</td>\n",
       "      <td>24.0</td>\n",
       "      <td>0.0</td>\n",
       "      <td>30.0</td>\n",
       "      <td>0.0</td>\n",
       "      <td>22.0</td>\n",
       "      <td>14.0</td>\n",
       "      <td>2.0</td>\n",
       "      <td>14.0</td>\n",
       "      <td>26.0</td>\n",
       "      <td>4.0</td>\n",
       "      <td>6.0</td>\n",
       "    </tr>\n",
       "    <tr>\n",
       "      <th>3</th>\n",
       "      <td>7</td>\n",
       "      <td>2.0</td>\n",
       "      <td>0.0</td>\n",
       "      <td>0.0</td>\n",
       "      <td>2.0</td>\n",
       "      <td>0.0</td>\n",
       "      <td>0.0</td>\n",
       "      <td>0.0</td>\n",
       "      <td>0.0</td>\n",
       "      <td>2.0</td>\n",
       "      <td>0.0</td>\n",
       "      <td>0.0</td>\n",
       "      <td>0.0</td>\n",
       "      <td>0.0</td>\n",
       "      <td>0.0</td>\n",
       "    </tr>\n",
       "    <tr>\n",
       "      <th>4</th>\n",
       "      <td>8</td>\n",
       "      <td>6.0</td>\n",
       "      <td>0.0</td>\n",
       "      <td>0.0</td>\n",
       "      <td>4.0</td>\n",
       "      <td>0.0</td>\n",
       "      <td>0.0</td>\n",
       "      <td>0.0</td>\n",
       "      <td>0.0</td>\n",
       "      <td>6.0</td>\n",
       "      <td>0.0</td>\n",
       "      <td>2.0</td>\n",
       "      <td>0.0</td>\n",
       "      <td>0.0</td>\n",
       "      <td>0.0</td>\n",
       "    </tr>\n",
       "  </tbody>\n",
       "</table>\n",
       "</div>"
      ],
      "text/plain": [
       "   user  Database  Python  CloudComputing  DataAnalysis  Containers  \\\n",
       "0     2      52.0    14.0             6.0          43.0         3.0   \n",
       "1     4      40.0     2.0             4.0          28.0         0.0   \n",
       "2     5      24.0     8.0            18.0          24.0         0.0   \n",
       "3     7       2.0     0.0             0.0           2.0         0.0   \n",
       "4     8       6.0     0.0             0.0           4.0         0.0   \n",
       "\n",
       "   MachineLearning  ComputerVision  DataScience  BigData  Chatbot     R  \\\n",
       "0             33.0             0.0         29.0     41.0      2.0  18.0   \n",
       "1             14.0             0.0         20.0     24.0      0.0   6.0   \n",
       "2             30.0             0.0         22.0     14.0      2.0  14.0   \n",
       "3              0.0             0.0          0.0      2.0      0.0   0.0   \n",
       "4              0.0             0.0          0.0      6.0      0.0   2.0   \n",
       "\n",
       "   BackendDev  FrontendDev  Blockchain  \n",
       "0        34.0          9.0         6.0  \n",
       "1         6.0          0.0         2.0  \n",
       "2        26.0          4.0         6.0  \n",
       "3         0.0          0.0         0.0  \n",
       "4         0.0          0.0         0.0  "
      ]
     },
     "execution_count": 26,
     "metadata": {},
     "output_type": "execute_result"
    }
   ],
   "source": [
    "profile_df.head()"
   ]
  },
  {
   "cell_type": "markdown",
   "metadata": {},
   "source": [
    "The profile dataframe contains the course interests for each user, for example, user 8 is very interested in R, data analysis, database, and big data:\n"
   ]
  },
  {
   "cell_type": "code",
   "execution_count": 27,
   "metadata": {},
   "outputs": [
    {
     "data": {
      "text/html": [
       "<div>\n",
       "<style scoped>\n",
       "    .dataframe tbody tr th:only-of-type {\n",
       "        vertical-align: middle;\n",
       "    }\n",
       "\n",
       "    .dataframe tbody tr th {\n",
       "        vertical-align: top;\n",
       "    }\n",
       "\n",
       "    .dataframe thead th {\n",
       "        text-align: right;\n",
       "    }\n",
       "</style>\n",
       "<table border=\"1\" class=\"dataframe\">\n",
       "  <thead>\n",
       "    <tr style=\"text-align: right;\">\n",
       "      <th></th>\n",
       "      <th>user</th>\n",
       "      <th>Database</th>\n",
       "      <th>Python</th>\n",
       "      <th>CloudComputing</th>\n",
       "      <th>DataAnalysis</th>\n",
       "      <th>Containers</th>\n",
       "      <th>MachineLearning</th>\n",
       "      <th>ComputerVision</th>\n",
       "      <th>DataScience</th>\n",
       "      <th>BigData</th>\n",
       "      <th>Chatbot</th>\n",
       "      <th>R</th>\n",
       "      <th>BackendDev</th>\n",
       "      <th>FrontendDev</th>\n",
       "      <th>Blockchain</th>\n",
       "    </tr>\n",
       "  </thead>\n",
       "  <tbody>\n",
       "    <tr>\n",
       "      <th>4</th>\n",
       "      <td>8</td>\n",
       "      <td>6.0</td>\n",
       "      <td>0.0</td>\n",
       "      <td>0.0</td>\n",
       "      <td>4.0</td>\n",
       "      <td>0.0</td>\n",
       "      <td>0.0</td>\n",
       "      <td>0.0</td>\n",
       "      <td>0.0</td>\n",
       "      <td>6.0</td>\n",
       "      <td>0.0</td>\n",
       "      <td>2.0</td>\n",
       "      <td>0.0</td>\n",
       "      <td>0.0</td>\n",
       "      <td>0.0</td>\n",
       "    </tr>\n",
       "  </tbody>\n",
       "</table>\n",
       "</div>"
      ],
      "text/plain": [
       "   user  Database  Python  CloudComputing  DataAnalysis  Containers  \\\n",
       "4     8       6.0     0.0             0.0           4.0         0.0   \n",
       "\n",
       "   MachineLearning  ComputerVision  DataScience  BigData  Chatbot    R  \\\n",
       "4              0.0             0.0          0.0      6.0      0.0  2.0   \n",
       "\n",
       "   BackendDev  FrontendDev  Blockchain  \n",
       "4         0.0          0.0         0.0  "
      ]
     },
     "execution_count": 27,
     "metadata": {},
     "output_type": "execute_result"
    }
   ],
   "source": [
    "profile_df[profile_df['user'] == 8]"
   ]
  },
  {
   "cell_type": "markdown",
   "metadata": {},
   "source": [
    "Next, let's load a test dataset, containing test users to whom we want to make course recommendations:\n"
   ]
  },
  {
   "cell_type": "code",
   "execution_count": 28,
   "metadata": {},
   "outputs": [],
   "source": [
    "test_users_url = \"https://cf-courses-data.s3.us.cloud-object-storage.appdomain.cloud/IBMSkillsNetwork-ML0321EN-Coursera/labs/v2/module_3/ratings.csv\"\n",
    "test_users_df = pd.read_csv(test_users_url)"
   ]
  },
  {
   "cell_type": "code",
   "execution_count": 29,
   "metadata": {},
   "outputs": [
    {
     "data": {
      "text/html": [
       "<div>\n",
       "<style scoped>\n",
       "    .dataframe tbody tr th:only-of-type {\n",
       "        vertical-align: middle;\n",
       "    }\n",
       "\n",
       "    .dataframe tbody tr th {\n",
       "        vertical-align: top;\n",
       "    }\n",
       "\n",
       "    .dataframe thead th {\n",
       "        text-align: right;\n",
       "    }\n",
       "</style>\n",
       "<table border=\"1\" class=\"dataframe\">\n",
       "  <thead>\n",
       "    <tr style=\"text-align: right;\">\n",
       "      <th></th>\n",
       "      <th>user</th>\n",
       "      <th>item</th>\n",
       "      <th>rating</th>\n",
       "    </tr>\n",
       "  </thead>\n",
       "  <tbody>\n",
       "    <tr>\n",
       "      <th>0</th>\n",
       "      <td>1889878</td>\n",
       "      <td>CC0101EN</td>\n",
       "      <td>5</td>\n",
       "    </tr>\n",
       "    <tr>\n",
       "      <th>1</th>\n",
       "      <td>1342067</td>\n",
       "      <td>CL0101EN</td>\n",
       "      <td>3</td>\n",
       "    </tr>\n",
       "    <tr>\n",
       "      <th>2</th>\n",
       "      <td>1990814</td>\n",
       "      <td>ML0120ENv3</td>\n",
       "      <td>5</td>\n",
       "    </tr>\n",
       "    <tr>\n",
       "      <th>3</th>\n",
       "      <td>380098</td>\n",
       "      <td>BD0211EN</td>\n",
       "      <td>5</td>\n",
       "    </tr>\n",
       "    <tr>\n",
       "      <th>4</th>\n",
       "      <td>779563</td>\n",
       "      <td>DS0101EN</td>\n",
       "      <td>3</td>\n",
       "    </tr>\n",
       "  </tbody>\n",
       "</table>\n",
       "</div>"
      ],
      "text/plain": [
       "      user        item  rating\n",
       "0  1889878    CC0101EN       5\n",
       "1  1342067    CL0101EN       3\n",
       "2  1990814  ML0120ENv3       5\n",
       "3   380098    BD0211EN       5\n",
       "4   779563    DS0101EN       3"
      ]
     },
     "execution_count": 29,
     "metadata": {},
     "output_type": "execute_result"
    }
   ],
   "source": [
    "test_users_df.head()"
   ]
  },
  {
   "cell_type": "markdown",
   "metadata": {},
   "source": [
    "Let's look at how many test users we have in the dataset.\n"
   ]
  },
  {
   "cell_type": "code",
   "execution_count": 30,
   "metadata": {},
   "outputs": [
    {
     "name": "stdout",
     "output_type": "stream",
     "text": [
      "Total numbers of test users 33901\n"
     ]
    }
   ],
   "source": [
    "# Group the test users DataFrame by the 'user' column and find the maximum value for each group,\n",
    "# then reset the index and drop the old index to obtain a DataFrame with unique user IDs\n",
    "test_users = test_users_df.groupby(['user']).max().reset_index(drop=False)\n",
    "\n",
    "# Extract the 'user' column from the test_users DataFrame and convert it to a list of user IDs\n",
    "test_user_ids = test_users['user'].to_list()\n",
    "\n",
    "# Print the total number of test users by obtaining the length of the test_user_ids list\n",
    "print(f\"Total numbers of test users {len(test_user_ids)}\")\n"
   ]
  },
  {
   "cell_type": "markdown",
   "metadata": {},
   "source": [
    "Then for each test user in the test dataset, you need to first find out which courses are unknown/unselected to them. For example, suppose we have a user `1078030` with profile:\n"
   ]
  },
  {
   "cell_type": "code",
   "execution_count": 31,
   "metadata": {},
   "outputs": [
    {
     "data": {
      "text/html": [
       "<div>\n",
       "<style scoped>\n",
       "    .dataframe tbody tr th:only-of-type {\n",
       "        vertical-align: middle;\n",
       "    }\n",
       "\n",
       "    .dataframe tbody tr th {\n",
       "        vertical-align: top;\n",
       "    }\n",
       "\n",
       "    .dataframe thead th {\n",
       "        text-align: right;\n",
       "    }\n",
       "</style>\n",
       "<table border=\"1\" class=\"dataframe\">\n",
       "  <thead>\n",
       "    <tr style=\"text-align: right;\">\n",
       "      <th></th>\n",
       "      <th>user</th>\n",
       "      <th>Database</th>\n",
       "      <th>Python</th>\n",
       "      <th>CloudComputing</th>\n",
       "      <th>DataAnalysis</th>\n",
       "      <th>Containers</th>\n",
       "      <th>MachineLearning</th>\n",
       "      <th>ComputerVision</th>\n",
       "      <th>DataScience</th>\n",
       "      <th>BigData</th>\n",
       "      <th>Chatbot</th>\n",
       "      <th>R</th>\n",
       "      <th>BackendDev</th>\n",
       "      <th>FrontendDev</th>\n",
       "      <th>Blockchain</th>\n",
       "    </tr>\n",
       "  </thead>\n",
       "  <tbody>\n",
       "    <tr>\n",
       "      <th>18204</th>\n",
       "      <td>1078030</td>\n",
       "      <td>0.0</td>\n",
       "      <td>12.0</td>\n",
       "      <td>0.0</td>\n",
       "      <td>9.0</td>\n",
       "      <td>0.0</td>\n",
       "      <td>12.0</td>\n",
       "      <td>0.0</td>\n",
       "      <td>6.0</td>\n",
       "      <td>0.0</td>\n",
       "      <td>0.0</td>\n",
       "      <td>0.0</td>\n",
       "      <td>0.0</td>\n",
       "      <td>0.0</td>\n",
       "      <td>0.0</td>\n",
       "    </tr>\n",
       "  </tbody>\n",
       "</table>\n",
       "</div>"
      ],
      "text/plain": [
       "          user  Database  Python  CloudComputing  DataAnalysis  Containers  \\\n",
       "18204  1078030       0.0    12.0             0.0           9.0         0.0   \n",
       "\n",
       "       MachineLearning  ComputerVision  DataScience  BigData  Chatbot    R  \\\n",
       "18204             12.0             0.0          6.0      0.0      0.0  0.0   \n",
       "\n",
       "       BackendDev  FrontendDev  Blockchain  \n",
       "18204         0.0          0.0         0.0  "
      ]
     },
     "execution_count": 31,
     "metadata": {},
     "output_type": "execute_result"
    }
   ],
   "source": [
    "test_user_profile = profile_df[profile_df['user'] == 1078030]\n",
    "test_user_profile"
   ]
  },
  {
   "cell_type": "code",
   "execution_count": 32,
   "metadata": {},
   "outputs": [
    {
     "data": {
      "text/plain": [
       "array([ 0., 12.,  0.,  9.,  0., 12.,  0.,  6.,  0.,  0.,  0.,  0.,  0.,\n",
       "        0.])"
      ]
     },
     "execution_count": 32,
     "metadata": {},
     "output_type": "execute_result"
    }
   ],
   "source": [
    "# Now let's get the test user vector by excluding the `user` column\n",
    "test_user_vector = test_user_profile.iloc[0, 1:].values\n",
    "test_user_vector"
   ]
  },
  {
   "cell_type": "markdown",
   "metadata": {},
   "source": [
    "We can first find their enrolled courses in `test_users_df`:\n"
   ]
  },
  {
   "cell_type": "code",
   "execution_count": 33,
   "metadata": {},
   "outputs": [],
   "source": [
    "enrolled_courses = test_users_df[test_users_df['user'] == 1078030]['item'].to_list()\n",
    "enrolled_courses = set(enrolled_courses)"
   ]
  },
  {
   "cell_type": "code",
   "execution_count": 34,
   "metadata": {},
   "outputs": [
    {
     "data": {
      "text/plain": [
       "{'DA0101EN',\n",
       " 'DV0101EN',\n",
       " 'ML0101ENv3',\n",
       " 'ML0115EN',\n",
       " 'ML0120ENv2',\n",
       " 'ML0122ENv1',\n",
       " 'PY0101EN',\n",
       " 'ST0101EN'}"
      ]
     },
     "execution_count": 34,
     "metadata": {},
     "output_type": "execute_result"
    }
   ],
   "source": [
    "enrolled_courses"
   ]
  },
  {
   "cell_type": "markdown",
   "metadata": {},
   "source": [
    "We then print the entire course list:\n"
   ]
  },
  {
   "cell_type": "code",
   "execution_count": 35,
   "metadata": {
    "scrolled": true
   },
   "outputs": [
    {
     "data": {
      "text/plain": [
       "{'AI0111EN',\n",
       " 'BC0101EN',\n",
       " 'BC0201EN',\n",
       " 'BC0202EN',\n",
       " 'BD0101EN',\n",
       " 'BD0111EN',\n",
       " 'BD0115EN',\n",
       " 'BD0121EN',\n",
       " 'BD0123EN',\n",
       " 'BD0131EN',\n",
       " 'BD0133EN',\n",
       " 'BD0135EN',\n",
       " 'BD0137EN',\n",
       " 'BD0141EN',\n",
       " 'BD0143EN',\n",
       " 'BD0145EN',\n",
       " 'BD0151EN',\n",
       " 'BD0153EN',\n",
       " 'BD0211EN',\n",
       " 'BD0212EN',\n",
       " 'BD0221EN',\n",
       " 'BD0223EN',\n",
       " 'BENTEST4',\n",
       " 'CB0101EN',\n",
       " 'CB0103EN',\n",
       " 'CB0105ENv1',\n",
       " 'CB0201EN',\n",
       " 'CC0101EN',\n",
       " 'CC0103EN',\n",
       " 'CC0120EN',\n",
       " 'CC0121EN',\n",
       " 'CC0150EN',\n",
       " 'CC0201EN',\n",
       " 'CC0210EN',\n",
       " 'CC0250EN',\n",
       " 'CC0271EN',\n",
       " 'CL0101EN',\n",
       " 'CNSC02EN',\n",
       " 'CO0101EN',\n",
       " 'CO0193EN',\n",
       " 'CO0201EN',\n",
       " 'CO0301EN',\n",
       " 'CO0302EN',\n",
       " 'CO0401EN',\n",
       " 'COM001EN',\n",
       " 'CP0101EN',\n",
       " 'DA0101EN',\n",
       " 'DA0151EN',\n",
       " 'DA0201EN',\n",
       " 'DAI101EN',\n",
       " 'DB0101EN',\n",
       " 'DB0111EN',\n",
       " 'DB0113EN',\n",
       " 'DB0115EN',\n",
       " 'DB0151EN',\n",
       " 'DE0205EN',\n",
       " 'DJ0101EN',\n",
       " 'DP0101EN',\n",
       " 'DS0101EN',\n",
       " 'DS0103EN',\n",
       " 'DS0105EN',\n",
       " 'DS0107',\n",
       " 'DS0110EN',\n",
       " 'DS0132EN',\n",
       " 'DS0201EN',\n",
       " 'DS0301EN',\n",
       " 'DS0321EN',\n",
       " 'DV0101EN',\n",
       " 'DV0151EN',\n",
       " 'DW0101EN',\n",
       " 'DX0106EN',\n",
       " 'DX0107EN',\n",
       " 'DX0108EN',\n",
       " 'EE0101EN',\n",
       " 'GPXX01AVEN',\n",
       " 'GPXX01DCEN',\n",
       " 'GPXX01RYEN',\n",
       " 'GPXX03HFEN',\n",
       " 'GPXX0435EN',\n",
       " 'GPXX048OEN',\n",
       " 'GPXX04HEEN',\n",
       " 'GPXX04MXEN',\n",
       " 'GPXX04P5EN',\n",
       " 'GPXX04TNEN',\n",
       " 'GPXX04V3EN',\n",
       " 'GPXX04XJEN',\n",
       " 'GPXX05LMEN',\n",
       " 'GPXX05P1EN',\n",
       " 'GPXX05RDEN',\n",
       " 'GPXX06KEEN',\n",
       " 'GPXX06RFEN',\n",
       " 'GPXX06ZLEN',\n",
       " 'GPXX0725EN',\n",
       " 'GPXX0742EN',\n",
       " 'GPXX07REN',\n",
       " 'GPXX07UGEN',\n",
       " 'GPXX07YGEN',\n",
       " 'GPXX08WYEN',\n",
       " 'GPXX097UEN',\n",
       " 'GPXX0A1YEN',\n",
       " 'GPXX0ADEN',\n",
       " 'GPXX0BSAEN',\n",
       " 'GPXX0BUBEN',\n",
       " 'GPXX0D14EN',\n",
       " 'GPXX0E3QEN',\n",
       " 'GPXX0FFCEN',\n",
       " 'GPXX0FTCEN',\n",
       " 'GPXX0G31EN',\n",
       " 'GPXX0G3KEN',\n",
       " 'GPXX0G81EN',\n",
       " 'GPXX0HAAEN',\n",
       " 'GPXX0HC7EN',\n",
       " 'GPXX0HZ2EN',\n",
       " 'GPXX0I4FEN',\n",
       " 'GPXX0IBEN',\n",
       " 'GPXX0IHMEN',\n",
       " 'GPXX0JGFEN',\n",
       " 'GPXX0JLHEN',\n",
       " 'GPXX0JZ4EN',\n",
       " 'GPXX0KHHEN',\n",
       " 'GPXX0KV4EN',\n",
       " 'GPXX0KY1EN',\n",
       " 'GPXX0LLEEN',\n",
       " 'GPXX0M6UEN',\n",
       " 'GPXX0M7ZEN',\n",
       " 'GPXX0MIIEN',\n",
       " 'GPXX0MP0EN',\n",
       " 'GPXX0NHZEN',\n",
       " 'GPXX0PG8EN',\n",
       " 'GPXX0PICEN',\n",
       " 'GPXX0Q8AEN',\n",
       " 'GPXX0QJFEN',\n",
       " 'GPXX0QQ3EN',\n",
       " 'GPXX0QR3EN',\n",
       " 'GPXX0QS6EN',\n",
       " 'GPXX0QTEEN',\n",
       " 'GPXX0QU9EN',\n",
       " 'GPXX0RL8EN',\n",
       " 'GPXX0RQLEN',\n",
       " 'GPXX0SDXEN',\n",
       " 'GPXX0T0FEN',\n",
       " 'GPXX0T3CEN',\n",
       " 'GPXX0TY1EN',\n",
       " 'GPXX0UMSEN',\n",
       " 'GPXX0UN5EN',\n",
       " 'GPXX0W7KEN',\n",
       " 'GPXX0WRDEN',\n",
       " 'GPXX0WTIEN',\n",
       " 'GPXX0XENEN',\n",
       " 'GPXX0XFQEN',\n",
       " 'GPXX0XV3EN',\n",
       " 'GPXX0YBFEN',\n",
       " 'GPXX0YMEEN',\n",
       " 'GPXX0YXHEN',\n",
       " 'GPXX0Z2PEN',\n",
       " 'GPXX0ZG0EN',\n",
       " 'GPXX0ZMZEN',\n",
       " 'GPXX0ZYVEN',\n",
       " 'HCC104EN',\n",
       " 'HCC105EN',\n",
       " 'IT0101EN',\n",
       " 'LB0101ENv1',\n",
       " 'LB0103ENv1',\n",
       " 'LB0105ENv1',\n",
       " 'LB0107ENv1',\n",
       " 'LB0109ENv1',\n",
       " 'LB0111EN',\n",
       " 'ML0101EN',\n",
       " 'ML0101ENv3',\n",
       " 'ML0103EN',\n",
       " 'ML0109EN',\n",
       " 'ML0111EN',\n",
       " 'ML0115EN',\n",
       " 'ML0120EN',\n",
       " 'ML0120ENv2',\n",
       " 'ML0120ENv3',\n",
       " 'ML0122EN',\n",
       " 'ML0122ENv1',\n",
       " 'ML0122ENv3',\n",
       " 'ML0151EN',\n",
       " 'ML0201EN',\n",
       " 'OS0101EN',\n",
       " 'PA0101EN',\n",
       " 'PA0103EN',\n",
       " 'PA0107EN',\n",
       " 'PA0109EN',\n",
       " 'PHPM002EN',\n",
       " 'PY0101EN',\n",
       " 'QC0101EN',\n",
       " 'RAVSCTEST1',\n",
       " 'RP0101EN',\n",
       " 'RP0103',\n",
       " 'RP0103EN',\n",
       " 'RP0105EN',\n",
       " 'RP0151EN',\n",
       " 'SC0101EN',\n",
       " 'SC0103EN',\n",
       " 'SC0105EN',\n",
       " 'SECM03EN',\n",
       " 'SN0111EN',\n",
       " 'ST0101EN',\n",
       " 'ST0201EN',\n",
       " 'ST0301EN',\n",
       " 'SW0101EN',\n",
       " 'SW0201EN',\n",
       " 'TA0105',\n",
       " 'TA0105EN',\n",
       " 'TA0106EN',\n",
       " 'TMP0101EN',\n",
       " 'TMP0105EN',\n",
       " 'TMP0106',\n",
       " 'TMP107',\n",
       " 'WA0101EN',\n",
       " 'WA0103EN',\n",
       " 'excourse01',\n",
       " 'excourse02',\n",
       " 'excourse03',\n",
       " 'excourse04',\n",
       " 'excourse05',\n",
       " 'excourse06',\n",
       " 'excourse07',\n",
       " 'excourse08',\n",
       " 'excourse09',\n",
       " 'excourse10',\n",
       " 'excourse11',\n",
       " 'excourse12',\n",
       " 'excourse13',\n",
       " 'excourse14',\n",
       " 'excourse15',\n",
       " 'excourse16',\n",
       " 'excourse17',\n",
       " 'excourse18',\n",
       " 'excourse19',\n",
       " 'excourse20',\n",
       " 'excourse21',\n",
       " 'excourse22',\n",
       " 'excourse23',\n",
       " 'excourse24',\n",
       " 'excourse25',\n",
       " 'excourse26',\n",
       " 'excourse27',\n",
       " 'excourse28',\n",
       " 'excourse29',\n",
       " 'excourse30',\n",
       " 'excourse31',\n",
       " 'excourse32',\n",
       " 'excourse33',\n",
       " 'excourse34',\n",
       " 'excourse35',\n",
       " 'excourse36',\n",
       " 'excourse37',\n",
       " 'excourse38',\n",
       " 'excourse39',\n",
       " 'excourse40',\n",
       " 'excourse41',\n",
       " 'excourse42',\n",
       " 'excourse43',\n",
       " 'excourse44',\n",
       " 'excourse45',\n",
       " 'excourse46',\n",
       " 'excourse47',\n",
       " 'excourse48',\n",
       " 'excourse49',\n",
       " 'excourse50',\n",
       " 'excourse51',\n",
       " 'excourse52',\n",
       " 'excourse53',\n",
       " 'excourse54',\n",
       " 'excourse55',\n",
       " 'excourse56',\n",
       " 'excourse57',\n",
       " 'excourse58',\n",
       " 'excourse59',\n",
       " 'excourse60',\n",
       " 'excourse61',\n",
       " 'excourse62',\n",
       " 'excourse63',\n",
       " 'excourse64',\n",
       " 'excourse65',\n",
       " 'excourse66',\n",
       " 'excourse67',\n",
       " 'excourse68',\n",
       " 'excourse69',\n",
       " 'excourse70',\n",
       " 'excourse71',\n",
       " 'excourse72',\n",
       " 'excourse73',\n",
       " 'excourse74',\n",
       " 'excourse75',\n",
       " 'excourse76',\n",
       " 'excourse77',\n",
       " 'excourse78',\n",
       " 'excourse79',\n",
       " 'excourse80',\n",
       " 'excourse81',\n",
       " 'excourse82',\n",
       " 'excourse83',\n",
       " 'excourse84',\n",
       " 'excourse85',\n",
       " 'excourse86',\n",
       " 'excourse87',\n",
       " 'excourse88',\n",
       " 'excourse89',\n",
       " 'excourse90',\n",
       " 'excourse91',\n",
       " 'excourse92',\n",
       " 'excourse93'}"
      ]
     },
     "execution_count": 35,
     "metadata": {},
     "output_type": "execute_result"
    }
   ],
   "source": [
    "all_courses = set(course_genres_df['COURSE_ID'].values)\n",
    "all_courses "
   ]
  },
  {
   "cell_type": "markdown",
   "metadata": {},
   "source": [
    "Then we can use all courses to subtract the enrolled courses to get a set of all unknown courses for user `1078030`, and we want to find potential interested courses hidden in the unknown course list.\n"
   ]
  },
  {
   "cell_type": "code",
   "execution_count": 36,
   "metadata": {
    "scrolled": true
   },
   "outputs": [
    {
     "data": {
      "text/plain": [
       "{'AI0111EN',\n",
       " 'BC0101EN',\n",
       " 'BC0201EN',\n",
       " 'BC0202EN',\n",
       " 'BD0101EN',\n",
       " 'BD0111EN',\n",
       " 'BD0115EN',\n",
       " 'BD0121EN',\n",
       " 'BD0123EN',\n",
       " 'BD0131EN',\n",
       " 'BD0133EN',\n",
       " 'BD0135EN',\n",
       " 'BD0137EN',\n",
       " 'BD0141EN',\n",
       " 'BD0143EN',\n",
       " 'BD0145EN',\n",
       " 'BD0151EN',\n",
       " 'BD0153EN',\n",
       " 'BD0211EN',\n",
       " 'BD0212EN',\n",
       " 'BD0221EN',\n",
       " 'BD0223EN',\n",
       " 'BENTEST4',\n",
       " 'CB0101EN',\n",
       " 'CB0103EN',\n",
       " 'CB0105ENv1',\n",
       " 'CB0201EN',\n",
       " 'CC0101EN',\n",
       " 'CC0103EN',\n",
       " 'CC0120EN',\n",
       " 'CC0121EN',\n",
       " 'CC0150EN',\n",
       " 'CC0201EN',\n",
       " 'CC0210EN',\n",
       " 'CC0250EN',\n",
       " 'CC0271EN',\n",
       " 'CL0101EN',\n",
       " 'CNSC02EN',\n",
       " 'CO0101EN',\n",
       " 'CO0193EN',\n",
       " 'CO0201EN',\n",
       " 'CO0301EN',\n",
       " 'CO0302EN',\n",
       " 'CO0401EN',\n",
       " 'COM001EN',\n",
       " 'CP0101EN',\n",
       " 'DA0151EN',\n",
       " 'DA0201EN',\n",
       " 'DAI101EN',\n",
       " 'DB0101EN',\n",
       " 'DB0111EN',\n",
       " 'DB0113EN',\n",
       " 'DB0115EN',\n",
       " 'DB0151EN',\n",
       " 'DE0205EN',\n",
       " 'DJ0101EN',\n",
       " 'DP0101EN',\n",
       " 'DS0101EN',\n",
       " 'DS0103EN',\n",
       " 'DS0105EN',\n",
       " 'DS0107',\n",
       " 'DS0110EN',\n",
       " 'DS0132EN',\n",
       " 'DS0201EN',\n",
       " 'DS0301EN',\n",
       " 'DS0321EN',\n",
       " 'DV0151EN',\n",
       " 'DW0101EN',\n",
       " 'DX0106EN',\n",
       " 'DX0107EN',\n",
       " 'DX0108EN',\n",
       " 'EE0101EN',\n",
       " 'GPXX01AVEN',\n",
       " 'GPXX01DCEN',\n",
       " 'GPXX01RYEN',\n",
       " 'GPXX03HFEN',\n",
       " 'GPXX0435EN',\n",
       " 'GPXX048OEN',\n",
       " 'GPXX04HEEN',\n",
       " 'GPXX04MXEN',\n",
       " 'GPXX04P5EN',\n",
       " 'GPXX04TNEN',\n",
       " 'GPXX04V3EN',\n",
       " 'GPXX04XJEN',\n",
       " 'GPXX05LMEN',\n",
       " 'GPXX05P1EN',\n",
       " 'GPXX05RDEN',\n",
       " 'GPXX06KEEN',\n",
       " 'GPXX06RFEN',\n",
       " 'GPXX06ZLEN',\n",
       " 'GPXX0725EN',\n",
       " 'GPXX0742EN',\n",
       " 'GPXX07REN',\n",
       " 'GPXX07UGEN',\n",
       " 'GPXX07YGEN',\n",
       " 'GPXX08WYEN',\n",
       " 'GPXX097UEN',\n",
       " 'GPXX0A1YEN',\n",
       " 'GPXX0ADEN',\n",
       " 'GPXX0BSAEN',\n",
       " 'GPXX0BUBEN',\n",
       " 'GPXX0D14EN',\n",
       " 'GPXX0E3QEN',\n",
       " 'GPXX0FFCEN',\n",
       " 'GPXX0FTCEN',\n",
       " 'GPXX0G31EN',\n",
       " 'GPXX0G3KEN',\n",
       " 'GPXX0G81EN',\n",
       " 'GPXX0HAAEN',\n",
       " 'GPXX0HC7EN',\n",
       " 'GPXX0HZ2EN',\n",
       " 'GPXX0I4FEN',\n",
       " 'GPXX0IBEN',\n",
       " 'GPXX0IHMEN',\n",
       " 'GPXX0JGFEN',\n",
       " 'GPXX0JLHEN',\n",
       " 'GPXX0JZ4EN',\n",
       " 'GPXX0KHHEN',\n",
       " 'GPXX0KV4EN',\n",
       " 'GPXX0KY1EN',\n",
       " 'GPXX0LLEEN',\n",
       " 'GPXX0M6UEN',\n",
       " 'GPXX0M7ZEN',\n",
       " 'GPXX0MIIEN',\n",
       " 'GPXX0MP0EN',\n",
       " 'GPXX0NHZEN',\n",
       " 'GPXX0PG8EN',\n",
       " 'GPXX0PICEN',\n",
       " 'GPXX0Q8AEN',\n",
       " 'GPXX0QJFEN',\n",
       " 'GPXX0QQ3EN',\n",
       " 'GPXX0QR3EN',\n",
       " 'GPXX0QS6EN',\n",
       " 'GPXX0QTEEN',\n",
       " 'GPXX0QU9EN',\n",
       " 'GPXX0RL8EN',\n",
       " 'GPXX0RQLEN',\n",
       " 'GPXX0SDXEN',\n",
       " 'GPXX0T0FEN',\n",
       " 'GPXX0T3CEN',\n",
       " 'GPXX0TY1EN',\n",
       " 'GPXX0UMSEN',\n",
       " 'GPXX0UN5EN',\n",
       " 'GPXX0W7KEN',\n",
       " 'GPXX0WRDEN',\n",
       " 'GPXX0WTIEN',\n",
       " 'GPXX0XENEN',\n",
       " 'GPXX0XFQEN',\n",
       " 'GPXX0XV3EN',\n",
       " 'GPXX0YBFEN',\n",
       " 'GPXX0YMEEN',\n",
       " 'GPXX0YXHEN',\n",
       " 'GPXX0Z2PEN',\n",
       " 'GPXX0ZG0EN',\n",
       " 'GPXX0ZMZEN',\n",
       " 'GPXX0ZYVEN',\n",
       " 'HCC104EN',\n",
       " 'HCC105EN',\n",
       " 'IT0101EN',\n",
       " 'LB0101ENv1',\n",
       " 'LB0103ENv1',\n",
       " 'LB0105ENv1',\n",
       " 'LB0107ENv1',\n",
       " 'LB0109ENv1',\n",
       " 'LB0111EN',\n",
       " 'ML0101EN',\n",
       " 'ML0103EN',\n",
       " 'ML0109EN',\n",
       " 'ML0111EN',\n",
       " 'ML0120EN',\n",
       " 'ML0120ENv3',\n",
       " 'ML0122EN',\n",
       " 'ML0122ENv3',\n",
       " 'ML0151EN',\n",
       " 'ML0201EN',\n",
       " 'OS0101EN',\n",
       " 'PA0101EN',\n",
       " 'PA0103EN',\n",
       " 'PA0107EN',\n",
       " 'PA0109EN',\n",
       " 'PHPM002EN',\n",
       " 'QC0101EN',\n",
       " 'RAVSCTEST1',\n",
       " 'RP0101EN',\n",
       " 'RP0103',\n",
       " 'RP0103EN',\n",
       " 'RP0105EN',\n",
       " 'RP0151EN',\n",
       " 'SC0101EN',\n",
       " 'SC0103EN',\n",
       " 'SC0105EN',\n",
       " 'SECM03EN',\n",
       " 'SN0111EN',\n",
       " 'ST0201EN',\n",
       " 'ST0301EN',\n",
       " 'SW0101EN',\n",
       " 'SW0201EN',\n",
       " 'TA0105',\n",
       " 'TA0105EN',\n",
       " 'TA0106EN',\n",
       " 'TMP0101EN',\n",
       " 'TMP0105EN',\n",
       " 'TMP0106',\n",
       " 'TMP107',\n",
       " 'WA0101EN',\n",
       " 'WA0103EN',\n",
       " 'excourse01',\n",
       " 'excourse02',\n",
       " 'excourse03',\n",
       " 'excourse04',\n",
       " 'excourse05',\n",
       " 'excourse06',\n",
       " 'excourse07',\n",
       " 'excourse08',\n",
       " 'excourse09',\n",
       " 'excourse10',\n",
       " 'excourse11',\n",
       " 'excourse12',\n",
       " 'excourse13',\n",
       " 'excourse14',\n",
       " 'excourse15',\n",
       " 'excourse16',\n",
       " 'excourse17',\n",
       " 'excourse18',\n",
       " 'excourse19',\n",
       " 'excourse20',\n",
       " 'excourse21',\n",
       " 'excourse22',\n",
       " 'excourse23',\n",
       " 'excourse24',\n",
       " 'excourse25',\n",
       " 'excourse26',\n",
       " 'excourse27',\n",
       " 'excourse28',\n",
       " 'excourse29',\n",
       " 'excourse30',\n",
       " 'excourse31',\n",
       " 'excourse32',\n",
       " 'excourse33',\n",
       " 'excourse34',\n",
       " 'excourse35',\n",
       " 'excourse36',\n",
       " 'excourse37',\n",
       " 'excourse38',\n",
       " 'excourse39',\n",
       " 'excourse40',\n",
       " 'excourse41',\n",
       " 'excourse42',\n",
       " 'excourse43',\n",
       " 'excourse44',\n",
       " 'excourse45',\n",
       " 'excourse46',\n",
       " 'excourse47',\n",
       " 'excourse48',\n",
       " 'excourse49',\n",
       " 'excourse50',\n",
       " 'excourse51',\n",
       " 'excourse52',\n",
       " 'excourse53',\n",
       " 'excourse54',\n",
       " 'excourse55',\n",
       " 'excourse56',\n",
       " 'excourse57',\n",
       " 'excourse58',\n",
       " 'excourse59',\n",
       " 'excourse60',\n",
       " 'excourse61',\n",
       " 'excourse62',\n",
       " 'excourse63',\n",
       " 'excourse64',\n",
       " 'excourse65',\n",
       " 'excourse66',\n",
       " 'excourse67',\n",
       " 'excourse68',\n",
       " 'excourse69',\n",
       " 'excourse70',\n",
       " 'excourse71',\n",
       " 'excourse72',\n",
       " 'excourse73',\n",
       " 'excourse74',\n",
       " 'excourse75',\n",
       " 'excourse76',\n",
       " 'excourse77',\n",
       " 'excourse78',\n",
       " 'excourse79',\n",
       " 'excourse80',\n",
       " 'excourse81',\n",
       " 'excourse82',\n",
       " 'excourse83',\n",
       " 'excourse84',\n",
       " 'excourse85',\n",
       " 'excourse86',\n",
       " 'excourse87',\n",
       " 'excourse88',\n",
       " 'excourse89',\n",
       " 'excourse90',\n",
       " 'excourse91',\n",
       " 'excourse92',\n",
       " 'excourse93'}"
      ]
     },
     "execution_count": 36,
     "metadata": {},
     "output_type": "execute_result"
    }
   ],
   "source": [
    "unknown_courses = all_courses.difference(enrolled_courses)\n",
    "unknown_courses"
   ]
  },
  {
   "cell_type": "markdown",
   "metadata": {},
   "source": [
    "We can get the genre vectors for those unknown courses as well:\n"
   ]
  },
  {
   "cell_type": "code",
   "execution_count": 37,
   "metadata": {},
   "outputs": [
    {
     "data": {
      "text/plain": [
       "array([[0, 0, 0, ..., 1, 1, 0],\n",
       "       [0, 1, 0, ..., 0, 0, 0],\n",
       "       [0, 0, 0, ..., 1, 1, 0],\n",
       "       ...,\n",
       "       [0, 0, 0, ..., 0, 1, 0],\n",
       "       [0, 0, 0, ..., 1, 1, 0],\n",
       "       [0, 0, 0, ..., 1, 1, 0]], shape=(299, 14))"
      ]
     },
     "execution_count": 37,
     "metadata": {},
     "output_type": "execute_result"
    }
   ],
   "source": [
    "unknown_course_genres = course_genres_df[course_genres_df['COURSE_ID'].isin(unknown_courses)]\n",
    "# Now let's get the course matrix by excluding `COURSE_ID` and `TITLE` columns:\n",
    "course_matrix = unknown_course_genres.iloc[:, 2:].values\n",
    "course_matrix"
   ]
  },
  {
   "cell_type": "markdown",
   "metadata": {},
   "source": [
    "Given the user profile vector for user `1078030`  and all the unseen course genres vectors above, you can use the dot product to calculate the recommendation score for each unknown course. e.g., the recommendation score for course `accelerating deep learning with gpu` is:\n"
   ]
  },
  {
   "cell_type": "code",
   "execution_count": 38,
   "metadata": {},
   "outputs": [
    {
     "data": {
      "text/plain": [
       "np.float64(30.0)"
      ]
     },
     "execution_count": 38,
     "metadata": {},
     "output_type": "execute_result"
    }
   ],
   "source": [
    "score = np.dot(course_matrix[1], test_user_vector)\n",
    "score"
   ]
  },
  {
   "cell_type": "markdown",
   "metadata": {},
   "source": [
    "Later, we will need to choose a recommendation score threshold. If the score of any course is above the threshold, we may recommend that course to the user.\n"
   ]
  },
  {
   "cell_type": "markdown",
   "metadata": {},
   "source": [
    "The workflow can be summarized in the following flowchart:\n"
   ]
  },
  {
   "cell_type": "markdown",
   "metadata": {},
   "source": [
    "![](https://cf-courses-data.s3.us.cloud-object-storage.appdomain.cloud/IBM-ML321EN-SkillsNetwork/labs/module_3/images/recommend_courses.png)\n"
   ]
  },
  {
   "cell_type": "markdown",
   "metadata": {},
   "source": [
    "Next, let's calculate the recommendation scores of all courses for all the 1000 test users. \n"
   ]
  },
  {
   "cell_type": "code",
   "execution_count": 39,
   "metadata": {},
   "outputs": [],
   "source": [
    "# Reload the test users dataset from the specified URL using pandas and store it in test_users_df\n",
    "test_users_df = pd.read_csv(test_users_url)\n",
    "\n",
    "# Reload the user profiles dataset from the specified URL containing user profiles and their associated genres using pandas and store it in profile_df\n",
    "profile_df = pd.read_csv(profile_genre_url)\n",
    "\n",
    "# Reload the course genres dataset from the specified URL containing course genres using pandas and store it in course_genres_df\n",
    "course_genres_df = pd.read_csv(course_genre_url)\n",
    "\n",
    "# Create an empty dictionary to store the results of the recommendation process\n",
    "res_dict = {}\n"
   ]
  },
  {
   "cell_type": "markdown",
   "metadata": {},
   "source": [
    "We only want to recommend courses with very high scores so we may set a score threshold to filter out those courses with low scores.\n"
   ]
  },
  {
   "cell_type": "code",
   "execution_count": 40,
   "metadata": {},
   "outputs": [],
   "source": [
    "# Only keep the score larger than the recommendation threshold\n",
    "# The threshold can be fine-tuned to adjust the size of generated recommendations\n",
    "score_threshold = 10.0"
   ]
  },
  {
   "cell_type": "markdown",
   "metadata": {},
   "source": [
    "We defined a function called `generate_recommendation_scores()` to compute the recommendation scores of all the unknown courses for all test users.\n"
   ]
  },
  {
   "cell_type": "markdown",
   "metadata": {},
   "source": [
    "_TODO: Complete the generate_recommendation_scores() function blow to generate recommendation score for all users. You may also implement the task with different solutions._\n"
   ]
  },
  {
   "cell_type": "code",
   "execution_count": 47,
   "metadata": {
    "scrolled": true
   },
   "outputs": [
    {
     "data": {
      "text/html": [
       "<div>\n",
       "<style scoped>\n",
       "    .dataframe tbody tr th:only-of-type {\n",
       "        vertical-align: middle;\n",
       "    }\n",
       "\n",
       "    .dataframe tbody tr th {\n",
       "        vertical-align: top;\n",
       "    }\n",
       "\n",
       "    .dataframe thead th {\n",
       "        text-align: right;\n",
       "    }\n",
       "</style>\n",
       "<table border=\"1\" class=\"dataframe\">\n",
       "  <thead>\n",
       "    <tr style=\"text-align: right;\">\n",
       "      <th></th>\n",
       "      <th>COURSE_ID</th>\n",
       "      <th>TITLE</th>\n",
       "      <th>Database</th>\n",
       "      <th>Python</th>\n",
       "      <th>CloudComputing</th>\n",
       "      <th>DataAnalysis</th>\n",
       "      <th>Containers</th>\n",
       "      <th>MachineLearning</th>\n",
       "      <th>ComputerVision</th>\n",
       "      <th>DataScience</th>\n",
       "      <th>BigData</th>\n",
       "      <th>Chatbot</th>\n",
       "      <th>R</th>\n",
       "      <th>BackendDev</th>\n",
       "      <th>FrontendDev</th>\n",
       "      <th>Blockchain</th>\n",
       "    </tr>\n",
       "  </thead>\n",
       "  <tbody>\n",
       "    <tr>\n",
       "      <th>0</th>\n",
       "      <td>ML0201EN</td>\n",
       "      <td>robots are coming  build iot apps with watson ...</td>\n",
       "      <td>0</td>\n",
       "      <td>0</td>\n",
       "      <td>0</td>\n",
       "      <td>0</td>\n",
       "      <td>0</td>\n",
       "      <td>0</td>\n",
       "      <td>0</td>\n",
       "      <td>0</td>\n",
       "      <td>0</td>\n",
       "      <td>0</td>\n",
       "      <td>0</td>\n",
       "      <td>1</td>\n",
       "      <td>1</td>\n",
       "      <td>0</td>\n",
       "    </tr>\n",
       "    <tr>\n",
       "      <th>1</th>\n",
       "      <td>ML0122EN</td>\n",
       "      <td>accelerating deep learning with gpu</td>\n",
       "      <td>0</td>\n",
       "      <td>1</td>\n",
       "      <td>0</td>\n",
       "      <td>0</td>\n",
       "      <td>0</td>\n",
       "      <td>1</td>\n",
       "      <td>0</td>\n",
       "      <td>1</td>\n",
       "      <td>0</td>\n",
       "      <td>0</td>\n",
       "      <td>0</td>\n",
       "      <td>0</td>\n",
       "      <td>0</td>\n",
       "      <td>0</td>\n",
       "    </tr>\n",
       "    <tr>\n",
       "      <th>2</th>\n",
       "      <td>GPXX0ZG0EN</td>\n",
       "      <td>consuming restful services using the reactive ...</td>\n",
       "      <td>0</td>\n",
       "      <td>0</td>\n",
       "      <td>0</td>\n",
       "      <td>0</td>\n",
       "      <td>0</td>\n",
       "      <td>0</td>\n",
       "      <td>0</td>\n",
       "      <td>0</td>\n",
       "      <td>0</td>\n",
       "      <td>0</td>\n",
       "      <td>0</td>\n",
       "      <td>1</td>\n",
       "      <td>1</td>\n",
       "      <td>0</td>\n",
       "    </tr>\n",
       "    <tr>\n",
       "      <th>3</th>\n",
       "      <td>RP0105EN</td>\n",
       "      <td>analyzing big data in r using apache spark</td>\n",
       "      <td>1</td>\n",
       "      <td>0</td>\n",
       "      <td>0</td>\n",
       "      <td>1</td>\n",
       "      <td>0</td>\n",
       "      <td>0</td>\n",
       "      <td>0</td>\n",
       "      <td>0</td>\n",
       "      <td>1</td>\n",
       "      <td>0</td>\n",
       "      <td>1</td>\n",
       "      <td>0</td>\n",
       "      <td>0</td>\n",
       "      <td>0</td>\n",
       "    </tr>\n",
       "    <tr>\n",
       "      <th>4</th>\n",
       "      <td>GPXX0Z2PEN</td>\n",
       "      <td>containerizing  packaging  and running a sprin...</td>\n",
       "      <td>0</td>\n",
       "      <td>0</td>\n",
       "      <td>0</td>\n",
       "      <td>0</td>\n",
       "      <td>1</td>\n",
       "      <td>0</td>\n",
       "      <td>0</td>\n",
       "      <td>0</td>\n",
       "      <td>0</td>\n",
       "      <td>0</td>\n",
       "      <td>0</td>\n",
       "      <td>1</td>\n",
       "      <td>0</td>\n",
       "      <td>0</td>\n",
       "    </tr>\n",
       "  </tbody>\n",
       "</table>\n",
       "</div>"
      ],
      "text/plain": [
       "    COURSE_ID                                              TITLE  Database  \\\n",
       "0    ML0201EN  robots are coming  build iot apps with watson ...         0   \n",
       "1    ML0122EN                accelerating deep learning with gpu         0   \n",
       "2  GPXX0ZG0EN  consuming restful services using the reactive ...         0   \n",
       "3    RP0105EN         analyzing big data in r using apache spark         1   \n",
       "4  GPXX0Z2PEN  containerizing  packaging  and running a sprin...         0   \n",
       "\n",
       "   Python  CloudComputing  DataAnalysis  Containers  MachineLearning  \\\n",
       "0       0               0             0           0                0   \n",
       "1       1               0             0           0                1   \n",
       "2       0               0             0           0                0   \n",
       "3       0               0             1           0                0   \n",
       "4       0               0             0           1                0   \n",
       "\n",
       "   ComputerVision  DataScience  BigData  Chatbot  R  BackendDev  FrontendDev  \\\n",
       "0               0            0        0        0  0           1            1   \n",
       "1               0            1        0        0  0           0            0   \n",
       "2               0            0        0        0  0           1            1   \n",
       "3               0            0        1        0  1           0            0   \n",
       "4               0            0        0        0  0           1            0   \n",
       "\n",
       "   Blockchain  \n",
       "0           0  \n",
       "1           0  \n",
       "2           0  \n",
       "3           0  \n",
       "4           0  "
      ]
     },
     "execution_count": 47,
     "metadata": {},
     "output_type": "execute_result"
    }
   ],
   "source": [
    "course_genres_df.head()"
   ]
  },
  {
   "cell_type": "code",
   "execution_count": 44,
   "metadata": {},
   "outputs": [],
   "source": [
    "def generate_recommendation_scores():\n",
    "    \"\"\"\n",
    "    Generate recommendation scores for users and courses.\n",
    "\n",
    "    Returns:\n",
    "    users (list): List of user IDs.\n",
    "    courses (list): List of recommended course IDs.\n",
    "    scores (list): List of recommendation scores.\n",
    "    \"\"\"\n",
    "\n",
    "    users = []      # List to store user IDs\n",
    "    courses = []    # List to store recommended course IDs\n",
    "    scores = []     # List to store recommendation scores\n",
    "\n",
    "    # Iterate over each user ID in the test_user_ids list\n",
    "    for user_id in test_user_ids:\n",
    "        # Get the user profile data for the current user\n",
    "        test_user_profile = profile_df[profile_df['user'] == user_id]\n",
    "\n",
    "        # Get the user vector for the current user id (replace with your method to obtain the user vector)\n",
    "        test_user_vector = test_user_profile.iloc[0, 1:].values\n",
    "\n",
    "        # Get the known course ids for the current user\n",
    "        enrolled_courses = test_users_df[test_users_df['user'] == user_id]['item'].to_list()\n",
    "\n",
    "        # Calculate the unknown course ids\n",
    "        unknown_courses = all_courses.difference(enrolled_courses)\n",
    "\n",
    "        # Filter the course_genres_df to include only unknown courses\n",
    "        unknown_course_df = course_genres_df[course_genres_df['COURSE_ID'].isin(unknown_courses)]\n",
    "        unknown_course_ids = unknown_course_df['COURSE_ID'].values\n",
    "\n",
    "        # Calculate the recommendation scores using dot product\n",
    "        recommendation_scores = np.dot(unknown_course_df.iloc[:, 2:].values, test_user_vector)\n",
    "\n",
    "        # Append the results into the users, courses, and scores list\n",
    "        for i in range(0, len(unknown_course_ids)):\n",
    "            score = recommendation_scores[i]\n",
    "\n",
    "            # Only keep the courses with high recommendation score\n",
    "            if score >= score_threshold:\n",
    "                users.append(user_id)\n",
    "                courses.append(unknown_course_ids[i])\n",
    "                scores.append(recommendation_scores[i])\n",
    "\n",
    "    return users, courses, scores\n",
    " \n"
   ]
  },
  {
   "cell_type": "markdown",
   "metadata": {},
   "source": [
    "NOTE: Instead of using some absolute score threshold, you may also try sorting the scores for each user and return the top-ranked courses.\n"
   ]
  },
  {
   "cell_type": "markdown",
   "metadata": {},
   "source": [
    "### Option 2"
   ]
  },
  {
   "cell_type": "code",
   "execution_count": 54,
   "metadata": {},
   "outputs": [],
   "source": [
    "def generate_recommendation_scores(score_threshold=30):\n",
    "    \"\"\"\n",
    "    Generate course recommendation scores for test users.\n",
    "\n",
    "    Parameters:\n",
    "    - score_threshold (float): Minimum score for a course to be considered recommended.\n",
    "\n",
    "    Returns:\n",
    "    - users (list): List of user IDs.\n",
    "    - courses (list): List of recommended course IDs.\n",
    "    - scores (list): List of recommendation scores.\n",
    "    \"\"\"\n",
    "    users = []\n",
    "    courses = []\n",
    "    scores = []\n",
    "\n",
    "    for user_id in test_user_ids:\n",
    "        # Extract user vector\n",
    "        user_profile = profile_df[profile_df['user'] == user_id]\n",
    "        if user_profile.empty:\n",
    "            continue  # Skip if user not found\n",
    "\n",
    "        user_vector = user_profile.drop('user', axis=1).values[0]\n",
    "\n",
    "        # Get courses the user has already taken\n",
    "        enrolled_courses = set(test_users_df[test_users_df['user'] == user_id]['item'])\n",
    "\n",
    "        # Get unseen courses\n",
    "        unseen_courses = list(all_courses - enrolled_courses)\n",
    "\n",
    "        # Get features for unseen courses\n",
    "        unseen_course_df = course_genres_df[course_genres_df['COURSE_ID'].isin(unseen_courses)]\n",
    "\n",
    "        if unseen_course_df.empty:\n",
    "            continue  # Skip if no unseen courses available\n",
    "\n",
    "        course_ids = unseen_course_df['COURSE_ID'].values\n",
    "        course_features = unseen_course_df.drop(['COURSE_ID', 'TITLE'], axis=1).values\n",
    "\n",
    "        # Compute dot product scores\n",
    "        recommendation_scores = np.dot(course_features, user_vector)\n",
    "\n",
    "        # Store results with scores above threshold\n",
    "        for course_id, score in zip(course_ids, recommendation_scores):\n",
    "            if score >= score_threshold:\n",
    "                users.append(user_id)\n",
    "                courses.append(course_id)\n",
    "                scores.append(score)\n",
    "\n",
    "    return users, courses, scores"
   ]
  },
  {
   "cell_type": "code",
   "execution_count": 55,
   "metadata": {},
   "outputs": [
    {
     "data": {
      "text/html": [
       "<div>\n",
       "<style scoped>\n",
       "    .dataframe tbody tr th:only-of-type {\n",
       "        vertical-align: middle;\n",
       "    }\n",
       "\n",
       "    .dataframe tbody tr th {\n",
       "        vertical-align: top;\n",
       "    }\n",
       "\n",
       "    .dataframe thead th {\n",
       "        text-align: right;\n",
       "    }\n",
       "</style>\n",
       "<table border=\"1\" class=\"dataframe\">\n",
       "  <thead>\n",
       "    <tr style=\"text-align: right;\">\n",
       "      <th></th>\n",
       "      <th>USER</th>\n",
       "      <th>COURSE_ID</th>\n",
       "      <th>SCORE</th>\n",
       "    </tr>\n",
       "  </thead>\n",
       "  <tbody>\n",
       "    <tr>\n",
       "      <th>0</th>\n",
       "      <td>2</td>\n",
       "      <td>ML0201EN</td>\n",
       "      <td>43.0</td>\n",
       "    </tr>\n",
       "    <tr>\n",
       "      <th>1</th>\n",
       "      <td>2</td>\n",
       "      <td>GPXX0ZG0EN</td>\n",
       "      <td>43.0</td>\n",
       "    </tr>\n",
       "    <tr>\n",
       "      <th>2</th>\n",
       "      <td>2</td>\n",
       "      <td>GPXX0Z2PEN</td>\n",
       "      <td>37.0</td>\n",
       "    </tr>\n",
       "    <tr>\n",
       "      <th>3</th>\n",
       "      <td>2</td>\n",
       "      <td>DX0106EN</td>\n",
       "      <td>47.0</td>\n",
       "    </tr>\n",
       "    <tr>\n",
       "      <th>4</th>\n",
       "      <td>2</td>\n",
       "      <td>GPXX06RFEN</td>\n",
       "      <td>52.0</td>\n",
       "    </tr>\n",
       "    <tr>\n",
       "      <th>...</th>\n",
       "      <td>...</td>\n",
       "      <td>...</td>\n",
       "      <td>...</td>\n",
       "    </tr>\n",
       "    <tr>\n",
       "      <th>183453</th>\n",
       "      <td>2100030</td>\n",
       "      <td>excourse49</td>\n",
       "      <td>33.0</td>\n",
       "    </tr>\n",
       "    <tr>\n",
       "      <th>183454</th>\n",
       "      <td>2100030</td>\n",
       "      <td>excourse54</td>\n",
       "      <td>42.0</td>\n",
       "    </tr>\n",
       "    <tr>\n",
       "      <th>183455</th>\n",
       "      <td>2100030</td>\n",
       "      <td>excourse69</td>\n",
       "      <td>30.0</td>\n",
       "    </tr>\n",
       "    <tr>\n",
       "      <th>183456</th>\n",
       "      <td>2100030</td>\n",
       "      <td>excourse72</td>\n",
       "      <td>33.0</td>\n",
       "    </tr>\n",
       "    <tr>\n",
       "      <th>183457</th>\n",
       "      <td>2100030</td>\n",
       "      <td>excourse73</td>\n",
       "      <td>33.0</td>\n",
       "    </tr>\n",
       "  </tbody>\n",
       "</table>\n",
       "<p>183458 rows × 3 columns</p>\n",
       "</div>"
      ],
      "text/plain": [
       "           USER   COURSE_ID  SCORE\n",
       "0             2    ML0201EN   43.0\n",
       "1             2  GPXX0ZG0EN   43.0\n",
       "2             2  GPXX0Z2PEN   37.0\n",
       "3             2    DX0106EN   47.0\n",
       "4             2  GPXX06RFEN   52.0\n",
       "...         ...         ...    ...\n",
       "183453  2100030  excourse49   33.0\n",
       "183454  2100030  excourse54   42.0\n",
       "183455  2100030  excourse69   30.0\n",
       "183456  2100030  excourse72   33.0\n",
       "183457  2100030  excourse73   33.0\n",
       "\n",
       "[183458 rows x 3 columns]"
      ]
     },
     "execution_count": 55,
     "metadata": {},
     "output_type": "execute_result"
    }
   ],
   "source": [
    "# Call the generate_recommendation_scores function to obtain recommendation scores for users and courses,\n",
    "# and assign the returned lists to variables users, courses, and scores\n",
    "users, courses, scores = generate_recommendation_scores()\n",
    "\n",
    "# Create an empty dictionary named res_dict to store the results of the recommendation process\n",
    "res_dict = {}\n",
    "\n",
    "# Store the lists of users, courses, and scores into the res_dict dictionary with corresponding keys\n",
    "res_dict['USER'] = users\n",
    "res_dict['COURSE_ID'] = courses\n",
    "res_dict['SCORE'] = scores\n",
    "\n",
    "# Create a DataFrame named res_df using the res_dict dictionary, specifying the column order as ['USER', 'COURSE_ID', 'SCORE']\n",
    "res_df = pd.DataFrame(res_dict, columns=['USER', 'COURSE_ID', 'SCORE'])\n",
    "\n",
    "# Save the res_df DataFrame to a CSV file named \"profile_rs_results.csv\" without including the index\n",
    "res_df.to_csv(\"profile_rs_results.csv\", index=False)\n",
    "\n",
    "# Output the res_df DataFrame\n",
    "res_df\n"
   ]
  },
  {
   "cell_type": "markdown",
   "metadata": {},
   "source": [
    "### Option 3"
   ]
  },
  {
   "cell_type": "code",
   "execution_count": 48,
   "metadata": {},
   "outputs": [],
   "source": [
    "from typing import Tuple, List, Set\n",
    "\n",
    "def generate_recommendation_scores(\n",
    "    test_user_ids: List[int],\n",
    "    profile_df: pd.DataFrame,\n",
    "    test_users_df: pd.DataFrame,\n",
    "    course_genres_df: pd.DataFrame,\n",
    "    all_courses: Set[str],\n",
    "    score_threshold: float = 0.5,\n",
    "    top_n_per_user: int = None\n",
    ") -> Tuple[List[int], List[str], List[float]]:\n",
    "    \"\"\"\n",
    "    Generate recommendation scores for users and courses using collaborative filtering.\n",
    "    \n",
    "    Args:\n",
    "        test_user_ids: List of user IDs to generate recommendations for\n",
    "        profile_df: DataFrame with user profiles (user + feature columns)\n",
    "        test_users_df: DataFrame with user-item interactions\n",
    "        course_genres_df: DataFrame with course features\n",
    "        all_courses: Set of all available course IDs\n",
    "        score_threshold: Minimum score threshold for recommendations\n",
    "        top_n_per_user: Maximum number of recommendations per user (None for no limit)\n",
    "    \n",
    "    Returns:\n",
    "        Tuple of (user_ids, course_ids, scores) lists\n",
    "    \"\"\"\n",
    "    \n",
    "    users = []\n",
    "    courses = []\n",
    "    scores = []\n",
    "    \n",
    "    # Get feature column names (excluding 'user' and non-feature columns)\n",
    "    feature_columns = [col for col in profile_df.columns if col not in ['user', 'COURSE_ID', 'TITLE']]\n",
    "    \n",
    "    for user_id in test_user_ids:\n",
    "        # Get user profile\n",
    "        user_profile = profile_df[profile_df['user'] == user_id]\n",
    "        \n",
    "        if user_profile.empty:\n",
    "            print(f\"Warning: No profile found for user {user_id}\")\n",
    "            continue\n",
    "            \n",
    "        # Extract user feature vector\n",
    "        user_vector = user_profile[feature_columns].iloc[0].values\n",
    "        \n",
    "        # Normalize user vector to unit length for better dot product interpretation\n",
    "        user_vector_norm = np.linalg.norm(user_vector)\n",
    "        if user_vector_norm > 0:\n",
    "            user_vector = user_vector / user_vector_norm\n",
    "        \n",
    "        # Get enrolled courses for this user\n",
    "        user_interactions = test_users_df[test_users_df['user'] == user_id]\n",
    "        enrolled_courses = set(user_interactions['item'].tolist())\n",
    "        \n",
    "        # Find courses not yet taken by the user\n",
    "        unknown_courses = all_courses - enrolled_courses\n",
    "        \n",
    "        if not unknown_courses:\n",
    "            print(f\"Warning: No unknown courses for user {user_id}\")\n",
    "            continue\n",
    "        \n",
    "        # Filter course data for unknown courses\n",
    "        unknown_course_df = course_genres_df[\n",
    "            course_genres_df['COURSE_ID'].isin(unknown_courses)\n",
    "        ].copy()\n",
    "        \n",
    "        if unknown_course_df.empty:\n",
    "            continue\n",
    "        \n",
    "        # Extract course feature matrix\n",
    "        course_features = unknown_course_df[feature_columns].values\n",
    "        \n",
    "        # Normalize each course vector\n",
    "        course_norms = np.linalg.norm(course_features, axis=1)\n",
    "        # Avoid division by zero\n",
    "        course_norms[course_norms == 0] = 1\n",
    "        course_features_normalized = course_features / course_norms.reshape(-1, 1)\n",
    "        \n",
    "        # Calculate recommendation scores (cosine similarity)\n",
    "        recommendation_scores = np.dot(course_features_normalized, user_vector)\n",
    "        \n",
    "        # Create list of (course_id, score) tuples\n",
    "        course_score_pairs = list(zip(\n",
    "            unknown_course_df['COURSE_ID'].values,\n",
    "            recommendation_scores\n",
    "        ))\n",
    "        \n",
    "        # Sort by score (highest first)\n",
    "        course_score_pairs.sort(key=lambda x: x[1], reverse=True)\n",
    "        \n",
    "        # Apply top_n limit if specified\n",
    "        if top_n_per_user:\n",
    "            course_score_pairs = course_score_pairs[:top_n_per_user]\n",
    "        \n",
    "        # Filter by score threshold and add to results\n",
    "        for course_id, score in course_score_pairs:\n",
    "            if score >= score_threshold:\n",
    "                users.append(user_id)\n",
    "                courses.append(course_id)\n",
    "                scores.append(float(score))\n",
    "    \n",
    "    return users, courses, scores\n",
    "\n",
    "\n",
    "def get_user_recommendations(\n",
    "    user_id: int,\n",
    "    profile_df: pd.DataFrame,\n",
    "    test_users_df: pd.DataFrame,\n",
    "    course_genres_df: pd.DataFrame,\n",
    "    all_courses: Set[str],\n",
    "    top_n: int = 10\n",
    ") -> pd.DataFrame:\n",
    "    \"\"\"\n",
    "    Get top N recommendations for a specific user.\n",
    "    \n",
    "    Returns:\n",
    "        DataFrame with columns: COURSE_ID, TITLE, score\n",
    "    \"\"\"\n",
    "    users, courses, scores = generate_recommendation_scores(\n",
    "        test_user_ids=[user_id],\n",
    "        profile_df=profile_df,\n",
    "        test_users_df=test_users_df,\n",
    "        course_genres_df=course_genres_df,\n",
    "        all_courses=all_courses,\n",
    "        score_threshold=0.0,  # No threshold filtering\n",
    "        top_n_per_user=top_n\n",
    "    )\n",
    "    \n",
    "    if not courses:\n",
    "        return pd.DataFrame(columns=['COURSE_ID', 'TITLE', 'score'])\n",
    "    \n",
    "    # Create results DataFrame\n",
    "    results_df = pd.DataFrame({\n",
    "        'COURSE_ID': courses,\n",
    "        'score': scores\n",
    "    })\n",
    "    \n",
    "    # Add course titles\n",
    "    results_df = results_df.merge(\n",
    "        course_genres_df[['COURSE_ID', 'TITLE']], \n",
    "        on='COURSE_ID', \n",
    "        how='left'\n",
    "    )\n",
    "    \n",
    "    return results_df[['COURSE_ID', 'TITLE', 'score']].sort_values('score', ascending=False)\n",
    "\n",
    "\n",
    "def evaluate_recommendations(\n",
    "    test_user_ids: List[int],\n",
    "    profile_df: pd.DataFrame,\n",
    "    test_users_df: pd.DataFrame,\n",
    "    course_genres_df: pd.DataFrame,\n",
    "    all_courses: Set[str],\n",
    "    validation_df: pd.DataFrame = None\n",
    ") -> dict:\n",
    "    \"\"\"\n",
    "    Evaluate the recommendation system performance.\n",
    "    \n",
    "    Args:\n",
    "        validation_df: DataFrame with actual user-course interactions for validation\n",
    "    \n",
    "    Returns:\n",
    "        Dictionary with evaluation metrics\n",
    "    \"\"\"\n",
    "    users, courses, scores = generate_recommendation_scores(\n",
    "        test_user_ids, profile_df, test_users_df, course_genres_df, all_courses\n",
    "    )\n",
    "    \n",
    "    metrics = {\n",
    "        'total_recommendations': len(scores),\n",
    "        'unique_users': len(set(users)),\n",
    "        'unique_courses': len(set(courses)),\n",
    "        'avg_score': np.mean(scores) if scores else 0,\n",
    "        'score_std': np.std(scores) if scores else 0,\n",
    "        'recommendations_per_user': len(scores) / len(set(users)) if users else 0\n",
    "    }\n",
    "    \n",
    "    # If validation data is provided, calculate precision/recall\n",
    "    if validation_df is not None:\n",
    "        # This would require implementing precision@k and recall@k calculations\n",
    "        # based on the validation set\n",
    "        pass\n",
    "    \n",
    "    return metrics"
   ]
  },
  {
   "cell_type": "code",
   "execution_count": 50,
   "metadata": {},
   "outputs": [],
   "source": [
    "# Generate recommendations\n",
    "users, courses, scores = generate_recommendation_scores(\n",
    "    test_user_ids=test_user_ids,\n",
    "    profile_df=profile_df,\n",
    "    test_users_df=test_users_df,\n",
    "    course_genres_df=course_genres_df,\n",
    "    all_courses=all_courses,\n",
    "    score_threshold=0.3,\n",
    "    top_n_per_user=20\n",
    ")"
   ]
  },
  {
   "cell_type": "code",
   "execution_count": 53,
   "metadata": {},
   "outputs": [
    {
     "data": {
      "text/html": [
       "<div>\n",
       "<style scoped>\n",
       "    .dataframe tbody tr th:only-of-type {\n",
       "        vertical-align: middle;\n",
       "    }\n",
       "\n",
       "    .dataframe tbody tr th {\n",
       "        vertical-align: top;\n",
       "    }\n",
       "\n",
       "    .dataframe thead th {\n",
       "        text-align: right;\n",
       "    }\n",
       "</style>\n",
       "<table border=\"1\" class=\"dataframe\">\n",
       "  <thead>\n",
       "    <tr style=\"text-align: right;\">\n",
       "      <th></th>\n",
       "      <th>COURSE_ID</th>\n",
       "      <th>TITLE</th>\n",
       "      <th>score</th>\n",
       "    </tr>\n",
       "  </thead>\n",
       "  <tbody>\n",
       "    <tr>\n",
       "      <th>0</th>\n",
       "      <td>excourse72</td>\n",
       "      <td>foundations for big data analysis with sql</td>\n",
       "      <td>0.784961</td>\n",
       "    </tr>\n",
       "    <tr>\n",
       "      <th>1</th>\n",
       "      <td>excourse73</td>\n",
       "      <td>analyzing big data with sql</td>\n",
       "      <td>0.784961</td>\n",
       "    </tr>\n",
       "    <tr>\n",
       "      <th>2</th>\n",
       "      <td>excourse02</td>\n",
       "      <td>business intelligence and data warehousing</td>\n",
       "      <td>0.671550</td>\n",
       "    </tr>\n",
       "    <tr>\n",
       "      <th>3</th>\n",
       "      <td>BD0115EN</td>\n",
       "      <td>mapreduce and yarn</td>\n",
       "      <td>0.657412</td>\n",
       "    </tr>\n",
       "    <tr>\n",
       "      <th>4</th>\n",
       "      <td>DB0151EN</td>\n",
       "      <td>nosql and dbaas 101</td>\n",
       "      <td>0.657412</td>\n",
       "    </tr>\n",
       "    <tr>\n",
       "      <th>5</th>\n",
       "      <td>GPXX0M6UEN</td>\n",
       "      <td>using the cql shell to execute keyspace operat...</td>\n",
       "      <td>0.657412</td>\n",
       "    </tr>\n",
       "    <tr>\n",
       "      <th>6</th>\n",
       "      <td>GPXX097UEN</td>\n",
       "      <td>performing table and crud operations with cass...</td>\n",
       "      <td>0.657412</td>\n",
       "    </tr>\n",
       "    <tr>\n",
       "      <th>7</th>\n",
       "      <td>excourse03</td>\n",
       "      <td>nosql systems</td>\n",
       "      <td>0.657412</td>\n",
       "    </tr>\n",
       "    <tr>\n",
       "      <th>8</th>\n",
       "      <td>excourse05</td>\n",
       "      <td>\\r\\ndistributed computing with spark sql</td>\n",
       "      <td>0.657412</td>\n",
       "    </tr>\n",
       "    <tr>\n",
       "      <th>9</th>\n",
       "      <td>excourse10</td>\n",
       "      <td>database architecture  scale  and nosql with e...</td>\n",
       "      <td>0.657412</td>\n",
       "    </tr>\n",
       "  </tbody>\n",
       "</table>\n",
       "</div>"
      ],
      "text/plain": [
       "    COURSE_ID                                              TITLE     score\n",
       "0  excourse72         foundations for big data analysis with sql  0.784961\n",
       "1  excourse73                        analyzing big data with sql  0.784961\n",
       "2  excourse02         business intelligence and data warehousing  0.671550\n",
       "3    BD0115EN                                 mapreduce and yarn  0.657412\n",
       "4    DB0151EN                                nosql and dbaas 101  0.657412\n",
       "5  GPXX0M6UEN  using the cql shell to execute keyspace operat...  0.657412\n",
       "6  GPXX097UEN  performing table and crud operations with cass...  0.657412\n",
       "7  excourse03                                      nosql systems  0.657412\n",
       "8  excourse05           \\r\\ndistributed computing with spark sql  0.657412\n",
       "9  excourse10  database architecture  scale  and nosql with e...  0.657412"
      ]
     },
     "execution_count": 53,
     "metadata": {},
     "output_type": "execute_result"
    }
   ],
   "source": [
    "# Get recommendations for a specific user\n",
    "user_recommendations = get_user_recommendations(\n",
    "    user_id=2,\n",
    "    profile_df=profile_df,\n",
    "    test_users_df=test_users_df,\n",
    "    course_genres_df=course_genres_df,\n",
    "    all_courses=all_courses,\n",
    "    top_n=10\n",
    ")\n",
    "\n",
    "user_recommendations"
   ]
  },
  {
   "cell_type": "markdown",
   "metadata": {},
   "source": [
    "After you have completed the function `generate_recommendation_scores()` above, you can test it and generate recommendation scores and save the courses recommendations into a dataframe with three columns: `USER`, `COURSE_ID`, `SCORE`:\n"
   ]
  },
  {
   "cell_type": "code",
   "execution_count": 51,
   "metadata": {},
   "outputs": [
    {
     "data": {
      "text/html": [
       "<div>\n",
       "<style scoped>\n",
       "    .dataframe tbody tr th:only-of-type {\n",
       "        vertical-align: middle;\n",
       "    }\n",
       "\n",
       "    .dataframe tbody tr th {\n",
       "        vertical-align: top;\n",
       "    }\n",
       "\n",
       "    .dataframe thead th {\n",
       "        text-align: right;\n",
       "    }\n",
       "</style>\n",
       "<table border=\"1\" class=\"dataframe\">\n",
       "  <thead>\n",
       "    <tr style=\"text-align: right;\">\n",
       "      <th></th>\n",
       "      <th>USER</th>\n",
       "      <th>COURSE_ID</th>\n",
       "      <th>SCORE</th>\n",
       "    </tr>\n",
       "  </thead>\n",
       "  <tbody>\n",
       "    <tr>\n",
       "      <th>0</th>\n",
       "      <td>2</td>\n",
       "      <td>excourse72</td>\n",
       "      <td>0.784961</td>\n",
       "    </tr>\n",
       "    <tr>\n",
       "      <th>1</th>\n",
       "      <td>2</td>\n",
       "      <td>excourse73</td>\n",
       "      <td>0.784961</td>\n",
       "    </tr>\n",
       "    <tr>\n",
       "      <th>2</th>\n",
       "      <td>2</td>\n",
       "      <td>excourse02</td>\n",
       "      <td>0.671550</td>\n",
       "    </tr>\n",
       "    <tr>\n",
       "      <th>3</th>\n",
       "      <td>2</td>\n",
       "      <td>BD0115EN</td>\n",
       "      <td>0.657412</td>\n",
       "    </tr>\n",
       "    <tr>\n",
       "      <th>4</th>\n",
       "      <td>2</td>\n",
       "      <td>DB0151EN</td>\n",
       "      <td>0.657412</td>\n",
       "    </tr>\n",
       "    <tr>\n",
       "      <th>...</th>\n",
       "      <td>...</td>\n",
       "      <td>...</td>\n",
       "      <td>...</td>\n",
       "    </tr>\n",
       "    <tr>\n",
       "      <th>653778</th>\n",
       "      <td>2103039</td>\n",
       "      <td>ML0122ENv3</td>\n",
       "      <td>1.000000</td>\n",
       "    </tr>\n",
       "    <tr>\n",
       "      <th>653779</th>\n",
       "      <td>2103039</td>\n",
       "      <td>ML0109EN</td>\n",
       "      <td>1.000000</td>\n",
       "    </tr>\n",
       "    <tr>\n",
       "      <th>653780</th>\n",
       "      <td>2103039</td>\n",
       "      <td>GPXX0UN5EN</td>\n",
       "      <td>1.000000</td>\n",
       "    </tr>\n",
       "    <tr>\n",
       "      <th>653781</th>\n",
       "      <td>2103039</td>\n",
       "      <td>ML0120ENv2</td>\n",
       "      <td>1.000000</td>\n",
       "    </tr>\n",
       "    <tr>\n",
       "      <th>653782</th>\n",
       "      <td>2103039</td>\n",
       "      <td>ML0120ENv3</td>\n",
       "      <td>1.000000</td>\n",
       "    </tr>\n",
       "  </tbody>\n",
       "</table>\n",
       "<p>653783 rows × 3 columns</p>\n",
       "</div>"
      ],
      "text/plain": [
       "           USER   COURSE_ID     SCORE\n",
       "0             2  excourse72  0.784961\n",
       "1             2  excourse73  0.784961\n",
       "2             2  excourse02  0.671550\n",
       "3             2    BD0115EN  0.657412\n",
       "4             2    DB0151EN  0.657412\n",
       "...         ...         ...       ...\n",
       "653778  2103039  ML0122ENv3  1.000000\n",
       "653779  2103039    ML0109EN  1.000000\n",
       "653780  2103039  GPXX0UN5EN  1.000000\n",
       "653781  2103039  ML0120ENv2  1.000000\n",
       "653782  2103039  ML0120ENv3  1.000000\n",
       "\n",
       "[653783 rows x 3 columns]"
      ]
     },
     "execution_count": 51,
     "metadata": {},
     "output_type": "execute_result"
    }
   ],
   "source": [
    "# Call the generate_recommendation_scores function to obtain recommendation scores for users and courses,\n",
    "# and assign the returned lists to variables users, courses, and scores\n",
    "# users, courses, scores = generate_recommendation_scores()\n",
    "\n",
    "# Create an empty dictionary named res_dict to store the results of the recommendation process\n",
    "res_dict = {}\n",
    "\n",
    "# Store the lists of users, courses, and scores into the res_dict dictionary with corresponding keys\n",
    "res_dict['USER'] = users\n",
    "res_dict['COURSE_ID'] = courses\n",
    "res_dict['SCORE'] = scores\n",
    "\n",
    "# Create a DataFrame named res_df using the res_dict dictionary, specifying the column order as ['USER', 'COURSE_ID', 'SCORE']\n",
    "res_df = pd.DataFrame(res_dict, columns=['USER', 'COURSE_ID', 'SCORE'])\n",
    "\n",
    "# Save the res_df DataFrame to a CSV file named \"profile_rs_results.csv\" without including the index\n",
    "res_df.to_csv(\"profile_rs_results.csv\", index=False)\n",
    "\n",
    "# Output the res_df DataFrame\n",
    "res_df\n"
   ]
  },
  {
   "cell_type": "markdown",
   "metadata": {},
   "source": [
    "Your recommendation results may look like the following screenshot:\n"
   ]
  },
  {
   "cell_type": "markdown",
   "metadata": {},
   "source": [
    "![](https://cf-courses-data.s3.us.cloud-object-storage.appdomain.cloud/IBM-ML321EN-SkillsNetwork/labs/module_3/images/recommendation_scores.png)\n"
   ]
  },
  {
   "cell_type": "markdown",
   "metadata": {},
   "source": [
    "With the course recommendation list generated for each test user, you also need to perform some analytic tasks to answer the following two questions:\n"
   ]
  },
  {
   "cell_type": "markdown",
   "metadata": {},
   "source": [
    "- On average, how many new courses have been recommended per test user?\n",
    "- What are the most frequently recommended courses? Return the top-10 commonly recommended courses across all test users.\n"
   ]
  },
  {
   "cell_type": "markdown",
   "metadata": {},
   "source": [
    "For example, suppose we have only 3 test users, each user receives the following course recommendations:\n"
   ]
  },
  {
   "cell_type": "markdown",
   "metadata": {},
   "source": [
    "- User1: ['course1', 'course2']\n",
    "- User2: ['course3', 'course4']\n",
    "- User3: ['course3', 'course4', 'course5']\n"
   ]
  },
  {
   "cell_type": "markdown",
   "metadata": {},
   "source": [
    "Then, the average recommended courses per user is: $(2 + 2 + 3) / 3 = 2.33$. The top-2 recommended courses are: `course3`: 2 times, and `course4`: 2 times.\n"
   ]
  },
  {
   "cell_type": "markdown",
   "metadata": {},
   "source": [
    "Note that the answers may depend on your score threshold. A lower score threshold yields more recommended courses but with smaller confidence so that some test users may receive very long course recommendation lists and feel overwhelmed. \n",
    "\n",
    "Ideally, we should limit the maximum course recommendations to be less than 20 courses per user. As such, the average course recommendations per user should also be less than 20 or so. This makes sure we only recommend relevant courses with high confidence (score).\n"
   ]
  },
  {
   "cell_type": "markdown",
   "metadata": {},
   "source": [
    "### Using option 3's results"
   ]
  },
  {
   "cell_type": "code",
   "execution_count": 57,
   "metadata": {},
   "outputs": [
    {
     "name": "stdout",
     "output_type": "stream",
     "text": [
      "Collecting matplotlib\n",
      "  Downloading matplotlib-3.10.3-cp312-cp312-manylinux_2_17_x86_64.manylinux2014_x86_64.whl.metadata (11 kB)\n",
      "Collecting contourpy>=1.0.1 (from matplotlib)\n",
      "  Downloading contourpy-1.3.2-cp312-cp312-manylinux_2_17_x86_64.manylinux2014_x86_64.whl.metadata (5.5 kB)\n",
      "Collecting cycler>=0.10 (from matplotlib)\n",
      "  Downloading cycler-0.12.1-py3-none-any.whl.metadata (3.8 kB)\n",
      "Collecting fonttools>=4.22.0 (from matplotlib)\n",
      "  Downloading fonttools-4.58.2-cp312-cp312-manylinux_2_5_x86_64.manylinux1_x86_64.manylinux_2_17_x86_64.manylinux2014_x86_64.whl.metadata (106 kB)\n",
      "Collecting kiwisolver>=1.3.1 (from matplotlib)\n",
      "  Downloading kiwisolver-1.4.8-cp312-cp312-manylinux_2_17_x86_64.manylinux2014_x86_64.whl.metadata (6.2 kB)\n",
      "Requirement already satisfied: numpy>=1.23 in /opt/conda/lib/python3.12/site-packages (from matplotlib) (2.3.0)\n",
      "Requirement already satisfied: packaging>=20.0 in /opt/conda/lib/python3.12/site-packages (from matplotlib) (24.2)\n",
      "Collecting pillow>=8 (from matplotlib)\n",
      "  Downloading pillow-11.2.1-cp312-cp312-manylinux_2_28_x86_64.whl.metadata (8.9 kB)\n",
      "Collecting pyparsing>=2.3.1 (from matplotlib)\n",
      "  Downloading pyparsing-3.2.3-py3-none-any.whl.metadata (5.0 kB)\n",
      "Requirement already satisfied: python-dateutil>=2.7 in /opt/conda/lib/python3.12/site-packages (from matplotlib) (2.9.0.post0)\n",
      "Requirement already satisfied: six>=1.5 in /opt/conda/lib/python3.12/site-packages (from python-dateutil>=2.7->matplotlib) (1.17.0)\n",
      "Downloading matplotlib-3.10.3-cp312-cp312-manylinux_2_17_x86_64.manylinux2014_x86_64.whl (8.6 MB)\n",
      "\u001b[2K   \u001b[90m━━━━━━━━━━━━━━━━━━━━━━━━━━━━━━━━━━━━━━━━\u001b[0m \u001b[32m8.6/8.6 MB\u001b[0m \u001b[31m81.3 MB/s\u001b[0m eta \u001b[36m0:00:00\u001b[0m\n",
      "\u001b[?25hDownloading contourpy-1.3.2-cp312-cp312-manylinux_2_17_x86_64.manylinux2014_x86_64.whl (323 kB)\n",
      "Downloading cycler-0.12.1-py3-none-any.whl (8.3 kB)\n",
      "Downloading fonttools-4.58.2-cp312-cp312-manylinux_2_5_x86_64.manylinux1_x86_64.manylinux_2_17_x86_64.manylinux2014_x86_64.whl (4.9 MB)\n",
      "\u001b[2K   \u001b[90m━━━━━━━━━━━━━━━━━━━━━━━━━━━━━━━━━━━━━━━━\u001b[0m \u001b[32m4.9/4.9 MB\u001b[0m \u001b[31m109.7 MB/s\u001b[0m eta \u001b[36m0:00:00\u001b[0m\n",
      "\u001b[?25hDownloading kiwisolver-1.4.8-cp312-cp312-manylinux_2_17_x86_64.manylinux2014_x86_64.whl (1.5 MB)\n",
      "\u001b[2K   \u001b[90m━━━━━━━━━━━━━━━━━━━━━━━━━━━━━━━━━━━━━━━━\u001b[0m \u001b[32m1.5/1.5 MB\u001b[0m \u001b[31m72.4 MB/s\u001b[0m eta \u001b[36m0:00:00\u001b[0m\n",
      "\u001b[?25hDownloading pillow-11.2.1-cp312-cp312-manylinux_2_28_x86_64.whl (4.6 MB)\n",
      "\u001b[2K   \u001b[90m━━━━━━━━━━━━━━━━━━━━━━━━━━━━━━━━━━━━━━━━\u001b[0m \u001b[32m4.6/4.6 MB\u001b[0m \u001b[31m70.8 MB/s\u001b[0m eta \u001b[36m0:00:00\u001b[0m\n",
      "\u001b[?25hDownloading pyparsing-3.2.3-py3-none-any.whl (111 kB)\n",
      "Installing collected packages: pyparsing, pillow, kiwisolver, fonttools, cycler, contourpy, matplotlib\n",
      "Successfully installed contourpy-1.3.2 cycler-0.12.1 fonttools-4.58.2 kiwisolver-1.4.8 matplotlib-3.10.3 pillow-11.2.1 pyparsing-3.2.3\n",
      "Note: you may need to restart the kernel to use updated packages.\n",
      "Collecting seaborn\n",
      "  Downloading seaborn-0.13.2-py3-none-any.whl.metadata (5.4 kB)\n",
      "Requirement already satisfied: numpy!=1.24.0,>=1.20 in /opt/conda/lib/python3.12/site-packages (from seaborn) (2.3.0)\n",
      "Requirement already satisfied: pandas>=1.2 in /opt/conda/lib/python3.12/site-packages (from seaborn) (2.3.0)\n",
      "Requirement already satisfied: matplotlib!=3.6.1,>=3.4 in /opt/conda/lib/python3.12/site-packages (from seaborn) (3.10.3)\n",
      "Requirement already satisfied: contourpy>=1.0.1 in /opt/conda/lib/python3.12/site-packages (from matplotlib!=3.6.1,>=3.4->seaborn) (1.3.2)\n",
      "Requirement already satisfied: cycler>=0.10 in /opt/conda/lib/python3.12/site-packages (from matplotlib!=3.6.1,>=3.4->seaborn) (0.12.1)\n",
      "Requirement already satisfied: fonttools>=4.22.0 in /opt/conda/lib/python3.12/site-packages (from matplotlib!=3.6.1,>=3.4->seaborn) (4.58.2)\n",
      "Requirement already satisfied: kiwisolver>=1.3.1 in /opt/conda/lib/python3.12/site-packages (from matplotlib!=3.6.1,>=3.4->seaborn) (1.4.8)\n",
      "Requirement already satisfied: packaging>=20.0 in /opt/conda/lib/python3.12/site-packages (from matplotlib!=3.6.1,>=3.4->seaborn) (24.2)\n",
      "Requirement already satisfied: pillow>=8 in /opt/conda/lib/python3.12/site-packages (from matplotlib!=3.6.1,>=3.4->seaborn) (11.2.1)\n",
      "Requirement already satisfied: pyparsing>=2.3.1 in /opt/conda/lib/python3.12/site-packages (from matplotlib!=3.6.1,>=3.4->seaborn) (3.2.3)\n",
      "Requirement already satisfied: python-dateutil>=2.7 in /opt/conda/lib/python3.12/site-packages (from matplotlib!=3.6.1,>=3.4->seaborn) (2.9.0.post0)\n",
      "Requirement already satisfied: pytz>=2020.1 in /opt/conda/lib/python3.12/site-packages (from pandas>=1.2->seaborn) (2024.2)\n",
      "Requirement already satisfied: tzdata>=2022.7 in /opt/conda/lib/python3.12/site-packages (from pandas>=1.2->seaborn) (2025.2)\n",
      "Requirement already satisfied: six>=1.5 in /opt/conda/lib/python3.12/site-packages (from python-dateutil>=2.7->matplotlib!=3.6.1,>=3.4->seaborn) (1.17.0)\n",
      "Downloading seaborn-0.13.2-py3-none-any.whl (294 kB)\n",
      "Installing collected packages: seaborn\n",
      "Successfully installed seaborn-0.13.2\n",
      "Note: you may need to restart the kernel to use updated packages.\n"
     ]
    }
   ],
   "source": [
    "%pip install matplotlib\n",
    "%pip install seaborn"
   ]
  },
  {
   "cell_type": "code",
   "execution_count": 58,
   "metadata": {},
   "outputs": [],
   "source": [
    "from collections import Counter\n",
    "import matplotlib.pyplot as plt\n",
    "import seaborn as sns\n",
    "\n",
    "def analyze_recommendations(res_df, course_genres_df=None):\n",
    "    \"\"\"\n",
    "    Analyze the recommendation results to answer key questions about the recommendation system.\n",
    "    \n",
    "    Args:\n",
    "        res_df: DataFrame with columns ['USER', 'COURSE_ID', 'SCORE']\n",
    "        course_genres_df: Optional DataFrame with course information including titles\n",
    "    \n",
    "    Returns:\n",
    "        dict: Analysis results containing various metrics\n",
    "    \"\"\"\n",
    "    \n",
    "    if res_df.empty:\n",
    "        print(\"Warning: No recommendations found in the results DataFrame\")\n",
    "        return {\n",
    "            'avg_recommendations_per_user': 0,\n",
    "            'total_users': 0,\n",
    "            'total_recommendations': 0,\n",
    "            'top_10_courses': []\n",
    "        }\n",
    "    \n",
    "    # 1. Calculate average recommendations per user\n",
    "    recommendations_per_user = res_df.groupby('USER').size()\n",
    "    avg_recommendations = recommendations_per_user.mean()\n",
    "    \n",
    "    # 2. Find most frequently recommended courses\n",
    "    course_counts = res_df['COURSE_ID'].value_counts()\n",
    "    top_10_courses = course_counts.head(10)\n",
    "    \n",
    "    # 3. Additional statistics\n",
    "    total_users = res_df['USER'].nunique()\n",
    "    total_recommendations = len(res_df)\n",
    "    median_recommendations = recommendations_per_user.median()\n",
    "    max_recommendations = recommendations_per_user.max()\n",
    "    min_recommendations = recommendations_per_user.min()\n",
    "    \n",
    "    # 4. Score statistics\n",
    "    avg_score = res_df['SCORE'].mean()\n",
    "    score_std = res_df['SCORE'].std()\n",
    "    \n",
    "    # Create results dictionary\n",
    "    results = {\n",
    "        'avg_recommendations_per_user': round(avg_recommendations, 2),\n",
    "        'median_recommendations_per_user': median_recommendations,\n",
    "        'total_users': total_users,\n",
    "        'total_recommendations': total_recommendations,\n",
    "        'min_recommendations_per_user': min_recommendations,\n",
    "        'max_recommendations_per_user': max_recommendations,\n",
    "        'avg_recommendation_score': round(avg_score, 4),\n",
    "        'score_std': round(score_std, 4),\n",
    "        'top_10_courses': top_10_courses.to_dict()\n",
    "    }\n",
    "    \n",
    "    return results\n",
    "\n",
    "def print_recommendation_summary(res_df, course_genres_df=None):\n",
    "    \"\"\"\n",
    "    Print a comprehensive summary of the recommendation analysis.\n",
    "    \"\"\"\n",
    "    \n",
    "    print(\"=\"*60)\n",
    "    print(\"RECOMMENDATION SYSTEM ANALYSIS SUMMARY\")\n",
    "    print(\"=\"*60)\n",
    "    \n",
    "    results = analyze_recommendations(res_df, course_genres_df)\n",
    "    \n",
    "    if results['total_recommendations'] == 0:\n",
    "        print(\"No recommendations found.\")\n",
    "        return\n",
    "    \n",
    "    # Basic Statistics\n",
    "    print(f\"\\n📊 BASIC STATISTICS:\")\n",
    "    print(f\"   • Total test users: {results['total_users']:,}\")\n",
    "    print(f\"   • Total recommendations: {results['total_recommendations']:,}\")\n",
    "    print(f\"   • Average recommendations per user: {results['avg_recommendations_per_user']}\")\n",
    "    print(f\"   • Median recommendations per user: {results['median_recommendations_per_user']}\")\n",
    "    print(f\"   • Min recommendations per user: {results['min_recommendations_per_user']}\")\n",
    "    print(f\"   • Max recommendations per user: {results['max_recommendations_per_user']}\")\n",
    "    \n",
    "    # Score Statistics\n",
    "    print(f\"\\n🎯 SCORE STATISTICS:\")\n",
    "    print(f\"   • Average recommendation score: {results['avg_recommendation_score']}\")\n",
    "    print(f\"   • Score standard deviation: {results['score_std']}\")\n",
    "    \n",
    "    # Check if recommendations are within reasonable limits\n",
    "    if results['avg_recommendations_per_user'] > 20:\n",
    "        print(f\"\\n⚠️  WARNING: Average recommendations per user ({results['avg_recommendations_per_user']}) > 20\")\n",
    "        print(\"   Consider increasing your score threshold to reduce recommendations per user.\")\n",
    "    elif results['avg_recommendations_per_user'] < 5:\n",
    "        print(f\"\\n⚠️  INFO: Average recommendations per user ({results['avg_recommendations_per_user']}) < 5\")\n",
    "        print(\"   Consider decreasing your score threshold to increase recommendations per user.\")\n",
    "    else:\n",
    "        print(f\"\\n✅ GOOD: Average recommendations per user is within reasonable range (5-20)\")\n",
    "    \n",
    "    # Top 10 Courses\n",
    "    print(f\"\\n🏆 TOP 10 MOST FREQUENTLY RECOMMENDED COURSES:\")\n",
    "    top_courses = results['top_10_courses']\n",
    "    \n",
    "    for i, (course_id, count) in enumerate(top_courses.items(), 1):\n",
    "        # Add course title if available\n",
    "        title = \"\"\n",
    "        if course_genres_df is not None:\n",
    "            course_info = course_genres_df[course_genres_df['COURSE_ID'] == course_id]\n",
    "            if not course_info.empty:\n",
    "                title = f\" - {course_info['TITLE'].iloc[0][:50]}{'...' if len(course_info['TITLE'].iloc[0]) > 50 else ''}\"\n",
    "        \n",
    "        percentage = (count / results['total_users']) * 100\n",
    "        print(f\"   {i:2d}. {course_id}{title}\")\n",
    "        print(f\"       Recommended {count:,} times ({percentage:.1f}% of users)\")\n",
    "\n",
    "def get_user_recommendation_distribution(res_df):\n",
    "    \"\"\"\n",
    "    Get the distribution of recommendations per user for further analysis.\n",
    "    \n",
    "    Returns:\n",
    "        pd.Series: Number of recommendations per user\n",
    "    \"\"\"\n",
    "    return res_df.groupby('USER').size().sort_values(ascending=False)\n",
    "\n",
    "def plot_recommendation_distribution(res_df, figsize=(12, 8)):\n",
    "    \"\"\"\n",
    "    Create visualizations for recommendation analysis.\n",
    "    \"\"\"\n",
    "    \n",
    "    if res_df.empty:\n",
    "        print(\"No data to plot\")\n",
    "        return\n",
    "    \n",
    "    fig, axes = plt.subplots(2, 2, figsize=figsize)\n",
    "    fig.suptitle('Recommendation System Analysis', fontsize=16, fontweight='bold')\n",
    "    \n",
    "    # 1. Distribution of recommendations per user\n",
    "    recommendations_per_user = res_df.groupby('USER').size()\n",
    "    axes[0, 0].hist(recommendations_per_user, bins=20, alpha=0.7, color='skyblue', edgecolor='black')\n",
    "    axes[0, 0].set_title('Distribution of Recommendations per User')\n",
    "    axes[0, 0].set_xlabel('Number of Recommendations')\n",
    "    axes[0, 0].set_ylabel('Number of Users')\n",
    "    axes[0, 0].axvline(recommendations_per_user.mean(), color='red', linestyle='--', \n",
    "                       label=f'Mean: {recommendations_per_user.mean():.1f}')\n",
    "    axes[0, 0].legend()\n",
    "    \n",
    "    # 2. Score distribution\n",
    "    axes[0, 1].hist(res_df['SCORE'], bins=30, alpha=0.7, color='lightgreen', edgecolor='black')\n",
    "    axes[0, 1].set_title('Distribution of Recommendation Scores')\n",
    "    axes[0, 1].set_xlabel('Recommendation Score')\n",
    "    axes[0, 1].set_ylabel('Frequency')\n",
    "    axes[0, 1].axvline(res_df['SCORE'].mean(), color='red', linestyle='--', \n",
    "                       label=f'Mean: {res_df[\"SCORE\"].mean():.3f}')\n",
    "    axes[0, 1].legend()\n",
    "    \n",
    "    # 3. Top 10 courses\n",
    "    course_counts = res_df['COURSE_ID'].value_counts().head(10)\n",
    "    axes[1, 0].barh(range(len(course_counts)), course_counts.values, color='coral')\n",
    "    axes[1, 0].set_yticks(range(len(course_counts)))\n",
    "    axes[1, 0].set_yticklabels([f\"{course[:15]}...\" if len(course) > 15 else course \n",
    "                                for course in course_counts.index])\n",
    "    axes[1, 0].set_title('Top 10 Most Recommended Courses')\n",
    "    axes[1, 0].set_xlabel('Number of Recommendations')\n",
    "    \n",
    "    # 4. Box plot of recommendations per user\n",
    "    axes[1, 1].boxplot(recommendations_per_user, vert=True)\n",
    "    axes[1, 1].set_title('Box Plot: Recommendations per User')\n",
    "    axes[1, 1].set_ylabel('Number of Recommendations')\n",
    "    axes[1, 1].grid(True, alpha=0.3)\n",
    "    \n",
    "    plt.tight_layout()\n",
    "    plt.show()"
   ]
  },
  {
   "cell_type": "code",
   "execution_count": 59,
   "metadata": {},
   "outputs": [
    {
     "name": "stdout",
     "output_type": "stream",
     "text": [
      "============================================================\n",
      "RECOMMENDATION SYSTEM ANALYSIS SUMMARY\n",
      "============================================================\n",
      "\n",
      "📊 BASIC STATISTICS:\n",
      "   • Total test users: 8,421\n",
      "   • Total recommendations: 183,458\n",
      "   • Average recommendations per user: 21.79\n",
      "   • Median recommendations per user: 18.0\n",
      "   • Min recommendations per user: 1\n",
      "   • Max recommendations per user: 207\n",
      "\n",
      "🎯 SCORE STATISTICS:\n",
      "   • Average recommendation score: 40.0041\n",
      "   • Score standard deviation: 12.6012\n",
      "\n",
      "⚠️  WARNING: Average recommendations per user (21.79) > 20\n",
      "   Consider increasing your score threshold to reduce recommendations per user.\n",
      "\n",
      "🏆 TOP 10 MOST FREQUENTLY RECOMMENDED COURSES:\n",
      "    1. excourse73 - analyzing big data with sql\n",
      "       Recommended 5,368 times (63.7% of users)\n",
      "    2. excourse72 - foundations for big data analysis with sql\n",
      "       Recommended 5,368 times (63.7% of users)\n",
      "    3. TMP0105EN - getting started with the data  apache spark makers...\n",
      "       Recommended 5,195 times (61.7% of users)\n",
      "    4. RP0105EN - analyzing big data in r using apache spark\n",
      "       Recommended 4,818 times (57.2% of users)\n",
      "    5. SC0103EN - spark overview for scala analytics\n",
      "       Recommended 4,348 times (51.6% of users)\n",
      "    6. excourse31 - cloud computing applications  part 2  big data and...\n",
      "       Recommended 4,316 times (51.3% of users)\n",
      "    7. excourse42 - big data analysis  hive  spark sql  dataframes and...\n",
      "       Recommended 3,632 times (43.1% of users)\n",
      "    8. GPXX097UEN - performing table and crud operations with cassandr...\n",
      "       Recommended 3,632 times (43.1% of users)\n",
      "    9. excourse70 - big data   capstone project\n",
      "       Recommended 3,632 times (43.1% of users)\n",
      "   10. excourse71 - big data essentials  hdfs  mapreduce and spark rdd\n",
      "       Recommended 3,632 times (43.1% of users)\n"
     ]
    }
   ],
   "source": [
    "# Perform the analysis\n",
    "results = analyze_recommendations(res_df, course_genres_df)\n",
    "print_recommendation_summary(res_df, course_genres_df)"
   ]
  },
  {
   "cell_type": "code",
   "execution_count": 61,
   "metadata": {},
   "outputs": [
    {
     "name": "stdout",
     "output_type": "stream",
     "text": [
      "\n",
      "Users with most recommendations:\n",
      "USER\n",
      "746163     207\n",
      "2          198\n",
      "1545079    192\n",
      "1185467    191\n",
      "1653994    187\n",
      "dtype: int64\n"
     ]
    }
   ],
   "source": [
    "# Get detailed distribution\n",
    "user_dist = get_user_recommendation_distribution(res_df)\n",
    "print(f\"\\nUsers with most recommendations:\")\n",
    "print(user_dist.head())"
   ]
  },
  {
   "cell_type": "code",
   "execution_count": 62,
   "metadata": {},
   "outputs": [
    {
     "data": {
      "image/png": "[encoded data removed]",
      "text/plain": [
       "<Figure size 1200x800 with 4 Axes>"
      ]
     },
     "metadata": {},
     "output_type": "display_data"
    }
   ],
   "source": [
    "# Create visualizations\n",
    "plot_recommendation_distribution(res_df)"
   ]
  },
  {
   "cell_type": "code",
   "execution_count": 63,
   "metadata": {},
   "outputs": [
    {
     "name": "stdout",
     "output_type": "stream",
     "text": [
      "\n",
      "==================================================\n",
      "ANSWERS TO SPECIFIC QUESTIONS:\n",
      "==================================================\n",
      "1. Average recommendations per user: 21.79\n",
      "2. Top 10 most recommended courses:\n",
      "   1. excourse73: 5368 times\n",
      "   2. excourse72: 5368 times\n",
      "   3. TMP0105EN: 5195 times\n",
      "   4. RP0105EN: 4818 times\n",
      "   5. SC0103EN: 4348 times\n",
      "   6. excourse31: 4316 times\n",
      "   7. excourse42: 3632 times\n",
      "   8. GPXX097UEN: 3632 times\n",
      "   9. excourse70: 3632 times\n",
      "   10. excourse71: 3632 times\n"
     ]
    }
   ],
   "source": [
    "# Quick answers to specific questions:\n",
    "print(f\"\\n\" + \"=\"*50)\n",
    "print(\"ANSWERS TO SPECIFIC QUESTIONS:\")\n",
    "print(\"=\"*50)\n",
    "print(f\"1. Average recommendations per user: {results['avg_recommendations_per_user']}\")\n",
    "print(f\"2. Top 10 most recommended courses:\")\n",
    "for i, (course, count) in enumerate(list(results['top_10_courses'].items())[:10], 1):\n",
    "    print(f\"   {i}. {course}: {count} times\")\n"
   ]
  },
  {
   "cell_type": "markdown",
   "metadata": {},
   "source": [
    "### Summary\n"
   ]
  },
  {
   "cell_type": "markdown",
   "metadata": {},
   "source": [
    "In this lab, you first learned how to generate a user profile vector based on the user's course ratings and course genre vectors. Then, with the user profile generated, you applied a simple dot product between the user profile vector and the course genre vector to generate a course recommendation score. \n",
    "\n",
    "The idea is if a user is interested in certain topics (genres) and if a course also has similar topics (genres), which means the user vector and course genre vector share common dimensions, and a dot product is able to capture such similarity.\n"
   ]
  },
  {
   "cell_type": "markdown",
   "metadata": {},
   "source": [
    "## Authors\n"
   ]
  },
  {
   "cell_type": "markdown",
   "metadata": {},
   "source": [
    "[Yan Luo](https://www.linkedin.com/in/yan-luo-96288783/)\n"
   ]
  },
  {
   "cell_type": "markdown",
   "metadata": {},
   "source": [
    "### Other Contributors\n"
   ]
  },
  {
   "cell_type": "markdown",
   "metadata": {},
   "source": [
    "```toggle## Change Log\n",
    "```\n"
   ]
  },
  {
   "cell_type": "markdown",
   "metadata": {},
   "source": [
    "```toggle|Date (YYYY-MM-DD)|Version|Changed By|Change Description|\n",
    "```\n",
    "```toggle|-|-|-|-|\n",
    "```\n",
    "```toggle|2021-10-25|1.0|Yan|Created the initial version|\n",
    "```\n"
   ]
  }
 ],
 "metadata": {
  "kernelspec": {
   "display_name": "Python 3 (ipykernel)",
   "language": "python",
   "name": "python3"
  },
  "language_info": {
   "codemirror_mode": {
    "name": "ipython",
    "version": 3
   },
   "file_extension": ".py",
   "mimetype": "text/x-python",
   "name": "python",
   "nbconvert_exporter": "python",
   "pygments_lexer": "ipython3",
   "version": "3.12.8"
  },
  "prev_pub_hash": "d221817f23a26ce6b7063851feeafdac82e3bc6523b5e731b550447de1abe81c"
 },
 "nbformat": 4,
 "nbformat_minor": 4
}
